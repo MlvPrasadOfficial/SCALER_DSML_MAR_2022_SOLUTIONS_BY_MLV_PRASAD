{
 "cells": [
  {
   "cell_type": "code",
   "execution_count": 3,
   "id": "b9bdf9e0",
   "metadata": {},
   "outputs": [],
   "source": [
    "import pandas as pd"
   ]
  },
  {
   "cell_type": "code",
   "execution_count": 4,
   "id": "cba429ec",
   "metadata": {},
   "outputs": [],
   "source": [
    "df = pd.read_csv(\"interview_scent.csv\")"
   ]
  },
  {
   "cell_type": "code",
   "execution_count": 5,
   "id": "a0089bdc",
   "metadata": {},
   "outputs": [
    {
     "data": {
      "text/plain": [
       "(82718, 6)"
      ]
     },
     "execution_count": 5,
     "metadata": {},
     "output_type": "execute_result"
    }
   ],
   "source": [
    "df.shape"
   ]
  },
  {
   "cell_type": "code",
   "execution_count": 6,
   "id": "d18c1cd7",
   "metadata": {},
   "outputs": [
    {
     "data": {
      "text/html": [
       "<div>\n",
       "<style scoped>\n",
       "    .dataframe tbody tr th:only-of-type {\n",
       "        vertical-align: middle;\n",
       "    }\n",
       "\n",
       "    .dataframe tbody tr th {\n",
       "        vertical-align: top;\n",
       "    }\n",
       "\n",
       "    .dataframe thead th {\n",
       "        text-align: right;\n",
       "    }\n",
       "</style>\n",
       "<table border=\"1\" class=\"dataframe\">\n",
       "  <thead>\n",
       "    <tr style=\"text-align: right;\">\n",
       "      <th></th>\n",
       "      <th>item_id</th>\n",
       "      <th>title</th>\n",
       "      <th>short_description</th>\n",
       "      <th>long_description</th>\n",
       "      <th>scent_prediction</th>\n",
       "      <th>quantity_prediction</th>\n",
       "    </tr>\n",
       "  </thead>\n",
       "  <tbody>\n",
       "    <tr>\n",
       "      <th>0</th>\n",
       "      <td>1</td>\n",
       "      <td>Bodycology Scarlet Kiss Fragrance Mist, 8 fl oz</td>\n",
       "      <td>&lt;p&gt;Turn heads with our intoxicating fragrance ...</td>\n",
       "      <td>&lt;B&gt;Bodycology Scarlet Kiss Fragrance Mist, 8 f...</td>\n",
       "      <td>None</td>\n",
       "      <td>NaN</td>\n",
       "    </tr>\n",
       "    <tr>\n",
       "      <th>1</th>\n",
       "      <td>2</td>\n",
       "      <td>Mio Shrink To Fit Cellulite Smoother, 3.4 fl.oz.</td>\n",
       "      <td>Shrink to fit cellulite smoother, 3.4 ounce. T...</td>\n",
       "      <td>Shrink to fit cellulite smoother, 3.4 ounce. T...</td>\n",
       "      <td>None</td>\n",
       "      <td>NaN</td>\n",
       "    </tr>\n",
       "    <tr>\n",
       "      <th>2</th>\n",
       "      <td>3</td>\n",
       "      <td>Christian Audigier Ed Hardy Eau De Toilette Sp...</td>\n",
       "      <td>Representing the tiger tatoo, opening like a m...</td>\n",
       "      <td>Representing the tiger tatoo, opening like a m...</td>\n",
       "      <td>None</td>\n",
       "      <td>NaN</td>\n",
       "    </tr>\n",
       "    <tr>\n",
       "      <th>3</th>\n",
       "      <td>4</td>\n",
       "      <td>Disinfecting Office Cleaner MMMCL574CT</td>\n",
       "      <td>Cleans and disinfects against bacteria on non-...</td>\n",
       "      <td>Cleans and disinfects against bacteria on non-...</td>\n",
       "      <td>citrus</td>\n",
       "      <td>NaN</td>\n",
       "    </tr>\n",
       "    <tr>\n",
       "      <th>4</th>\n",
       "      <td>5</td>\n",
       "      <td>(6 Pack) Frigidaire PAULTRA Compatilbe Refrige...</td>\n",
       "      <td>(6 Pack) Frigidaire PAULTRA Compatilbe Refrige...</td>\n",
       "      <td>The Electrolux and Frigidaire Comparable Refri...</td>\n",
       "      <td>None</td>\n",
       "      <td>NaN</td>\n",
       "    </tr>\n",
       "  </tbody>\n",
       "</table>\n",
       "</div>"
      ],
      "text/plain": [
       "   item_id                                              title  \\\n",
       "0        1    Bodycology Scarlet Kiss Fragrance Mist, 8 fl oz   \n",
       "1        2   Mio Shrink To Fit Cellulite Smoother, 3.4 fl.oz.   \n",
       "2        3  Christian Audigier Ed Hardy Eau De Toilette Sp...   \n",
       "3        4             Disinfecting Office Cleaner MMMCL574CT   \n",
       "4        5  (6 Pack) Frigidaire PAULTRA Compatilbe Refrige...   \n",
       "\n",
       "                                   short_description  \\\n",
       "0  <p>Turn heads with our intoxicating fragrance ...   \n",
       "1  Shrink to fit cellulite smoother, 3.4 ounce. T...   \n",
       "2  Representing the tiger tatoo, opening like a m...   \n",
       "3  Cleans and disinfects against bacteria on non-...   \n",
       "4  (6 Pack) Frigidaire PAULTRA Compatilbe Refrige...   \n",
       "\n",
       "                                    long_description scent_prediction  \\\n",
       "0  <B>Bodycology Scarlet Kiss Fragrance Mist, 8 f...             None   \n",
       "1  Shrink to fit cellulite smoother, 3.4 ounce. T...             None   \n",
       "2  Representing the tiger tatoo, opening like a m...             None   \n",
       "3  Cleans and disinfects against bacteria on non-...           citrus   \n",
       "4  The Electrolux and Frigidaire Comparable Refri...             None   \n",
       "\n",
       "   quantity_prediction  \n",
       "0                  NaN  \n",
       "1                  NaN  \n",
       "2                  NaN  \n",
       "3                  NaN  \n",
       "4                  NaN  "
      ]
     },
     "execution_count": 6,
     "metadata": {},
     "output_type": "execute_result"
    }
   ],
   "source": [
    "df.head()"
   ]
  },
  {
   "cell_type": "code",
   "execution_count": 7,
   "id": "21ceafea",
   "metadata": {},
   "outputs": [
    {
     "data": {
      "text/plain": [
       "Index(['item_id', 'title', 'short_description', 'long_description',\n",
       "       'scent_prediction', 'quantity_prediction'],\n",
       "      dtype='object')"
      ]
     },
     "execution_count": 7,
     "metadata": {},
     "output_type": "execute_result"
    }
   ],
   "source": [
    "df.columns"
   ]
  },
  {
   "cell_type": "code",
   "execution_count": 8,
   "id": "b82bf616",
   "metadata": {},
   "outputs": [
    {
     "data": {
      "text/plain": [
       "array(['None', 'citrus', 'lavender', 'fresh clean', 'woody', 'unscented',\n",
       "       'chypre', 'amber, lavender, spicy', 'fruity, floral',\n",
       "       'woody, aquatic', 'lime, lemon', 'floral', 'chypre, floral',\n",
       "       'woody, oriental', 'pine', 'clean fresh', 'flowery', 'spice',\n",
       "       'orange blossom', 'oriental, fougere', 'fruity, woodsy, floral',\n",
       "       'woody, spicy', 'lemon', 'woody, floral', 'strawberry', 'aquatic',\n",
       "       'woodsy', 'fruity', 'floral green', 'light floral', 'oriental',\n",
       "       'fougere', 'oriental, floral', 'cucumber melon', 'pomegranate',\n",
       "       'gourmand, fruity, floral', 'woody, fruity', 'spicy', 'berry',\n",
       "       'jasmine', 'aquatic, floral', 'fruity, florally', 'woodsy, spicy',\n",
       "       'vanilla', 'peach, vanilla', 'cherry', 'woody, musk, floral',\n",
       "       'chypre, fruity', 'woody, mossy', 'citrus, fruity', 'musk, floral',\n",
       "       'oriental, woodsy', 'musk', 'woodsy, warm spicy', 'citrus, floral',\n",
       "       'citrusy', 'citrusy, floral', 'citrus, fruity, floral', 'assorted',\n",
       "       'mint', 'cinnamon', 'cucumber', 'woody, fruity, floral',\n",
       "       'fruity, tropical', 'peach', 'citrus, peach', 'luscious apple',\n",
       "       'oriental, spicy', 'eucalyptus', 'new car', 'rosemary',\n",
       "       'raspberry', 'leather', 'woody, leather', 'ginger', 'fresh linen',\n",
       "       'oriental, fruity', 'coconut', 'vanilla bean', 'grapefruit',\n",
       "       'orange', 'herbal, lavender', 'lemony', 'citrus, woody', 'rain',\n",
       "       'woodsy, floral', 'citrus, gourmand', 'mango', 'spicy, floral',\n",
       "       'lavender, vanilla', 'sandalwood', 'rose', 'lime', 'musky, spicy',\n",
       "       'spicy cinnamon, cranberry', 'honeysuckle', 'aquatic, spicy',\n",
       "       'linen', 'warm spicy', 'almond', 'spicy, fruity, floral',\n",
       "       'earthy, woody', 'musky, fruity, floral', 'spring flower',\n",
       "       'florally, woodsy', 'flowers', 'morning pine', 'amber',\n",
       "       'lemongrass', 'apple', 'citrusy, woodsy', 'herbal', 'aloe',\n",
       "       'woodsy, musk, floral', 'musky, gourmand', 'pineapple', 'sage',\n",
       "       'orchid, vanilla', 'fruity, flowery', 'flower', 'patchouli',\n",
       "       'woody, fougere', 'oriental, vanilla', 'orange, lavender, rose',\n",
       "       'wood', 'fruity, spicy', 'peach, sparkling bloom',\n",
       "       'mandarin, mint', 'grapefruit, lime, lemon', 'musky, floral',\n",
       "       'eucalyptus mint', 'tropical', 'orchid', 'earthy',\n",
       "       'woods, vanilla', 'woody, citrusy', 'orange, vanilla',\n",
       "       'musky, woody', 'citrusy, spicy', 'pina colada',\n",
       "       'grapefruit, lemon', 'ocean mist', 'spiced apple',\n",
       "       'citrus, woody, floral', 'spring rain', 'rosemary, mint',\n",
       "       'jasmine, lavender, orange, vanilla', 'lily', 'rain forest',\n",
       "       'chamomile, lavender', 'musky, woody, floral', 'lavender, spicy',\n",
       "       'aquatic, musk', 'cranberry', 'woody, flowery', 'mossy',\n",
       "       'lemongrass, thyme', 'lily, lavender', 'apple, spice',\n",
       "       'lily, jasmine', 'lilies, linen', 'citrus, aquatic',\n",
       "       'mandarin orange', 'citrus, lemon', 'gourmand', 'rain garden',\n",
       "       'thyme, lemon', 'citrus, light citrus', 'musky', 'apple cinnamon',\n",
       "       'citrus, sage', 'woody, oriental, spicy', 'chocolate',\n",
       "       'tropical, lime', 'berry, mint', 'jasmine, lavender',\n",
       "       'oriental, florally', 'tropical, floral', 'cherry blossom',\n",
       "       'fruity, woodsy', 'cucumber, green tea', 'pine forest',\n",
       "       'light citrus', 'pine, herbal', 'earthy, patchouli',\n",
       "       'chypre, woody', 'aloe, green tea', 'sassafras',\n",
       "       'citrus, lemongrass', 'peach, pineapple, pear', 'fresh fruit',\n",
       "       'leathery', 'florally', 'fruity, florally, floral',\n",
       "       'apple, cinnamon', 'mango, peach', 'raspberry, juicy bloom',\n",
       "       'tea tree, peppermint, almond, lavender', 'citrus, mint, sage',\n",
       "       'spice, cinnamon', 'pear', 'green apple', 'flower, floral',\n",
       "       'citron rose', 'oriental, musk', 'mandarin, spice',\n",
       "       'gourmand, woody', 'pomegranate splash',\n",
       "       'citrus, jasmine, lavender, eucalyptus', 'mandarin',\n",
       "       'tea tree, cucumber', 'night musk', 'amber, fruity',\n",
       "       'orange, lemon', 'blueberry', 'fruity, citrusy',\n",
       "       'strawberry, new car, vanillaroma, coconut, royal pine',\n",
       "       'spiced apple, vanilla', 'chamomile', 'peppermint',\n",
       "       'citrus, earthy', 'bayberry', 'citrus, cedar', 'citrus, vanilla',\n",
       "       'crisp linen', 'woody, herbal', 'citrus, woodsy', 'citrus, ginger',\n",
       "       'woods', 'citrusy, orange', 'vanilla, floral', 'berry, vanilla',\n",
       "       'earthy, floral', 'tropical, pineapple', 'melon',\n",
       "       'apple, rose, lemon', 'cherry, melon, lemon', 'magnolia, lily',\n",
       "       'cherry, rose', 'tea, cucumber', 'coconut, ginger',\n",
       "       'chypre, citrus', 'fruity, musk', 'oriental, leathery',\n",
       "       'woody, musk', 'tea, floral', 'woodsy, leathery',\n",
       "       'cinnamon, lavender', 'oriental, fruity, floral', 'citrus, spice',\n",
       "       'tea', 'ocean mist, spice, vanilla', 'mango, ginger', 'magnolia',\n",
       "       'flower, mandarin', 'herbal, floral',\n",
       "       'amber, woody, spicy, citrus', 'citrus, mint',\n",
       "       'grapefruit, herbal tea, lemon', 'citrus, berry, new car, lemon',\n",
       "       'amber, fruity, musk, floral', 'fruity, citrusy, mossy',\n",
       "       'pomegranate, grapefruit', 'chypre, spicy', 'fresh pear',\n",
       "       'lemony, floral', 'mandarin orange, lemon', 'jasmine, vanilla',\n",
       "       'strawberry, new car, vanillaroma, leather, royal pine',\n",
       "       'jasmine, cucumber', 'ginger, green tea',\n",
       "       'chypre, oriental, fruity', 'cedar', 'jasmine, rose',\n",
       "       'woody, aquatic, floral', 'cranberry, vanilla', 'cinnaberry',\n",
       "       'orchid, musk, hawaiian ginger',\n",
       "       'peach, coconut, strawberry, clove, lemon, cherry',\n",
       "       'spicy, aquatic, floral', 'blueberry, lavender', 'tea tree',\n",
       "       'woodsy, wood', 'luscious floral', 'ocean mist, tropical',\n",
       "       'balsamic, herbal, flowers, patchouli, lavender',\n",
       "       'fruity, aquatic', 'aloe vera', 'fresh linen, linen',\n",
       "       'hawaiian ginger', 'musky, fruity', 'amber, woody',\n",
       "       'coconut, pineapple', 'almond, cherry', 'flowery, spicy',\n",
       "       'lavender, mint, floral', 'lime, vanilla', 'apple, orange',\n",
       "       'citrusy, florally', 'lavender, floral', 'musky, florally, woodsy',\n",
       "       'herbal, mint', 'citrus, orange', 'linens, lilies',\n",
       "       'peach, ginger', 'chypre, oriental, floral',\n",
       "       'flower, cranberry, orange', 'berry, apple, mango',\n",
       "       'woody, balsamic', 'lime, bergamot', 'pine, woods',\n",
       "       'amber, sandalwood', 'ginger, lemon', 'flower, flowery',\n",
       "       'fougere, aquatic', 'cedar, lavender', 'wild berry',\n",
       "       'amber, aquatic', 'pink rose, floral',\n",
       "       'spring rain, jasmine, rain', 'chamomile, lemon',\n",
       "       'strawberry, rose, green apple, new car, orange, jasmine, vanilla',\n",
       "       'fruity, leather', 'eucalyptus, lemon', 'mint, floral',\n",
       "       'sandalwood, musk', 'coconut, lime', 'citrus, oriental',\n",
       "       'woody, oriental, leathery', 'lavender, rose',\n",
       "       'spicy, oriental, floral', 'musky, woodsy', 'jasmine, mint',\n",
       "       'fruity, woody', 'oriental, flowery', 'balsamic',\n",
       "       'tropical, coconut', 'fruity, citrusy, woods', 'oriental, spice',\n",
       "       'balsamic, pine', 'citrus, gourmand, floral',\n",
       "       'amber, citrus, floral', 'jasmine, rain', 'woodsy, aquatic',\n",
       "       'ginger, tea', 'amber, oriental, vanilla', 'green tea',\n",
       "       'grapefruit, vanilla', 'clean fresh, floral', 'amber, musky',\n",
       "       'wood, leather',\n",
       "       'vanilla bean, green apple, eucalyptus, rain forest, apple, cinnamon',\n",
       "       'aloe vera, rose', 'tea tree, lemon', 'lemon, vanilla',\n",
       "       'oriental, woodsy, floral',\n",
       "       'amber, mandarin, patchouli, orange, bergamot', 'mango, apple',\n",
       "       'fruity, luscious floral', 'musky, lemon', 'royal pine',\n",
       "       'citrus, herbal, aquatic', 'melon, cucumber', 'tuberose, floral',\n",
       "       'fruity, fougere', 'apple cinnamon, rain, raspberry, vanilla',\n",
       "       'coconut, mandarin', 'flowery, green tea', 'gourmand, floral',\n",
       "       'flower, flowers, wood', 'sandalwood, wood, floral',\n",
       "       'fresh linen, fresh clean', 'citrus, grapefruit',\n",
       "       'musky, sandalwood',\n",
       "       'linen, citrus, luscious apple, floral, mango, assorted',\n",
       "       'woody, rosemary', 'apple, mint', 'fruity, musk, floral',\n",
       "       'fresh linen, lavender, strawberry', 'citrus, clean fresh',\n",
       "       'jasmine, tea', 'lavender, sage',\n",
       "       'fruity, citrusy, warm spicy, floral', 'peach, orange blossom',\n",
       "       'cucumber melon, green apple', 'gourmand, fruity',\n",
       "       'luscious mango', 'berry, new car, jasmine',\n",
       "       'sandalwood, vanilla, pear, floral', 'peach, lavender',\n",
       "       'mango, coconut', 'honeysuckle, floral', 'tea, bergamot',\n",
       "       'fruity, tea', 'bergamot', 'oriental, vanilla, floral',\n",
       "       'orchid, lavender', 'gourmand, spicy', 'french vanilla',\n",
       "       'raspberry, lemon', 'fresh linen, lavender', 'oriental, almond',\n",
       "       'lavender, green apple', 'lavender, mint', 'herbal, almond',\n",
       "       'passion fruit',\n",
       "       'bergamot, rose, amber, wood, patchouli, lemon, sandalwood, jasmine',\n",
       "       'citrus, apple', 'tropical, coconut, fruity', 'chypre, oriental',\n",
       "       'citrus, musk', 'citrus, rose', 'patchouli, lavender',\n",
       "       'citrus, herbal, vanilla', nan], dtype=object)"
      ]
     },
     "execution_count": 8,
     "metadata": {},
     "output_type": "execute_result"
    }
   ],
   "source": [
    "df.scent_prediction.unique()"
   ]
  },
  {
   "cell_type": "code",
   "execution_count": 9,
   "id": "7b0d5bfe",
   "metadata": {},
   "outputs": [
    {
     "data": {
      "text/plain": [
       "414"
      ]
     },
     "execution_count": 9,
     "metadata": {},
     "output_type": "execute_result"
    }
   ],
   "source": [
    "df.scent_prediction.nunique()"
   ]
  },
  {
   "cell_type": "code",
   "execution_count": 10,
   "id": "14901ae7",
   "metadata": {},
   "outputs": [
    {
     "data": {
      "text/plain": [
       "None                        71233\n",
       "floral                       1350\n",
       "fruity, floral                825\n",
       "woody, oriental               724\n",
       "unscented                     720\n",
       "                            ...  \n",
       "pink rose, floral               1\n",
       "citrusy, woodsy                 1\n",
       "fougere, aquatic                1\n",
       "lavender, sage                  1\n",
       "fruity, florally, floral        1\n",
       "Name: scent_prediction, Length: 414, dtype: int64"
      ]
     },
     "execution_count": 10,
     "metadata": {},
     "output_type": "execute_result"
    }
   ],
   "source": [
    "df.scent_prediction.value_counts()"
   ]
  },
  {
   "cell_type": "code",
   "execution_count": null,
   "id": "2df0de4a",
   "metadata": {},
   "outputs": [],
   "source": []
  },
  {
   "cell_type": "code",
   "execution_count": 11,
   "id": "bda9f3d9",
   "metadata": {},
   "outputs": [],
   "source": [
    "mf = df[df[\"scent_prediction\"]== \"None\"]"
   ]
  },
  {
   "cell_type": "code",
   "execution_count": 12,
   "id": "c4192f5d",
   "metadata": {},
   "outputs": [
    {
     "data": {
      "text/plain": [
       "71233"
      ]
     },
     "execution_count": 12,
     "metadata": {},
     "output_type": "execute_result"
    }
   ],
   "source": [
    "mf.scent_prediction.count()\n"
   ]
  },
  {
   "cell_type": "code",
   "execution_count": 13,
   "id": "33d497a1",
   "metadata": {},
   "outputs": [],
   "source": [
    "# otal number of rows in the csv file, ignoring the rows where `prediction`\n",
    "# is \"None\". os 71233"
   ]
  },
  {
   "cell_type": "code",
   "execution_count": 14,
   "id": "142d88f0",
   "metadata": {},
   "outputs": [
    {
     "data": {
      "text/plain": [
       "414"
      ]
     },
     "execution_count": 14,
     "metadata": {},
     "output_type": "execute_result"
    }
   ],
   "source": [
    "df.scent_prediction.nunique()"
   ]
  },
  {
   "cell_type": "code",
   "execution_count": 15,
   "id": "d6292ae9",
   "metadata": {},
   "outputs": [],
   "source": [
    "\n",
    "# distinct values in scent prediction is 414"
   ]
  },
  {
   "cell_type": "code",
   "execution_count": 16,
   "id": "a0fc7d17",
   "metadata": {},
   "outputs": [
    {
     "data": {
      "text/plain": [
       "None                        71233\n",
       "floral                       1350\n",
       "fruity, floral                825\n",
       "woody, oriental               724\n",
       "unscented                     720\n",
       "                            ...  \n",
       "pink rose, floral               1\n",
       "citrusy, woodsy                 1\n",
       "fougere, aquatic                1\n",
       "lavender, sage                  1\n",
       "fruity, florally, floral        1\n",
       "Name: scent_prediction, Length: 414, dtype: int64"
      ]
     },
     "execution_count": 16,
     "metadata": {},
     "output_type": "execute_result"
    }
   ],
   "source": [
    "df.scent_prediction.value_counts()"
   ]
  },
  {
   "cell_type": "code",
   "execution_count": 17,
   "id": "5b3cd933",
   "metadata": {},
   "outputs": [],
   "source": [
    "# the value count of each distinct value in scent prediction column"
   ]
  },
  {
   "cell_type": "code",
   "execution_count": 27,
   "id": "65ed9c2c",
   "metadata": {},
   "outputs": [
    {
     "data": {
      "text/html": [
       "<div>\n",
       "<style scoped>\n",
       "    .dataframe tbody tr th:only-of-type {\n",
       "        vertical-align: middle;\n",
       "    }\n",
       "\n",
       "    .dataframe tbody tr th {\n",
       "        vertical-align: top;\n",
       "    }\n",
       "\n",
       "    .dataframe thead th {\n",
       "        text-align: right;\n",
       "    }\n",
       "</style>\n",
       "<table border=\"1\" class=\"dataframe\">\n",
       "  <thead>\n",
       "    <tr style=\"text-align: right;\">\n",
       "      <th></th>\n",
       "      <th>index</th>\n",
       "      <th>scent_prediction</th>\n",
       "    </tr>\n",
       "  </thead>\n",
       "  <tbody>\n",
       "    <tr>\n",
       "      <th>0</th>\n",
       "      <td>0</td>\n",
       "      <td>None</td>\n",
       "    </tr>\n",
       "    <tr>\n",
       "      <th>1</th>\n",
       "      <td>1</td>\n",
       "      <td>None</td>\n",
       "    </tr>\n",
       "    <tr>\n",
       "      <th>2</th>\n",
       "      <td>2</td>\n",
       "      <td>None</td>\n",
       "    </tr>\n",
       "    <tr>\n",
       "      <th>3</th>\n",
       "      <td>3</td>\n",
       "      <td>citrus</td>\n",
       "    </tr>\n",
       "    <tr>\n",
       "      <th>4</th>\n",
       "      <td>4</td>\n",
       "      <td>None</td>\n",
       "    </tr>\n",
       "    <tr>\n",
       "      <th>...</th>\n",
       "      <td>...</td>\n",
       "      <td>...</td>\n",
       "    </tr>\n",
       "    <tr>\n",
       "      <th>82713</th>\n",
       "      <td>82713</td>\n",
       "      <td>None</td>\n",
       "    </tr>\n",
       "    <tr>\n",
       "      <th>82714</th>\n",
       "      <td>82714</td>\n",
       "      <td>None</td>\n",
       "    </tr>\n",
       "    <tr>\n",
       "      <th>82715</th>\n",
       "      <td>82715</td>\n",
       "      <td>unscented</td>\n",
       "    </tr>\n",
       "    <tr>\n",
       "      <th>82716</th>\n",
       "      <td>82716</td>\n",
       "      <td>None</td>\n",
       "    </tr>\n",
       "    <tr>\n",
       "      <th>82717</th>\n",
       "      <td>82717</td>\n",
       "      <td>NaN</td>\n",
       "    </tr>\n",
       "  </tbody>\n",
       "</table>\n",
       "<p>82718 rows × 2 columns</p>\n",
       "</div>"
      ],
      "text/plain": [
       "       index scent_prediction\n",
       "0          0             None\n",
       "1          1             None\n",
       "2          2             None\n",
       "3          3           citrus\n",
       "4          4             None\n",
       "...      ...              ...\n",
       "82713  82713             None\n",
       "82714  82714             None\n",
       "82715  82715        unscented\n",
       "82716  82716             None\n",
       "82717  82717              NaN\n",
       "\n",
       "[82718 rows x 2 columns]"
      ]
     },
     "execution_count": 27,
     "metadata": {},
     "output_type": "execute_result"
    }
   ],
   "source": [
    "cf= df['scent_prediction'].reset_index()\n",
    "cf.columns = ['index', 'scent_prediction']\n",
    "cf"
   ]
  },
  {
   "cell_type": "code",
   "execution_count": 31,
   "id": "eb78fe60",
   "metadata": {},
   "outputs": [
    {
     "data": {
      "text/html": [
       "<div>\n",
       "<style scoped>\n",
       "    .dataframe tbody tr th:only-of-type {\n",
       "        vertical-align: middle;\n",
       "    }\n",
       "\n",
       "    .dataframe tbody tr th {\n",
       "        vertical-align: top;\n",
       "    }\n",
       "\n",
       "    .dataframe thead th {\n",
       "        text-align: right;\n",
       "    }\n",
       "</style>\n",
       "<table border=\"1\" class=\"dataframe\">\n",
       "  <thead>\n",
       "    <tr style=\"text-align: right;\">\n",
       "      <th></th>\n",
       "      <th>scent_value</th>\n",
       "      <th>count</th>\n",
       "    </tr>\n",
       "  </thead>\n",
       "  <tbody>\n",
       "    <tr>\n",
       "      <th>0</th>\n",
       "      <td>None</td>\n",
       "      <td>71233</td>\n",
       "    </tr>\n",
       "    <tr>\n",
       "      <th>1</th>\n",
       "      <td>floral</td>\n",
       "      <td>1350</td>\n",
       "    </tr>\n",
       "    <tr>\n",
       "      <th>2</th>\n",
       "      <td>fruity, floral</td>\n",
       "      <td>825</td>\n",
       "    </tr>\n",
       "    <tr>\n",
       "      <th>3</th>\n",
       "      <td>woody, oriental</td>\n",
       "      <td>724</td>\n",
       "    </tr>\n",
       "    <tr>\n",
       "      <th>4</th>\n",
       "      <td>unscented</td>\n",
       "      <td>720</td>\n",
       "    </tr>\n",
       "    <tr>\n",
       "      <th>...</th>\n",
       "      <td>...</td>\n",
       "      <td>...</td>\n",
       "    </tr>\n",
       "    <tr>\n",
       "      <th>409</th>\n",
       "      <td>pink rose, floral</td>\n",
       "      <td>1</td>\n",
       "    </tr>\n",
       "    <tr>\n",
       "      <th>410</th>\n",
       "      <td>citrusy, woodsy</td>\n",
       "      <td>1</td>\n",
       "    </tr>\n",
       "    <tr>\n",
       "      <th>411</th>\n",
       "      <td>fougere, aquatic</td>\n",
       "      <td>1</td>\n",
       "    </tr>\n",
       "    <tr>\n",
       "      <th>412</th>\n",
       "      <td>lavender, sage</td>\n",
       "      <td>1</td>\n",
       "    </tr>\n",
       "    <tr>\n",
       "      <th>413</th>\n",
       "      <td>fruity, florally, floral</td>\n",
       "      <td>1</td>\n",
       "    </tr>\n",
       "  </tbody>\n",
       "</table>\n",
       "<p>414 rows × 2 columns</p>\n",
       "</div>"
      ],
      "text/plain": [
       "                  scent_value  count\n",
       "0                        None  71233\n",
       "1                      floral   1350\n",
       "2              fruity, floral    825\n",
       "3             woody, oriental    724\n",
       "4                   unscented    720\n",
       "..                        ...    ...\n",
       "409         pink rose, floral      1\n",
       "410           citrusy, woodsy      1\n",
       "411          fougere, aquatic      1\n",
       "412            lavender, sage      1\n",
       "413  fruity, florally, floral      1\n",
       "\n",
       "[414 rows x 2 columns]"
      ]
     },
     "execution_count": 31,
     "metadata": {},
     "output_type": "execute_result"
    }
   ],
   "source": [
    "mf = pd.DataFrame(cf.scent_prediction.value_counts().reset_index())\n",
    "mf.columns = ['scent_value', 'count']\n",
    "mf"
   ]
  },
  {
   "cell_type": "code",
   "execution_count": 30,
   "id": "a3b5068f",
   "metadata": {},
   "outputs": [
    {
     "data": {
      "text/plain": [
       "(414, 2)"
      ]
     },
     "execution_count": 30,
     "metadata": {},
     "output_type": "execute_result"
    }
   ],
   "source": [
    "mf.shape"
   ]
  },
  {
   "cell_type": "code",
   "execution_count": 32,
   "id": "cd5dddd4",
   "metadata": {},
   "outputs": [
    {
     "data": {
      "text/html": [
       "<div>\n",
       "<style scoped>\n",
       "    .dataframe tbody tr th:only-of-type {\n",
       "        vertical-align: middle;\n",
       "    }\n",
       "\n",
       "    .dataframe tbody tr th {\n",
       "        vertical-align: top;\n",
       "    }\n",
       "\n",
       "    .dataframe thead th {\n",
       "        text-align: right;\n",
       "    }\n",
       "</style>\n",
       "<table border=\"1\" class=\"dataframe\">\n",
       "  <thead>\n",
       "    <tr style=\"text-align: right;\">\n",
       "      <th></th>\n",
       "      <th>scent_value</th>\n",
       "      <th>count</th>\n",
       "    </tr>\n",
       "  </thead>\n",
       "  <tbody>\n",
       "    <tr>\n",
       "      <th>0</th>\n",
       "      <td>None</td>\n",
       "      <td>71233</td>\n",
       "    </tr>\n",
       "    <tr>\n",
       "      <th>1</th>\n",
       "      <td>floral</td>\n",
       "      <td>1350</td>\n",
       "    </tr>\n",
       "    <tr>\n",
       "      <th>2</th>\n",
       "      <td>fruity, floral</td>\n",
       "      <td>825</td>\n",
       "    </tr>\n",
       "    <tr>\n",
       "      <th>3</th>\n",
       "      <td>woody, oriental</td>\n",
       "      <td>724</td>\n",
       "    </tr>\n",
       "    <tr>\n",
       "      <th>4</th>\n",
       "      <td>unscented</td>\n",
       "      <td>720</td>\n",
       "    </tr>\n",
       "    <tr>\n",
       "      <th>...</th>\n",
       "      <td>...</td>\n",
       "      <td>...</td>\n",
       "    </tr>\n",
       "    <tr>\n",
       "      <th>409</th>\n",
       "      <td>pink rose, floral</td>\n",
       "      <td>1</td>\n",
       "    </tr>\n",
       "    <tr>\n",
       "      <th>410</th>\n",
       "      <td>citrusy, woodsy</td>\n",
       "      <td>1</td>\n",
       "    </tr>\n",
       "    <tr>\n",
       "      <th>411</th>\n",
       "      <td>fougere, aquatic</td>\n",
       "      <td>1</td>\n",
       "    </tr>\n",
       "    <tr>\n",
       "      <th>412</th>\n",
       "      <td>lavender, sage</td>\n",
       "      <td>1</td>\n",
       "    </tr>\n",
       "    <tr>\n",
       "      <th>413</th>\n",
       "      <td>fruity, florally, floral</td>\n",
       "      <td>1</td>\n",
       "    </tr>\n",
       "  </tbody>\n",
       "</table>\n",
       "<p>414 rows × 2 columns</p>\n",
       "</div>"
      ],
      "text/plain": [
       "                  scent_value  count\n",
       "0                        None  71233\n",
       "1                      floral   1350\n",
       "2              fruity, floral    825\n",
       "3             woody, oriental    724\n",
       "4                   unscented    720\n",
       "..                        ...    ...\n",
       "409         pink rose, floral      1\n",
       "410           citrusy, woodsy      1\n",
       "411          fougere, aquatic      1\n",
       "412            lavender, sage      1\n",
       "413  fruity, florally, floral      1\n",
       "\n",
       "[414 rows x 2 columns]"
      ]
     },
     "execution_count": 32,
     "metadata": {},
     "output_type": "execute_result"
    }
   ],
   "source": [
    "mf"
   ]
  },
  {
   "cell_type": "code",
   "execution_count": 33,
   "id": "7857bdc3",
   "metadata": {},
   "outputs": [
    {
     "data": {
      "text/html": [
       "<div>\n",
       "<style scoped>\n",
       "    .dataframe tbody tr th:only-of-type {\n",
       "        vertical-align: middle;\n",
       "    }\n",
       "\n",
       "    .dataframe tbody tr th {\n",
       "        vertical-align: top;\n",
       "    }\n",
       "\n",
       "    .dataframe thead th {\n",
       "        text-align: right;\n",
       "    }\n",
       "</style>\n",
       "<table border=\"1\" class=\"dataframe\">\n",
       "  <thead>\n",
       "    <tr style=\"text-align: right;\">\n",
       "      <th></th>\n",
       "      <th>item_id</th>\n",
       "      <th>title</th>\n",
       "      <th>short_description</th>\n",
       "      <th>long_description</th>\n",
       "      <th>scent_prediction</th>\n",
       "      <th>quantity_prediction</th>\n",
       "    </tr>\n",
       "  </thead>\n",
       "  <tbody>\n",
       "    <tr>\n",
       "      <th>0</th>\n",
       "      <td>1</td>\n",
       "      <td>Bodycology Scarlet Kiss Fragrance Mist, 8 fl oz</td>\n",
       "      <td>&lt;p&gt;Turn heads with our intoxicating fragrance ...</td>\n",
       "      <td>&lt;B&gt;Bodycology Scarlet Kiss Fragrance Mist, 8 f...</td>\n",
       "      <td>None</td>\n",
       "      <td>NaN</td>\n",
       "    </tr>\n",
       "    <tr>\n",
       "      <th>1</th>\n",
       "      <td>2</td>\n",
       "      <td>Mio Shrink To Fit Cellulite Smoother, 3.4 fl.oz.</td>\n",
       "      <td>Shrink to fit cellulite smoother, 3.4 ounce. T...</td>\n",
       "      <td>Shrink to fit cellulite smoother, 3.4 ounce. T...</td>\n",
       "      <td>None</td>\n",
       "      <td>NaN</td>\n",
       "    </tr>\n",
       "    <tr>\n",
       "      <th>2</th>\n",
       "      <td>3</td>\n",
       "      <td>Christian Audigier Ed Hardy Eau De Toilette Sp...</td>\n",
       "      <td>Representing the tiger tatoo, opening like a m...</td>\n",
       "      <td>Representing the tiger tatoo, opening like a m...</td>\n",
       "      <td>None</td>\n",
       "      <td>NaN</td>\n",
       "    </tr>\n",
       "    <tr>\n",
       "      <th>3</th>\n",
       "      <td>4</td>\n",
       "      <td>Disinfecting Office Cleaner MMMCL574CT</td>\n",
       "      <td>Cleans and disinfects against bacteria on non-...</td>\n",
       "      <td>Cleans and disinfects against bacteria on non-...</td>\n",
       "      <td>citrus</td>\n",
       "      <td>NaN</td>\n",
       "    </tr>\n",
       "    <tr>\n",
       "      <th>4</th>\n",
       "      <td>5</td>\n",
       "      <td>(6 Pack) Frigidaire PAULTRA Compatilbe Refrige...</td>\n",
       "      <td>(6 Pack) Frigidaire PAULTRA Compatilbe Refrige...</td>\n",
       "      <td>The Electrolux and Frigidaire Comparable Refri...</td>\n",
       "      <td>None</td>\n",
       "      <td>NaN</td>\n",
       "    </tr>\n",
       "    <tr>\n",
       "      <th>...</th>\n",
       "      <td>...</td>\n",
       "      <td>...</td>\n",
       "      <td>...</td>\n",
       "      <td>...</td>\n",
       "      <td>...</td>\n",
       "      <td>...</td>\n",
       "    </tr>\n",
       "    <tr>\n",
       "      <th>82713</th>\n",
       "      <td>82714</td>\n",
       "      <td>Swanson Argan Oil Shampoo 97% Natural 8.5 fl o...</td>\n",
       "      <td>Argan Oil</td>\n",
       "      <td>You may have seen argan oil products on the ho...</td>\n",
       "      <td>None</td>\n",
       "      <td>NaN</td>\n",
       "    </tr>\n",
       "    <tr>\n",
       "      <th>82714</th>\n",
       "      <td>82715</td>\n",
       "      <td>3M Buf-Puf Facial Sponge, Regular Perfect Prep...</td>\n",
       "      <td>short description is not available</td>\n",
       "      <td>MANUFACTURER: 3M PERSONAL AND HEALTH CARE.  IN...</td>\n",
       "      <td>None</td>\n",
       "      <td>NaN</td>\n",
       "    </tr>\n",
       "    <tr>\n",
       "      <th>82715</th>\n",
       "      <td>82716</td>\n",
       "      <td>Bedside-Care Foam Incontinence Cleanser, Unsce...</td>\n",
       "      <td>Bedside Care Foam Incontinence Cleanser 8 Ounc...</td>\n",
       "      <td>Bedside Care Foam Incontinence Cleanser 8 Ounc...</td>\n",
       "      <td>unscented</td>\n",
       "      <td>NaN</td>\n",
       "    </tr>\n",
       "    <tr>\n",
       "      <th>82716</th>\n",
       "      <td>82717</td>\n",
       "      <td>Dial Individually Wrapped Basics Bar Soap, 1.5...</td>\n",
       "      <td>Dial Individually Wrapped Basics Bar Soap, 1.5...</td>\n",
       "      <td>Mild, gentle cleansing soap made of naturally ...</td>\n",
       "      <td>None</td>\n",
       "      <td>NaN</td>\n",
       "    </tr>\n",
       "    <tr>\n",
       "      <th>82717</th>\n",
       "      <td>82718</td>\n",
       "      <td>Natural Ultra Powder Laundry Detergent, Free &amp;...</td>\n",
       "      <td>Natural Ultra Powder Laundry Detergent, Free &amp;...</td>\n",
       "      <td>&lt;!-- Disti Content --&gt;Loads of clean in a smal...</td>\n",
       "      <td>NaN</td>\n",
       "      <td>NaN</td>\n",
       "    </tr>\n",
       "  </tbody>\n",
       "</table>\n",
       "<p>82718 rows × 6 columns</p>\n",
       "</div>"
      ],
      "text/plain": [
       "       item_id                                              title  \\\n",
       "0            1    Bodycology Scarlet Kiss Fragrance Mist, 8 fl oz   \n",
       "1            2   Mio Shrink To Fit Cellulite Smoother, 3.4 fl.oz.   \n",
       "2            3  Christian Audigier Ed Hardy Eau De Toilette Sp...   \n",
       "3            4             Disinfecting Office Cleaner MMMCL574CT   \n",
       "4            5  (6 Pack) Frigidaire PAULTRA Compatilbe Refrige...   \n",
       "...        ...                                                ...   \n",
       "82713    82714  Swanson Argan Oil Shampoo 97% Natural 8.5 fl o...   \n",
       "82714    82715  3M Buf-Puf Facial Sponge, Regular Perfect Prep...   \n",
       "82715    82716  Bedside-Care Foam Incontinence Cleanser, Unsce...   \n",
       "82716    82717  Dial Individually Wrapped Basics Bar Soap, 1.5...   \n",
       "82717    82718  Natural Ultra Powder Laundry Detergent, Free &...   \n",
       "\n",
       "                                       short_description  \\\n",
       "0      <p>Turn heads with our intoxicating fragrance ...   \n",
       "1      Shrink to fit cellulite smoother, 3.4 ounce. T...   \n",
       "2      Representing the tiger tatoo, opening like a m...   \n",
       "3      Cleans and disinfects against bacteria on non-...   \n",
       "4      (6 Pack) Frigidaire PAULTRA Compatilbe Refrige...   \n",
       "...                                                  ...   \n",
       "82713                                          Argan Oil   \n",
       "82714                 short description is not available   \n",
       "82715  Bedside Care Foam Incontinence Cleanser 8 Ounc...   \n",
       "82716  Dial Individually Wrapped Basics Bar Soap, 1.5...   \n",
       "82717  Natural Ultra Powder Laundry Detergent, Free &...   \n",
       "\n",
       "                                        long_description scent_prediction  \\\n",
       "0      <B>Bodycology Scarlet Kiss Fragrance Mist, 8 f...             None   \n",
       "1      Shrink to fit cellulite smoother, 3.4 ounce. T...             None   \n",
       "2      Representing the tiger tatoo, opening like a m...             None   \n",
       "3      Cleans and disinfects against bacteria on non-...           citrus   \n",
       "4      The Electrolux and Frigidaire Comparable Refri...             None   \n",
       "...                                                  ...              ...   \n",
       "82713  You may have seen argan oil products on the ho...             None   \n",
       "82714  MANUFACTURER: 3M PERSONAL AND HEALTH CARE.  IN...             None   \n",
       "82715  Bedside Care Foam Incontinence Cleanser 8 Ounc...        unscented   \n",
       "82716  Mild, gentle cleansing soap made of naturally ...             None   \n",
       "82717  <!-- Disti Content -->Loads of clean in a smal...              NaN   \n",
       "\n",
       "       quantity_prediction  \n",
       "0                      NaN  \n",
       "1                      NaN  \n",
       "2                      NaN  \n",
       "3                      NaN  \n",
       "4                      NaN  \n",
       "...                    ...  \n",
       "82713                  NaN  \n",
       "82714                  NaN  \n",
       "82715                  NaN  \n",
       "82716                  NaN  \n",
       "82717                  NaN  \n",
       "\n",
       "[82718 rows x 6 columns]"
      ]
     },
     "execution_count": 33,
     "metadata": {},
     "output_type": "execute_result"
    }
   ],
   "source": [
    "df"
   ]
  },
  {
   "cell_type": "code",
   "execution_count": 36,
   "id": "4038e279",
   "metadata": {},
   "outputs": [
    {
     "data": {
      "text/plain": [
       "0"
      ]
     },
     "execution_count": 36,
     "metadata": {},
     "output_type": "execute_result"
    }
   ],
   "source": [
    "df.quantity_prediction.nunique()"
   ]
  },
  {
   "cell_type": "code",
   "execution_count": 37,
   "id": "6f4130f3",
   "metadata": {},
   "outputs": [
    {
     "data": {
      "text/plain": [
       "0          Bodycology Scarlet Kiss Fragrance Mist, 8 fl oz\n",
       "1         Mio Shrink To Fit Cellulite Smoother, 3.4 fl.oz.\n",
       "2        Christian Audigier Ed Hardy Eau De Toilette Sp...\n",
       "3                   Disinfecting Office Cleaner MMMCL574CT\n",
       "4        (6 Pack) Frigidaire PAULTRA Compatilbe Refrige...\n",
       "                               ...                        \n",
       "82713    Swanson Argan Oil Shampoo 97% Natural 8.5 fl o...\n",
       "82714    3M Buf-Puf Facial Sponge, Regular Perfect Prep...\n",
       "82715    Bedside-Care Foam Incontinence Cleanser, Unsce...\n",
       "82716    Dial Individually Wrapped Basics Bar Soap, 1.5...\n",
       "82717    Natural Ultra Powder Laundry Detergent, Free &...\n",
       "Name: title, Length: 82718, dtype: object"
      ]
     },
     "execution_count": 37,
     "metadata": {},
     "output_type": "execute_result"
    }
   ],
   "source": [
    "df.title"
   ]
  },
  {
   "cell_type": "code",
   "execution_count": null,
   "id": "89fe9fe3",
   "metadata": {},
   "outputs": [],
   "source": []
  }
 ],
 "metadata": {
  "kernelspec": {
   "display_name": "Python 3 (ipykernel)",
   "language": "python",
   "name": "python3"
  },
  "language_info": {
   "codemirror_mode": {
    "name": "ipython",
    "version": 3
   },
   "file_extension": ".py",
   "mimetype": "text/x-python",
   "name": "python",
   "nbconvert_exporter": "python",
   "pygments_lexer": "ipython3",
   "version": "3.9.12"
  }
 },
 "nbformat": 4,
 "nbformat_minor": 5
}
