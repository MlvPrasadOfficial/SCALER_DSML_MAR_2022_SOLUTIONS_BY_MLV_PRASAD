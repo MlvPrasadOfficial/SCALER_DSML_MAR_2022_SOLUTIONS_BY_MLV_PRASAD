{
 "cells": [
  {
   "cell_type": "markdown",
   "id": "fc5d7b12",
   "metadata": {},
   "source": [
    "A lambda function is a small anonymous function.\n",
    "\n",
    "A lambda function can take any number of arguments, but can only have one expression."
   ]
  },
  {
   "cell_type": "code",
   "execution_count": 1,
   "id": "3f295298",
   "metadata": {},
   "outputs": [
    {
     "name": "stdout",
     "output_type": "stream",
     "text": [
      "15\n"
     ]
    }
   ],
   "source": [
    "x = lambda a : a + 10\n",
    "print(x(5))"
   ]
  },
  {
   "cell_type": "code",
   "execution_count": 2,
   "id": "2f8a7644",
   "metadata": {},
   "outputs": [
    {
     "name": "stdout",
     "output_type": "stream",
     "text": [
      "30\n"
     ]
    }
   ],
   "source": [
    "x = lambda a, b : a * b\n",
    "print(x(5, 6))"
   ]
  },
  {
   "cell_type": "code",
   "execution_count": 3,
   "id": "c99ed7a9",
   "metadata": {},
   "outputs": [
    {
     "name": "stdout",
     "output_type": "stream",
     "text": [
      "22\n"
     ]
    }
   ],
   "source": [
    "def myfunc(n):\n",
    "  return lambda a : a * n\n",
    "\n",
    "mydoubler = myfunc(2)\n",
    "\n",
    "print(mydoubler(11))"
   ]
  },
  {
   "cell_type": "code",
   "execution_count": 4,
   "id": "0428e98c",
   "metadata": {},
   "outputs": [
    {
     "name": "stdout",
     "output_type": "stream",
     "text": [
      "25\n",
      "48\n"
     ]
    }
   ],
   "source": [
    "r = lambda a : a + 15\n",
    "print(r(10))\n",
    "r = lambda x, y : x * y\n",
    "print(r(12, 4))\n"
   ]
  },
  {
   "cell_type": "code",
   "execution_count": 5,
   "id": "6215b916",
   "metadata": {},
   "outputs": [
    {
     "name": "stdout",
     "output_type": "stream",
     "text": [
      "Double the number of 15 = 30\n",
      "Triple the number of 15 = 45\n",
      "Quadruple the number of 15 = 60\n",
      "Quintuple the number 15 = 75\n"
     ]
    }
   ],
   "source": [
    "def func_compute(n):\n",
    " return lambda x : x * n\n",
    "result = func_compute(2)\n",
    "print(\"Double the number of 15 =\", result(15))\n",
    "result = func_compute(3)\n",
    "print(\"Triple the number of 15 =\", result(15))\n",
    "result = func_compute(4)\n",
    "print(\"Quadruple the number of 15 =\", result(15))\n",
    "result = func_compute(5)\n",
    "print(\"Quintuple the number 15 =\", result(15))\n"
   ]
  },
  {
   "cell_type": "code",
   "execution_count": 6,
   "id": "0b8ee4b6",
   "metadata": {},
   "outputs": [
    {
     "name": "stdout",
     "output_type": "stream",
     "text": [
      "Original list of tuples:\n",
      "[('English', 88), ('Science', 90), ('Maths', 97), ('Social sciences', 82)]\n",
      "\n",
      "Sorting the List of Tuples:\n",
      "[('Social sciences', 82), ('English', 88), ('Science', 90), ('Maths', 97)]\n"
     ]
    }
   ],
   "source": [
    "subject_marks = [('English', 88), ('Science', 90), ('Maths', 97), ('Social sciences', 82)]\n",
    "print(\"Original list of tuples:\")\n",
    "print(subject_marks)\n",
    "subject_marks.sort(key = lambda x: x[1])\n",
    "print(\"\\nSorting the List of Tuples:\")\n",
    "print(subject_marks)\n"
   ]
  },
  {
   "cell_type": "code",
   "execution_count": 7,
   "id": "f2511665",
   "metadata": {},
   "outputs": [
    {
     "name": "stdout",
     "output_type": "stream",
     "text": [
      "Original list of dictionaries :\n",
      "[{'make': 'Nokia', 'model': 216, 'color': 'Black'}, {'make': 'Mi Max', 'model': '2', 'color': 'Gold'}, {'make': 'Samsung', 'model': 7, 'color': 'Blue'}]\n",
      "\n",
      "Sorting the List of dictionaries :\n",
      "[{'make': 'Nokia', 'model': 216, 'color': 'Black'}, {'make': 'Samsung', 'model': 7, 'color': 'Blue'}, {'make': 'Mi Max', 'model': '2', 'color': 'Gold'}]\n"
     ]
    }
   ],
   "source": [
    "models = [{'make':'Nokia', 'model':216, 'color':'Black'}, {'make':'Mi Max', 'model':'2', 'color':'Gold'}, {'make':'Samsung', 'model': 7, 'color':'Blue'}]\n",
    "print(\"Original list of dictionaries :\")\n",
    "print(models)\n",
    "sorted_models = sorted(models, key = lambda x: x['color'])\n",
    "print(\"\\nSorting the List of dictionaries :\")\n",
    "print(sorted_models)\n"
   ]
  },
  {
   "cell_type": "code",
   "execution_count": 8,
   "id": "39b1e075",
   "metadata": {},
   "outputs": [
    {
     "name": "stdout",
     "output_type": "stream",
     "text": [
      "Original list of integers:\n",
      "[1, 2, 3, 4, 5, 6, 7, 8, 9, 10]\n",
      "\n",
      "Even numbers from the said list:\n",
      "[2, 4, 6, 8, 10]\n",
      "\n",
      "Odd numbers from the said list:\n",
      "[1, 3, 5, 7, 9]\n"
     ]
    }
   ],
   "source": [
    "nums = [1, 2, 3, 4, 5, 6, 7, 8, 9, 10]\n",
    "print(\"Original list of integers:\")\n",
    "print(nums)\n",
    "print(\"\\nEven numbers from the said list:\")\n",
    "even_nums = list(filter(lambda x: x%2 == 0, nums))\n",
    "print(even_nums)\n",
    "print(\"\\nOdd numbers from the said list:\")\n",
    "odd_nums = list(filter(lambda x: x%2 != 0, nums))\n",
    "print(odd_nums)\n"
   ]
  },
  {
   "cell_type": "code",
   "execution_count": 9,
   "id": "1c3b6989",
   "metadata": {},
   "outputs": [
    {
     "name": "stdout",
     "output_type": "stream",
     "text": [
      "Original list of integers:\n",
      "[1, 2, 3, 4, 5, 6, 7, 8, 9, 10]\n",
      "\n",
      "Square every number of the said list:\n",
      "[1, 4, 9, 16, 25, 36, 49, 64, 81, 100]\n",
      "\n",
      "Cube every number of the said list:\n",
      "[1, 8, 27, 64, 125, 216, 343, 512, 729, 1000]\n"
     ]
    }
   ],
   "source": [
    "nums = [1, 2, 3, 4, 5, 6, 7, 8, 9, 10]\n",
    "print(\"Original list of integers:\")\n",
    "print(nums)\n",
    "print(\"\\nSquare every number of the said list:\")\n",
    "square_nums = list(map(lambda x: x ** 2, nums)) #########################map\n",
    "print(square_nums)\n",
    "print(\"\\nCube every number of the said list:\")\n",
    "cube_nums = list(map(lambda x: x ** 3, nums))\n",
    "print(cube_nums)\n"
   ]
  },
  {
   "cell_type": "code",
   "execution_count": 10,
   "id": "b8cc2456",
   "metadata": {},
   "outputs": [
    {
     "name": "stdout",
     "output_type": "stream",
     "text": [
      "True\n",
      "False\n"
     ]
    }
   ],
   "source": [
    "starts_with = lambda x: True if x.startswith('P') else False\n",
    "print(starts_with('Python'))\n",
    "starts_with = lambda x: True if x.startswith('P') else False\n",
    "print(starts_with('Java'))\n"
   ]
  },
  {
   "cell_type": "code",
   "execution_count": 11,
   "id": "cc33a88c",
   "metadata": {},
   "outputs": [
    {
     "name": "stdout",
     "output_type": "stream",
     "text": [
      "2022-04-07 21:34:24.777007\n",
      "2022\n",
      "4\n",
      "7\n",
      "21:34:24.777007\n"
     ]
    }
   ],
   "source": [
    "import datetime\n",
    "now = datetime.datetime.now()\n",
    "print(now)\n",
    "year = lambda x: x.year\n",
    "month = lambda x: x.month\n",
    "day = lambda x: x.day\n",
    "t = lambda x: x.time()\n",
    "print(year(now))\n",
    "print(month(now))\n",
    "print(day(now))\n",
    "print(t(now))\n"
   ]
  },
  {
   "cell_type": "code",
   "execution_count": 12,
   "id": "13bb09ee",
   "metadata": {},
   "outputs": [
    {
     "name": "stdout",
     "output_type": "stream",
     "text": [
      "True\n",
      "True\n",
      "False\n",
      "True\n",
      "False\n",
      "True\n",
      "\n",
      "Print checking numbers:\n",
      "True\n",
      "True\n"
     ]
    }
   ],
   "source": [
    "is_num = lambda q: q.replace('.','',1).isdigit()\n",
    "print(is_num('26587'))\n",
    "print(is_num('4.2365'))\n",
    "print(is_num('-12547'))\n",
    "print(is_num('00'))\n",
    "print(is_num('A001'))\n",
    "print(is_num('001'))\n",
    "print(\"\\nPrint checking numbers:\")\n",
    "is_num1 = lambda r: is_num(r[1:]) if r[0]=='-' else is_num(r)\n",
    "print(is_num1('-16.4'))\n",
    "print(is_num1('-24587.11'))\n"
   ]
  },
  {
   "cell_type": "code",
   "execution_count": 13,
   "id": "56bffc31",
   "metadata": {},
   "outputs": [
    {
     "name": "stdout",
     "output_type": "stream",
     "text": [
      "Fibonacci series upto 2:\n",
      "[0, 1]\n",
      "\n",
      "Fibonacci series upto 5:\n",
      "[0, 1, 1, 2, 3]\n",
      "\n",
      "Fibonacci series upto 6:\n",
      "[0, 1, 1, 2, 3, 5]\n",
      "\n",
      "Fibonacci series upto 9:\n",
      "[0, 1, 1, 2, 3, 5, 8, 13, 21]\n"
     ]
    }
   ],
   "source": [
    "from functools import reduce\n",
    " \n",
    "fib_series = lambda n: reduce(lambda x, _: x+[x[-1]+x[-2]],\n",
    "                                range(n-2), [0, 1])\n",
    " \n",
    "print(\"Fibonacci series upto 2:\")\n",
    "print(fib_series(2))\n",
    "print(\"\\nFibonacci series upto 5:\")\n",
    "print(fib_series(5))\n",
    "print(\"\\nFibonacci series upto 6:\")\n",
    "print(fib_series(6))\n",
    "print(\"\\nFibonacci series upto 9:\")\n",
    "print(fib_series(9))\n"
   ]
  },
  {
   "cell_type": "code",
   "execution_count": 14,
   "id": "a7f0464e",
   "metadata": {},
   "outputs": [
    {
     "name": "stdout",
     "output_type": "stream",
     "text": [
      "Original arrays:\n",
      "[1, 2, 3, 5, 7, 8, 9, 10]\n",
      "[1, 2, 4, 8, 9]\n",
      "\n",
      "Intersection of the said arrays:  [1, 2, 8, 9]\n"
     ]
    }
   ],
   "source": [
    "array_nums1 = [1, 2, 3, 5, 7, 8, 9, 10]\n",
    "array_nums2 = [1, 2, 4, 8, 9]\n",
    "print(\"Original arrays:\")\n",
    "print(array_nums1)\n",
    "print(array_nums2)\n",
    "result = list(filter(lambda x: x in array_nums1, array_nums2)) \n",
    "print (\"\\nIntersection of the said arrays: \",result)\n"
   ]
  },
  {
   "cell_type": "code",
   "execution_count": 17,
   "id": "5489c50c",
   "metadata": {},
   "outputs": [
    {
     "name": "stdout",
     "output_type": "stream",
     "text": [
      "Original arrays:\n",
      "[-1, 2, -3, 5, 7, 8, 9, -10]\n",
      "\n",
      "Rearrange positive and negative numbers of the said array:\n",
      "[2, 5, 7, 8, 9, -10, -3, -1]\n"
     ]
    }
   ],
   "source": [
    "array_nums = [-1, 2, -3, 5, 7, 8, 9, -10]\n",
    "print(\"Original arrays:\")\n",
    "print(array_nums)\n",
    "result = sorted(array_nums, key = lambda i: 0 if i == 0 else -1 / i)\n",
    "print(\"\\nRearrange positive and negative numbers of the said array:\")\n",
    "print(result)\n"
   ]
  },
  {
   "cell_type": "code",
   "execution_count": 18,
   "id": "a6e8a735",
   "metadata": {},
   "outputs": [
    {
     "name": "stdout",
     "output_type": "stream",
     "text": [
      "Original arrays:\n",
      "[1, 2, 3, 5, 7, 8, 9, 10]\n",
      "\n",
      "Number of even numbers in the above array:  3\n",
      "\n",
      "Number of odd numbers in the above array:  5\n"
     ]
    }
   ],
   "source": [
    "array_nums = [1, 2, 3, 5, 7, 8, 9, 10]\n",
    "print(\"Original arrays:\")\n",
    "print(array_nums)\n",
    "odd_ctr = len(list(filter(lambda x: (x%2 != 0) , array_nums)))\n",
    "even_ctr = len(list(filter(lambda x: (x%2 == 0) , array_nums)))\n",
    "print(\"\\nNumber of even numbers in the above array: \", even_ctr)\n",
    "print(\"\\nNumber of odd numbers in the above array: \", odd_ctr)\n"
   ]
  },
  {
   "cell_type": "code",
   "execution_count": 20,
   "id": "2bb0672b",
   "metadata": {},
   "outputs": [
    {
     "name": "stdout",
     "output_type": "stream",
     "text": [
      "Monday\n",
      "Friday\n",
      "Sunday\n"
     ]
    }
   ],
   "source": [
    "weekdays = ['Monday', 'Tuesday', 'Wednesday', 'Thursday', 'Friday', 'Saturday', 'Sunday']\n",
    "days = filter(lambda day: day if len(day)==6 else '', weekdays)\n",
    "for d in days:\n",
    "    print(d)\n"
   ]
  },
  {
   "cell_type": "code",
   "execution_count": 21,
   "id": "63835b5d",
   "metadata": {},
   "outputs": [
    {
     "name": "stdout",
     "output_type": "stream",
     "text": [
      "Original list:\n",
      "[1, 2, 3]\n",
      "[4, 5, 6]\n",
      "\n",
      "Result: after adding two list\n",
      "[5, 7, 9]\n"
     ]
    }
   ],
   "source": [
    "nums1 = [1, 2, 3]\n",
    "nums2 = [4, 5, 6]\n",
    "print(\"Original list:\")\n",
    "print(nums1)\n",
    "print(nums2) \n",
    "result = map(lambda x, y: x + y, nums1, nums2)\n",
    "print(\"\\nResult: after adding two list\")\n",
    "print(list(result))\n",
    "\n"
   ]
  },
  {
   "cell_type": "code",
   "execution_count": 22,
   "id": "972d9ff9",
   "metadata": {},
   "outputs": [
    {
     "name": "stdout",
     "output_type": "stream",
     "text": [
      "Input number of students: 5\n",
      "Name: mlv\n",
      "Grade: 3\n",
      "Name: m\n",
      "Grade: 5\n",
      "Name: l\n",
      "Grade: 4\n",
      "Name: v\n",
      "Grade: 3\n",
      "Name: a\n",
      "Grade: 5\n",
      "\n",
      "Names and Grades of all students:\n",
      "[['mlv', 3.0], ['m', 5.0], ['l', 4.0], ['v', 3.0], ['a', 5.0]]\n",
      "\n",
      "Second lowest grade:  4.0\n",
      "\n",
      "Names:\n",
      "l\n"
     ]
    }
   ],
   "source": [
    "students = []\n",
    "sec_name = []\n",
    "second_low = 0\n",
    "n = int(input(\"Input number of students: \"))\n",
    "for _ in range(n):\n",
    "   s_name = input(\"Name: \")\n",
    "   score = float(input(\"Grade: \"))\n",
    "   students.append([s_name,score])\n",
    "print(\"\\nNames and Grades of all students:\")\n",
    "print(students)\n",
    "order =sorted(students, key = lambda x: int(x[1]))\n",
    "for i in range(n):\n",
    "   if order[i][1] != order[0][1]:\n",
    "       second_low = order[i][1]\n",
    "       break\n",
    "print(\"\\nSecond lowest grade: \",second_low)\n",
    "sec_student_name = [x[0] for x in order if x[1] == second_low]\n",
    "sec_student_name.sort()\n",
    "print(\"\\nNames:\")\n",
    "for s_name in sec_student_name:\n",
    "   print(s_name)\n"
   ]
  },
  {
   "cell_type": "code",
   "execution_count": 23,
   "id": "e2e38f02",
   "metadata": {},
   "outputs": [
    {
     "name": "stdout",
     "output_type": "stream",
     "text": [
      "Orginal list:\n",
      "[19, 65, 57, 39, 152, 639, 121, 44, 90, 190]\n",
      "\n",
      "Numbers of the above list divisible by nineteen or thirteen:\n",
      "[19, 65, 57, 39, 152, 190]\n"
     ]
    }
   ],
   "source": [
    "nums = [19, 65, 57, 39, 152, 639, 121, 44, 90, 190]\n",
    "print(\"Orginal list:\")\n",
    "print(nums) \n",
    "result = list(filter(lambda x: (x % 19 == 0 or x % 13 == 0), nums)) \n",
    "print(\"\\nNumbers of the above list divisible by nineteen or thirteen:\")\n",
    "print(result)\n"
   ]
  },
  {
   "cell_type": "code",
   "execution_count": 24,
   "id": "6da50a3c",
   "metadata": {},
   "outputs": [
    {
     "name": "stdout",
     "output_type": "stream",
     "text": [
      "Orginal list of strings:\n",
      "['php', 'w3r', 'Python', 'abcd', 'Java', 'aaa']\n",
      "\n",
      "List of palindromes:\n",
      "['php', 'aaa']\n"
     ]
    }
   ],
   "source": [
    "texts = [\"php\", \"w3r\", \"Python\", \"abcd\", \"Java\", \"aaa\"]\n",
    "print(\"Orginal list of strings:\")\n",
    "print(texts) \n",
    "result = list(filter(lambda x: (x == \"\".join(reversed(x))), texts)) \n",
    "print(\"\\nList of palindromes:\")\n",
    "print(result) \n"
   ]
  },
  {
   "cell_type": "code",
   "execution_count": 25,
   "id": "4f22abcb",
   "metadata": {},
   "outputs": [
    {
     "name": "stdout",
     "output_type": "stream",
     "text": [
      "Orginal list of strings:\n",
      "['php', 'w3r', 'Python', 'abcd', 'Java', 'aaa']\n",
      "\n",
      "List of palindromes:\n",
      "['php', 'aaa']\n"
     ]
    }
   ],
   "source": [
    "texts = [\"php\", \"w3r\", \"Python\", \"abcd\", \"Java\", \"aaa\"]\n",
    "print(\"Orginal list of strings:\")\n",
    "print(texts) \n",
    "result = list(filter(lambda x: (x == \"\".join(reversed(x))), texts)) \n",
    "print(\"\\nList of palindromes:\")\n",
    "print(result) \n"
   ]
  },
  {
   "cell_type": "code",
   "execution_count": 26,
   "id": "6ba552e3",
   "metadata": {},
   "outputs": [
    {
     "name": "stdout",
     "output_type": "stream",
     "text": [
      "Original string:  sdf 23 safs8 5 sdfsd8 sdfs 56 21sfs 20 5\n",
      "Numbers in sorted form:\n",
      "20 23 56 "
     ]
    }
   ],
   "source": [
    "str1 = \"sdf 23 safs8 5 sdfsd8 sdfs 56 21sfs 20 5\"\n",
    "print(\"Original string: \",str1)\n",
    "str_num=[i for i in str1.split(' ')]\n",
    "lenght=len(str_num)\n",
    "numbers=sorted([int(x) for x in str_num if x.isdigit()])\n",
    "print('Numbers in sorted form:')\n",
    "for i in ((filter(lambda x:x>lenght,numbers))):\n",
    "    print(i,end=' ')\n"
   ]
  },
  {
   "cell_type": "code",
   "execution_count": 27,
   "id": "bea036c1",
   "metadata": {},
   "outputs": [
    {
     "name": "stdout",
     "output_type": "stream",
     "text": [
      "Original list:  [2, 4, 6, 9, 11]\n",
      "Given number:  2\n",
      "Result:\n",
      "4 8 12 18 22\n"
     ]
    }
   ],
   "source": [
    "nums = [2, 4, 6, 9 , 11]\n",
    "n = 2\n",
    "print(\"Original list: \", nums)\n",
    "print(\"Given number: \", n)\n",
    "filtered_numbers=list(map(lambda number:number*n,nums))\n",
    "print(\"Result:\")\n",
    "print(' '.join(map(str,filtered_numbers)))\n"
   ]
  },
  {
   "cell_type": "code",
   "execution_count": 28,
   "id": "08d51816",
   "metadata": {},
   "outputs": [
    {
     "name": "stdout",
     "output_type": "stream",
     "text": [
      "Result:\n",
      "16\n"
     ]
    }
   ],
   "source": [
    "sample_names = ['sally', 'Dylan', 'rebecca', 'Diana', 'Joanne', 'keith']\n",
    "sample_names=list(filter(lambda el:el[0].isupper() and el[1:].islower(),sample_names))\n",
    "print(\"Result:\")\n",
    "print(len(''.join(sample_names)))\n"
   ]
  },
  {
   "cell_type": "code",
   "execution_count": 29,
   "id": "0369a39e",
   "metadata": {},
   "outputs": [
    {
     "name": "stdout",
     "output_type": "stream",
     "text": [
      "Original list: [2, 4, -6, -9, 11, -12, 14, -5, 17]\n",
      "Sum of the positive numbers:  -32\n",
      "Sum of the negative numbers:  48\n"
     ]
    }
   ],
   "source": [
    "nums = [2, 4, -6, -9, 11, -12, 14, -5, 17]\n",
    "print(\"Original list:\",nums)\n",
    "\n",
    "total_negative_nums = list(filter(lambda nums:nums<0,nums))\n",
    "total_positive_nums = list(filter(lambda nums:nums>0,nums))\n",
    "\n",
    "print(\"Sum of the positive numbers: \",sum(total_negative_nums))\n",
    "print(\"Sum of the negative numbers: \",sum(total_positive_nums))\n"
   ]
  },
  {
   "cell_type": "code",
   "execution_count": 30,
   "id": "24a32510",
   "metadata": {},
   "outputs": [
    {
     "name": "stdout",
     "output_type": "stream",
     "text": [
      "[1, 2, 3, 4, 5, 6, 7, 8, 9, 11, 12, 15, 22]\n"
     ]
    }
   ],
   "source": [
    "def divisible_by_digits(start_num, end_num):\n",
    "    return [n for n in range(start_num, end_num+1) \\\n",
    "                if not any(map(lambda x: int(x) == 0 or n%int(x) != 0, str(n)))]\n",
    "print(divisible_by_digits(1,22))\n",
    "\n"
   ]
  },
  {
   "cell_type": "code",
   "execution_count": 31,
   "id": "8e2f98f0",
   "metadata": {},
   "outputs": [
    {
     "name": "stdout",
     "output_type": "stream",
     "text": [
      "Original number: 12\n",
      "Next bigger number: 21\n",
      "\n",
      "Original number: 10\n",
      "Next bigger number: False\n",
      "\n",
      "Original number: 201\n",
      "Next bigger number: 210\n",
      "\n",
      "Original number: 102\n",
      "Next bigger number: 120\n",
      "\n",
      "Original number: 445\n",
      "Next bigger number: 454\n"
     ]
    }
   ],
   "source": [
    "def rearrange_bigger(n):\n",
    "    #Break the number into digits and store in a list\n",
    "    nums = list(str(n))\n",
    "    for i in range(len(nums)-2,-1,-1):\n",
    "        if nums[i] < nums[i+1]:\n",
    "            z = nums[i:]\n",
    "            y = min(filter(lambda x: x > z[0], z))\n",
    "            z.remove(y)\n",
    "            z.sort()\n",
    "            nums[i:] = [y] + z\n",
    "            return int(\"\".join(nums))\n",
    "    return False\n",
    "n = 12\n",
    "print(\"Original number:\",n)\n",
    "print(\"Next bigger number:\",rearrange_bigger(n))\n",
    "\n",
    "n = 10\n",
    "print(\"\\nOriginal number:\",n)\n",
    "print(\"Next bigger number:\",rearrange_bigger(n))\n",
    "      \n",
    "n = 201\n",
    "print(\"\\nOriginal number:\",n)\n",
    "print(\"Next bigger number:\",rearrange_bigger(n))\n",
    "n = 102\n",
    "print(\"\\nOriginal number:\",n)\n",
    "print(\"Next bigger number:\",rearrange_bigger(n))\n",
    "n = 445\n",
    "print(\"\\nOriginal number:\",n)\n",
    "print(\"Next bigger number:\",rearrange_bigger(n))\n"
   ]
  },
  {
   "cell_type": "code",
   "execution_count": 32,
   "id": "21798300",
   "metadata": {},
   "outputs": [
    {
     "name": "stdout",
     "output_type": "stream",
     "text": [
      "Original list:\n",
      "[[0], [1, 3], [5, 7], [9, 11], [13, 15, 17]]\n",
      "\n",
      "List with maximum length of lists:\n",
      "(3, [13, 15, 17])\n",
      "\n",
      "List with minimum length of lists:\n",
      "(1, [0])\n"
     ]
    }
   ],
   "source": [
    "def max_length_list(input_list):\n",
    "    max_length = max(len(x) for x in input_list )   \n",
    "    max_list = max(input_list, key = lambda i: len(i))    \n",
    "    return(max_length, max_list)\n",
    "    \n",
    "def min_length_list(input_list):\n",
    "    min_length = min(len(x) for x in input_list )  \n",
    "    min_list = min(input_list, key = lambda i: len(i))\n",
    "    return(min_length, min_list)\n",
    "      \n",
    "list1 = [[0], [1, 3], [5, 7], [9, 11], [13, 15, 17]]\n",
    "print(\"Original list:\")\n",
    "print(list1)\n",
    "print(\"\\nList with maximum length of lists:\")\n",
    "print(max_length_list(list1))\n",
    "print(\"\\nList with minimum length of lists:\")\n",
    "print(min_length_list(list1))\n"
   ]
  },
  {
   "cell_type": "code",
   "execution_count": 33,
   "id": "f3ed834a",
   "metadata": {},
   "outputs": [
    {
     "name": "stdout",
     "output_type": "stream",
     "text": [
      "\n",
      "Original list:\n",
      "[['green', 'orange'], ['black', 'white'], ['white', 'black', 'orange']]\n",
      "\n",
      "After sorting each sublist of the said list of lists:\n",
      "[['green', 'orange'], ['black', 'white'], ['black', 'orange', 'white']]\n"
     ]
    }
   ],
   "source": [
    "def sort_sublists(input_list):\n",
    "    result = [sorted(x, key = lambda x:x[0]) for x in input_list] \n",
    "    return result\n",
    "color1 = [[\"green\", \"orange\"], [\"black\", \"white\"], [\"white\", \"black\", \"orange\"]]\n",
    "print(\"\\nOriginal list:\")\n",
    "print(color1)  \n",
    "print(\"\\nAfter sorting each sublist of the said list of lists:\")\n",
    "print(sort_sublists(color1))\n"
   ]
  },
  {
   "cell_type": "code",
   "execution_count": 34,
   "id": "a9639e0d",
   "metadata": {},
   "outputs": [
    {
     "name": "stdout",
     "output_type": "stream",
     "text": [
      "Original list:\n",
      "[[2], [0], [1, 3], [0, 7], [9, 11], [13, 15, 17]]\n",
      "\n",
      "Sort the list of lists by length and value:\n",
      "[[0], [2], [0, 7], [1, 3], [9, 11], [13, 15, 17]]\n"
     ]
    }
   ],
   "source": [
    "def sort_sublists(input_list):\n",
    "    result = sorted(input_list, key=lambda l: (len(l), l))\n",
    "    return result\n",
    "list1 = [[2], [0], [1, 3], [0, 7], [9, 11], [13, 15, 17]]\n",
    "print(\"Original list:\")\n",
    "print(list1)\n",
    "print(\"\\nSort the list of lists by length and value:\")\n",
    "print(sort_sublists(list1))\n"
   ]
  },
  {
   "cell_type": "code",
   "execution_count": 35,
   "id": "9d83b523",
   "metadata": {},
   "outputs": [
    {
     "name": "stdout",
     "output_type": "stream",
     "text": [
      "Original list:\n",
      "['Python', 3, 2, 4, 5, 'version']\n",
      "\n",
      "Maximum values in the said list using lambda:\n",
      "5\n"
     ]
    }
   ],
   "source": [
    "def max_val(list_val):\n",
    "     max_val = max(list_val, key = lambda i: (isinstance(i, int), i))  \n",
    "     return(max_val)\n",
    "\n",
    "list_val = ['Python', 3, 2, 4, 5, 'version'] \n",
    "print(\"Original list:\")\n",
    "print(list_val)\n",
    "print(\"\\nMaximum values in the said list using lambda:\")\n",
    "print(max_val(list_val))\n"
   ]
  },
  {
   "cell_type": "code",
   "execution_count": 36,
   "id": "60bd397f",
   "metadata": {},
   "outputs": [
    {
     "name": "stdout",
     "output_type": "stream",
     "text": [
      "Original Matrix:\n",
      "[[1, 2, 3], [2, 4, 5], [1, 1, 1]]\n",
      "\n",
      "Sort the said matrix in ascending order according to the sum of its rows\n",
      "[[1, 1, 1], [1, 2, 3], [2, 4, 5]]\n",
      "\n",
      "Original Matrix:\n",
      "[[1, 2, 3], [-2, 4, -5], [1, -1, 1]]\n",
      "\n",
      "Sort the said matrix in ascending order according to the sum of its rows\n",
      "[[-2, 4, -5], [1, -1, 1], [1, 2, 3]]\n"
     ]
    }
   ],
   "source": [
    "def sort_matrix(M):\n",
    "    result = sorted(M, key=lambda matrix_row: sum(matrix_row)) \n",
    "    return result\n",
    "\n",
    "matrix1 = [[1, 2, 3], [2, 4, 5], [1, 1, 1]]\n",
    "matrix2 = [[1, 2, 3], [-2, 4, -5], [1, -1, 1]]\n",
    "\n",
    "print(\"Original Matrix:\")\n",
    "print(matrix1)\n",
    "print(\"\\nSort the said matrix in ascending order according to the sum of its rows\") \n",
    "print(sort_matrix(matrix1))\n",
    "print(\"\\nOriginal Matrix:\")\n",
    "print(matrix2) \n",
    "print(\"\\nSort the said matrix in ascending order according to the sum of its rows\") \n",
    "print(sort_matrix(matrix2))\n"
   ]
  },
  {
   "cell_type": "code",
   "execution_count": 37,
   "id": "1137b494",
   "metadata": {},
   "outputs": [
    {
     "name": "stdout",
     "output_type": "stream",
     "text": [
      "Original list:\n",
      "['Python', 'list', 'exercises', 'practice', 'solution']\n",
      "\n",
      "length of the string to extract:\n",
      "8\n",
      "\n",
      "After extracting strings of specified length from the said list:\n",
      "['practice', 'solution']\n"
     ]
    }
   ],
   "source": [
    "def extract_string(str_list1, l):\n",
    "    result = list(filter(lambda e: len(e) == l, str_list1))\n",
    "    return result\n",
    "\n",
    "str_list1 = ['Python', 'list', 'exercises', 'practice', 'solution'] \n",
    "print(\"Original list:\")\n",
    "print(str_list1)\n",
    "l = 8\n",
    "print(\"\\nlength of the string to extract:\")\n",
    "print(l)\n",
    "print(\"\\nAfter extracting strings of specified length from the said list:\")\n",
    "print(extract_string(str_list1 , l))\n"
   ]
  },
  {
   "cell_type": "code",
   "execution_count": 40,
   "id": "fde738ad",
   "metadata": {},
   "outputs": [
    {
     "ename": "SyntaxError",
     "evalue": "invalid syntax (Temp/ipykernel_17164/1069162757.py, line 5)",
     "output_type": "error",
     "traceback": [
      "\u001b[1;36m  File \u001b[1;32m\"C:\\Users\\iampr.MS\\AppData\\Local\\Temp/ipykernel_17164/1069162757.py\"\u001b[1;36m, line \u001b[1;32m5\u001b[0m\n\u001b[1;33m    list1 = [1, 'abcd', 3def filter_data(students):\u001b[0m\n\u001b[1;37m                         ^\u001b[0m\n\u001b[1;31mSyntaxError\u001b[0m\u001b[1;31m:\u001b[0m invalid syntax\n"
     ]
    }
   ],
   "source": [
    "def count_integer(list1):\n",
    "    ert = list(map(lambda i: isinstance(i, float), list1)) \n",
    "    result = len([e for e in ert if e])         \n",
    "    return result\n",
    "list1 = [1, 'abcd', 3def filter_data(students):\n",
    "    result = dict(filter(lambda x: (x[1][0], x[1][1]) > (6.0, 70), students.items()))\n",
    "    return result  \n",
    "students = {'Cierra Vega': (6.2, 70), 'Alden Cantrell': (5.9, 65), 'Kierra Gentry': (6.0, 68), 'Pierre Cox': (5.8, 66)}\n",
    "print(\"Original Dictionary:\")\n",
    "print(students)\n",
    "print(\"\\nHeight> 6ft and Weight> 70kg:\")\n",
    "print(filter_data(students))\n",
    ".12, 1.2, 4, 'xyz', 5, 'pqr', 7, -5, -12.22]\n",
    "print(\"Original list:\")\n",
    "print(list1)\n",
    "print(\"\\nNumber of floats in the said mixed list:\")\n",
    "print(count_integer(list1))\n"
   ]
  },
  {
   "cell_type": "code",
   "execution_count": 39,
   "id": "97d3f805",
   "metadata": {},
   "outputs": [
    {
     "name": "stdout",
     "output_type": "stream",
     "text": [
      "Input the string: mlvPRasad\n",
      "['String must have 1 number.']\n"
     ]
    }
   ],
   "source": [
    "def check_string(str1):\n",
    "    messg = [\n",
    "    lambda str1: any(x.isupper() for x in str1) or 'String must have 1 upper case character.',\n",
    "    lambda str1: any(x.islower() for x in str1) or 'String must have 1 lower case character.',\n",
    "    lambda str1: any(x.isdigit() for x in str1) or 'String must have 1 number.',\n",
    "    lambda str1: len(str1) >= 7                 or 'String length should be atleast 8.',]\n",
    "    result = [x for x in [i(str1) for i in messg] if x != True]\n",
    "    if not result:\n",
    "        result.append('Valid string.')\n",
    "    return result    \n",
    "s = input(\"Input the string: \")\n",
    "print(check_string(s))\n"
   ]
  },
  {
   "cell_type": "code",
   "execution_count": 41,
   "id": "0fe13004",
   "metadata": {},
   "outputs": [
    {
     "name": "stdout",
     "output_type": "stream",
     "text": [
      "Original Dictionary:\n",
      "{'Cierra Vega': (6.2, 70), 'Alden Cantrell': (5.9, 65), 'Kierra Gentry': (6.0, 68), 'Pierre Cox': (5.8, 66)}\n",
      "\n",
      "Height> 6ft and Weight> 70kg:\n",
      "{'Cierra Vega': (6.2, 70)}\n"
     ]
    }
   ],
   "source": [
    "def filter_data(students):\n",
    "    result = dict(filter(lambda x: (x[1][0], x[1][1]) > (6.0, 70), students.items()))\n",
    "    return result  \n",
    "students = {'Cierra Vega': (6.2, 70), 'Alden Cantrell': (5.9, 65), 'Kierra Gentry': (6.0, 68), 'Pierre Cox': (5.8, 66)}\n",
    "print(\"Original Dictionary:\")\n",
    "print(students)\n",
    "print(\"\\nHeight> 6ft and Weight> 70kg:\")\n",
    "print(filter_data(students))\n"
   ]
  },
  {
   "cell_type": "code",
   "execution_count": 42,
   "id": "a1982a46",
   "metadata": {},
   "outputs": [
    {
     "name": "stdout",
     "output_type": "stream",
     "text": [
      "Original list:\n",
      "[1, 2, 4, 6, 8, 10, 12, 14, 16, 17]\n",
      "\n",
      "Is the said list is sorted!\n",
      "True\n",
      "\n",
      "Original list:\n",
      "[1, 2, 4, 6, 8, 10, 12, 14, 16, 17]\n",
      "\n",
      "Is the said list is sorted!\n",
      "False\n"
     ]
    }
   ],
   "source": [
    "def is_sort_list(nums, key=lambda x: x):\n",
    "    for i, e in enumerate(nums[1:]):\n",
    "        if key(e) < key(nums[i]): \n",
    "            return False\n",
    "    return True\n",
    "nums1 = [1,2,4,6,8,10,12,14,16,17]\n",
    "print (\"Original list:\")\n",
    "print(nums1)\n",
    "print(\"\\nIs the said list is sorted!\")\n",
    "print(is_sort_list(nums1)) \n",
    "nums2 = [2,3,8,4,7,9,8,2,6,5,1,6,1,2,3,4,6,9,1,2]\n",
    "print (\"\\nOriginal list:\")\n",
    "print(nums1)\n",
    "print(\"\\nIs the said list is sorted!\")\n",
    "print(is_sort_list(nums2))\n"
   ]
  },
  {
   "cell_type": "code",
   "execution_count": 43,
   "id": "e2e9ad44",
   "metadata": {},
   "outputs": [
    {
     "name": "stdout",
     "output_type": "stream",
     "text": [
      "Original list:\n",
      "[('Greyson Fulton', 98, 99), ('Brady Kent', 97, 96), ('Wyatt Knott', 91, 94), ('Beau Turnbull', 94, 98)]\n",
      "\n",
      "Extract nth element ( n = 0 ) from the said list of tuples:\n",
      "['Greyson Fulton', 'Brady Kent', 'Wyatt Knott', 'Beau Turnbull']\n",
      "\n",
      "Extract nth element ( n = 2 ) from the said list of tuples:\n",
      "[99, 96, 94, 98]\n"
     ]
    }
   ],
   "source": [
    "def extract_nth_element(test_list, n):\n",
    "    result = list(map (lambda x:(x[n]), test_list))\n",
    "    return result\n",
    "students = [('Greyson Fulton', 98, 99), ('Brady Kent', 97, 96), ('Wyatt Knott', 91, 94), ('Beau Turnbull', 94, 98)] \n",
    "print (\"Original list:\")\n",
    "print(students)\n",
    "n = 0\n",
    "print(\"\\nExtract nth element ( n =\",n,\") from the said list of tuples:\")\n",
    "print(extract_nth_element(students, n))\n",
    "n = 2\n",
    "print(\"\\nExtract nth element ( n =\",n,\") from the said list of tuples:\")\n",
    "print(extract_nth_element(students, n))\n"
   ]
  },
  {
   "cell_type": "code",
   "execution_count": 44,
   "id": "4358bcfd",
   "metadata": {},
   "outputs": [
    {
     "name": "stdout",
     "output_type": "stream",
     "text": [
      "Original list:\n",
      "[('Greyson Fulton', 98, 99), ('Brady Kent', 97, 96), ('Wyatt Knott', 91, 94), ('Beau Turnbull', 94, 98)]\n",
      "\n",
      "Sort the said list of lists by a given index ( Index =  0 ) of the inner list\n",
      "[('Beau Turnbull', 94, 98), ('Brady Kent', 97, 96), ('Greyson Fulton', 98, 99), ('Wyatt Knott', 91, 94)]\n",
      "\n",
      "Sort the said list of lists by a given index ( Index =  2 ) of the inner list\n",
      "[('Wyatt Knott', 91, 94), ('Brady Kent', 97, 96), ('Beau Turnbull', 94, 98), ('Greyson Fulton', 98, 99)]\n"
     ]
    }
   ],
   "source": [
    "def index_on_inner_list(list_data, index_no):\n",
    "    result = sorted(list_data, key=lambda x: x[index_no])\n",
    "    return result\n",
    "students = [('Greyson Fulton', 98, 99), ('Brady Kent', 97, 96), ('Wyatt Knott', 91, 94), ('Beau Turnbull', 94, 98)] \n",
    "print (\"Original list:\")\n",
    "print(students)\n",
    "index_no = 0\n",
    "print(\"\\nSort the said list of lists by a given index\",\"( Index = \",index_no,\") of the inner list\")\n",
    "print(index_on_inner_list(students, index_no))\n",
    "index_no = 2\n",
    "print(\"\\nSort the said list of lists by a given index\",\"( Index = \",index_no,\") of the inner list\")\n",
    "print(index_on_inner_list(students, index_no))\n"
   ]
  },
  {
   "cell_type": "code",
   "execution_count": 45,
   "id": "69755db5",
   "metadata": {},
   "outputs": [
    {
     "name": "stdout",
     "output_type": "stream",
     "text": [
      "Original lists:\n",
      "list1: [1, 2, 3, 4, 5, 6, 7, 8, 9, 10]\n",
      "list2: [2, 4, 6, 8]\n",
      "\n",
      "Remove all elements from 'list1' present in 'list2:\n",
      "[1, 3, 5, 7, 9, 10]\n"
     ]
    }
   ],
   "source": [
    "def index_on_inner_list(list1, list2):\n",
    "    result = list(filter(lambda x: x not in list2, list1))\n",
    "    return result\n",
    "list1 = [1,2,3,4,5,6,7,8,9,10]\n",
    "list2 = [2,4,6,8]\n",
    "print(\"Original lists:\")\n",
    "print(\"list1:\", list1)\n",
    "print(\"list2:\", list2)\n",
    "print(\"\\nRemove all elements from 'list1' present in 'list2:\")\n",
    "print(index_on_inner_list(list1, list2))\n"
   ]
  },
  {
   "cell_type": "code",
   "execution_count": 46,
   "id": "303cb171",
   "metadata": {},
   "outputs": [
    {
     "name": "stdout",
     "output_type": "stream",
     "text": [
      "Original list:\n",
      "['red', 'black', 'white', 'green', 'orange']\n",
      "\n",
      "Substring to search:\n",
      "ack\n",
      "Elements of the said list that contain specific substring:\n",
      "['black']\n",
      "\n",
      "Substring to search:\n",
      "abc\n",
      "Elements of the said list that contain specific substring:\n",
      "[]\n"
     ]
    }
   ],
   "source": [
    "def find_substring(str1, sub_str):\n",
    "    result = list(filter(lambda x: sub_str in x, str1))\n",
    "    return result\n",
    "colors = [\"red\", \"black\", \"white\", \"green\", \"orange\"]\n",
    "print(\"Original list:\")\n",
    "print(colors)\n",
    "\n",
    "sub_str = \"ack\"\n",
    "print(\"\\nSubstring to search:\")\n",
    "print(sub_str)\n",
    "print(\"Elements of the said list that contain specific substring:\")\n",
    "print(find_substring(colors, sub_str))\n",
    "sub_str = \"abc\"\n",
    "print(\"\\nSubstring to search:\")\n",
    "print(sub_str)\n",
    "print(\"Elements of the said list that contain specific substring:\")\n",
    "print(find_substring(colors, sub_str))\n"
   ]
  },
  {
   "cell_type": "code",
   "execution_count": 47,
   "id": "408c6339",
   "metadata": {},
   "outputs": [
    {
     "name": "stdout",
     "output_type": "stream",
     "text": [
      "\n",
      "Original lists:\n",
      "[1, 2, 3, 4, 5, 6, 7, 8, 9, 10, 11, 12, 13, 14]\n",
      "[[12, 18, 23, 25, 45], [7, 11, 19, 24, 28], [1, 5, 8, 18, 15, 16]]\n",
      "\n",
      "Intersection of said nested lists:\n",
      "[[12], [7, 11], [1, 5, 8]]\n"
     ]
    }
   ],
   "source": [
    "def intersection_nested_lists(l1, l2):\n",
    "    result = [list(filter(lambda x: x in l1, sublist)) for sublist in l2]\n",
    "    return result\n",
    "nums1 = [1, 2, 3, 4, 5, 6, 7, 8, 9, 10, 11, 12, 13, 14]\n",
    "nums2 = [[12, 18, 23, 25, 45], [7, 11, 19, 24, 28], [1, 5, 8, 18, 15, 16]]\n",
    "print(\"\\nOriginal lists:\")\n",
    "print(nums1)\n",
    "print(nums2)\n",
    "print(\"\\nIntersection of said nested lists:\")\n",
    "print(intersection_nested_lists(nums1, nums2))\n"
   ]
  },
  {
   "cell_type": "code",
   "execution_count": 48,
   "id": "9062e648",
   "metadata": {},
   "outputs": [
    {
     "name": "stdout",
     "output_type": "stream",
     "text": [
      "\n",
      "Original lists:\n",
      "['Red', 'Green', 'Blue', 'White', 'Black']\n",
      "\n",
      "Reverse strings of the said given list:\n",
      "['deR', 'neerG', 'eulB', 'etihW', 'kcalB']\n"
     ]
    }
   ],
   "source": [
    "def reverse_strings_list(string_list):\n",
    "    result = list(map(lambda x: \"\".join(reversed(x)), string_list))\n",
    "    return result\n",
    "\n",
    "colors_list = [\"Red\", \"Green\", \"Blue\", \"White\", \"Black\"]\n",
    "print(\"\\nOriginal lists:\")\n",
    "print(colors_list)\n",
    "print(\"\\nReverse strings of the said given list:\")\n",
    "print(reverse_strings_list(colors_list))\n"
   ]
  },
  {
   "cell_type": "code",
   "execution_count": 49,
   "id": "2dc8983e",
   "metadata": {},
   "outputs": [
    {
     "name": "stdout",
     "output_type": "stream",
     "text": [
      "list1: [1, 2, 3, 4, 5, 6, 7, 8, 9, 10]\n",
      "Product of the said list numbers:\n",
      "3628800\n",
      "\n",
      "list2: [2.2, 4.12, 6.6, 8.1, 8.3]\n",
      "Product of the said list numbers:\n",
      "4021.8599520000007\n"
     ]
    }
   ],
   "source": [
    "import functools \n",
    "def remove_duplicates(nums):\n",
    "    result = functools.reduce(lambda x, y: x * y, nums, 1)\n",
    "    return result\n",
    "nums1 = [1,2,3,4,5,6,7,8,9,10]\n",
    "nums2 = [2.2,4.12,6.6,8.1,8.3]\n",
    "print(\"list1:\", nums1)\n",
    "print(\"Product of the said list numbers:\")\n",
    "print(remove_duplicates(nums1))\n",
    "print(\"\\nlist2:\", nums2)\n",
    "print(\"Product of the said list numbers:\")\n",
    "print(remove_duplicates(nums2))\n"
   ]
  },
  {
   "cell_type": "code",
   "execution_count": 50,
   "id": "8486a11f",
   "metadata": {},
   "outputs": [
    {
     "name": "stdout",
     "output_type": "stream",
     "text": [
      "Original list: \n",
      "[4, 3, 2, 2, -1, 18]\n",
      "Mmultiply all the numbers of the said list: -864\n",
      "\n",
      "Original list: \n",
      "[2, 4, 8, 8, 3, 2, 9]\n",
      "Mmultiply all the numbers of the said list: 27648\n"
     ]
    }
   ],
   "source": [
    "from functools import reduce \n",
    "def mutiple_list(nums):\n",
    "    result =  reduce(lambda x, y: x*y, nums)\n",
    "    return result\n",
    "nums = [4, 3, 2, 2, -1, 18]\n",
    "print (\"Original list: \")\n",
    "print(nums)\n",
    "print(\"Mmultiply all the numbers of the said list:\",mutiple_list(nums))\n",
    "nums = [2, 4, 8, 8, 3, 2, 9]\n",
    "print (\"\\nOriginal list: \")\n",
    "print(nums)\n",
    "print(\"Mmultiply all the numbers of the said list:\",mutiple_list(nums))\n"
   ]
  },
  {
   "cell_type": "code",
   "execution_count": 51,
   "id": "1e59132b",
   "metadata": {},
   "outputs": [
    {
     "name": "stdout",
     "output_type": "stream",
     "text": [
      "Original Tuple: \n",
      "((10, 10, 10), (30, 45, 56), (81, 80, 39), (1, 2, 3))\n",
      "\n",
      "Average value of the numbers of the said tuple of tuples:\n",
      " (30.5, 34.25, 27.0)\n",
      "\n",
      "Original Tuple: \n",
      "((1, 1, -5), (30, -15, 56), (81, -60, -39), (-10, 2, 3))\n",
      "\n",
      "Average value of the numbers of the said tuple of tuples:\n",
      " (25.5, -18.0, 3.75)\n"
     ]
    }
   ],
   "source": [
    "def average_tuple(nums):\n",
    "    result = tuple(map(lambda x: sum(x) / float(len(x)), zip(*nums)))\n",
    "    return result\n",
    "\n",
    "nums = ((10, 10, 10), (30, 45, 56), (81, 80, 39), (1, 2, 3))\n",
    "print (\"Original Tuple: \")\n",
    "print(nums)\n",
    "print(\"\\nAverage value of the numbers of the said tuple of tuples:\\n\",average_tuple(nums))\n",
    "nums = ((1, 1, -5), (30, -15, 56), (81, -60, -39), (-10, 2, 3))\n",
    "print (\"\\nOriginal Tuple: \")\n",
    "print(nums)\n",
    "print(\"\\nAverage value of the numbers of the said tuple of tuples:\\n\",average_tuple(nums))\n",
    "\n"
   ]
  },
  {
   "cell_type": "code",
   "execution_count": 52,
   "id": "8c7dea25",
   "metadata": {},
   "outputs": [
    {
     "name": "stdout",
     "output_type": "stream",
     "text": [
      "Original tuple values:\n",
      "(('233', 'ABCD', '33'), ('1416', 'EFGH', '55'), ('2345', 'WERT', '34'))\n",
      "\n",
      "New tuple values:\n",
      "((233, 33), (1416, 55), (2345, 34))\n"
     ]
    }
   ],
   "source": [
    "def tuple_int_str(tuple_str):\n",
    "    result = tuple(map(lambda x: (int(x[0]), int(x[2])), tuple_str))\n",
    "    return result     \n",
    "tuple_str =  (('233', 'ABCD', '33'), ('1416', 'EFGH', '55'), ('2345', 'WERT', '34'))\n",
    "print(\"Original tuple values:\")\n",
    "print(tuple_str)\n",
    "print(\"\\nNew tuple values:\")\n",
    "print(tuple_int_str(tuple_str))\n"
   ]
  },
  {
   "cell_type": "code",
   "execution_count": 53,
   "id": "89d828dc",
   "metadata": {},
   "outputs": [
    {
     "name": "stdout",
     "output_type": "stream",
     "text": [
      "Original list:\n",
      "[12, 33, 23, 10.11, 67, 89, 45, 66.7, 23, 12, 11, 10.25, 54]\n",
      "\n",
      "Index position and value of the maximum value of the said list:\n",
      "(5, 89)\n",
      "\n",
      "Index position and value of the minimum value of the said list:\n",
      "(3, 10.11)\n"
     ]
    }
   ],
   "source": [
    "def position_max_min(nums):\n",
    "    max_result = max(enumerate(nums), key=(lambda x: x[1]))\n",
    "    min_result = min(enumerate(nums), key=(lambda x: x[1]))\n",
    "    return max_result,min_result\n",
    "\n",
    "nums = [12,33,23,10.11,67,89,45,66.7,23,12,11,10.25,54]\n",
    "print(\"Original list:\")\n",
    "print(nums)\n",
    "result = position_max_min(nums)\n",
    "print(\"\\nIndex position and value of the maximum value of the said list:\")\n",
    "print(result[0])\n",
    "print(\"\\nIndex position and value of the minimum value of the said list:\")\n",
    "print(result[1])\n"
   ]
  },
  {
   "cell_type": "code",
   "execution_count": 54,
   "id": "8acbf7a0",
   "metadata": {},
   "outputs": [
    {
     "name": "stdout",
     "output_type": "stream",
     "text": [
      "Original list:\n",
      "[19, 'red', 12, 'green', 'blue', 10, 'white', 'green', 1]\n",
      "\n",
      "Sort the said  mixed list of integers and strings:\n",
      "[1, 10, 12, 19, 'blue', 'green', 'green', 'red', 'white']\n"
     ]
    }
   ],
   "source": [
    "def sort_mixed_list(mixed_list):\n",
    "    mixed_list.sort(key=lambda e: (isinstance(e, str), e))\n",
    "    return mixed_list\n",
    "mixed_list = [19,'red',12,'green','blue', 10,'white','green',1]\n",
    "print(\"Original list:\")\n",
    "print(mixed_list)\n",
    "print(\"\\nSort the said  mixed list of integers and strings:\")\n",
    "print(sort_mixed_list(mixed_list))\n"
   ]
  },
  {
   "cell_type": "code",
   "execution_count": 55,
   "id": "ba0e8fa5",
   "metadata": {},
   "outputs": [
    {
     "name": "stdout",
     "output_type": "stream",
     "text": [
      "Original list:\n",
      "['4', '12', '45', '7', '0', '100', '200', '-12', '-500']\n",
      "\n",
      "Sort the said list of strings(numbers) numerically:\n",
      "['-500', '-12', '0', '4', '7', '12', '45', '100', '200']\n"
     ]
    }
   ],
   "source": [
    "def sort_numeric_strings(nums_str):\n",
    "    result = sorted(nums_str, key=lambda el: int(el))\n",
    "    return result\n",
    "nums_str = ['4','12','45','7','0','100','200','-12','-500']\n",
    "print(\"Original list:\")\n",
    "print(nums_str)\n",
    "print(\"\\nSort the said list of strings(numbers) numerically:\")\n",
    "print(sort_numeric_strings(nums_str))\n"
   ]
  },
  {
   "cell_type": "code",
   "execution_count": 56,
   "id": "610c3a88",
   "metadata": {},
   "outputs": [
    {
     "name": "stdout",
     "output_type": "stream",
     "text": [
      "Original list:\n",
      "[3, 4, 5, 8, 0, 3, 8, 5, 0, 3, 1, 5, 2, 3, 4, 2]\n",
      "\n",
      "Count the occurrences of the items in the said list:\n",
      "{3: 4, 4: 2, 5: 3, 8: 2, 0: 2, 1: 1, 2: 2}\n"
     ]
    }
   ],
   "source": [
    "def count_occurrences(nums):\n",
    "    result = dict(map(lambda el  : (el, list(nums).count(el)), nums))\n",
    "    return result\n",
    "nums = [3,4,5,8,0,3,8,5,0,3,1,5,2,3,4,2]\n",
    "print(\"Original list:\")\n",
    "print(nums)\n",
    "print(\"\\nCount the occurrences of the items in the said list:\")\n",
    "print(count_occurrences(nums))\n"
   ]
  },
  {
   "cell_type": "code",
   "execution_count": 57,
   "id": "62e11837",
   "metadata": {},
   "outputs": [
    {
     "name": "stdout",
     "output_type": "stream",
     "text": [
      "Original list:\n",
      "['orange', 'red', 'green', 'blue', 'white', 'black']\n",
      "\n",
      "Remove words:\n",
      "['orange', 'black']\n",
      "\n",
      "After removing the specified words from the said list:\n",
      "['red', 'green', 'blue', 'white']\n"
     ]
    }
   ],
   "source": [
    "def remove_words(list1, remove_words):\n",
    "    result = list(filter(lambda word: word not in remove_words, list1))\n",
    "    return result\n",
    "        \n",
    "colors = ['orange', 'red', 'green', 'blue', 'white', 'black']\n",
    "remove_colors = ['orange','black']\n",
    "print(\"Original list:\")\n",
    "print(colors)\n",
    "print(\"\\nRemove words:\")\n",
    "print(remove_colors)\n",
    "print(\"\\nAfter removing the specified words from the said list:\")\n",
    "print(remove_words(colors, remove_colors))\n"
   ]
  },
  {
   "cell_type": "code",
   "execution_count": 58,
   "id": "a29a2291",
   "metadata": {},
   "outputs": [
    {
     "name": "stdout",
     "output_type": "stream",
     "text": [
      "Original list with tuples:\n",
      "[('V', 62), ('VI', 68), ('VII', 72), ('VIII', 70), ('IX', 74), ('X', 65)]\n",
      "\n",
      "Maximum and minimum values of the said list of tuples:\n",
      "(74, 62)\n"
     ]
    }
   ],
   "source": [
    "def max_min_list_tuples(class_students):\n",
    "    return_max = max(class_students,key=lambda item:item[1])[1]\n",
    "    return_min = min(class_students,key=lambda item:item[1])[1]\n",
    "    return return_max, return_min\n",
    "    \n",
    "class_students = [('V', 62), ('VI', 68), ('VII', 72), ('VIII', 70), ('IX', 74), ('X', 65)]\n",
    "print(\"Original list with tuples:\")\n",
    "print(class_students)\n",
    "print(\"\\nMaximum and minimum values of the said list of tuples:\")\n",
    "print(max_min_list_tuples(class_students))\n"
   ]
  },
  {
   "cell_type": "code",
   "execution_count": 59,
   "id": "98a0b6d5",
   "metadata": {},
   "outputs": [
    {
     "name": "stdout",
     "output_type": "stream",
     "text": [
      "Original list:\n",
      "[12, 0, None, 23, None, -55, 234, 89, None, 0, 6, -12]\n",
      "\n",
      "Remove None value from the said list:\n",
      "[12, 0, 23, -55, 234, 89, 0, 6, -12]\n"
     ]
    }
   ],
   "source": [
    "def remove_none(nums):\n",
    "    result = filter(lambda v: v is not None, nums)\n",
    "    return list(result)\n",
    "\n",
    "nums = [12, 0, None, 23, None, -55, 234, 89, None, 0, 6, -12]\n",
    "print(\"Original list:\")\n",
    "print(nums)\n",
    "print(\"\\nRemove None value from the said list:\")\n",
    "print(remove_none(nums))\n"
   ]
  },
  {
   "cell_type": "code",
   "execution_count": null,
   "id": "988c39bb",
   "metadata": {},
   "outputs": [],
   "source": []
  }
 ],
 "metadata": {
  "kernelspec": {
   "display_name": "Python 3 (ipykernel)",
   "language": "python",
   "name": "python3"
  },
  "language_info": {
   "codemirror_mode": {
    "name": "ipython",
    "version": 3
   },
   "file_extension": ".py",
   "mimetype": "text/x-python",
   "name": "python",
   "nbconvert_exporter": "python",
   "pygments_lexer": "ipython3",
   "version": "3.9.7"
  }
 },
 "nbformat": 4,
 "nbformat_minor": 5
}
