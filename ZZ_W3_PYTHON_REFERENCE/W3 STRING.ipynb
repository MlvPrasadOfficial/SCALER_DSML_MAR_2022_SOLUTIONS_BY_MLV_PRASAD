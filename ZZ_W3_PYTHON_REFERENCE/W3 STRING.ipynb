{
 "cells": [
  {
   "cell_type": "code",
   "execution_count": 1,
   "id": "3c3df654",
   "metadata": {},
   "outputs": [
    {
     "name": "stdout",
     "output_type": "stream",
     "text": [
      "\n",
      ">  Python is a widely used high-level, general-\n",
      "> purpose, interpreted, dynamic programming\n",
      "> language. Its design philosophy emphasizes code\n",
      "> readability, and its syntax allows programmers to\n",
      "> express concepts in fewer lines of code than\n",
      "> possible in languages such as C++ or Java.\n",
      "\n"
     ]
    }
   ],
   "source": [
    "import textwrap\n",
    "sample_text ='''\n",
    "    Python is a widely used high-level, general-purpose, interpreted,\n",
    "    dynamic programming language. Its design philosophy emphasizes\n",
    "    code readability, and its syntax allows programmers to express\n",
    "    concepts in fewer lines of code than possible in languages such\n",
    "    as C++ or Java.\n",
    "    '''\n",
    "text_without_Indentation = textwrap.dedent(sample_text)\n",
    "wrapped = textwrap.fill(text_without_Indentation, width=50)\n",
    "#wrapped += '\\n\\nSecond paragraph after a blank line.'\n",
    "final_result = textwrap.indent(wrapped, '> ')\n",
    "print()\n",
    "print(final_result)\n",
    "print()\n"
   ]
  },
  {
   "cell_type": "code",
   "execution_count": 2,
   "id": "4bf84e6a",
   "metadata": {},
   "outputs": [
    {
     "name": "stdout",
     "output_type": "stream",
     "text": [
      "\n",
      "\n",
      "Python is a widely used high-level, general-purpose, interpreted,\n",
      "dynamic programming language. Its design philosophy emphasizes\n",
      "code readability, and its syntax allows programmers to express\n",
      "concepts in fewer lines of code than possible in languages such\n",
      "as C++ or Java.\n",
      "\n",
      "\n"
     ]
    }
   ],
   "source": [
    "import textwrap\n",
    "sample_text = '''\n",
    "    Python is a widely used high-level, general-purpose, interpreted,\n",
    "    dynamic programming language. Its design philosophy emphasizes\n",
    "    code readability, and its syntax allows programmers to express\n",
    "    concepts in fewer lines of code than possible in languages such\n",
    "    as C++ or Java.\n",
    "    '''\n",
    "text_without_Indentation = textwrap.dedent(sample_text)\n",
    "print()\n",
    "print(text_without_Indentation )\n",
    "print()\n"
   ]
  },
  {
   "cell_type": "code",
   "execution_count": 3,
   "id": "18353522",
   "metadata": {},
   "outputs": [
    {
     "name": "stdout",
     "output_type": "stream",
     "text": [
      "\n",
      "   Python is a widely used high-level, general-\n",
      "purpose, interpreted,   dynamic programming\n",
      "language. Its design philosophy emphasizes   code\n",
      "readability, and its syntax allows programmers to\n",
      "express   concepts in fewer lines of code than\n",
      "possible in languages such   as C++ or Java.\n",
      "\n"
     ]
    }
   ],
   "source": [
    "import textwrap\n",
    "sample_text = '''\n",
    "  Python is a widely used high-level, general-purpose, interpreted,\n",
    "  dynamic programming language. Its design philosophy emphasizes\n",
    "  code readability, and its syntax allows programmers to express\n",
    "  concepts in fewer lines of code than possible in languages such\n",
    "  as C++ or Java.\n",
    "  '''\n",
    "print()\n",
    "print(textwrap.fill(sample_text, width=50))\n",
    "print()\n"
   ]
  },
  {
   "cell_type": "code",
   "execution_count": 4,
   "id": "2d7977c0",
   "metadata": {},
   "outputs": [
    {
     "name": "stdout",
     "output_type": "stream",
     "text": [
      "\n",
      "['c', 'd', 'e']\n",
      "\n"
     ]
    }
   ],
   "source": [
    "#https://gist.github.com/nchitalov/2f2b03e5cf1e19da1525\n",
    "def caesar_encrypt(realText, step):\n",
    "\toutText = []\n",
    "\tcryptText = []\n",
    "\t\n",
    "\tuppercase = ['A', 'B', 'C', 'D', 'E', 'F', 'G', 'H', 'I', 'J', 'K', 'L', 'M', 'N', 'O', 'P', 'Q', 'R', 'S', 'T', 'U', 'V', 'W', 'X', 'Y', 'Z']\n",
    "\tlowercase = ['a', 'b', 'c', 'd', 'e', 'f', 'g', 'h', 'i', 'j', 'k', 'l', 'm', 'n', 'o', 'p', 'q', 'r', 's', 't', 'u', 'v', 'w', 'x', 'y', 'z']\n",
    "\n",
    "\tfor eachLetter in realText:\n",
    "\t\tif eachLetter in uppercase:\n",
    "\t\t\tindex = uppercase.index(eachLetter)\n",
    "\t\t\tcrypting = (index + step) % 26\n",
    "\t\t\tcryptText.append(crypting)\n",
    "\t\t\tnewLetter = uppercase[crypting]\n",
    "\t\t\toutText.append(newLetter)\n",
    "\t\telif eachLetter in lowercase:\n",
    "\t\t\tindex = lowercase.index(eachLetter)\n",
    "\t\t\tcrypting = (index + step) % 26\n",
    "\t\t\tcryptText.append(crypting)\n",
    "\t\t\tnewLetter = lowercase[crypting]\n",
    "\t\t\toutText.append(newLetter)\n",
    "\treturn outText\n",
    "\n",
    "code = caesar_encrypt('abc', 2)\n",
    "print()\n",
    "print(code)\n",
    "print()\n"
   ]
  },
  {
   "cell_type": "code",
   "execution_count": 5,
   "id": "1cd00736",
   "metadata": {},
   "outputs": [
    {
     "name": "stdout",
     "output_type": "stream",
     "text": [
      "True\n"
     ]
    }
   ],
   "source": [
    "string = \"w3resource.com\"\n",
    "print(string.startswith(\"w3r\"))\n"
   ]
  },
  {
   "cell_type": "code",
   "execution_count": 6,
   "id": "41d8ae5d",
   "metadata": {},
   "outputs": [
    {
     "name": "stdout",
     "output_type": "stream",
     "text": [
      "Python Exercises\n",
      "\n",
      "Python Exercises\n"
     ]
    }
   ],
   "source": [
    "str1='Python Exercises\\n'\n",
    "print(str1)\n",
    "print(str1.rstrip())\n"
   ]
  },
  {
   "cell_type": "code",
   "execution_count": 7,
   "id": "1bb201fa",
   "metadata": {},
   "outputs": [
    {
     "name": "stdout",
     "output_type": "stream",
     "text": [
      "['3', 'c', 'e', 'e', 'o', 'r', 'r', 's', 'u', 'w']\n",
      "['b', 'c', 'i', 'k', 'n', 'o', 'q', 'r', 'u', 'w']\n"
     ]
    }
   ],
   "source": [
    "def lexicographi_sort(s):\n",
    "    return sorted(sorted(s), key=str.upper)\n",
    "\n",
    "print(lexicographi_sort('w3resource'))\n",
    "print(lexicographi_sort('quickbrown'))\n"
   ]
  },
  {
   "cell_type": "code",
   "execution_count": 8,
   "id": "37dc1fab",
   "metadata": {},
   "outputs": [
    {
     "name": "stdout",
     "output_type": "stream",
     "text": [
      "Python\n",
      "PYTHON\n"
     ]
    }
   ],
   "source": [
    "def to_uppercase(str1):\n",
    "    num_upper = 0\n",
    "    for letter in str1[:4]: \n",
    "        if letter.upper() == letter:\n",
    "            num_upper += 1\n",
    "    if num_upper >= 2:\n",
    "        return str1.upper()\n",
    "    return str1\n",
    "\n",
    "print(to_uppercase('Python'))\n",
    "print(to_uppercase('PyThon'))\n"
   ]
  },
  {
   "cell_type": "code",
   "execution_count": 9,
   "id": "820b6a2e",
   "metadata": {},
   "outputs": [
    {
     "name": "stdout",
     "output_type": "stream",
     "text": [
      "dcba\n",
      "python\n"
     ]
    }
   ],
   "source": [
    "def reverse_string(str1):\n",
    "    if len(str1) % 4 == 0:\n",
    "       return ''.join(reversed(str1))\n",
    "    return str1\n",
    "\n",
    "print(reverse_string('abcd'))\n",
    "print(reverse_string('python'))\n"
   ]
  },
  {
   "cell_type": "code",
   "execution_count": 10,
   "id": "a544b22a",
   "metadata": {},
   "outputs": [
    {
     "name": "stdout",
     "output_type": "stream",
     "text": [
      "https://www.w3resource.com/python-exercises\n",
      "https://www.w3resource.com/python\n"
     ]
    }
   ],
   "source": [
    "str1 = 'https://www.w3resource.com/python-exercises/string'\n",
    "print(str1.rsplit('/', 1)[0])\n",
    "print(str1.rsplit('-', 1)[0])\n"
   ]
  },
  {
   "cell_type": "code",
   "execution_count": 11,
   "id": "cc842c3e",
   "metadata": {},
   "outputs": [
    {
     "name": "stdout",
     "output_type": "stream",
     "text": [
      "ipy\n",
      "pyt\n",
      "py\n"
     ]
    }
   ],
   "source": [
    "def first_three(str):\n",
    "\treturn str[:3] if len(str) > 3 else str\n",
    "\n",
    "print(first_three('ipy'))\n",
    "print(first_three('python'))\n",
    "print(first_three('py'))\n"
   ]
  },
  {
   "cell_type": "code",
   "execution_count": 12,
   "id": "e05ed6f1",
   "metadata": {},
   "outputs": [
    {
     "name": "stdout",
     "output_type": "stream",
     "text": [
      "onononon\n",
      "eseseses\n"
     ]
    }
   ],
   "source": [
    "def insert_end(str):\n",
    "\tsub_str = str[-2:]\n",
    "\treturn sub_str * 4\n",
    "\n",
    "print(insert_end('Python'))\n",
    "print(insert_end('Exercises'))\n"
   ]
  },
  {
   "cell_type": "code",
   "execution_count": 13,
   "id": "f8513554",
   "metadata": {},
   "outputs": [
    {
     "name": "stdout",
     "output_type": "stream",
     "text": [
      "[[Python]]\n",
      "{{PHP}}\n",
      "<<HTML>>\n"
     ]
    }
   ],
   "source": [
    "def insert_sting_middle(str, word):\n",
    "\treturn str[:2] + word + str[2:]\n",
    "\n",
    "print(insert_sting_middle('[[]]', 'Python'))\n",
    "print(insert_sting_middle('{{}}', 'PHP'))\n",
    "print(insert_sting_middle('<<>>', 'HTML'))\n"
   ]
  },
  {
   "cell_type": "code",
   "execution_count": 14,
   "id": "b20df177",
   "metadata": {},
   "outputs": [
    {
     "name": "stdout",
     "output_type": "stream",
     "text": [
      "<i>Python</i>\n",
      "<b>Python Tutorial</b>\n"
     ]
    }
   ],
   "source": [
    "def add_tags(tag, word):\n",
    "\treturn \"<%s>%s</%s>\" % (tag, word, tag)\n",
    "print(add_tags('i', 'Python'))\n",
    "print(add_tags('b', 'Python Tutorial'))\n"
   ]
  },
  {
   "cell_type": "code",
   "execution_count": 15,
   "id": "1e135b14",
   "metadata": {},
   "outputs": [
    {
     "name": "stdout",
     "output_type": "stream",
     "text": [
      "Input comma separated sequence of wordsMLV PRASAFD DCSD\n",
      "MLV PRASAFD DCSD\n"
     ]
    }
   ],
   "source": [
    "items = input(\"Input comma separated sequence of words\")\n",
    "words = [word for word in items.split(\",\")]\n",
    "print(\",\".join(sorted(list(set(words)))))\n"
   ]
  },
  {
   "cell_type": "code",
   "execution_count": 16,
   "id": "2983130b",
   "metadata": {},
   "outputs": [
    {
     "name": "stdout",
     "output_type": "stream",
     "text": [
      "What's your favourite language? scsd\n",
      "My favourite language is  SCSD\n",
      "My favourite language is  scsd\n"
     ]
    }
   ],
   "source": [
    "user_input = input(\"What's your favourite language? \")\n",
    "print(\"My favourite language is \", user_input.upper())\n",
    "print(\"My favourite language is \", user_input.lower())\n"
   ]
  },
  {
   "cell_type": "code",
   "execution_count": 19,
   "id": "8d53aba1",
   "metadata": {},
   "outputs": [
    {
     "name": "stdout",
     "output_type": "stream",
     "text": [
      "{'the': 2, 'quick': 1, 'brown': 1, 'fox': 1, 'jumps': 1, 'over': 1, 'lazy': 1, 'dog.': 1}\n"
     ]
    }
   ],
   "source": [
    "def word_count(str):\n",
    "    counts = dict()\n",
    "    words = str.split()\n",
    "\n",
    "    for word in words:\n",
    "        if word in counts:\n",
    "            counts[word] += 1\n",
    "        else:\n",
    "            counts[word] = 1\n",
    "\n",
    "    return counts\n",
    "\n",
    "print( word_count('the quick brown fox jumps over the lazy dog.'))\n"
   ]
  },
  {
   "cell_type": "code",
   "execution_count": 21,
   "id": "d7aabf8f",
   "metadata": {},
   "outputs": [
    {
     "name": "stdout",
     "output_type": "stream",
     "text": [
      "ace\n",
      "pto\n"
     ]
    }
   ],
   "source": [
    "def odd_values_string(str):\n",
    "  result = \"\" \n",
    "  for i in range(len(str)):\n",
    "    if i % 2 == 0:\n",
    "      result = result + str[i]\n",
    "  return result\n",
    "\n",
    "print(odd_values_string('abcdef'))\n",
    "print(odd_values_string('python'))\n"
   ]
  },
  {
   "cell_type": "code",
   "execution_count": 22,
   "id": "10f15128",
   "metadata": {},
   "outputs": [
    {
     "name": "stdout",
     "output_type": "stream",
     "text": [
      "mlv\n"
     ]
    }
   ],
   "source": [
    "print(\"mlv\")"
   ]
  },
  {
   "cell_type": "code",
   "execution_count": 23,
   "id": "74c5a2ac",
   "metadata": {},
   "outputs": [
    {
     "name": "stdout",
     "output_type": "stream",
     "text": [
      "dbca\n",
      "52341\n"
     ]
    }
   ],
   "source": [
    "def change_sring(str1):\n",
    "      return str1[-1:] + str1[1:-1] + str1[:1]\n",
    "\t  \n",
    "print(change_sring('abcd'))\n",
    "print(change_sring('12345'))\n"
   ]
  },
  {
   "cell_type": "code",
   "execution_count": 24,
   "id": "1fc76cf4",
   "metadata": {},
   "outputs": [
    {
     "name": "stdout",
     "output_type": "stream",
     "text": [
      "ython\n",
      "Pyton\n",
      "Pytho\n"
     ]
    }
   ],
   "source": [
    "def remove_char(str, n):\n",
    "      first_part = str[:n] \n",
    "      last_part = str[n+1:]\n",
    "      return first_part + last_part\n",
    "print(remove_char('Python', 0))\n",
    "print(remove_char('Python', 3))\n",
    "print(remove_char('Python', 5))\n"
   ]
  },
  {
   "cell_type": "code",
   "execution_count": 25,
   "id": "c5122d2d",
   "metadata": {},
   "outputs": [
    {
     "name": "stdout",
     "output_type": "stream",
     "text": [
      "\n",
      "Longest word:  Exercises\n",
      "Length of the longest word:  9\n"
     ]
    }
   ],
   "source": [
    "def find_longest_word(words_list):\n",
    "    word_len = []\n",
    "    for n in words_list:\n",
    "        word_len.append((len(n), n))\n",
    "    word_len.sort()\n",
    "    return word_len[-1][0], word_len[-1][1]\n",
    "result = find_longest_word([\"PHP\", \"Exercises\", \"Backend\"])\n",
    "print(\"\\nLongest word: \",result[1])\n",
    "print(\"Length of the longest word: \",result[0])\n"
   ]
  },
  {
   "cell_type": "code",
   "execution_count": 26,
   "id": "7c02ad8f",
   "metadata": {},
   "outputs": [
    {
     "name": "stdout",
     "output_type": "stream",
     "text": [
      "The lyrics is good!\n",
      "The lyrics is poor!\n"
     ]
    }
   ],
   "source": [
    "def not_poor(str1):\n",
    "  snot = str1.find('not')\n",
    "  spoor = str1.find('poor')\n",
    "  \n",
    "\n",
    "  if spoor > snot and snot>0 and spoor>0:\n",
    "    str1 = str1.replace(str1[snot:(spoor+4)], 'good')\n",
    "    return str1\n",
    "  else:\n",
    "    return str1\n",
    "print(not_poor('The lyrics is not that poor!'))\n",
    "print(not_poor('The lyrics is poor!'))\n"
   ]
  },
  {
   "cell_type": "code",
   "execution_count": 27,
   "id": "a1ad1273",
   "metadata": {},
   "outputs": [
    {
     "name": "stdout",
     "output_type": "stream",
     "text": [
      "ab\n",
      "abcing\n",
      "stringly\n"
     ]
    }
   ],
   "source": [
    "def add_string(str1):\n",
    "  length = len(str1)\n",
    "\n",
    "  if length > 2:\n",
    "    if str1[-3:] == 'ing':\n",
    "      str1 += 'ly'\n",
    "    else:\n",
    "      str1 += 'ing'\n",
    "\n",
    "  return str1\n",
    "print(add_string('ab'))\n",
    "print(add_string('abc'))\n",
    "print(add_string('string'))\n"
   ]
  },
  {
   "cell_type": "code",
   "execution_count": 28,
   "id": "b65d86d0",
   "metadata": {},
   "outputs": [
    {
     "name": "stdout",
     "output_type": "stream",
     "text": [
      "xyc abz\n"
     ]
    }
   ],
   "source": [
    "def chars_mix_up(a, b):\n",
    "  new_a = b[:2] + a[2:]\n",
    "  new_b = a[:2] + b[2:]\n",
    "\n",
    "  return new_a + ' ' + new_b\n",
    "print(chars_mix_up('abc', 'xyz'))\n"
   ]
  },
  {
   "cell_type": "code",
   "execution_count": 29,
   "id": "578069b3",
   "metadata": {},
   "outputs": [
    {
     "name": "stdout",
     "output_type": "stream",
     "text": [
      "resta$t\n"
     ]
    }
   ],
   "source": [
    "def change_char(str1):\n",
    "  char = str1[0]\n",
    "  str1 = str1.replace(char, '$')\n",
    "  str1 = char + str1[1:]\n",
    "\n",
    "  return str1\n",
    "\n",
    "print(change_char('restart'))\n"
   ]
  },
  {
   "cell_type": "code",
   "execution_count": 30,
   "id": "2fa98851",
   "metadata": {},
   "outputs": [
    {
     "name": "stdout",
     "output_type": "stream",
     "text": [
      "w3ce\n",
      "w3w3\n",
      "\n"
     ]
    }
   ],
   "source": [
    "def string_both_ends(str):\n",
    "  if len(str) < 2:\n",
    "    return ''\n",
    "\n",
    "  return str[0:2] + str[-2:]\n",
    "\n",
    "print(string_both_ends('w3resource'))\n",
    "print(string_both_ends('w3'))\n",
    "print(string_both_ends('w'))\n"
   ]
  },
  {
   "cell_type": "code",
   "execution_count": 31,
   "id": "852abac3",
   "metadata": {},
   "outputs": [
    {
     "name": "stdout",
     "output_type": "stream",
     "text": [
      "{'g': 2, 'o': 3, 'l': 1, 'e': 1, '.': 1, 'c': 1, 'm': 1}\n"
     ]
    }
   ],
   "source": [
    "def char_frequency(str1):\n",
    "    dict = {}\n",
    "    for n in str1:\n",
    "        keys = dict.keys()\n",
    "        if n in keys:\n",
    "            dict[n] += 1\n",
    "        else:\n",
    "            dict[n] = 1\n",
    "    return dict\n",
    "print(char_frequency('google.com'))\n"
   ]
  },
  {
   "cell_type": "code",
   "execution_count": 32,
   "id": "9ef2b0c5",
   "metadata": {},
   "outputs": [
    {
     "name": "stdout",
     "output_type": "stream",
     "text": [
      "14\n"
     ]
    }
   ],
   "source": [
    "def string_length(str1):\n",
    "    count = 0\n",
    "    for char in str1:\n",
    "        count += 1\n",
    "    return count\n",
    "print(string_length('w3resource.com'))\n"
   ]
  },
  {
   "cell_type": "code",
   "execution_count": 33,
   "id": "7421b3bd",
   "metadata": {},
   "outputs": [
    {
     "name": "stdout",
     "output_type": "stream",
     "text": [
      "w3resource\n",
      "abc\n"
     ]
    }
   ],
   "source": [
    "def remove_spaces(str1):\n",
    "  str1 = str1.replace(' ','')\n",
    "  return str1\n",
    "    \n",
    "print(remove_spaces(\"w 3 res ou r ce\"))\n",
    "print(remove_spaces(\"a b c\"))\n"
   ]
  },
  {
   "cell_type": "code",
   "execution_count": 34,
   "id": "565def14",
   "metadata": {},
   "outputs": [
    {
     "name": "stdout",
     "output_type": "stream",
     "text": [
      "('of', 4)\n"
     ]
    }
   ],
   "source": [
    "def word_count(str):\n",
    "    counts = dict()\n",
    "    words = str.split()\n",
    "\n",
    "    for word in words:\n",
    "        if word in counts:\n",
    "            counts[word] += 1\n",
    "        else:\n",
    "            counts[word] = 1\n",
    "\n",
    "    counts_x = sorted(counts.items(), key=lambda kv: kv[1])\n",
    "    #print(counts_x)\n",
    "    return counts_x[-2]\n",
    " \n",
    "print(word_count(\"Both of these issues are fixed by postponing the evaluation of annotations. Instead of compiling code which executes expressions in annotations at their definition time, the compiler stores the annotation in a string form equivalent to the AST of the expression in question. If needed, annotations can be resolved at runtime using typing.get_type_hints(). In the common case where this is not required, the annotations are cheaper to store (since short strings are interned by the interpreter) and make startup time faster.\"))\n"
   ]
  },
  {
   "cell_type": "code",
   "execution_count": 35,
   "id": "11269260",
   "metadata": {},
   "outputs": [
    {
     "name": "stdout",
     "output_type": "stream",
     "text": [
      "ab\n",
      "ab\n",
      "ca\n",
      "None\n"
     ]
    }
   ],
   "source": [
    "def first_repeated_word(str1):\n",
    "  temp = set()\n",
    "  for word in str1.split():\n",
    "    if word in temp:\n",
    "      return word;\n",
    "    else:\n",
    "      temp.add(word)\n",
    "  return 'None'\n",
    "print(first_repeated_word(\"ab ca bc ab\"))\n",
    "print(first_repeated_word(\"ab ca bc ab ca ab bc\"))\n",
    "print(first_repeated_word(\"ab ca bc ca ab bc\"))\n",
    "print(first_repeated_word(\"ab ca bc\"))\n"
   ]
  },
  {
   "cell_type": "code",
   "execution_count": 38,
   "id": "2b8f9d10",
   "metadata": {},
   "outputs": [
    {
     "name": "stdout",
     "output_type": "stream",
     "text": [
      "('a', 0)\n",
      "('b', 1)\n",
      "('c', 2)\n",
      "('x', 3)\n",
      "None\n"
     ]
    }
   ],
   "source": [
    "def first_repeated_char_smallest_distance(str1):\n",
    "  temp = {}\n",
    "  for ch in str1:\n",
    "    if ch in temp:\n",
    "      return ch, str1.index(ch);\n",
    "    else:\n",
    "      temp[ch] = 0\n",
    "  return 'None'\n",
    "print(first_repeated_char_smallest_distance(\"abcabc\"))\n",
    "print(first_repeated_char_smallest_distance(\"abcb\"))\n",
    "print(first_repeated_char_smallest_distance(\"abcc\"))\n",
    "print(first_repeated_char_smallest_distance(\"abcxxy\"))\n",
    "print(first_repeated_char_smallest_distance(\"abc\"))\n"
   ]
  },
  {
   "cell_type": "code",
   "execution_count": 39,
   "id": "0add8495",
   "metadata": {},
   "outputs": [
    {
     "name": "stdout",
     "output_type": "stream",
     "text": [
      "a\n",
      "None\n"
     ]
    }
   ],
   "source": [
    "def first_repeated_char(str1):\n",
    "  for index,c in enumerate(str1):\n",
    "    if str1[:index+1].count(c) > 1:\n",
    "      return c \n",
    "  return \"None\"\n",
    "\n",
    "print(first_repeated_char(\"abcdabcd\"))\n",
    "print(first_repeated_char(\"abcd\"))\n"
   ]
  },
  {
   "cell_type": "code",
   "execution_count": 40,
   "id": "d13baf09",
   "metadata": {},
   "outputs": [
    {
     "name": "stdout",
     "output_type": "stream",
     "text": [
      "[('x', 'x', 'x'), ('x', 'x', 'y'), ('x', 'x', 'z'), ('x', 'y', 'x'), ('x', 'y', 'y'), ('x', 'y', 'z'), ('x', 'z', 'x'), ('x', 'z', 'y'), ('x', 'z', 'z'), ('y', 'x', 'x'), ('y', 'x', 'y'), ('y', 'x', 'z'), ('y', 'y', 'x'), ('y', 'y', 'y'), ('y', 'y', 'z'), ('y', 'z', 'x'), ('y', 'z', 'y'), ('y', 'z', 'z'), ('z', 'x', 'x'), ('z', 'x', 'y'), ('z', 'x', 'z'), ('z', 'y', 'x'), ('z', 'y', 'y'), ('z', 'y', 'z'), ('z', 'z', 'x'), ('z', 'z', 'y'), ('z', 'z', 'z')]\n",
      "[('x', 'x'), ('x', 'y'), ('x', 'z'), ('y', 'x'), ('y', 'y'), ('y', 'z'), ('z', 'x'), ('z', 'y'), ('z', 'z')]\n",
      "[('a', 'a', 'a', 'a'), ('a', 'a', 'a', 'b'), ('a', 'a', 'a', 'c'), ('a', 'a', 'a', 'd'), ('a', 'a', 'b', 'a'), ('a', 'a', 'b', 'b'), ('a', 'a', 'b', 'c'), ('a', 'a', 'b', 'd'), ('a', 'a', 'c', 'a'), ('a', 'a', 'c', 'b'), ('a', 'a', 'c', 'c'), ('a', 'a', 'c', 'd'), ('a', 'a', 'd', 'a'), ('a', 'a', 'd', 'b'), ('a', 'a', 'd', 'c'), ('a', 'a', 'd', 'd'), ('a', 'b', 'a', 'a'), ('a', 'b', 'a', 'b'), ('a', 'b', 'a', 'c'), ('a', 'b', 'a', 'd'), ('a', 'b', 'b', 'a'), ('a', 'b', 'b', 'b'), ('a', 'b', 'b', 'c'), ('a', 'b', 'b', 'd'), ('a', 'b', 'c', 'a'), ('a', 'b', 'c', 'b'), ('a', 'b', 'c', 'c'), ('a', 'b', 'c', 'd'), ('a', 'b', 'd', 'a'), ('a', 'b', 'd', 'b'), ('a', 'b', 'd', 'c'), ('a', 'b', 'd', 'd'), ('a', 'c', 'a', 'a'), ('a', 'c', 'a', 'b'), ('a', 'c', 'a', 'c'), ('a', 'c', 'a', 'd'), ('a', 'c', 'b', 'a'), ('a', 'c', 'b', 'b'), ('a', 'c', 'b', 'c'), ('a', 'c', 'b', 'd'), ('a', 'c', 'c', 'a'), ('a', 'c', 'c', 'b'), ('a', 'c', 'c', 'c'), ('a', 'c', 'c', 'd'), ('a', 'c', 'd', 'a'), ('a', 'c', 'd', 'b'), ('a', 'c', 'd', 'c'), ('a', 'c', 'd', 'd'), ('a', 'd', 'a', 'a'), ('a', 'd', 'a', 'b'), ('a', 'd', 'a', 'c'), ('a', 'd', 'a', 'd'), ('a', 'd', 'b', 'a'), ('a', 'd', 'b', 'b'), ('a', 'd', 'b', 'c'), ('a', 'd', 'b', 'd'), ('a', 'd', 'c', 'a'), ('a', 'd', 'c', 'b'), ('a', 'd', 'c', 'c'), ('a', 'd', 'c', 'd'), ('a', 'd', 'd', 'a'), ('a', 'd', 'd', 'b'), ('a', 'd', 'd', 'c'), ('a', 'd', 'd', 'd'), ('b', 'a', 'a', 'a'), ('b', 'a', 'a', 'b'), ('b', 'a', 'a', 'c'), ('b', 'a', 'a', 'd'), ('b', 'a', 'b', 'a'), ('b', 'a', 'b', 'b'), ('b', 'a', 'b', 'c'), ('b', 'a', 'b', 'd'), ('b', 'a', 'c', 'a'), ('b', 'a', 'c', 'b'), ('b', 'a', 'c', 'c'), ('b', 'a', 'c', 'd'), ('b', 'a', 'd', 'a'), ('b', 'a', 'd', 'b'), ('b', 'a', 'd', 'c'), ('b', 'a', 'd', 'd'), ('b', 'b', 'a', 'a'), ('b', 'b', 'a', 'b'), ('b', 'b', 'a', 'c'), ('b', 'b', 'a', 'd'), ('b', 'b', 'b', 'a'), ('b', 'b', 'b', 'b'), ('b', 'b', 'b', 'c'), ('b', 'b', 'b', 'd'), ('b', 'b', 'c', 'a'), ('b', 'b', 'c', 'b'), ('b', 'b', 'c', 'c'), ('b', 'b', 'c', 'd'), ('b', 'b', 'd', 'a'), ('b', 'b', 'd', 'b'), ('b', 'b', 'd', 'c'), ('b', 'b', 'd', 'd'), ('b', 'c', 'a', 'a'), ('b', 'c', 'a', 'b'), ('b', 'c', 'a', 'c'), ('b', 'c', 'a', 'd'), ('b', 'c', 'b', 'a'), ('b', 'c', 'b', 'b'), ('b', 'c', 'b', 'c'), ('b', 'c', 'b', 'd'), ('b', 'c', 'c', 'a'), ('b', 'c', 'c', 'b'), ('b', 'c', 'c', 'c'), ('b', 'c', 'c', 'd'), ('b', 'c', 'd', 'a'), ('b', 'c', 'd', 'b'), ('b', 'c', 'd', 'c'), ('b', 'c', 'd', 'd'), ('b', 'd', 'a', 'a'), ('b', 'd', 'a', 'b'), ('b', 'd', 'a', 'c'), ('b', 'd', 'a', 'd'), ('b', 'd', 'b', 'a'), ('b', 'd', 'b', 'b'), ('b', 'd', 'b', 'c'), ('b', 'd', 'b', 'd'), ('b', 'd', 'c', 'a'), ('b', 'd', 'c', 'b'), ('b', 'd', 'c', 'c'), ('b', 'd', 'c', 'd'), ('b', 'd', 'd', 'a'), ('b', 'd', 'd', 'b'), ('b', 'd', 'd', 'c'), ('b', 'd', 'd', 'd'), ('c', 'a', 'a', 'a'), ('c', 'a', 'a', 'b'), ('c', 'a', 'a', 'c'), ('c', 'a', 'a', 'd'), ('c', 'a', 'b', 'a'), ('c', 'a', 'b', 'b'), ('c', 'a', 'b', 'c'), ('c', 'a', 'b', 'd'), ('c', 'a', 'c', 'a'), ('c', 'a', 'c', 'b'), ('c', 'a', 'c', 'c'), ('c', 'a', 'c', 'd'), ('c', 'a', 'd', 'a'), ('c', 'a', 'd', 'b'), ('c', 'a', 'd', 'c'), ('c', 'a', 'd', 'd'), ('c', 'b', 'a', 'a'), ('c', 'b', 'a', 'b'), ('c', 'b', 'a', 'c'), ('c', 'b', 'a', 'd'), ('c', 'b', 'b', 'a'), ('c', 'b', 'b', 'b'), ('c', 'b', 'b', 'c'), ('c', 'b', 'b', 'd'), ('c', 'b', 'c', 'a'), ('c', 'b', 'c', 'b'), ('c', 'b', 'c', 'c'), ('c', 'b', 'c', 'd'), ('c', 'b', 'd', 'a'), ('c', 'b', 'd', 'b'), ('c', 'b', 'd', 'c'), ('c', 'b', 'd', 'd'), ('c', 'c', 'a', 'a'), ('c', 'c', 'a', 'b'), ('c', 'c', 'a', 'c'), ('c', 'c', 'a', 'd'), ('c', 'c', 'b', 'a'), ('c', 'c', 'b', 'b'), ('c', 'c', 'b', 'c'), ('c', 'c', 'b', 'd'), ('c', 'c', 'c', 'a'), ('c', 'c', 'c', 'b'), ('c', 'c', 'c', 'c'), ('c', 'c', 'c', 'd'), ('c', 'c', 'd', 'a'), ('c', 'c', 'd', 'b'), ('c', 'c', 'd', 'c'), ('c', 'c', 'd', 'd'), ('c', 'd', 'a', 'a'), ('c', 'd', 'a', 'b'), ('c', 'd', 'a', 'c'), ('c', 'd', 'a', 'd'), ('c', 'd', 'b', 'a'), ('c', 'd', 'b', 'b'), ('c', 'd', 'b', 'c'), ('c', 'd', 'b', 'd'), ('c', 'd', 'c', 'a'), ('c', 'd', 'c', 'b'), ('c', 'd', 'c', 'c'), ('c', 'd', 'c', 'd'), ('c', 'd', 'd', 'a'), ('c', 'd', 'd', 'b'), ('c', 'd', 'd', 'c'), ('c', 'd', 'd', 'd'), ('d', 'a', 'a', 'a'), ('d', 'a', 'a', 'b'), ('d', 'a', 'a', 'c'), ('d', 'a', 'a', 'd'), ('d', 'a', 'b', 'a'), ('d', 'a', 'b', 'b'), ('d', 'a', 'b', 'c'), ('d', 'a', 'b', 'd'), ('d', 'a', 'c', 'a'), ('d', 'a', 'c', 'b'), ('d', 'a', 'c', 'c'), ('d', 'a', 'c', 'd'), ('d', 'a', 'd', 'a'), ('d', 'a', 'd', 'b'), ('d', 'a', 'd', 'c'), ('d', 'a', 'd', 'd'), ('d', 'b', 'a', 'a'), ('d', 'b', 'a', 'b'), ('d', 'b', 'a', 'c'), ('d', 'b', 'a', 'd'), ('d', 'b', 'b', 'a'), ('d', 'b', 'b', 'b'), ('d', 'b', 'b', 'c'), ('d', 'b', 'b', 'd'), ('d', 'b', 'c', 'a'), ('d', 'b', 'c', 'b'), ('d', 'b', 'c', 'c'), ('d', 'b', 'c', 'd'), ('d', 'b', 'd', 'a'), ('d', 'b', 'd', 'b'), ('d', 'b', 'd', 'c'), ('d', 'b', 'd', 'd'), ('d', 'c', 'a', 'a'), ('d', 'c', 'a', 'b'), ('d', 'c', 'a', 'c'), ('d', 'c', 'a', 'd'), ('d', 'c', 'b', 'a'), ('d', 'c', 'b', 'b'), ('d', 'c', 'b', 'c'), ('d', 'c', 'b', 'd'), ('d', 'c', 'c', 'a'), ('d', 'c', 'c', 'b'), ('d', 'c', 'c', 'c'), ('d', 'c', 'c', 'd'), ('d', 'c', 'd', 'a'), ('d', 'c', 'd', 'b'), ('d', 'c', 'd', 'c'), ('d', 'c', 'd', 'd'), ('d', 'd', 'a', 'a'), ('d', 'd', 'a', 'b'), ('d', 'd', 'a', 'c'), ('d', 'd', 'a', 'd'), ('d', 'd', 'b', 'a'), ('d', 'd', 'b', 'b'), ('d', 'd', 'b', 'c'), ('d', 'd', 'b', 'd'), ('d', 'd', 'c', 'a'), ('d', 'd', 'c', 'b'), ('d', 'd', 'c', 'c'), ('d', 'd', 'c', 'd'), ('d', 'd', 'd', 'a'), ('d', 'd', 'd', 'b'), ('d', 'd', 'd', 'c'), ('d', 'd', 'd', 'd')]\n"
     ]
    }
   ],
   "source": [
    "from itertools import product\n",
    "def all_repeat(str1, rno):\n",
    "  chars = list(str1)\n",
    "  results = []\n",
    "  for c in product(chars, repeat = rno):\n",
    "    results.append(c)\n",
    "  return results\n",
    "print(all_repeat('xyz', 3))\n",
    "print(all_repeat('xyz', 2))\n",
    "print(all_repeat('abcd', 4))\n"
   ]
  },
  {
   "cell_type": "code",
   "execution_count": 41,
   "id": "89b7d10f",
   "metadata": {},
   "outputs": [
    {
     "name": "stdout",
     "output_type": "stream",
     "text": [
      "a\n",
      "d\n",
      "None\n"
     ]
    }
   ],
   "source": [
    "def first_non_repeating_character(str1):\n",
    "  char_order = []\n",
    "  ctr = {}\n",
    "  for c in str1:\n",
    "    if c in ctr:\n",
    "      ctr[c] += 1\n",
    "    else:\n",
    "      ctr[c] = 1 \n",
    "      char_order.append(c)\n",
    "  for c in char_order:\n",
    "    if ctr[c] == 1:\n",
    "      return c\n",
    "  return None\n",
    "\n",
    "print(first_non_repeating_character('abcdef'))\n",
    "print(first_non_repeating_character('abcabcdef'))\n",
    "print(first_non_repeating_character('aabbcc'))\n"
   ]
  },
  {
   "cell_type": "code",
   "execution_count": 42,
   "id": "88f5ed77",
   "metadata": {},
   "outputs": [
    {
     "name": "stdout",
     "output_type": "stream",
     "text": [
      "['w,3,r,e,s,o,u,r,c', 'e']\n",
      "['w,3,r,e,s,o,u,r', 'c', 'e']\n",
      "['w,3,r,e,s', 'o', 'u', 'r', 'c', 'e']\n"
     ]
    }
   ],
   "source": [
    "str1 = \"w,3,r,e,s,o,u,r,c,e\"\n",
    "print(str1.rsplit(',', 1))\n",
    "print(str1.rsplit(',', 2))\n",
    "print(str1.rsplit(',', 5))\n"
   ]
  },
  {
   "cell_type": "code",
   "execution_count": 43,
   "id": "edd32d42",
   "metadata": {},
   "outputs": [
    {
     "name": "stdout",
     "output_type": "stream",
     "text": [
      "4\n",
      "['e', 'o', 'u', 'e']\n"
     ]
    }
   ],
   "source": [
    "def vowel(text):\n",
    "    vowels = \"aeiuoAEIOU\"\n",
    "    print(len([letter for letter in text if letter in vowels]))\n",
    "    print([letter for letter in text if letter in vowels])\n",
    "vowel('w3resource');\n"
   ]
  },
  {
   "cell_type": "code",
   "execution_count": 44,
   "id": "f426832e",
   "metadata": {},
   "outputs": [
    {
     "name": "stdout",
     "output_type": "stream",
     "text": [
      "32,054.23\n"
     ]
    }
   ],
   "source": [
    "amount = \"32.054,23\"\n",
    "maketrans = amount.maketrans\n",
    "amount = amount.translate(maketrans(',.', '.,'))\n",
    "print(amount)\n"
   ]
  },
  {
   "cell_type": "code",
   "execution_count": 45,
   "id": "30012cb4",
   "metadata": {},
   "outputs": [
    {
     "name": "stdout",
     "output_type": "stream",
     "text": [
      "w3reSOURCE.COM\n"
     ]
    }
   ],
   "source": [
    "str1 = 'W3RESOURCE.COM'\n",
    "print(str1[:4].lower() + str1[4:])\n"
   ]
  },
  {
   "cell_type": "code",
   "execution_count": 46,
   "id": "ca82e59f",
   "metadata": {},
   "outputs": [
    {
     "name": "stdout",
     "output_type": "stream",
     "text": [
      "['The', 'quick', 'brown', 'fox', 'jumps', 'over', 'the', 'lazy', 'dog.']\n",
      "['The', 'quick', 'brown', 'fox', 'jumps', 'over', 'the', 'lazy', 'dog.']\n"
     ]
    }
   ],
   "source": [
    "str1 = \"The quick brown fox jumps over the lazy dog.\"\n",
    "print(str1.split(' '))\n",
    "str1 = \"The-quick-brown-fox-jumps-over-the-lazy-dog.\"\n",
    "print(str1.split('-'))\n"
   ]
  },
  {
   "cell_type": "code",
   "execution_count": 47,
   "id": "4e7ce687",
   "metadata": {},
   "outputs": [
    {
     "name": "stdout",
     "output_type": "stream",
     "text": [
      "True\n",
      "False\n"
     ]
    }
   ],
   "source": [
    "import string\n",
    "alphabet = set(string.ascii_lowercase)\n",
    "input_string = 'The quick brown fox jumps over the lazy dog'\n",
    "print(set(input_string.lower()) >= alphabet)\n",
    "input_string = 'The quick brown fox jumps over the lazy cat'\n",
    "print(set(input_string.lower()) >= alphabet)\n"
   ]
  },
  {
   "cell_type": "code",
   "execution_count": 48,
   "id": "9a4494f0",
   "metadata": {},
   "outputs": [
    {
     "name": "stdout",
     "output_type": "stream",
     "text": [
      "Current character w position at 0\n",
      "Current character 3 position at 1\n",
      "Current character r position at 2\n",
      "Current character e position at 3\n",
      "Current character s position at 4\n",
      "Current character o position at 5\n",
      "Current character u position at 6\n",
      "Current character r position at 7\n",
      "Current character c position at 8\n",
      "Current character e position at 9\n"
     ]
    }
   ],
   "source": [
    "str1 = \"w3resource\"\n",
    "for index, char in enumerate(str1):\n",
    "    print(\"Current character\", char, \"position at\", index )\n"
   ]
  },
  {
   "cell_type": "code",
   "execution_count": 49,
   "id": "5f0e01d5",
   "metadata": {},
   "outputs": [
    {
     "name": "stdout",
     "output_type": "stream",
     "text": [
      "The area of the rectangle is 1256.66cm²\n",
      "The volume of the cylinder is 1254.725cm³\n"
     ]
    }
   ],
   "source": [
    "area = 1256.66\n",
    "volume = 1254.725\n",
    "decimals = 2\n",
    "print(\"The area of the rectangle is {0:.{1}f}cm\\u00b2\".format(area, decimals))\n",
    "decimals = 3\n",
    "print(\"The volume of the cylinder is {0:.{1}f}cm\\u00b3\".format(volume, decimals))\n"
   ]
  },
  {
   "cell_type": "code",
   "execution_count": 50,
   "id": "89f48b07",
   "metadata": {},
   "outputs": [
    {
     "name": "stdout",
     "output_type": "stream",
     "text": [
      "o 4\n",
      "e 3\n",
      "t 2\n",
      "h 2\n",
      "u 2\n",
      "r 2\n"
     ]
    }
   ],
   "source": [
    "import collections\n",
    "str1 = 'thequickbrownfoxjumpsoverthelazydog'\n",
    "d = collections.defaultdict(int)\n",
    "for c in str1:\n",
    "    d[c] += 1\n",
    "\n",
    "for c in sorted(d, key=d.get, reverse=True):\n",
    "  if d[c] > 1:\n",
    "      print('%s %d' % (c, d[c]))\n"
   ]
  },
  {
   "cell_type": "code",
   "execution_count": 51,
   "id": "069e42d1",
   "metadata": {},
   "outputs": [
    {
     "name": "stdout",
     "output_type": "stream",
     "text": [
      "\n",
      "Original String: \n",
      "The quick brown fox jumps over the lazy dog.\n",
      "After stripping a,e,i,o,u\n",
      "Th qck brwn fx jmps vr th lzy dg.\n",
      "\n"
     ]
    }
   ],
   "source": [
    "def strip_chars(str, chars):\n",
    "    return \"\".join(c for c in str if c not in chars)\n",
    "\n",
    "print(\"\\nOriginal String: \")\n",
    "print(\"The quick brown fox jumps over the lazy dog.\")\n",
    "print(\"After stripping a,e,i,o,u\")      \n",
    "print(strip_chars(\"The quick brown fox jumps over the lazy dog.\", \"aeiou\"))\n",
    "print()\n"
   ]
  },
  {
   "cell_type": "code",
   "execution_count": 52,
   "id": "7c2d7632",
   "metadata": {},
   "outputs": [
    {
     "name": "stdout",
     "output_type": "stream",
     "text": [
      "dog. lazy the over jumps fox brown quick The\n",
      "Exercises. Python\n"
     ]
    }
   ],
   "source": [
    "def reverse_string_words(text):\n",
    "    for line in text.split('\\n'):\n",
    "        return(' '.join(line.split()[::-1]))\n",
    "print(reverse_string_words(\"The quick brown fox jumps over the lazy dog.\"))\n",
    "print(reverse_string_words(\"Python Exercises.\"))\n"
   ]
  },
  {
   "cell_type": "code",
   "execution_count": 53,
   "id": "fedc3805",
   "metadata": {},
   "outputs": [
    {
     "name": "stdout",
     "output_type": "stream",
     "text": [
      "\n",
      "fedcba\n",
      ".sesicrexE nohtyP\n",
      "\n"
     ]
    }
   ],
   "source": [
    "def reverse_string(str1):\n",
    "    return ''.join(reversed(str1))\n",
    "print()\n",
    "print(reverse_string(\"abcdef\"))\n",
    "print(reverse_string(\"Python Exercises.\"))\n",
    "print()\n"
   ]
  },
  {
   "cell_type": "code",
   "execution_count": 54,
   "id": "02930032",
   "metadata": {},
   "outputs": [
    {
     "name": "stdout",
     "output_type": "stream",
     "text": [
      "\n",
      "1\n",
      "\n"
     ]
    }
   ],
   "source": [
    "str1 = 'The quick brown fox jumps over the lazy dog.'\n",
    "print()\n",
    "print(str1.count(\"fox\"))\n",
    "print()\n"
   ]
  },
  {
   "cell_type": "code",
   "execution_count": 55,
   "id": "5ff6afa7",
   "metadata": {},
   "outputs": [
    {
     "name": "stdout",
     "output_type": "stream",
     "text": [
      "\n",
      "Original Number:  22\n",
      "Left aligned (width 10)   : 22       \n",
      "Right aligned (width 10)  :        22\n",
      "Center aligned (width 10) :    22    \n",
      "\n"
     ]
    }
   ],
   "source": [
    "x = 22\n",
    "print(\"\\nOriginal Number: \", x)\n",
    "print(\"Left aligned (width 10)   :\"+\"{:< 10d}\".format(x));\n",
    "print(\"Right aligned (width 10)  :\"+\"{:10d}\".format(x));\n",
    "print(\"Center aligned (width 10) :\"+\"{:^10d}\".format(x));\n",
    "print()\n"
   ]
  },
  {
   "cell_type": "code",
   "execution_count": 56,
   "id": "6db26144",
   "metadata": {},
   "outputs": [
    {
     "name": "stdout",
     "output_type": "stream",
     "text": [
      "\n",
      "Original Number:  0.25\n",
      "Formatted Number with percentage: 25.00%\n",
      "Original Number:  -0.25\n",
      "Formatted Number with percentage: -25.00%\n",
      "\n"
     ]
    }
   ],
   "source": [
    "x = 0.25\n",
    "y = -0.25\n",
    "print(\"\\nOriginal Number: \", x)\n",
    "print(\"Formatted Number with percentage: \"+\"{:.2%}\".format(x));\n",
    "print(\"Original Number: \", y)\n",
    "print(\"Formatted Number with percentage: \"+\"{:.2%}\".format(y));\n",
    "print()\n"
   ]
  },
  {
   "cell_type": "code",
   "execution_count": 57,
   "id": "e211a0fb",
   "metadata": {},
   "outputs": [
    {
     "name": "stdout",
     "output_type": "stream",
     "text": [
      "\n",
      "Original Number:  3000000\n",
      "Formatted Number with comma separator: 3,000,000\n",
      "Original Number:  30000000\n",
      "Formatted Number with comma separator: 30,000,000\n",
      "\n"
     ]
    }
   ],
   "source": [
    "x = 3000000\n",
    "y = 30000000\n",
    "print(\"\\nOriginal Number: \", x)\n",
    "print(\"Formatted Number with comma separator: \"+\"{:,}\".format(x));\n",
    "print(\"Original Number: \", y)\n",
    "print(\"Formatted Number with comma separator: \"+\"{:,}\".format(y));\n",
    "print()\n"
   ]
  },
  {
   "cell_type": "code",
   "execution_count": 58,
   "id": "833b931f",
   "metadata": {},
   "outputs": [
    {
     "name": "stdout",
     "output_type": "stream",
     "text": [
      "\n",
      "Original Number:  3\n",
      "Formatted Number(right padding, width 2):  3*\n",
      "Original Number:  123\n",
      "Formatted Number(right padding, width 6):  123***\n",
      "\n"
     ]
    }
   ],
   "source": [
    "x = 3\n",
    "y = 123\n",
    "print(\"\\nOriginal Number: \", x)\n",
    "print(\"Formatted Number(right padding, width 2): \"+\"{:*< 3d}\".format(x));\n",
    "print(\"Original Number: \", y)\n",
    "print(\"Formatted Number(right padding, width 6): \"+\"{:*< 7d}\".format(y));\n",
    "print()\n"
   ]
  },
  {
   "cell_type": "code",
   "execution_count": 59,
   "id": "aedc4e55",
   "metadata": {},
   "outputs": [
    {
     "name": "stdout",
     "output_type": "stream",
     "text": [
      "\n",
      "Original Number:  3\n",
      "Formatted Number(left padding, width 2): 03\n",
      "Original Number:  123\n",
      "Formatted Number(left padding, width 6): 000123\n",
      "\n"
     ]
    }
   ],
   "source": [
    "x = 3\n",
    "y = 123\n",
    "print(\"\\nOriginal Number: \", x)\n",
    "print(\"Formatted Number(left padding, width 2): \"+\"{:0>2d}\".format(x));\n",
    "print(\"Original Number: \", y)\n",
    "print(\"Formatted Number(left padding, width 6): \"+\"{:0>6d}\".format(y));\n",
    "print()\n"
   ]
  },
  {
   "cell_type": "code",
   "execution_count": 60,
   "id": "0f6c4310",
   "metadata": {},
   "outputs": [
    {
     "name": "stdout",
     "output_type": "stream",
     "text": [
      "\n",
      "Original Number:  3.1415926\n",
      "Formatted Number with no decimal places: 3\n",
      "Original Number:  -12.9999\n",
      "Formatted Number with no decimal places: -13\n",
      "\n"
     ]
    }
   ],
   "source": [
    "x = 3.1415926\n",
    "y = -12.9999\n",
    "print(\"\\nOriginal Number: \", x)\n",
    "print(\"Formatted Number with no decimal places: \"+\"{:.0f}\".format(x));\n",
    "print(\"Original Number: \", y)\n",
    "print(\"Formatted Number with no decimal places: \"+\"{:.0f}\".format(y));\n",
    "print()\n"
   ]
  },
  {
   "cell_type": "code",
   "execution_count": 61,
   "id": "42f1118a",
   "metadata": {},
   "outputs": [
    {
     "name": "stdout",
     "output_type": "stream",
     "text": [
      "\n",
      "Original Number:  3.1415926\n",
      "Formatted Number with sign: +3.14\n",
      "Original Number:  -12.9999\n",
      "Formatted Number with sign: -13.00\n",
      "\n"
     ]
    }
   ],
   "source": [
    "x = 3.1415926\n",
    "y = -12.9999\n",
    "print(\"\\nOriginal Number: \", x)\n",
    "print(\"Formatted Number with sign: \"+\"{:+.2f}\".format(x));\n",
    "print(\"Original Number: \", y)\n",
    "print(\"Formatted Number with sign: \"+\"{:+.2f}\".format(y));\n",
    "print()\n"
   ]
  },
  {
   "cell_type": "code",
   "execution_count": 62,
   "id": "aaad6bd7",
   "metadata": {},
   "outputs": [
    {
     "name": "stdout",
     "output_type": "stream",
     "text": [
      "\n",
      "Original Number:  3.1415926\n",
      "Formatted Number: 3.14\n",
      "Original Number:  12.9999\n",
      "Formatted Number: 13.00\n",
      "\n"
     ]
    }
   ],
   "source": [
    "x = 3.1415926\n",
    "y = 12.9999\n",
    "print(\"\\nOriginal Number: \", x)\n",
    "print(\"Formatted Number: \"+\"{:.2f}\".format(x));\n",
    "print(\"Original Number: \", y)\n",
    "print(\"Formatted Number: \"+\"{:.2f}\".format(y));\n",
    "print() \n"
   ]
  },
  {
   "cell_type": "code",
   "execution_count": 63,
   "id": "e3555341",
   "metadata": {},
   "outputs": [
    {
     "name": "stdout",
     "output_type": "stream",
     "text": [
      "\n",
      "Python is a widely used high-level, general-purpose, interpreted, dynamic\n",
      "    programming language. Its design philosophy emphasizes code readability, and\n",
      "    its syntax allows programmers to express concepts in fewer lines of code\n",
      "    than possible in languages such as C++ or Java.\n",
      "\n"
     ]
    }
   ],
   "source": [
    "import textwrap\n",
    "sample_text ='''\n",
    "Python is a widely used high-level, general-purpose, interpreted, dynamic\n",
    "programming language. Its design philosophy emphasizes code readability,\n",
    "and its syntax allows programmers to express concepts in fewer lines of\n",
    "code than possible in languages such as C++ or Java.\n",
    "    '''\n",
    "\n",
    "text1 =  textwrap.dedent(sample_text).strip()\n",
    "print()\n",
    "print(textwrap.fill(text1,\n",
    "                    initial_indent='',\n",
    "                    subsequent_indent=' ' * 4,\n",
    "                    width=80,\n",
    "                    ))\n",
    "print()\n"
   ]
  },
  {
   "cell_type": "code",
   "execution_count": 64,
   "id": "3a82fe23",
   "metadata": {},
   "outputs": [
    {
     "name": "stdout",
     "output_type": "stream",
     "text": [
      "\n",
      ">  Python is a widely used high-level, general-\n",
      "> purpose, interpreted, dynamic programming\n",
      "> language. Its design philosophy emphasizes code\n",
      "> readability, and its syntax allows programmers to\n",
      "> express concepts in fewer lines of code than\n",
      "> possible in languages such as C++ or Java.\n",
      "\n"
     ]
    }
   ],
   "source": [
    "import textwrap\n",
    "sample_text ='''\n",
    "    Python is a widely used high-level, general-purpose, interpreted,\n",
    "    dynamic programming language. Its design philosophy emphasizes\n",
    "    code readability, and its syntax allows programmers to express\n",
    "    concepts in fewer lines of code than possible in languages such\n",
    "    as C++ or Java.\n",
    "    '''\n",
    "text_without_Indentation = textwrap.dedent(sample_text)\n",
    "wrapped = textwrap.fill(text_without_Indentation, width=50)\n",
    "#wrapped += '\\n\\nSecond paragraph after a blank line.'\n",
    "final_result = textwrap.indent(wrapped, '> ')\n",
    "print()\n",
    "print(final_result)\n",
    "print()\n"
   ]
  },
  {
   "cell_type": "code",
   "execution_count": 65,
   "id": "a3d2baac",
   "metadata": {},
   "outputs": [
    {
     "name": "stdout",
     "output_type": "stream",
     "text": [
      "42\n",
      "Error in input!\n",
      "Error in input!\n"
     ]
    }
   ],
   "source": [
    "def test(n1, n2):\n",
    "    n1, n2 = '0' + n1, '0' + n2\n",
    "    if (n1.isnumeric() and n2.isnumeric()):\n",
    "        return str(int(n1) + int(n2))\n",
    "    else:\n",
    "        return 'Error in input!'\n",
    "print(test(\"10\", \"32\"))\n",
    "print(test(\"10\", \"22.6\"))\n",
    "print(test(\"100\", \"-200\")) \n"
   ]
  },
  {
   "cell_type": "code",
   "execution_count": 66,
   "id": "c81f6cd9",
   "metadata": {},
   "outputs": [
    {
     "name": "stdout",
     "output_type": "stream",
     "text": [
      "Original text:\n",
      "Filter out the factorials of the said list.\n",
      "Check whether any word in the said sting contains duplicate characrters or not!\n",
      "False\n",
      "\n",
      "Original text:\n",
      "Python Exercise.\n",
      "Check whether any word in the said sting contains duplicate characrters or not!\n",
      "False\n",
      "\n",
      "Original text:\n",
      "The wait is over.\n",
      "Check whether any word in the said sting contains duplicate characrters or not!\n",
      "True\n"
     ]
    }
   ],
   "source": [
    "def duplicate_letters(text):\n",
    "\tword_list = text.split()\n",
    "\tfor word in word_list:\n",
    "\t\tif len(word) > len(set(word)):\n",
    "\t\t\treturn False\n",
    "\treturn True\n",
    "text = \"Filter out the factorials of the said list.\"\n",
    "print(\"Original text:\")\n",
    "print(text)\n",
    "print(\"Check whether any word in the said sting contains duplicate characrters or not!\")\n",
    "print(duplicate_letters(text))\n",
    "text = \"Python Exercise.\"\n",
    "print(\"\\nOriginal text:\")\n",
    "print(text)\n",
    "print(\"Check whether any word in the said sting contains duplicate characrters or not!\")\n",
    "print(duplicate_letters(text))\n",
    "text = \"The wait is over.\"\n",
    "print(\"\\nOriginal text:\")\n",
    "print(text)\n",
    "print(\"Check whether any word in the said sting contains duplicate characrters or not!\")\n",
    "print(duplicate_letters(text))\n"
   ]
  },
  {
   "cell_type": "code",
   "execution_count": 67,
   "id": "8243427b",
   "metadata": {},
   "outputs": [
    {
     "name": "stdout",
     "output_type": "stream",
     "text": [
      "Original string:\n",
      "This\n",
      "is a\n",
      "multiline\n",
      "string.\n",
      "\n",
      "Split the said multiline string into a list of lines:\n",
      "['This', 'is a', 'multiline', 'string.', '']\n"
     ]
    }
   ],
   "source": [
    "def split_lines(s):\n",
    "  return s.split('\\n')\n",
    "print(\"Original string:\")\n",
    "print(\"This\\nis a\\nmultiline\\nstring.\\n\")\n",
    "print(\"Split the said multiline string into a list of lines:\")\n",
    "print(split_lines('This\\nis a\\nmultiline\\nstring.\\n'))\n"
   ]
  },
  {
   "cell_type": "code",
   "execution_count": 68,
   "id": "20694fa5",
   "metadata": {},
   "outputs": [
    {
     "name": "stdout",
     "output_type": "stream",
     "text": [
      "java Script\n",
      "python\n"
     ]
    }
   ],
   "source": [
    "def decapitalize_first_letter(s, upper_rest = False):\n",
    "  return ''.join([s[:1].lower(), (s[1:].upper() if upper_rest else s[1:])]) \n",
    "print(decapitalize_first_letter('Java Script'))\n",
    "print(decapitalize_first_letter('Python'))\n"
   ]
  },
  {
   "cell_type": "code",
   "execution_count": 69,
   "id": "eddb4f10",
   "metadata": {},
   "outputs": [
    {
     "name": "stdout",
     "output_type": "stream",
     "text": [
      "java_script\n",
      "foo_bar\n",
      "foo_bar\n",
      "foo.bar\n",
      "foo_bar\n",
      "foo_bar\n",
      "foo_bar\n"
     ]
    }
   ],
   "source": [
    "from re import sub\n",
    "def snake_case(s):\n",
    "  return '_'.join(\n",
    "    sub('([A-Z][a-z]+)', r' \\1',\n",
    "    sub('([A-Z]+)', r' \\1',\n",
    "    s.replace('-', ' '))).split()).lower()\n",
    "\n",
    "print(snake_case('JavaScript'))\n",
    "print(snake_case('Foo-Bar'))\n",
    "print(snake_case('foo_bar'))\n",
    "print(snake_case('--foo.bar'))\n",
    "print(snake_case('Foo-BAR'))\n",
    "print(snake_case('fooBAR'))\n",
    "print(snake_case('foo bar'))\n"
   ]
  },
  {
   "cell_type": "code",
   "execution_count": 70,
   "id": "de02dc27",
   "metadata": {},
   "outputs": [
    {
     "name": "stdout",
     "output_type": "stream",
     "text": [
      "javascript\n",
      "fooBar\n",
      "fooBar\n",
      "foo.Bar\n",
      "fooBar\n",
      "foobar\n",
      "fooBar\n"
     ]
    }
   ],
   "source": [
    "from re import sub\n",
    "\n",
    "def camel_case(s):\n",
    "  s = sub(r\"(_|-)+\", \" \", s).title().replace(\" \", \"\")\n",
    "  return ''.join([s[0].lower(), s[1:]])\n",
    "print(camel_case('JavaScript'))\n",
    "print(camel_case('Foo-Bar'))\n",
    "print(camel_case('foo_bar'))\n",
    "print(camel_case('--foo.bar'))\n",
    "print(camel_case('Foo-BAR'))\n",
    "print(camel_case('fooBAR'))\n",
    "print(camel_case('foo bar'))\n"
   ]
  },
  {
   "cell_type": "code",
   "execution_count": 71,
   "id": "ebf5389b",
   "metadata": {},
   "outputs": [
    {
     "name": "stdout",
     "output_type": "stream",
     "text": [
      "FFA501\n",
      "FFFFFF\n",
      "000000\n",
      "000080\n",
      "C0C0C0\n"
     ]
    }
   ],
   "source": [
    "def rgb_to_hex(r, g, b):\n",
    "  return ('{:02X}' * 3).format(r, g, b)\n",
    " \n",
    "print(rgb_to_hex(255, 165, 1))\n",
    "print(rgb_to_hex(255, 255, 255))\n",
    "print(rgb_to_hex(0, 0, 0))\n",
    "print(rgb_to_hex(0, 0, 128))\n",
    "print(rgb_to_hex(192, 192, 192))\n"
   ]
  },
  {
   "cell_type": "code",
   "execution_count": 72,
   "id": "edf1f151",
   "metadata": {},
   "outputs": [
    {
     "name": "stdout",
     "output_type": "stream",
     "text": [
      "(255, 165, 1)\n",
      "(255, 255, 255)\n",
      "(0, 0, 0)\n",
      "(255, 0, 0)\n",
      "(0, 0, 128)\n",
      "(192, 192, 192)\n"
     ]
    }
   ],
   "source": [
    "def hex_to_rgb(hex):\n",
    "  return tuple(int(hex[i:i+2], 16) for i in (0, 2, 4)) \n",
    "print(hex_to_rgb('FFA501'))\n",
    "print(hex_to_rgb('FFFFFF'))\n",
    "print(hex_to_rgb('000000'))\n",
    "print(hex_to_rgb('FF0000'))\n",
    "print(hex_to_rgb('000080'))\n",
    "print(hex_to_rgb('C0C0C0'))\n"
   ]
  },
  {
   "cell_type": "code",
   "execution_count": 73,
   "id": "cb76ea4e",
   "metadata": {},
   "outputs": [
    {
     "name": "stdout",
     "output_type": "stream",
     "text": [
      "Original string: red 12 black 45 green\n",
      "Extract numbers from the said string:\n",
      "[12, 45]\n"
     ]
    }
   ],
   "source": [
    "def test(str1):\n",
    "    result = [int(str1) for str1 in str1.split() if str1.isdigit()]\n",
    "    return result\n",
    "str1 = \"red 12 black 45 green\" \n",
    "print(\"Original string:\", str1) \n",
    "print(\"Extract numbers from the said string:\")\n",
    "print(test(str1))\n"
   ]
  },
  {
   "cell_type": "code",
   "execution_count": 74,
   "id": "fb8ecb50",
   "metadata": {},
   "outputs": [
    {
     "name": "stdout",
     "output_type": "stream",
     "text": [
      "Original string:\n",
      "Python Exercises\n",
      "Python Exercises\n",
      "Similarity between two said strings:\n",
      "1.0\n",
      "\n",
      "Original string:\n",
      "Python Exercises\n",
      "Python Exercise\n",
      "Similarity between two said strings:\n",
      "0.967741935483871\n",
      "\n",
      "Original string:\n",
      "Python Exercises\n",
      "Python Ex.\n",
      "Similarity between two said strings:\n",
      "0.6923076923076923\n",
      "\n",
      "Original string:\n",
      "Python Exercises\n",
      "Python\n",
      "Similarity between two said strings:\n",
      "0.5454545454545454\n",
      "\n",
      "Original string:\n",
      "Java Exercises\n",
      "Python\n",
      "Similarity between two said strings:\n",
      "0.0\n"
     ]
    }
   ],
   "source": [
    "import difflib\n",
    "def string_similarity(str1, str2):\n",
    "    result =  difflib.SequenceMatcher(a=str1.lower(), b=str2.lower())\n",
    "    return result.ratio()\n",
    "str1 = 'Python Exercises'\n",
    "str2 = 'Python Exercises'\n",
    "print(\"Original string:\")\n",
    "print(str1)\n",
    "print(str2)\n",
    "print(\"Similarity between two said strings:\")\n",
    "print(string_similarity(str1,str2))\n",
    "str1 = 'Python Exercises'\n",
    "str2 = 'Python Exercise'\n",
    "print(\"\\nOriginal string:\")\n",
    "print(str1)\n",
    "print(str2)\n",
    "print(\"Similarity between two said strings:\")\n",
    "print(string_similarity(str1,str2))\n",
    "str1 = 'Python Exercises'\n",
    "str2 = 'Python Ex.'\n",
    "print(\"\\nOriginal string:\")\n",
    "print(str1)\n",
    "print(str2)\n",
    "print(\"Similarity between two said strings:\")\n",
    "print(string_similarity(str1,str2))\n",
    "str1 = 'Python Exercises'\n",
    "str2 = 'Python'\n",
    "print(\"\\nOriginal string:\")\n",
    "print(str1)\n",
    "print(str2)\n",
    "print(\"Similarity between two said strings:\")\n",
    "print(string_similarity(str1,str2))\n",
    "str1 = 'Python Exercises'\n",
    "str1 = 'Java Exercises'\n",
    "print(\"\\nOriginal string:\")\n",
    "print(str1)\n",
    "print(str2)\n",
    "print(\"Similarity between two said strings:\")\n",
    "print(string_similarity(str1,str2))\n"
   ]
  },
  {
   "cell_type": "code",
   "execution_count": 75,
   "id": "4104ed66",
   "metadata": {},
   "outputs": [
    {
     "name": "stdout",
     "output_type": "stream",
     "text": [
      "Original list:\n",
      "['Red', 100, -50, 'green', 'w,3,r', 12.12, False]\n",
      "\n",
      "Convert the heterogeneous list of scalars into a string:\n",
      "Red,100,-50,green,w,3,r,12.12,False\n"
     ]
    }
   ],
   "source": [
    "def heterogeneous_list_to_str(lst):\n",
    "    result = ','.join(str(x) for x in lst)\n",
    "    return result\n",
    "h_data = [\"Red\", 100, -50, \"green\", \"w,3,r\", 12.12, False]\n",
    "print(\"Original list:\")\n",
    "print(h_data)\n",
    "print(\"\\nConvert the heterogeneous list of scalars into a string:\")\n",
    "print(heterogeneous_list_to_str(h_data))\n"
   ]
  },
  {
   "cell_type": "code",
   "execution_count": 76,
   "id": "ad040929",
   "metadata": {},
   "outputs": [
    {
     "name": "stdout",
     "output_type": "stream",
     "text": [
      "Original String:\n",
      "Python Exercises Practice Solution Exercises\n",
      "\n",
      "After removing duplicate words from the said string:\n",
      "Python Exercises Practice Solution\n"
     ]
    }
   ],
   "source": [
    "def unique_list(text_str):\n",
    "    l = text_str.split()\n",
    "    temp = []\n",
    "    for x in l:\n",
    "        if x not in temp:\n",
    "            temp.append(x)\n",
    "    return ' '.join(temp)\n",
    "\n",
    "text_str = \"Python Exercises Practice Solution Exercises\"\n",
    "print(\"Original String:\")\n",
    "print(text_str)\n",
    "print(\"\\nAfter removing duplicate words from the said string:\")\n",
    "print(unique_list(text_str))\n"
   ]
  },
  {
   "cell_type": "code",
   "execution_count": 77,
   "id": "d45c58ae",
   "metadata": {},
   "outputs": [
    {
     "name": "stdout",
     "output_type": "stream",
     "text": [
      "Original String : Pyth*^on Exercis^es\n",
      "After removing unwanted characters:\n",
      "Python Exercises\n",
      "\n",
      "Original String : A%^!B#*CD\n",
      "After removing unwanted characters:\n",
      "ABCD\n"
     ]
    }
   ],
   "source": [
    "def remove_chars(str1, unwanted_chars):\n",
    "    for i in unwanted_chars:\n",
    "        str1 = str1.replace(i, '')\n",
    "    return str1\n",
    "\n",
    "\n",
    "\n",
    "str1 = \"Pyth*^on Exercis^es\"\n",
    "str2 = \"A%^!B#*CD\"\n",
    "\n",
    "unwanted_chars = [\"#\", \"*\", \"!\", \"^\", \"%\"]\n",
    "print (\"Original String : \" + str1)\n",
    "print(\"After removing unwanted characters:\")\n",
    "print(remove_chars(str1, unwanted_chars))\n",
    "print (\"\\nOriginal String : \" + str2)\n",
    "print(\"After removing unwanted characters:\")\n",
    "print(remove_chars(str2, unwanted_chars))\n"
   ]
  },
  {
   "cell_type": "code",
   "execution_count": 78,
   "id": "11208e6c",
   "metadata": {},
   "outputs": [
    {
     "name": "stdout",
     "output_type": "stream",
     "text": [
      "Input the string: dvsdv\n",
      "['String must have 1 upper case character.', 'String must have 1 number.', 'String length should be atleast 8.']\n"
     ]
    }
   ],
   "source": [
    "def check_string(s):\n",
    "    messg = []\n",
    "    if not any(x.isupper() for x in s):\n",
    "        messg.append('String must have 1 upper case character.')\n",
    "    if not any(x.islower() for x in s):\n",
    "        messg.append('String must have 1 lower case character.')\n",
    "    if not any(x.isdigit() for x in s):\n",
    "        messg.append('String must have 1 number.')\n",
    "    if len(s) < 8:\n",
    "        messg.append('String length should be atleast 8.')    \n",
    "    if not messg:\n",
    "        messg.append('Valid string.')\n",
    "    return messg\n",
    "    \n",
    "s = input(\"Input the string: \")\n",
    "print(check_string(s))\n"
   ]
  },
  {
   "cell_type": "code",
   "execution_count": 79,
   "id": "07517b04",
   "metadata": {},
   "outputs": [
    {
     "name": "stdout",
     "output_type": "stream",
     "text": [
      "Original strings:\n",
      "Python3\n",
      "Python2.7\n",
      "\n",
      "Intersection of two said String:\n",
      "Python\n"
     ]
    }
   ],
   "source": [
    "def intersection_of_two_string(str1, str2):\n",
    "    result = \"\"\n",
    "    for ch in str1:\n",
    "        if ch in str2 and not ch in result:\n",
    "            result += ch\n",
    "    return result\n",
    "\n",
    "str1 = 'Python3'\n",
    "str2 = 'Python2.7'\n",
    "print(\"Original strings:\")\n",
    "print(str1)\n",
    "print(str2)\n",
    "print(\"\\nIntersection of two said String:\") \n",
    "print(intersection_of_two_string(str1, str2))\n"
   ]
  },
  {
   "cell_type": "code",
   "execution_count": 80,
   "id": "f3cf40f5",
   "metadata": {},
   "outputs": [
    {
     "name": "stdout",
     "output_type": "stream",
     "text": [
      "Original string:\n",
      "Delete all occurrences of a specified character in a given string\n",
      "\n",
      "Modified string:\n",
      "Delete ll occurrences of  specified chrcter in  given string\n"
     ]
    }
   ],
   "source": [
    "def delete_all_occurrences(str1, ch):\n",
    "     result = str1.replace(ch, \"\")\n",
    "     return(result)\n",
    "\n",
    "str_text = \"Delete all occurrences of a specified character in a given string\"\n",
    "print(\"Original string:\")\n",
    "print(str_text)\n",
    "print(\"\\nModified string:\")\n",
    "ch='a'\n",
    "print(delete_all_occurrences(str_text, ch))\n"
   ]
  },
  {
   "cell_type": "code",
   "execution_count": 81,
   "id": "b8fcd359",
   "metadata": {},
   "outputs": [
    {
     "name": "stdout",
     "output_type": "stream",
     "text": [
      "Original Bytearray :\n",
      "[111, 12, 45, 67, 109]\n",
      "\n",
      "Hexadecimal string:\n",
      "6f0c2d436d\n"
     ]
    }
   ],
   "source": [
    "def bytearray_to_hexadecimal(list_val):\n",
    "     result = ''.join('{:02x}'.format(x) for x in list_val)  \n",
    "     return(result)\n",
    "\n",
    "list_val = [111, 12, 45, 67, 109] \n",
    "print(\"Original Bytearray :\")\n",
    "print(list_val)\n",
    "print(\"\\nHexadecimal string:\")\n",
    "print(bytearray_to_hexadecimal(list_val))\n"
   ]
  },
  {
   "cell_type": "code",
   "execution_count": 82,
   "id": "35fd3ab1",
   "metadata": {},
   "outputs": [
    {
     "name": "stdout",
     "output_type": "stream",
     "text": [
      "pYTHON eXERCISES\n",
      "jAVA\n",
      "nUMpY\n"
     ]
    }
   ],
   "source": [
    "def swap_case_string(str1):\n",
    "   result_str = \"\"   \n",
    "   for item in str1:\n",
    "       if item.isupper():\n",
    "           result_str += item.lower()\n",
    "       else:\n",
    "           result_str += item.upper()           \n",
    "   return result_str\n",
    "print(swap_case_string(\"Python Exercises\"))\n",
    "print(swap_case_string(\"Java\"))\n",
    "print(swap_case_string(\"NumPy\"))\n"
   ]
  },
  {
   "cell_type": "code",
   "execution_count": 83,
   "id": "36041415",
   "metadata": {},
   "outputs": [
    {
     "name": "stdout",
     "output_type": "stream",
     "text": [
      "Input an integer: 12\n",
      "Decimal Octal Hexadecimal (capitalized), Binary\n",
      "12    14   C                     1100\n"
     ]
    }
   ],
   "source": [
    "i = int(input(\"Input an integer: \"))\n",
    "o = str(oct(i))[2:]\n",
    "h = str(hex(i))[2:]\n",
    "h = h.upper()\n",
    "b = str(bin(i))[2:]\n",
    "d = str(i)\n",
    "print(\"Decimal Octal Hexadecimal (capitalized), Binary\")\n",
    "print(d,'  ',o,' ',h,'                   ',b)\n"
   ]
  },
  {
   "cell_type": "code",
   "execution_count": 84,
   "id": "61afb986",
   "metadata": {},
   "outputs": [
    {
     "name": "stdout",
     "output_type": "stream",
     "text": [
      "Input a string: qwerty\n",
      "Input the width of the paragraph: 12\n",
      "Result:\n",
      "qwerty\n"
     ]
    }
   ],
   "source": [
    "import textwrap\n",
    "s = input(\"Input a string: \")\n",
    "w = int(input(\"Input the width of the paragraph: \").strip())\n",
    "print(\"Result:\")\n",
    "print(textwrap.fill(s,w))\n"
   ]
  },
  {
   "cell_type": "code",
   "execution_count": 85,
   "id": "21f2582f",
   "metadata": {},
   "outputs": [
    {
     "name": "stdout",
     "output_type": "stream",
     "text": [
      "7\n",
      "1\n",
      "Not found\n"
     ]
    }
   ],
   "source": [
    "def find_Index(str1, pos):\n",
    "    if len(pos) > len(str1):\n",
    "        return 'Not found'\n",
    "\n",
    "    for i in range(len(str1)):\n",
    "\n",
    "        for j in range(len(pos)):\n",
    "\n",
    "            if str1[i + j] == pos[j] and j == len(pos) - 1:\n",
    "                return i\n",
    "                \n",
    "            elif str1[i + j] != pos[j]:\n",
    "                break\n",
    "\n",
    "    return 'Not found'\n",
    "print(find_Index(\"Python Exercises\", \"Ex\"))\n",
    "print(find_Index(\"Python Exercises\", \"yt\"))\n",
    "print(find_Index(\"Python Exercises\", \"PY\"))\n"
   ]
  },
  {
   "cell_type": "code",
   "execution_count": 86,
   "id": "71fe4838",
   "metadata": {},
   "outputs": [
    {
     "name": "stdout",
     "output_type": "stream",
     "text": [
      "Input a string: qwerty\n",
      "6\n"
     ]
    }
   ],
   "source": [
    "def no_of_substring_with_equalEnds(str1): \n",
    "\tresult = 0; \n",
    "\tn = len(str1); \n",
    "\tfor i in range(n): \n",
    "\t\tfor j in range(i, n): \n",
    "\t\t\tif (str1[i] == str1[j]): \n",
    "\t\t\t\tresult = result + 1\n",
    "\treturn result \n",
    "str1 = input(\"Input a string: \")\n",
    "print(no_of_substring_with_equalEnds(str1))\n"
   ]
  },
  {
   "cell_type": "code",
   "execution_count": 87,
   "id": "c380f7d6",
   "metadata": {},
   "outputs": [
    {
     "name": "stdout",
     "output_type": "stream",
     "text": [
      "Original Strings:\n",
      " Write a Java program to sort an array of given integers using Quick sort Algorithm.\n",
      "Smallest word: a\n",
      "Largest word: Algorithm.\n"
     ]
    }
   ],
   "source": [
    "def smallest_largest_words(str1):\n",
    "    word = \"\";\n",
    "    all_words = [];\n",
    "    str1 = str1 + \" \";\n",
    "    for i in range(0, len(str1)):\n",
    "        if(str1[i] != ' '):\n",
    "            word = word + str1[i];  \n",
    "        else:\n",
    "            all_words.append(word);  \n",
    "            word = \"\";  \n",
    "          \n",
    "    small = large = all_words[0];  \n",
    "   \n",
    "#Find smallest and largest word in the str1  \n",
    "    for k in range(0, len(all_words)):\n",
    "        if(len(small) > len(all_words[k])):\n",
    "            small = all_words[k];\n",
    "        if(len(large) < len(all_words[k])):\n",
    "            large = all_words[k];\n",
    "    return small,large;\n",
    "\n",
    "str1 = \"Write a Java program to sort an array of given integers using Quick sort Algorithm.\";  \n",
    "print(\"Original Strings:\\n\",str1)\n",
    "small, large = smallest_largest_words(str1)  \n",
    "print(\"Smallest word: \" + small);  \n",
    "print(\"Largest word: \" + large); \n"
   ]
  },
  {
   "cell_type": "code",
   "execution_count": 88,
   "id": "2af17fd4",
   "metadata": {},
   "outputs": [
    {
     "name": "stdout",
     "output_type": "stream",
     "text": [
      "Input a string: qwerty\n",
      "Number of characters of the said string at same position as in English alphabet:\n",
      "0\n"
     ]
    }
   ],
   "source": [
    "def count_char_position(str1): \n",
    "    count_chars = 0\n",
    "    for i in range(len(str1)):\n",
    "        if ((i == ord(str1[i]) - ord('A')) or \n",
    "            (i == ord(str1[i]) - ord('a'))): \n",
    "            count_chars += 1\n",
    "    return count_chars \n",
    "  \n",
    "str1 = input(\"Input a string: \")\n",
    "print(\"Number of characters of the said string at same position as in English alphabet:\")\n",
    "print(count_char_position(str1))\n"
   ]
  },
  {
   "cell_type": "code",
   "execution_count": 89,
   "id": "d14877c3",
   "metadata": {},
   "outputs": [
    {
     "name": "stdout",
     "output_type": "stream",
     "text": [
      "Input a string: qwerty\n",
      "Number of substrings:\n",
      "21\n"
     ]
    }
   ],
   "source": [
    "def number_of_substrings(str): \n",
    "\tstr_len = len(str); \n",
    "\treturn int(str_len * (str_len + 1) / 2); \n",
    "\n",
    "str1 = input(\"Input a string: \")\n",
    "print(\"Number of substrings:\") \n",
    "print(number_of_substrings(str1))\n"
   ]
  },
  {
   "cell_type": "code",
   "execution_count": 90,
   "id": "0093f238",
   "metadata": {},
   "outputs": [
    {
     "name": "stdout",
     "output_type": "stream",
     "text": [
      "Input a string (lowercase alphabets):qwerty\n",
      "Input k: 1\n",
      "Number of substrings with exactly 1 distinct characters : 6\n"
     ]
    }
   ],
   "source": [
    "def count_k_dist(str1, k): \n",
    "\tstr_len = len(str1) \n",
    "\t\n",
    "\tresult = 0\n",
    "\n",
    "\tctr = [0] * 27\n",
    "\n",
    "\tfor i in range(0, str_len): \n",
    "\t\tdist_ctr = 0\n",
    "\n",
    "\t\tctr = [0] * 27\n",
    "\n",
    "\t\tfor j in range(i, str_len): \n",
    "\t\t\t\n",
    "\t\t\tif(ctr[ord(str1[j]) - 97] == 0): \n",
    "\t\t\t\tdist_ctr += 1\n",
    "\n",
    "\t\t\tctr[ord(str1[j]) - 97] += 1\n",
    "\n",
    "\t\t\tif(dist_ctr == k): \n",
    "\t\t\t\tresult += 1\n",
    "\t\t\tif(dist_ctr > k): \n",
    "\t\t\t\tbreak\n",
    "\n",
    "\treturn result \n",
    "\n",
    "str1 = input(\"Input a string (lowercase alphabets):\")\n",
    "k = int(input(\"Input k: \"))\n",
    "print(\"Number of substrings with exactly\", k, \"distinct characters : \", end = \"\") \n",
    "print(count_k_dist(str1, k))\n"
   ]
  },
  {
   "cell_type": "code",
   "execution_count": null,
   "id": "a65b6f8e",
   "metadata": {},
   "outputs": [],
   "source": [
    "from collections import defaultdict   \n",
    "\n",
    "def find_sub_string(str): \n",
    "    str_len = len(str) \n",
    "      \n",
    "    # Count all distinct characters. \n",
    "    dist_count_char = len(set([x for x in str])) \n",
    "  \n",
    "    ctr, start_pos, start_pos_index, min_len = 0, 0, -1, 9999999999\n",
    "    curr_count = defaultdict(lambda: 0) \n",
    "    for i in range(str_len): \n",
    "        curr_count[str[i]] += 1\n",
    " \n",
    "        if curr_count[str[i]] == 1: \n",
    "            ctr += 1\n",
    "  \n",
    "        if ctr == dist_count_char: \n",
    "            while curr_count[str[start_pos]] > 1: \n",
    "                if curr_count[str[start_pos]] > 1: \n",
    "                    curr_count[str[start_pos]] -= 1\n",
    "                start_pos += 1\n",
    "  \n",
    "            len_window = i - start_pos + 1\n",
    "            if min_len > len_window: \n",
    "                min_len = len_window \n",
    "                start_pos_index = start_pos \n",
    "    return str[start_pos_index: start_pos_index + min_len] \n",
    "      \n",
    "str1 = \"asdaewsqgtwwsa\"\n",
    "print(\"Original Strings:\\n\",str1)\n",
    "print(\"\\nSmallest window that contains all characters of the said string:\")\n",
    "print(find_sub_string(str1)) \n"
   ]
  }
 ],
 "metadata": {
  "kernelspec": {
   "display_name": "Python 3 (ipykernel)",
   "language": "python",
   "name": "python3"
  },
  "language_info": {
   "codemirror_mode": {
    "name": "ipython",
    "version": 3
   },
   "file_extension": ".py",
   "mimetype": "text/x-python",
   "name": "python",
   "nbconvert_exporter": "python",
   "pygments_lexer": "ipython3",
   "version": "3.9.7"
  }
 },
 "nbformat": 4,
 "nbformat_minor": 5
}
