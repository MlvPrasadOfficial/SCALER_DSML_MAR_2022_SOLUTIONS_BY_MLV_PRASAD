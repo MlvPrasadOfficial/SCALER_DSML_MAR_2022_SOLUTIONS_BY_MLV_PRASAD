{
 "cells": [
  {
   "cell_type": "code",
   "execution_count": 1,
   "id": "387c32ad",
   "metadata": {},
   "outputs": [
    {
     "name": "stdout",
     "output_type": "stream",
     "text": [
      "Original string: lkseropewdssafsdfafkpwe\n",
      "Most common three characters of the said string:\n",
      "[('s', 4), ('e', 3), ('f', 3)]\n"
     ]
    }
   ],
   "source": [
    "from collections import Counter\n",
    "s = 'lkseropewdssafsdfafkpwe'\n",
    "print(\"Original string: \"+s)\n",
    "print(\"Most common three characters of the said string:\")\n",
    "print(Counter(s).most_common(3))\n"
   ]
  },
  {
   "cell_type": "code",
   "execution_count": 2,
   "id": "01f14bb9",
   "metadata": {},
   "outputs": [
    {
     "name": "stdout",
     "output_type": "stream",
     "text": [
      "[('Python', 6), ('the', 6), ('and', 5), ('We', 2), ('with', 2), ('The', 1), ('Software', 1), ('Foundation', 1), ('PSF', 1), ('is', 1)]\n"
     ]
    }
   ],
   "source": [
    "from collections import Counter\n",
    "import re\n",
    "text = \"\"\"The Python Software Foundation (PSF) is a 501(c)(3) non-profit \n",
    "corporation that holds the intellectual property rights behind\n",
    "the Python programming language. We manage the open source licensing \n",
    "for Python version 2.1 and later and own and protect the trademarks \n",
    "associated with Python. We also run the North American PyCon conference \n",
    "annually, support other Python conferences around the world, and \n",
    "fund Python related development with our grants program and by funding \n",
    "special projects.\"\"\"\n",
    "words = re.findall('\\w+',text)\n",
    "print(Counter(words).most_common(10))\n"
   ]
  },
  {
   "cell_type": "code",
   "execution_count": 7,
   "id": "69def624",
   "metadata": {},
   "outputs": [
    {
     "name": "stdout",
     "output_type": "stream",
     "text": [
      "Number of subjects: 3\n",
      "Input Subject name and marks: M 1\n",
      "Input Subject name and marks: A 4\n",
      "Input Subject name and marks: A 5\n",
      "M 1\n",
      "A 9\n"
     ]
    }
   ],
   "source": [
    "import collections, re\n",
    "n = int(input(\"Number of subjects: \"))\n",
    "item_order = collections.OrderedDict()\n",
    "for i in range(n):\n",
    "   sub_marks_list = re.split(r'(\\d+)$',input(\"Input Subject name and marks: \").strip())\n",
    "   subject_name = sub_marks_list[0]\n",
    "   item_price = int(sub_marks_list[1])\n",
    "   if subject_name not in item_order:\n",
    "       item_order[subject_name]=item_price\n",
    "   else:\n",
    "       item_order[subject_name]=item_order[subject_name]+item_price\n",
    "           \n",
    "for i in item_order:\n",
    "   print(i+str(item_order[i]))\n"
   ]
  },
  {
   "cell_type": "code",
   "execution_count": 8,
   "id": "a1830b46",
   "metadata": {},
   "outputs": [
    {
     "name": "stdout",
     "output_type": "stream",
     "text": [
      "deque(['Red', 'Green', 'White'])\n",
      "\n",
      "Adding to the left: \n",
      "deque(['Pink', 'Red', 'Green', 'White'])\n",
      "\n",
      "Adding to the right: \n",
      "deque(['Pink', 'Red', 'Green', 'White', 'Orange'])\n",
      "\n",
      "Removing from the right: \n",
      "deque(['Pink', 'Red', 'Green', 'White'])\n",
      "\n",
      "Removing from the left: \n",
      "deque(['Red', 'Green', 'White'])\n",
      "\n",
      "Reversing the deque: \n",
      "deque(['White', 'Green', 'Red'])\n"
     ]
    }
   ],
   "source": [
    "import collections\n",
    "# Create a deque\n",
    "deque_colors = collections.deque([\"Red\",\"Green\",\"White\"])\n",
    "print(deque_colors)\n",
    "# Append to the left\n",
    "print(\"\\nAdding to the left: \")\n",
    "deque_colors.appendleft(\"Pink\")\n",
    "print(deque_colors)\n",
    "# Append to the right\n",
    "print(\"\\nAdding to the right: \")\n",
    "deque_colors.append(\"Orange\")\n",
    "print(deque_colors)\n",
    "# Remove from the right\n",
    "print(\"\\nRemoving from the right: \")\n",
    "deque_colors.pop()\n",
    "print(deque_colors)\n",
    "# Remove from the left\n",
    "print(\"\\nRemoving from the left: \")\n",
    "deque_colors.popleft()\n",
    "print(deque_colors)\n",
    "# Reverse the dequeue\n",
    "print(\"\\nReversing the deque: \")\n",
    "deque_colors.reverse()\n",
    "print(deque_colors)\n"
   ]
  },
  {
   "cell_type": "code",
   "execution_count": 9,
   "id": "d8bde18c",
   "metadata": {},
   "outputs": [
    {
     "name": "stdout",
     "output_type": "stream",
     "text": [
      "Original tuple:\n",
      "(2, 4, 6)\n",
      "<class 'tuple'>\n",
      "\n",
      "Original deque:\n",
      "deque([2, 4, 6])\n",
      "New deque from an existing iterable object:\n",
      "deque([2, 2, 4, 6, 8, 10, 12])\n",
      "<class 'collections.deque'>\n"
     ]
    }
   ],
   "source": [
    "import collections\n",
    "even_nums = (2, 4, 6)\n",
    "print(\"Original tuple:\")\n",
    "print(even_nums)\n",
    "print(type(even_nums))\n",
    "even_nums_deque = collections.deque(even_nums)\n",
    "print(\"\\nOriginal deque:\")\n",
    "print(even_nums_deque)\n",
    "even_nums_deque.append(8)\n",
    "even_nums_deque.append(10)\n",
    "even_nums_deque.append(12)\n",
    "even_nums_deque.appendleft(2)\n",
    "print(\"New deque from an existing iterable object:\")\n",
    "print(even_nums_deque)\n",
    "print(type(even_nums_deque))\n"
   ]
  },
  {
   "cell_type": "code",
   "execution_count": 10,
   "id": "af8e341f",
   "metadata": {},
   "outputs": [
    {
     "name": "stdout",
     "output_type": "stream",
     "text": [
      "Even numbers:\n",
      "deque([2, 4, 6, 8, 10])\n",
      "More even numbers:\n",
      "deque([2, 4, 6, 8, 10, 12, 14, 16, 18, 20])\n"
     ]
    }
   ],
   "source": [
    "import collections\n",
    "even_nums = (2, 4, 6, 8, 10)\n",
    "even_deque = collections.deque(even_nums)\n",
    "print(\"Even numbers:\")\n",
    "print(even_deque)\n",
    "more_even_nums = (12, 14, 16, 18, 20)\n",
    "even_deque.extend(more_even_nums)\n",
    "print(\"More even numbers:\")\n",
    "print(even_deque)\n"
   ]
  },
  {
   "cell_type": "code",
   "execution_count": 11,
   "id": "559a50df",
   "metadata": {},
   "outputs": [
    {
     "name": "stdout",
     "output_type": "stream",
     "text": [
      "Original Deque object with odd numbers:\n",
      "deque([1, 3, 5, 7, 9])\n",
      "Deque length: 5\n",
      "Deque object after removing all numbers-\n",
      "deque([])\n",
      "Deque length:0\n"
     ]
    }
   ],
   "source": [
    "import collections\n",
    "odd_nums = (1,3,5,7,9)\n",
    "odd_deque  = collections.deque(odd_nums)\n",
    "print(\"Original Deque object with odd numbers:\")\n",
    "print(odd_deque)\n",
    "print(\"Deque length: %d\"%(len(odd_deque)))\n",
    "odd_deque.clear()\n",
    "print(\"Deque object after removing all numbers-\")\n",
    "print(odd_deque)\n",
    "print(\"Deque length:%d\"%(len(odd_deque)))\n"
   ]
  },
  {
   "cell_type": "code",
   "execution_count": 12,
   "id": "1326b149",
   "metadata": {},
   "outputs": [
    {
     "name": "stdout",
     "output_type": "stream",
     "text": [
      "Content of dq1:\n",
      "deque([1, 3, 5, 7, 9])\n",
      "dq2 id:\n",
      "1734679297472\n",
      "\n",
      "Content of dq2:\n",
      "deque([1, 3, 5, 7, 9])\n",
      "dq2 id:\n",
      "1734680165536\n",
      "\n",
      "Checking the first element of dq1 and dq2 are shallow copies:\n",
      "1734598617392\n",
      "1734598617392\n"
     ]
    }
   ],
   "source": [
    "import collections\n",
    "tup1 = (1,3,5,7,9)\n",
    "dq1 = collections.deque(tup1)\n",
    "dq2 = dq1.copy()\n",
    "print(\"Content of dq1:\")\n",
    "print(dq1)\n",
    "print(\"dq2 id:\")\n",
    "print(id(dq1))\n",
    "print(\"\\nContent of dq2:\")\n",
    "print(dq2)\n",
    "print(\"dq2 id:\")\n",
    "print(id(dq2))\n",
    "print(\"\\nChecking the first element of dq1 and dq2 are shallow copies:\")\n",
    "print(id(dq1[0]))\n",
    "print(id(dq2[0]))\n"
   ]
  },
  {
   "cell_type": "code",
   "execution_count": 13,
   "id": "f6d9d734",
   "metadata": {},
   "outputs": [
    {
     "name": "stdout",
     "output_type": "stream",
     "text": [
      "Number of 2 in the sequence\n",
      "5\n",
      "Number of 4 in the sequence\n",
      "4\n"
     ]
    }
   ],
   "source": [
    "import collections\n",
    "nums = (2,9,0,8,2,4,0,9,2,4,8,2,0,4,2,3,4,0)\n",
    "nums_dq = collections.deque(nums)\n",
    "print(\"Number of 2 in the sequence\")\n",
    "print(nums_dq.count(2))\n",
    "print(\"Number of 4 in the sequence\")\n",
    "print(nums_dq.count(4))\n"
   ]
  },
  {
   "cell_type": "code",
   "execution_count": 14,
   "id": "227a50cf",
   "metadata": {},
   "outputs": [
    {
     "name": "stdout",
     "output_type": "stream",
     "text": [
      "Original list:\n",
      "['PHP', 'PHP', 'Python', 'PHP', 'Python', 'JS', 'Python', 'Python', 'PHP', 'Python']\n",
      "\n",
      "Most common element of the said list:\n",
      "Python\n"
     ]
    }
   ],
   "source": [
    "from collections import Counter\n",
    "language = ['PHP', 'PHP', 'Python', 'PHP', 'Python', 'JS', 'Python', 'Python','PHP', 'Python']\n",
    "print(\"Original list:\")\n",
    "print(language)\n",
    "cnt = Counter(language)\n",
    "print(\"\\nMost common element of the said list:\")\n",
    "print(cnt.most_common(1)[0][0])\n"
   ]
  },
  {
   "cell_type": "code",
   "execution_count": null,
   "id": "9a48766c",
   "metadata": {},
   "outputs": [],
   "source": [
    "students = []\n",
    "sec_name = []\n",
    "second_low = 0\n",
    "n = int(input(\"Input number of students: \"))\n",
    "for _ in range(n):\n",
    "   s_name = input(\"Name: \")\n",
    "   score = float(input(\"Total marks: \"))\n",
    "   students.append([s_name,score])\n",
    "print(\"\\nNames and Marks of all students:\")\n",
    "print(students)\n",
    "order =sorted(students, key = lambda x: int(x[1]))\n",
    "for i in range(n):\n",
    "   if order[i][1] != order[0][1]:\n",
    "       second_low = order[i][1]\n",
    "       break\n",
    "print(\"\\nSecond lowest Marks: \",second_low)\n",
    "sec_student_name = [x[0] for x in order if x[1] == second_low]\n",
    "sec_student_name.sort()\n",
    "print(\"\\nNames:\")\n",
    "for s_name in sec_student_name:\n",
    "   print(s_name)\n"
   ]
  },
  {
   "cell_type": "code",
   "execution_count": null,
   "id": "a2612536",
   "metadata": {},
   "outputs": [],
   "source": [
    "import collections\n",
    "class Solution(object):\n",
    "    def majorityElement(self, nums):\n",
    "        \"\"\"\n",
    "        :type nums: List[int]\n",
    "        :return type: int\n",
    "        \"\"\"\n",
    "        count_ele=collections.Counter(nums)\n",
    "        return count_ele.most_common()[0][0]\n",
    "\n",
    "result = Solution().majorityElement([10,10,20,30,40,10,20,10])\n",
    "print(result)\n"
   ]
  },
  {
   "cell_type": "code",
   "execution_count": null,
   "id": "517c9726",
   "metadata": {},
   "outputs": [],
   "source": [
    "import collections as ct\n",
    "def merge_dictionaries(color1,color2):\n",
    "    merged_dict = dict(ct.ChainMap({}, color1, color2))\n",
    "    return merged_dict\n",
    "color1 = { \"R\": \"Red\", \"B\": \"Black\", \"P\": \"Pink\" }\n",
    "color2 = { \"G\": \"Green\", \"W\": \"White\" }\n",
    "print(\"Original dictionaries:\")\n",
    "print(color1,' ',color2)\n",
    "print(\"\\nMerged dictionary:\")\n",
    "print(merge_dictionaries(color1, color2))\n",
    "\n",
    "def merge_dictionaries(color1,color2, color3):\n",
    "    merged_dict = dict(ct.ChainMap({}, color1, color2, color3))\n",
    "    return merged_dict\n",
    "\n",
    "color1 = { \"R\": \"Red\", \"B\": \"Black\", \"P\": \"Pink\" }\n",
    "color2 = { \"G\": \"Green\", \"W\": \"White\" }\n",
    "color3 = { \"O\": \"Orange\", \"W\": \"White\", \"B\": \"Black\" }\n",
    "\n",
    "print(\"\\nOriginal dictionaries:\")\n",
    "print(color1,' ',color2, color3)\n",
    "print(\"\\nMerged dictionary:\")\n",
    "# Duplicate colours have automatically removed.\n",
    "print(merge_dictionaries(color1, color2, color3))\n"
   ]
  },
  {
   "cell_type": "code",
   "execution_count": null,
   "id": "bd74f04c",
   "metadata": {},
   "outputs": [],
   "source": []
  },
  {
   "cell_type": "code",
   "execution_count": null,
   "id": "8adb4df1",
   "metadata": {},
   "outputs": [],
   "source": []
  }
 ],
 "metadata": {
  "kernelspec": {
   "display_name": "Python 3 (ipykernel)",
   "language": "python",
   "name": "python3"
  },
  "language_info": {
   "codemirror_mode": {
    "name": "ipython",
    "version": 3
   },
   "file_extension": ".py",
   "mimetype": "text/x-python",
   "name": "python",
   "nbconvert_exporter": "python",
   "pygments_lexer": "ipython3",
   "version": "3.9.7"
  }
 },
 "nbformat": 4,
 "nbformat_minor": 5
}
