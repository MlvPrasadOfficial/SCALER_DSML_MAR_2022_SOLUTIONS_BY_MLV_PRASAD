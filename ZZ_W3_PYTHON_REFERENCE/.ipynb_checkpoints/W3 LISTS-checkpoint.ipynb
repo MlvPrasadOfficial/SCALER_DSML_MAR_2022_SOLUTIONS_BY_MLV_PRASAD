{
 "cells": [
  {
   "cell_type": "code",
   "execution_count": 1,
   "id": "f82570f6",
   "metadata": {},
   "outputs": [
    {
     "name": "stdout",
     "output_type": "stream",
     "text": [
      "[9, 3, 5, 8, 2, 4, 6]\n"
     ]
    }
   ],
   "source": [
    "list1 = [1, 3, 5, 7, 9]\n",
    "list2=[1, 2, 4, 6, 7, 8]\n",
    "diff_list1_list2 = list(set(list1) - set(list2))\n",
    "diff_list2_list1 = list(set(list2) - set(list1))\n",
    "total_diff = diff_list1_list2 + diff_list2_list1\n",
    "print(total_diff)\n"
   ]
  },
  {
   "cell_type": "code",
   "execution_count": 2,
   "id": "22977bb3",
   "metadata": {},
   "outputs": [
    {
     "name": "stdout",
     "output_type": "stream",
     "text": [
      "[(1, 2, 3), (1, 3, 2), (2, 1, 3), (2, 3, 1), (3, 1, 2), (3, 2, 1)]\n"
     ]
    }
   ],
   "source": [
    "import itertools\n",
    "print(list(itertools.permutations([1,2,3])))\n"
   ]
  },
  {
   "cell_type": "code",
   "execution_count": 3,
   "id": "cc2dc1e3",
   "metadata": {},
   "outputs": [
    {
     "name": "stdout",
     "output_type": "stream",
     "text": [
      "[36, 49, 64, 81, 100, 121, 144, 169, 196, 225, 256, 289, 324, 361, 400, 441, 484, 529, 576, 625, 676, 729, 784, 841, 900]\n"
     ]
    }
   ],
   "source": [
    "def printValues():\n",
    "\tl = list()\n",
    "\tfor i in range(1,31):\n",
    "\t\tl.append(i**2)\n",
    "\tprint(l[5:])\n",
    "printValues()\n"
   ]
  },
  {
   "cell_type": "code",
   "execution_count": 4,
   "id": "2c86208d",
   "metadata": {},
   "outputs": [
    {
     "name": "stdout",
     "output_type": "stream",
     "text": [
      "[1, 4, 9, 16, 25]\n",
      "[256, 289, 324, 361, 400]\n"
     ]
    }
   ],
   "source": [
    "def printValues():\n",
    "\tl = list()\n",
    "\tfor i in range(1,21):\n",
    "\t\tl.append(i**2)\n",
    "\tprint(l[:5])\n",
    "\tprint(l[-5:])\n",
    "\n",
    "printValues()\n"
   ]
  },
  {
   "cell_type": "code",
   "execution_count": 5,
   "id": "b77f5e28",
   "metadata": {},
   "outputs": [
    {
     "name": "stdout",
     "output_type": "stream",
     "text": [
      "[1, 4, 9, 16, 25]\n",
      "[256, 289, 324, 361, 400]\n"
     ]
    }
   ],
   "source": [
    "def printValues():\n",
    "\tl = list()\n",
    "\tfor i in range(1,21):\n",
    "\t\tl.append(i**2)\n",
    "\tprint(l[:5])\n",
    "\tprint(l[-5:])\n",
    "\n",
    "printValues()\n"
   ]
  },
  {
   "cell_type": "code",
   "execution_count": 6,
   "id": "7f4382a0",
   "metadata": {},
   "outputs": [
    {
     "name": "stdout",
     "output_type": "stream",
     "text": [
      "['Pink', 'Yellow', 'White', 'Black', 'Green', 'Red']\n"
     ]
    }
   ],
   "source": [
    "from random import shuffle\n",
    "color = ['Red', 'Green', 'White', 'Black', 'Pink', 'Yellow']\n",
    "shuffle(color)\n",
    "print(color)\n"
   ]
  },
  {
   "cell_type": "code",
   "execution_count": 7,
   "id": "e52e30a6",
   "metadata": {},
   "outputs": [
    {
     "name": "stdout",
     "output_type": "stream",
     "text": [
      "[7, 25, 27]\n"
     ]
    }
   ],
   "source": [
    "num = [7,8, 120, 25, 44, 20, 27]\n",
    "num = [x for x in num if x%2!=0]\n",
    "print(num)\n"
   ]
  },
  {
   "cell_type": "code",
   "execution_count": 8,
   "id": "98ee357f",
   "metadata": {},
   "outputs": [
    {
     "name": "stdout",
     "output_type": "stream",
     "text": [
      "[[['*', '*', '*', '*', '*', '*'], ['*', '*', '*', '*', '*', '*'], ['*', '*', '*', '*', '*', '*'], ['*', '*', '*', '*', '*', '*']], [['*', '*', '*', '*', '*', '*'], ['*', '*', '*', '*', '*', '*'], ['*', '*', '*', '*', '*', '*'], ['*', '*', '*', '*', '*', '*']], [['*', '*', '*', '*', '*', '*'], ['*', '*', '*', '*', '*', '*'], ['*', '*', '*', '*', '*', '*'], ['*', '*', '*', '*', '*', '*']]]\n"
     ]
    }
   ],
   "source": [
    "array = [[ ['*' for col in range(6)] for col in range(4)] for row in range(3)]\n",
    "print(array)\n"
   ]
  },
  {
   "cell_type": "code",
   "execution_count": 9,
   "id": "7ab631f5",
   "metadata": {},
   "outputs": [
    {
     "name": "stdout",
     "output_type": "stream",
     "text": [
      "['Green', 'White', 'Black']\n"
     ]
    }
   ],
   "source": [
    "color = ['Red', 'Green', 'White', 'Black', 'Pink', 'Yellow']\n",
    "color = [x for (i,x) in enumerate(color) if i not in (0,4,5)]\n",
    "print(color)\n"
   ]
  },
  {
   "cell_type": "code",
   "execution_count": 10,
   "id": "30b2153a",
   "metadata": {},
   "outputs": [
    {
     "name": "stdout",
     "output_type": "stream",
     "text": [
      "True\n",
      "None\n"
     ]
    }
   ],
   "source": [
    "def common_data(list1, list2):\n",
    "     result = False\n",
    "     for x in list1:\n",
    "         for y in list2:\n",
    "             if x == y:\n",
    "                 result = True\n",
    "                 return result\n",
    "print(common_data([1,2,3,4,5], [5,6,7,8,9]))\n",
    "print(common_data([1,2,3,4,5], [6,7,8,9]))\n"
   ]
  },
  {
   "cell_type": "code",
   "execution_count": 11,
   "id": "271cccbe",
   "metadata": {},
   "outputs": [
    {
     "name": "stdout",
     "output_type": "stream",
     "text": [
      "['quick', 'brown', 'jumps', 'over', 'lazy']\n"
     ]
    }
   ],
   "source": [
    "def long_words(n, str):\n",
    "    word_len = []\n",
    "    txt = str.split(\" \")\n",
    "    for x in txt:\n",
    "        if len(x) > n:\n",
    "            word_len.append(x)\n",
    "    return word_len\t\n",
    "print(long_words(3, \"The quick brown fox jumps over the lazy dog\"))\n"
   ]
  },
  {
   "cell_type": "code",
   "execution_count": 12,
   "id": "1f538ece",
   "metadata": {},
   "outputs": [
    {
     "name": "stdout",
     "output_type": "stream",
     "text": [
      "[10, 22, 44, 23, 4]\n",
      "[10, 22, 44, 23, 4]\n"
     ]
    }
   ],
   "source": [
    "original_list = [10, 22, 44, 23, 4]\n",
    "new_list = list(original_list)\n",
    "print(original_list)\n",
    "print(new_list)\n"
   ]
  },
  {
   "cell_type": "code",
   "execution_count": 13,
   "id": "2ce63303",
   "metadata": {},
   "outputs": [
    {
     "name": "stdout",
     "output_type": "stream",
     "text": [
      "List is empty\n"
     ]
    }
   ],
   "source": [
    "l = []\n",
    "if not l:\n",
    "  print(\"List is empty\")\n",
    "  "
   ]
  },
  {
   "cell_type": "code",
   "execution_count": 14,
   "id": "c7d977db",
   "metadata": {},
   "outputs": [
    {
     "name": "stdout",
     "output_type": "stream",
     "text": [
      "{40, 10, 80, 50, 20, 60, 30}\n"
     ]
    }
   ],
   "source": [
    "a = [10,20,30,20,10,50,60,40,80,50,40]\n",
    "\n",
    "dup_items = set()\n",
    "uniq_items = []\n",
    "for x in a:\n",
    "    if x not in dup_items:\n",
    "        uniq_items.append(x)\n",
    "        dup_items.add(x)\n",
    "\n",
    "print(dup_items)\n"
   ]
  },
  {
   "cell_type": "code",
   "execution_count": 15,
   "id": "9cad426b",
   "metadata": {},
   "outputs": [
    {
     "name": "stdout",
     "output_type": "stream",
     "text": [
      "[(2, 1), (1, 2), (2, 3), (4, 4), (2, 5)]\n"
     ]
    }
   ],
   "source": [
    "def last(n): return n[-1]\n",
    "\n",
    "def sort_list_last(tuples):\n",
    "  return sorted(tuples, key=last)\n",
    "\n",
    "print(sort_list_last([(2, 5), (1, 2), (4, 4), (2, 3), (2, 1)]))\n"
   ]
  },
  {
   "cell_type": "code",
   "execution_count": 16,
   "id": "f3931ad0",
   "metadata": {},
   "outputs": [
    {
     "name": "stdout",
     "output_type": "stream",
     "text": [
      "2\n"
     ]
    }
   ],
   "source": [
    "def match_words(words):\n",
    "  ctr = 0\n",
    "\n",
    "  for word in words:\n",
    "    if len(word) > 1 and word[0] == word[-1]:\n",
    "      ctr += 1\n",
    "  return ctr\n",
    "\n",
    "print(match_words(['abc', 'xyz', 'aba', '1221']))\n"
   ]
  },
  {
   "cell_type": "code",
   "execution_count": 17,
   "id": "bae56d4b",
   "metadata": {},
   "outputs": [
    {
     "name": "stdout",
     "output_type": "stream",
     "text": [
      "-8\n"
     ]
    }
   ],
   "source": [
    "def smallest_num_in_list( list ):\n",
    "    min = list[ 0 ]\n",
    "    for a in list:\n",
    "        if a < min:\n",
    "            min = a\n",
    "    return min\n",
    "print(smallest_num_in_list([1, 2, -8, 0]))\n"
   ]
  },
  {
   "cell_type": "code",
   "execution_count": 18,
   "id": "30ff3cbf",
   "metadata": {},
   "outputs": [
    {
     "name": "stdout",
     "output_type": "stream",
     "text": [
      "2\n"
     ]
    }
   ],
   "source": [
    "def max_num_in_list( list ):\n",
    "    max = list[ 0 ]\n",
    "    for a in list:\n",
    "        if a > max:\n",
    "            max = a\n",
    "    return max\n",
    "print(max_num_in_list([1, 2, -8, 0]))\n"
   ]
  },
  {
   "cell_type": "code",
   "execution_count": 19,
   "id": "0ba671cf",
   "metadata": {},
   "outputs": [
    {
     "name": "stdout",
     "output_type": "stream",
     "text": [
      "-16\n"
     ]
    }
   ],
   "source": [
    "def multiply_list(items):\n",
    "    tot = 1\n",
    "    for x in items:\n",
    "        tot *= x\n",
    "    return tot\n",
    "print(multiply_list([1,2,-8]))\n"
   ]
  },
  {
   "cell_type": "code",
   "execution_count": 20,
   "id": "a9237df2",
   "metadata": {},
   "outputs": [
    {
     "name": "stdout",
     "output_type": "stream",
     "text": [
      "-5\n"
     ]
    }
   ],
   "source": [
    "def sum_list(items):\n",
    "    sum_numbers = 0\n",
    "    for x in items:\n",
    "        sum_numbers += x\n",
    "    return sum_numbers\n",
    "print(sum_list([1,2,-8]))\n"
   ]
  },
  {
   "cell_type": "code",
   "execution_count": 21,
   "id": "f1441e69",
   "metadata": {},
   "outputs": [
    {
     "name": "stdout",
     "output_type": "stream",
     "text": [
      "Compare list1 and list2\n",
      "True\n",
      "Compare list1 and list3\n",
      "False\n"
     ]
    }
   ],
   "source": [
    "list1 = [10, 10, 0, 0, 10]\n",
    "list2 = [10, 10, 10, 0, 0]\n",
    "list3 = [1, 10, 10, 0, 0]\n",
    "\n",
    "print('Compare list1 and list2')\n",
    "print(' '.join(map(str, list2)) in ' '.join(map(str, list1 * 2)))\n",
    "print('Compare list1 and list3')\n",
    "print(' '.join(map(str, list3)) in ' '.join(map(str, list1 * 2)))\n"
   ]
  },
  {
   "cell_type": "code",
   "execution_count": 22,
   "id": "d4fbb027",
   "metadata": {},
   "outputs": [
    {
     "name": "stdout",
     "output_type": "stream",
     "text": [
      "[1, 2, 3, 0, 'Red', 'Green', 'Black']\n"
     ]
    }
   ],
   "source": [
    "list1 = [1, 2, 3, 0]\n",
    "list2 = ['Red', 'Green', 'Black']\n",
    "final_list = list1 + list2\n",
    "print(final_list)\n"
   ]
  },
  {
   "cell_type": "code",
   "execution_count": 23,
   "id": "223fc73d",
   "metadata": {},
   "outputs": [
    {
     "name": "stdout",
     "output_type": "stream",
     "text": [
      "1\n"
     ]
    }
   ],
   "source": [
    "num =[10, 30, 4, -6]\n",
    "print(num.index(30))\n"
   ]
  },
  {
   "cell_type": "code",
   "execution_count": 24,
   "id": "578d1a74",
   "metadata": {},
   "outputs": [
    {
     "name": "stdout",
     "output_type": "stream",
     "text": [
      "abcd\n"
     ]
    }
   ],
   "source": [
    "s = ['a', 'b', 'c', 'd']\n",
    "str1 = ''.join(s)\n",
    "print(str1)\n"
   ]
  },
  {
   "cell_type": "code",
   "execution_count": 25,
   "id": "1742be66",
   "metadata": {},
   "outputs": [
    {
     "name": "stdout",
     "output_type": "stream",
     "text": [
      "0 5\n",
      "1 15\n",
      "2 35\n",
      "3 8\n",
      "4 98\n"
     ]
    }
   ],
   "source": [
    "nums = [5, 15, 35, 8, 98]\n",
    "for num_index, num_val in enumerate(nums):\n",
    "    print(num_index, num_val)\n",
    "\t"
   ]
  },
  {
   "cell_type": "code",
   "execution_count": 26,
   "id": "25ccb1b3",
   "metadata": {},
   "outputs": [
    {
     "name": "stdout",
     "output_type": "stream",
     "text": [
      "['p1', 'q1', 'p2', 'q2', 'p3', 'q3', 'p4', 'q4']\n"
     ]
    }
   ],
   "source": [
    "my_list = ['p', 'q']\n",
    "n = 4\n",
    "new_list = ['{}{}'.format(x, y) for y in range(1, n+1) for x in my_list]\n",
    "print(new_list)\n"
   ]
  },
  {
   "cell_type": "code",
   "execution_count": 27,
   "id": "0aeee178",
   "metadata": {},
   "outputs": [
    {
     "name": "stdout",
     "output_type": "stream",
     "text": [
      "2\n",
      "3\n",
      "5\n",
      "7\n",
      "11\n",
      "13\n",
      "17\n",
      "19\n",
      "23\n",
      "29\n",
      "31\n",
      "37\n",
      "41\n",
      "43\n",
      "47\n",
      "53\n",
      "59\n",
      "61\n",
      "67\n",
      "71\n",
      "73\n",
      "79\n",
      "83\n",
      "89\n",
      "97\n",
      "None\n"
     ]
    }
   ],
   "source": [
    "def prime_eratosthenes(n):\n",
    "    prime_list = []\n",
    "    for i in range(2, n+1):\n",
    "        if i not in prime_list:\n",
    "            print (i)\n",
    "            for j in range(i*i, n+1, i):\n",
    "                prime_list.append(j)\n",
    "\n",
    "print(prime_eratosthenes(100));\n"
   ]
  },
  {
   "cell_type": "code",
   "execution_count": 28,
   "id": "545c9fb0",
   "metadata": {},
   "outputs": [
    {
     "name": "stdout",
     "output_type": "stream",
     "text": [
      "True\n",
      "False\n"
     ]
    }
   ],
   "source": [
    "def is_Sublist(l, s):\n",
    "\tsub_set = False\n",
    "\tif s == []:\n",
    "\t\tsub_set = True\n",
    "\telif s == l:\n",
    "\t\tsub_set = True\n",
    "\telif len(s) > len(l):\n",
    "\t\tsub_set = False\n",
    "\n",
    "\telse:\n",
    "\t\tfor i in range(len(l)):\n",
    "\t\t\tif l[i] == s[0]:\n",
    "\t\t\t\tn = 1\n",
    "\t\t\t\twhile (n < len(s)) and (l[i+n] == s[n]):\n",
    "\t\t\t\t\tn += 1\n",
    "\t\t\t\t\n",
    "\t\t\t\tif n == len(s):\n",
    "\t\t\t\t\tsub_set = True\n",
    "\n",
    "\treturn sub_set\n",
    "\n",
    "a = [2,4,3,5,7]\n",
    "b = [4,3]\n",
    "c = [3,7]\n",
    "print(is_Sublist(a, b))\n",
    "print(is_Sublist(a, c))\n"
   ]
  },
  {
   "cell_type": "code",
   "execution_count": 29,
   "id": "98db3d3a",
   "metadata": {},
   "outputs": [
    {
     "name": "stdout",
     "output_type": "stream",
     "text": [
      "6\n",
      "5\n"
     ]
    }
   ],
   "source": [
    "def count_range_in_list(li, min, max):\n",
    "\tctr = 0\n",
    "\tfor x in li:\n",
    "\t\tif min <= x <= max:\n",
    "\t\t\tctr += 1\n",
    "\treturn ctr\n",
    "\n",
    "list1 = [10,20,30,40,40,40,70,80,99]\n",
    "print(count_range_in_list(list1, 40, 100))\n",
    "\n",
    "list2 = ['a','b','c','d','e','f']\n",
    "print(count_range_in_list(list2, 'a', 'e'))\n"
   ]
  },
  {
   "cell_type": "code",
   "execution_count": 30,
   "id": "48fbffba",
   "metadata": {},
   "outputs": [
    {
     "name": "stdout",
     "output_type": "stream",
     "text": [
      "Original List :  [10, 10, 10, 10, 20, 20, 20, 20, 40, 40, 50, 50, 30]\n",
      "Frequency of the elements in the List :  Counter({10: 4, 20: 4, 40: 2, 50: 2, 30: 1})\n"
     ]
    }
   ],
   "source": [
    "import collections\n",
    "my_list = [10,10,10,10,20,20,20,20,40,40,50,50,30]\n",
    "print(\"Original List : \",my_list)\n",
    "ctr = collections.Counter(my_list)\n",
    "print(\"Frequency of the elements in the List : \",ctr)\n"
   ]
  },
  {
   "cell_type": "code",
   "execution_count": 31,
   "id": "3c0ec62c",
   "metadata": {},
   "outputs": [
    {
     "name": "stdout",
     "output_type": "stream",
     "text": [
      "Original List :  [10, 20, 30, 40, 20, 50, 60, 40]\n",
      "List of unique numbers :  [40, 10, 50, 20, 60, 30]\n"
     ]
    }
   ],
   "source": [
    "my_list = [10, 20, 30, 40, 20, 50, 60, 40]\n",
    "print(\"Original List : \",my_list)\n",
    "my_set = set(my_list)\n",
    "my_new_list = list(my_set)\n",
    "print(\"List of unique numbers : \",my_new_list)\n"
   ]
  },
  {
   "cell_type": "code",
   "execution_count": 32,
   "id": "d5005781",
   "metadata": {},
   "outputs": [
    {
     "name": "stdout",
     "output_type": "stream",
     "text": [
      "3\n",
      "1\n",
      "None\n",
      "None\n"
     ]
    }
   ],
   "source": [
    "def second_largest(numbers):\n",
    "  if (len(numbers)<2):\n",
    "    return\n",
    "  if ((len(numbers)==2)  and (numbers[0] == numbers[1]) ):\n",
    "    return\n",
    "  dup_items = set()\n",
    "  uniq_items = []\n",
    "  for x in numbers:\n",
    "    if x not in dup_items:\n",
    "      uniq_items.append(x)\n",
    "      dup_items.add(x)\n",
    "  uniq_items.sort()    \n",
    "  return  uniq_items[-2]   \n",
    "print(second_largest([1,2,3,4,4]))\n",
    "print(second_largest([1, 1, 1, 0, 0, 0, 2, -2, -2]))\n",
    "print(second_largest([2,2]))\n",
    "print(second_largest([1]))\n"
   ]
  },
  {
   "cell_type": "code",
   "execution_count": 33,
   "id": "9fe7dec2",
   "metadata": {},
   "outputs": [
    {
     "name": "stdout",
     "output_type": "stream",
     "text": [
      "-2\n",
      "0\n",
      "0\n",
      "None\n",
      "None\n"
     ]
    }
   ],
   "source": [
    "def second_smallest(numbers):\n",
    "  if (len(numbers)<2):\n",
    "    return\n",
    "  if ((len(numbers)==2)  and (numbers[0] == numbers[1]) ):\n",
    "    return\n",
    "  dup_items = set()\n",
    "  uniq_items = []\n",
    "  for x in numbers:\n",
    "    if x not in dup_items:\n",
    "      uniq_items.append(x)\n",
    "      dup_items.add(x)\n",
    "  uniq_items.sort()    \n",
    "  return  uniq_items[1]   \n",
    "\n",
    "print(second_smallest([1, 2, -8, -2, 0, -2]))\n",
    "print(second_smallest([1, 1, 0, 0, 2, -2, -2]))\n",
    "print(second_smallest([1, 1, 1, 0, 0, 0, 2, -2, -2]))\n",
    "print(second_smallest([2,2]))\n",
    "print(second_smallest([2]))\n"
   ]
  },
  {
   "cell_type": "code",
   "execution_count": 34,
   "id": "98cec665",
   "metadata": {},
   "outputs": [
    {
     "name": "stdout",
     "output_type": "stream",
     "text": [
      "Compare list1 and list2\n",
      "True\n",
      "Compare list1 and list3\n",
      "False\n"
     ]
    }
   ],
   "source": [
    "list1 = [10, 10, 0, 0, 10]\n",
    "list2 = [10, 10, 10, 0, 0]\n",
    "list3 = [1, 10, 10, 0, 0]\n",
    "\n",
    "print('Compare list1 and list2')\n",
    "print(' '.join(map(str, list2)) in ' '.join(map(str, list1 * 2)))\n",
    "print('Compare list1 and list3')\n",
    "print(' '.join(map(str, list3)) in ' '.join(map(str, list1 * 2)))\n"
   ]
  },
  {
   "cell_type": "code",
   "execution_count": 35,
   "id": "ef83224b",
   "metadata": {},
   "outputs": [
    {
     "name": "stdout",
     "output_type": "stream",
     "text": [
      "1 red\n",
      "2 white\n",
      "3 black\n"
     ]
    }
   ],
   "source": [
    "num = [1, 2, 3]\n",
    "color = ['red', 'white', 'black']\n",
    "for (a,b) in zip(num, color):\n",
    "     print(a, b)\n",
    "\t "
   ]
  },
  {
   "cell_type": "code",
   "execution_count": 36,
   "id": "c19ea079",
   "metadata": {},
   "outputs": [
    {
     "name": "stdout",
     "output_type": "stream",
     "text": [
      "['emp1', 'emp2', 'emp3', 'emp4']\n"
     ]
    }
   ],
   "source": [
    "num = [1,2,3,4]\n",
    "print(['emp{0}'.format(i) for i in  num])\n"
   ]
  },
  {
   "cell_type": "code",
   "execution_count": 37,
   "id": "e747e940",
   "metadata": {},
   "outputs": [
    {
     "name": "stdout",
     "output_type": "stream",
     "text": [
      "1 2 3 4 5\n"
     ]
    }
   ],
   "source": [
    "num = [1, 2, 3, 4, 5]\n",
    "print(*num)\n"
   ]
  },
  {
   "cell_type": "code",
   "execution_count": 38,
   "id": "183c334c",
   "metadata": {},
   "outputs": [
    {
     "name": "stdout",
     "output_type": "stream",
     "text": [
      "[{}, {}, {}, {}, {}]\n"
     ]
    }
   ],
   "source": [
    "n = 5\n",
    "l = [{} for _ in range(n)]\n",
    "print(l)\n"
   ]
  },
  {
   "cell_type": "code",
   "execution_count": 39,
   "id": "14362d03",
   "metadata": {},
   "outputs": [
    {
     "name": "stdout",
     "output_type": "stream",
     "text": [
      "(6, 0)\n"
     ]
    }
   ],
   "source": [
    "x = [(4, 1), (1, 2), (6, 0)]\n",
    "print(min(x, key=lambda n: (n[1], -n[0])))\n"
   ]
  },
  {
   "cell_type": "code",
   "execution_count": 40,
   "id": "8aafa991",
   "metadata": {},
   "outputs": [
    {
     "name": "stdout",
     "output_type": "stream",
     "text": [
      "6\n"
     ]
    }
   ],
   "source": [
    "x = [1, 2, 3, 4, 5, 6]\n",
    "xlen = len(x)-1\n",
    "print(x[xlen])\n"
   ]
  },
  {
   "cell_type": "code",
   "execution_count": 41,
   "id": "409ea479",
   "metadata": {},
   "outputs": [
    {
     "name": "stdout",
     "output_type": "stream",
     "text": [
      "[1, 3, 5, 7, 9, 2, 4, 6, 8]\n"
     ]
    }
   ],
   "source": [
    "num1 = [1, 3, 5, 7, 9, 10]\n",
    "num2 = [2, 4, 6, 8]\n",
    "num1[-1:] = num2\n",
    "print(num1)\n"
   ]
  },
  {
   "cell_type": "code",
   "execution_count": 42,
   "id": "da984e1c",
   "metadata": {},
   "outputs": [
    {
     "name": "stdout",
     "output_type": "stream",
     "text": [
      "False\n",
      "True\n"
     ]
    }
   ],
   "source": [
    "color1 = [\"green\", \"orange\", \"black\", \"white\"]\n",
    "color2 = [\"green\", \"green\", \"green\", \"green\"]\n",
    "\n",
    "print(all(c == 'blue' for c in color1))\n",
    "print(all(c == 'green' for c in color2))\n"
   ]
  },
  {
   "cell_type": "code",
   "execution_count": 43,
   "id": "3ee00600",
   "metadata": {},
   "outputs": [
    {
     "name": "stdout",
     "output_type": "stream",
     "text": [
      "['Red', 'Green', 'White']\n"
     ]
    }
   ],
   "source": [
    "import ast\n",
    "color =\"['Red', 'Green', 'White']\"\n",
    "print(ast.literal_eval(color))\n"
   ]
  },
  {
   "cell_type": "code",
   "execution_count": 44,
   "id": "04fd55c2",
   "metadata": {},
   "outputs": [
    {
     "name": "stdout",
     "output_type": "stream",
     "text": [
      "Original List: \n",
      "[{'key1': 'value1', 'key2': 'value2'}, {'key1': 'value3', 'key2': 'value4'}]\n",
      "New List: \n",
      "[{'key2': 'value2'}, {'key2': 'value4'}]\n"
     ]
    }
   ],
   "source": [
    "original_list = [{'key1':'value1', 'key2':'value2'}, {'key1':'value3', 'key2':'value4'}]\n",
    "print(\"Original List: \")\n",
    "print(original_list)\n",
    "new_list = [{k: v for k, v in d.items() if k != 'key1'} for d in original_list]\n",
    "print(\"New List: \")\n",
    "print(new_list)\n"
   ]
  },
  {
   "cell_type": "code",
   "execution_count": 45,
   "id": "a38b2738",
   "metadata": {},
   "outputs": [
    {
     "name": "stdout",
     "output_type": "stream",
     "text": [
      "red-green-orange\n",
      "redgreenorange\n"
     ]
    }
   ],
   "source": [
    "color = ['red', 'green', 'orange']\n",
    "print('-'.join(color))\n",
    "print(''.join(color))\n"
   ]
  },
  {
   "cell_type": "code",
   "execution_count": 46,
   "id": "fb69bd90",
   "metadata": {},
   "outputs": [
    {
     "name": "stdout",
     "output_type": "stream",
     "text": [
      "Color1-Color2:  ['red', 'orange', 'white']\n",
      "Color2-Color1:  ['black', 'yellow']\n"
     ]
    }
   ],
   "source": [
    "from collections import Counter\n",
    "color1 = [\"red\", \"orange\", \"green\", \"blue\", \"white\"]\n",
    "color2 = [\"black\", \"yellow\", \"green\", \"blue\"]\n",
    "counter1 = Counter(color1)\n",
    "counter2 = Counter(color2)\n",
    "print(\"Color1-Color2: \",list(counter1 - counter2))\n",
    "print(\"Color2-Color1: \",list(counter2 - counter1))\n"
   ]
  },
  {
   "cell_type": "code",
   "execution_count": 47,
   "id": "b6a2638a",
   "metadata": {},
   "outputs": [
    {
     "name": "stdout",
     "output_type": "stream",
     "text": [
      "[['a', 'd', 'g', 'j', 'm'], ['b', 'e', 'h', 'k', 'n'], ['c', 'f', 'i', 'l']]\n"
     ]
    }
   ],
   "source": [
    "C = ['a', 'b', 'c', 'd', 'e', 'f', 'g', 'h', 'i', 'j', 'k', 'l', 'm', 'n']\n",
    "def list_slice(S, step):\n",
    "    return [S[i::step] for i in range(step)]\n",
    "print(list_slice(C,3))\n"
   ]
  },
  {
   "cell_type": "code",
   "execution_count": 48,
   "id": "7ec0fee8",
   "metadata": {},
   "outputs": [
    {
     "name": "stdout",
     "output_type": "stream",
     "text": [
      "Original List: \n",
      "[{'key': {'subkey': 1}}, {'key': {'subkey': 10}}, {'key': {'subkey': 5}}]\n",
      "Sorted List: \n",
      "[{'key': {'subkey': 10}}, {'key': {'subkey': 5}}, {'key': {'subkey': 1}}]\n"
     ]
    }
   ],
   "source": [
    "my_list = [{'key': {'subkey': 1}}, {'key': {'subkey': 10}}, {'key': {'subkey': 5}}]\n",
    "print(\"Original List: \")\n",
    "print(my_list)\n",
    "my_list.sort(key=lambda e: e['key']['subkey'], reverse=True)\n",
    "print(\"Sorted List: \")\n",
    "print(my_list)\n"
   ]
  },
  {
   "cell_type": "code",
   "execution_count": 49,
   "id": "c6e051b9",
   "metadata": {},
   "outputs": [
    {
     "name": "stdout",
     "output_type": "stream",
     "text": [
      "[{'color_name': 'Black', 'color_code': '#000000'}, {'color_name': 'Red', 'color_code': '#FF0000'}, {'color_name': 'Maroon', 'color_code': '#800000'}, {'color_name': 'Yellow', 'color_code': '#FFFF00'}]\n"
     ]
    }
   ],
   "source": [
    "color_name = [\"Black\", \"Red\", \"Maroon\", \"Yellow\"]\n",
    "color_code = [\"#000000\", \"#FF0000\", \"#800000\", \"#FFFF00\"]\n",
    "print([{'color_name': f, 'color_code': c} for f, c in zip(color_name, color_code)])\n"
   ]
  },
  {
   "cell_type": "code",
   "execution_count": 50,
   "id": "eabae856",
   "metadata": {},
   "outputs": [
    {
     "name": "stdout",
     "output_type": "stream",
     "text": [
      "['Red']\n",
      "['Green']\n",
      "['Black']\n"
     ]
    }
   ],
   "source": [
    "colors = [['Red'], ['Green'], ['Black']]\n",
    "print('\\n'.join([str(lst) for lst in colors]))\n"
   ]
  },
  {
   "cell_type": "code",
   "execution_count": 51,
   "id": "6c69698b",
   "metadata": {},
   "outputs": [
    {
     "name": "stdout",
     "output_type": "stream",
     "text": [
      "Original List:  ['Red', 'Green', 'Black']\n",
      "Original List:  ['c', 'Red', 'c', 'Green', 'c', 'Black']\n"
     ]
    }
   ],
   "source": [
    "color = ['Red', 'Green', 'Black']\n",
    "print(\"Original List: \",color)\n",
    "color = [v for elt in color for v in ('c', elt)]\n",
    "print(\"Original List: \",color)\n"
   ]
  },
  {
   "cell_type": "code",
   "execution_count": 52,
   "id": "5e92aaee",
   "metadata": {},
   "outputs": [
    {
     "name": "stdout",
     "output_type": "stream",
     "text": [
      "[1, 3, 5, 7, 9]\n"
     ]
    }
   ],
   "source": [
    "x = [1, 2, 3, 4, 5, 6, 7, 8, 9]\n",
    "print(x[::2])\n"
   ]
  },
  {
   "cell_type": "code",
   "execution_count": 53,
   "id": "51718377",
   "metadata": {},
   "outputs": [
    {
     "name": "stdout",
     "output_type": "stream",
     "text": [
      "Original List:  [(1, 2), (3, 4), (1, 2), (5, 6), (7, 8), (1, 2), (3, 4), (3, 4), (7, 8), (9, 10)]\n",
      "Sorted Unique Data: [1, 2, 3, 4, 5, 6, 7, 8, 9, 10]\n"
     ]
    }
   ],
   "source": [
    "L = [(1, 2), (3, 4), (1, 2), (5, 6), (7, 8), (1, 2), (3, 4), (3, 4),\n",
    " (7, 8), (9, 10)]\n",
    "print(\"Original List: \", L)\n",
    "print(\"Sorted Unique Data:\",sorted(set().union(*L)))\n"
   ]
  },
  {
   "cell_type": "code",
   "execution_count": 54,
   "id": "1a8f9245",
   "metadata": {},
   "outputs": [
    {
     "name": "stdout",
     "output_type": "stream",
     "text": [
      "[[1, 2, 3, 4, 5], [6, 7, 8, 9, 10], [11, 12, 13, 14, 15], [16, 17, 18, 19, 20], [21, 22, 23, 24, 25]]\n"
     ]
    }
   ],
   "source": [
    "l = [[5*i + j for j in range(1,6)] for i in range(5)]\n",
    "print(l)\n"
   ]
  },
  {
   "cell_type": "code",
   "execution_count": 55,
   "id": "3b255583",
   "metadata": {},
   "outputs": [
    {
     "name": "stdout",
     "output_type": "stream",
     "text": [
      "('Black', '#000000', 'rgb(0, 0, 0)')\n",
      "('Red', '#FF0000', 'rgb(255, 0, 0)')\n",
      "('Yellow', '#FFFF00', 'rgb(255, 255, 0)')\n"
     ]
    }
   ],
   "source": [
    "color = [(\"Black\", \"#000000\", \"rgb(0, 0, 0)\"), (\"Red\", \"#FF0000\", \"rgb(255, 0, 0)\"),\n",
    "         (\"Yellow\", \"#FFFF00\", \"rgb(255, 255, 0)\")]\n",
    "var1, var2, var3 = color\n",
    "print(var1)\n",
    "print(var2)\n",
    "print(var3)\n"
   ]
  },
  {
   "cell_type": "code",
   "execution_count": 56,
   "id": "8056a68e",
   "metadata": {},
   "outputs": [
    {
     "name": "stdout",
     "output_type": "stream",
     "text": [
      "Missing values in second list:  b,a,c\n",
      "Additional values in second list:  h,g\n"
     ]
    }
   ],
   "source": [
    "list1 = ['a','b','c','d','e','f']\n",
    "list2 = ['d','e','f','g','h']\n",
    "print('Missing values in second list: ', ','.join(set(list1).difference(list2)))\n",
    "print('Additional values in second list: ', ','.join(set(list2).difference(list1)))\n"
   ]
  },
  {
   "cell_type": "code",
   "execution_count": 57,
   "id": "c0ac4c41",
   "metadata": {},
   "outputs": [
    {
     "name": "stdout",
     "output_type": "stream",
     "text": [
      "{'1': [], '2': [], '3': [], '4': [], '5': [], '6': [], '7': [], '8': [], '9': [], '10': [], '11': [], '12': [], '13': [], '14': [], '15': [], '16': [], '17': [], '18': [], '19': [], '20': []}\n"
     ]
    }
   ],
   "source": [
    "obj = {}\n",
    "for i in range(1, 21):\n",
    "    obj[str(i)] = []\n",
    "print(obj)\n"
   ]
  },
  {
   "cell_type": "code",
   "execution_count": 58,
   "id": "eab115d5",
   "metadata": {},
   "outputs": [
    {
     "name": "stdout",
     "output_type": "stream",
     "text": [
      "a\n",
      "ask\n",
      "b\n",
      "be\n",
      "c\n",
      "call\n",
      "come\n",
      "d\n",
      "do\n",
      "f\n",
      "feel\n",
      "find\n",
      "g\n",
      "get\n",
      "give\n",
      "go\n",
      "h\n",
      "have\n",
      "k\n",
      "know\n",
      "l\n",
      "leave\n",
      "look\n",
      "m\n",
      "make\n",
      "s\n",
      "say\n",
      "see\n",
      "seem\n",
      "t\n",
      "take\n",
      "tell\n",
      "think\n",
      "u\n",
      "use\n",
      "w\n",
      "want\n",
      "work\n"
     ]
    }
   ],
   "source": [
    "from itertools import groupby\n",
    "from operator import itemgetter\n",
    "\n",
    "word_list = ['be','have','do','say','get','make','go','know','take','see','come','think',\n",
    "     'look','want','give','use','find','tell','ask','work','seem','feel','leave','call']\n",
    "\n",
    "for letter, words in groupby(sorted(word_list), key=itemgetter(0)):\n",
    "    print(letter)\n",
    "    for word in words:\n",
    "        print(word)\n"
   ]
  },
  {
   "cell_type": "code",
   "execution_count": 59,
   "id": "67a52ed5",
   "metadata": {},
   "outputs": [
    {
     "name": "stdout",
     "output_type": "stream",
     "text": [
      "Original List:  [11, 33, 50]\n",
      "Single Integer:  113350\n"
     ]
    }
   ],
   "source": [
    "L = [11, 33, 50]\n",
    "print(\"Original List: \",L)\n",
    "x = int(\"\".join(map(str, L)))\n",
    "print(\"Single Integer: \",x)\n"
   ]
  },
  {
   "cell_type": "code",
   "execution_count": 60,
   "id": "b6242c4c",
   "metadata": {},
   "outputs": [
    {
     "name": "stdout",
     "output_type": "stream",
     "text": [
      "[1, 0, 3, 2, 5, 4]\n"
     ]
    }
   ],
   "source": [
    "from itertools import zip_longest, chain, tee\n",
    "def replace2copy(lst):\n",
    "    lst1, lst2 = tee(iter(lst), 2)\n",
    "    return list(chain.from_iterable(zip_longest(lst[1::2], lst[::2])))\n",
    "n = [0,1,2,3,4,5]\n",
    "print(replace2copy(n))\n"
   ]
  },
  {
   "cell_type": "code",
   "execution_count": 61,
   "id": "11906bb2",
   "metadata": {},
   "outputs": [
    {
     "name": "stdout",
     "output_type": "stream",
     "text": [
      "{'Green', 'White'}\n"
     ]
    }
   ],
   "source": [
    "color1 = \"Red\", \"Green\", \"Orange\", \"White\"\n",
    "color2 = \"Black\", \"Green\", \"White\", \"Pink\"\n",
    "print(set(color1) & set(color2))\n"
   ]
  },
  {
   "cell_type": "code",
   "execution_count": 62,
   "id": "0b23c024",
   "metadata": {},
   "outputs": [
    {
     "name": "stdout",
     "output_type": "stream",
     "text": [
      "1eba19f55d0\n",
      "1eba670b770\n"
     ]
    }
   ],
   "source": [
    "x = 100\n",
    "print(format(id(x), 'x'))\n",
    "s = 'w3resource'\n",
    "print(format(id(s), 'x')) \n"
   ]
  },
  {
   "cell_type": "code",
   "execution_count": 63,
   "id": "eafabade",
   "metadata": {},
   "outputs": [
    {
     "name": "stdout",
     "output_type": "stream",
     "text": [
      "Original lists:\n",
      "[1, 1, 3, 4, 5, 6, 7]\n",
      "[0, 1, 2, 3, 4, 5, 7]\n",
      "[0, 1, 2, 3, 4, 5, 7]\n",
      "\n",
      "Common index elements of the said lists:\n",
      "[1, 7]\n"
     ]
    }
   ],
   "source": [
    "def extract_index_ele(l1, l2, l3):\n",
    "    result = []\n",
    "    for m, n, o in zip(l1, l2, l3):\n",
    "        if (m == n == o):\n",
    "            result.append(m)\n",
    "    return result\n",
    "\n",
    "nums1 = [1, 1, 3, 4, 5, 6, 7]\n",
    "nums2 = [0, 1, 2, 3, 4, 5, 7]\n",
    "nums3 = [0, 1, 2, 3, 4, 5, 7]\n",
    "\n",
    "print(\"Original lists:\")\n",
    "print(nums1)\n",
    "print(nums2)\n",
    "print(nums3)\n",
    "print(\"\\nCommon index elements of the said lists:\") \n",
    "print(extract_index_ele(nums1, nums2, nums3))\n"
   ]
  },
  {
   "cell_type": "code",
   "execution_count": 64,
   "id": "13a2fa4e",
   "metadata": {},
   "outputs": [
    {
     "name": "stdout",
     "output_type": "stream",
     "text": [
      "Original list:\n",
      "['Python', 3, 2, 4, 5, 'version']\n",
      "\n",
      "Maximum and Minimum values in the said list:\n",
      "(5, 2)\n"
     ]
    }
   ],
   "source": [
    "def max_min_val(list_val):\n",
    "     max_val = max(i for i in list_val if isinstance(i, int)) \n",
    "     min_val = min(i for i in list_val if isinstance(i, int))\n",
    "     return(max_val, min_val)\n",
    "\n",
    "list_val = ['Python', 3, 2, 4, 5, 'version'] \n",
    "print(\"Original list:\")\n",
    "print(list_val)\n",
    "print(\"\\nMaximum and Minimum values in the said list:\")\n",
    "print(max_min_val(list_val))\n"
   ]
  },
  {
   "cell_type": "code",
   "execution_count": 65,
   "id": "a76c537a",
   "metadata": {},
   "outputs": [
    {
     "name": "stdout",
     "output_type": "stream",
     "text": [
      "Original list:\n",
      "['Python', 'list', 'exercises', 'practice', 'solution']\n",
      "\n",
      "After scrambling the letters of the strings of the said list:\n",
      "['ytnhoP', 'istl', 'eseecrixs', 'ccratpie', 'nouostil']\n"
     ]
    }
   ],
   "source": [
    "from random import shuffle\n",
    "\n",
    "def shuffle_word(text_list):\n",
    "    text_list = list(text_list)\n",
    "    shuffle(text_list)\n",
    "    return ''.join(text_list)\n",
    "\n",
    "text_list = ['Python', 'list', 'exercises', 'practice', 'solution'] \n",
    "print(\"Original list:\")\n",
    "print(text_list)\n",
    "print(\"\\nAfter scrambling the letters of the strings of the said list:\")\n",
    "result =  [shuffle_word(word) for word in text_list]\n",
    "print(result) \n"
   ]
  },
  {
   "cell_type": "code",
   "execution_count": 66,
   "id": "183fe88b",
   "metadata": {},
   "outputs": [
    {
     "name": "stdout",
     "output_type": "stream",
     "text": [
      "Original list:\n",
      "[[2], [0], [1, 2, 3], [0, 1, 2, 3, 6, 7], [9, 11], [13, 14, 15, 17]]\n",
      "\n",
      "After removing sublists from a given list of lists, which contains an element outside the given range:\n",
      "[[13, 14, 15, 17]]\n"
     ]
    }
   ],
   "source": [
    "#Source bit.ly/33MAeHe\n",
    "def remove_list_range(input_list, left_range, rigth_range):\n",
    "   result = [i for i in input_list if (min(i)>=left_range and max(i)<=rigth_range)]\n",
    "   return result\n",
    "list1 = [[2], [0], [1, 2, 3], [0, 1, 2, 3, 6, 7], [9, 11], [13, 14, 15, 17]]\n",
    "left_range = 13\n",
    "rigth_range = 17\n",
    "print(\"Original list:\")\n",
    "print(list1)\n",
    "print(\"\\nAfter removing sublists from a given list of lists, which contains an element outside the given range:\")\n",
    "print(remove_list_range(list1, left_range, rigth_range))\n"
   ]
  },
  {
   "cell_type": "code",
   "execution_count": 67,
   "id": "4528a41f",
   "metadata": {},
   "outputs": [
    {
     "name": "stdout",
     "output_type": "stream",
     "text": [
      "Original list:\n",
      "[[2], [0], [1, 3], [0, 7], [9, 11], [13, 15, 17]]\n",
      "\n",
      "Sort the list of lists by length and value:\n",
      "[[0], [2], [0, 7], [1, 3], [9, 11], [13, 15, 17]]\n"
     ]
    }
   ],
   "source": [
    "def sort_sublists(input_list):\n",
    "    input_list.sort()  # sort by sublist contents\n",
    "    input_list.sort(key=len)\n",
    "    return input_list\n",
    "\n",
    "list1 = [[2], [0], [1, 3], [0, 7], [9, 11], [13, 15, 17]]\n",
    "print(\"Original list:\")\n",
    "print(list1)\n",
    "print(\"\\nSort the list of lists by length and value:\")\n",
    "print(sort_sublists(list1))\n"
   ]
  },
  {
   "cell_type": "code",
   "execution_count": 68,
   "id": "8401af24",
   "metadata": {},
   "outputs": [
    {
     "name": "stdout",
     "output_type": "stream",
     "text": [
      "\n",
      "Original list:\n",
      "[['green', 'orange'], ['black', 'white'], ['white', 'black', 'orange']]\n",
      "\n",
      "After sorting each sublist of the said list of lists:\n",
      "[['green', 'orange'], ['black', 'white'], ['black', 'orange', 'white']]\n"
     ]
    }
   ],
   "source": [
    "def sort_sublists(input_list):\n",
    "    result = list(map(sorted, input_list)) \n",
    "    return result\n",
    "color1 = [[\"green\", \"orange\"], [\"black\", \"white\"], [\"white\", \"black\", \"orange\"]]\n",
    "print(\"\\nOriginal list:\")\n",
    "print(color1)  \n",
    "print(\"\\nAfter sorting each sublist of the said list of lists:\")\n",
    "print(sort_sublists(color1))\n"
   ]
  },
  {
   "cell_type": "code",
   "execution_count": 69,
   "id": "f7aded0e",
   "metadata": {},
   "outputs": [
    {
     "name": "stdout",
     "output_type": "stream",
     "text": [
      "Original list:\n",
      "[[1, 3], [5, 7], [1, 3], [13, 15, 17], [5, 7], [9, 11]]\n",
      "Number of unique lists of the said list:\n",
      "{(1, 3): 2, (5, 7): 2, (13, 15, 17): 1, (9, 11): 1}\n",
      "\n",
      "Original list:\n",
      "[['green', 'orange'], ['black'], ['green', 'orange'], ['white']]\n",
      "Number of unique lists of the said list:\n",
      "{('green', 'orange'): 2, ('black',): 1, ('white',): 1}\n"
     ]
    }
   ],
   "source": [
    "def unique_sublists(input_list):\n",
    "    result ={}\n",
    "    for l in input_list: \n",
    "        result.setdefault(tuple(l), list()).append(1) \n",
    "    for a, b in result.items(): \n",
    "        result[a] = sum(b)\n",
    "    return result\n",
    "\n",
    "list1 = [[1, 3], [5, 7], [1, 3], [13, 15, 17], [5, 7], [9, 11]] \n",
    "print(\"Original list:\")\n",
    "print(list1)  \n",
    "print(\"Number of unique lists of the said list:\")\n",
    "print(unique_sublists(list1)) \n",
    "\n",
    "color1 = [[\"green\", \"orange\"], [\"black\"], [\"green\", \"orange\"], [\"white\"]]\n",
    "print(\"\\nOriginal list:\")\n",
    "print(color1)  \n",
    "print(\"Number of unique lists of the said list:\")\n",
    "print(unique_sublists(color1))\n"
   ]
  },
  {
   "cell_type": "code",
   "execution_count": 70,
   "id": "09ce936b",
   "metadata": {},
   "outputs": [
    {
     "name": "stdout",
     "output_type": "stream",
     "text": [
      "Original list:\n",
      "[[1, 3], [5, 7], [1, 11], [1, 15, 7]]\n",
      "\n",
      "Count 1 in the said list:\n",
      "3\n",
      "\n",
      "Count 7 in the said list:\n",
      "2\n",
      "\n",
      "Original list:\n",
      "[['A', 'B'], ['A', 'C'], ['A', 'D', 'E'], ['B', 'C', 'D']]\n",
      "\n",
      "Count 'A' in the said list:\n",
      "3\n",
      "\n",
      "Count 'E' in the said list:\n",
      "1\n"
     ]
    }
   ],
   "source": [
    "def count_element_in_list(input_list, x): \n",
    "    ctr = 0\n",
    "    for i in range(len(input_list)): \n",
    "        if x in input_list[i]: \n",
    "            ctr+= 1\n",
    "          \n",
    "    return ctr\n",
    "      \n",
    "\n",
    "list1 = [[1, 3], [5, 7], [1, 11], [1, 15, 7]] \n",
    "print(\"Original list:\")\n",
    "print(list1)\n",
    "print(\"\\nCount 1 in the said list:\")\n",
    "print(count_element_in_list(list1, 1)) \n",
    "print(\"\\nCount 7 in the said list:\")\n",
    "print(count_element_in_list(list1, 7)) \n",
    "\n",
    "\n",
    "list1 = [['A', 'B'], ['A', 'C'], ['A', 'D', 'E'], ['B', 'C', 'D']] \n",
    "print(\"\\nOriginal list:\")\n",
    "print(list1)\n",
    "print(\"\\nCount 'A' in the said list:\")\n",
    "print(count_element_in_list(list1, 'A')) \n",
    "print(\"\\nCount 'E' in the said list:\")\n",
    "print(count_element_in_list(list1, 'E'))\n"
   ]
  },
  {
   "cell_type": "code",
   "execution_count": 71,
   "id": "10907080",
   "metadata": {},
   "outputs": [
    {
     "name": "stdout",
     "output_type": "stream",
     "text": [
      "Original list:\n",
      "[[1, 3], [5, 7], [9, 11], [13, 15, 17]]\n",
      "[[1, 3], [13, 15, 17]]\n",
      "\n",
      "If the one of the said list is a subset of another.:\n",
      "True\n",
      "Original list:\n",
      "[[[1, 2], [2, 3]], [[3, 4], [5, 6]]]\n",
      "[[[3, 4], [5, 6]]]\n",
      "\n",
      "If the one of the said list is a subset of another.:\n",
      "True\n",
      "Original list:\n",
      "[[[1, 2], [2, 3]], [[3, 4], [5, 7]]]\n",
      "[[[3, 4], [5, 6]]]\n",
      "\n",
      "If the one of the said list is a subset of another.:\n",
      "False\n"
     ]
    }
   ],
   "source": [
    "def checkSubset(input_list1, input_list2): \n",
    "    return all(map(input_list1.__contains__, input_list2)) \n",
    "      \n",
    "\n",
    "list1 = [[1, 3], [5, 7], [9, 11], [13, 15, 17]] \n",
    "list2 = [[1, 3],[13,15,17]]   \n",
    "print(\"Original list:\")\n",
    "print(list1)\n",
    "print(list2)\n",
    "print(\"\\nIf the one of the said list is a subset of another.:\")\n",
    "print(checkSubset(list1, list2)) \n",
    "\n",
    "list1 = [\n",
    "           [\n",
    "             [1,2],[2,3]\n",
    "           ],\n",
    "           [\n",
    "             [3,4],[5,6]\n",
    "           ]\n",
    "         ]\n",
    "list2 = [\n",
    "           [\n",
    "             [3,4], [5, 6]\n",
    "           ]\n",
    "         ]\n",
    "print(\"Original list:\")\n",
    "print(list1)\n",
    "print(list2)\n",
    "print(\"\\nIf the one of the said list is a subset of another.:\")\n",
    "print(checkSubset(list1, list2)) \n",
    "list1 = [\n",
    "           [\n",
    "             [1,2],[2,3]\n",
    "           ],\n",
    "           [\n",
    "             [3,4],[5,7]\n",
    "           ]\n",
    "         ]\n",
    "list2 = [\n",
    "           [\n",
    "             [3,4], [5, 6]\n",
    "           ]\n",
    "         ]\n",
    "print(\"Original list:\")\n",
    "print(list1)\n",
    "print(list2)\n",
    "print(\"\\nIf the one of the said list is a subset of another.:\")\n",
    "print(checkSubset(list1, list2))\n"
   ]
  },
  {
   "cell_type": "code",
   "execution_count": 72,
   "id": "1cb430a8",
   "metadata": {},
   "outputs": [
    {
     "name": "stdout",
     "output_type": "stream",
     "text": [
      "Original list:\n",
      "[[0], [1, 3], [5, 7], [9, 11], [13, 15, 17]]\n",
      "\n",
      "List with maximum length of lists:\n",
      "(3, [13, 15, 17])\n",
      "\n",
      "List with minimum length of lists:\n",
      "(1, [0])\n",
      "Original list:\n",
      "[[0], [1, 3], [5, 7], [9, 11], [3, 5, 7]]\n",
      "\n",
      "List with maximum length of lists:\n",
      "(3, [3, 5, 7])\n",
      "\n",
      "List with minimum length of lists:\n",
      "(1, [0])\n",
      "Original list:\n",
      "[[12], [1, 3], [1, 34, 5, 7], [9, 11], [3, 5, 7]]\n",
      "\n",
      "List with maximum length of lists:\n",
      "(4, [1, 34, 5, 7])\n",
      "\n",
      "List with minimum length of lists:\n",
      "(1, [12])\n"
     ]
    }
   ],
   "source": [
    "def max_length_list(input_list):\n",
    "    max_length = max(len(x) for x in input_list )\n",
    "    max_list = max(input_list, key = len)\n",
    "    return(max_length, max_list)\n",
    "def min_length_list(input_list):\n",
    "    min_length = min(len(x) for x in input_list )\n",
    "    min_list = min(input_list, key = len)\n",
    "    return(min_length, min_list)\n",
    "list1 = [[0], [1, 3], [5, 7], [9, 11], [13, 15, 17]]\n",
    "print(\"Original list:\")\n",
    "print(list1)\n",
    "print(\"\\nList with maximum length of lists:\")\n",
    "print(max_length_list(list1))\n",
    "print(\"\\nList with minimum length of lists:\")\n",
    "print(min_length_list(list1))\n",
    "list1 =  [[0], [1, 3], [5, 7], [9, 11], [3, 5, 7]]\n",
    "print(\"Original list:\")\n",
    "print(list1)\n",
    "print(\"\\nList with maximum length of lists:\")\n",
    "print(max_length_list(list1))\n",
    "print(\"\\nList with minimum length of lists:\")\n",
    "print(min_length_list(list1))\n",
    "list1 =  [[12], [1, 3], [1, 34, 5, 7], [9, 11], [3, 5, 7]]\n",
    "print(\"Original list:\")\n",
    "print(list1)\n",
    "print(\"\\nList with maximum length of lists:\")\n",
    "print(max_length_list(list1))\n",
    "print(\"\\nList with minimum length of lists:\")\n",
    "print(min_length_list(list1))\n"
   ]
  },
  {
   "cell_type": "code",
   "execution_count": 73,
   "id": "dc84f9ea",
   "metadata": {},
   "outputs": [
    {
     "name": "stdout",
     "output_type": "stream",
     "text": [
      "Original list:\n",
      "[[1, 3], [5, 7], [9, 11], [13, 15, 17]]\n",
      "\n",
      "Number of lists in said list of lists:\n",
      "4\n",
      "\n",
      "Original list:\n",
      "[[2, 4], [[6, 8], [4, 5, 8]], [10, 12, 14]]\n",
      "\n",
      "Number of lists in said list of lists:\n",
      "3\n"
     ]
    }
   ],
   "source": [
    "def count_list(input_list): \n",
    "    return len(input_list) \n",
    "      \n",
    "list1 = [[1, 3], [5, 7], [9, 11], [13, 15, 17]] \n",
    "list2 = [[2, 4], [[6,8], [4,5,8]], [10, 12, 14]]   \n",
    "print(\"Original list:\")\n",
    "print(list1)\n",
    "print(\"\\nNumber of lists in said list of lists:\")\n",
    "print(count_list(list1))\n",
    "print(\"\\nOriginal list:\")\n",
    "print(list2)\n",
    "print(\"\\nNumber of lists in said list of lists:\")\n",
    "print(count_list(list2))\n"
   ]
  },
  {
   "cell_type": "code",
   "execution_count": 74,
   "id": "c9276d6e",
   "metadata": {},
   "outputs": [
    {
     "name": "stdout",
     "output_type": "stream",
     "text": [
      "Original lists:\n",
      "[[1, 3], [5, 7], [9, 11]]\n",
      "[[2, 4], [6, 8], [10, 12, 14]]\n",
      "\n",
      "Zipped list:\n",
      "[[1, 3, 2, 4], [5, 7, 6, 8], [9, 11, 10, 12, 14]]\n"
     ]
    }
   ],
   "source": [
    "list1 = [[1, 3], [5, 7], [9, 11]] \n",
    "list2 = [[2, 4], [6, 8], [10, 12, 14]]   \n",
    "print(\"Original lists:\")\n",
    "print(list1)\n",
    "print(list2)\n",
    "result = list(map(list.__add__, list1, list2)) \n",
    "print(\"\\nZipped list:\\n\" +  str(result))\n"
   ]
  },
  {
   "cell_type": "code",
   "execution_count": 75,
   "id": "eb2cb4e9",
   "metadata": {},
   "outputs": [
    {
     "name": "stdout",
     "output_type": "stream",
     "text": [
      "Input the size of the matrix: 2\n",
      "2\n"
     ]
    },
    {
     "ename": "IndexError",
     "evalue": "list index out of range",
     "output_type": "error",
     "traceback": [
      "\u001b[1;31m---------------------------------------------------------------------------\u001b[0m",
      "\u001b[1;31mIndexError\u001b[0m                                Traceback (most recent call last)",
      "\u001b[1;32m~\\AppData\\Local\\Temp/ipykernel_10924/1737959503.py\u001b[0m in \u001b[0;36m<module>\u001b[1;34m\u001b[0m\n\u001b[0;32m      6\u001b[0m \u001b[1;33m\u001b[0m\u001b[0m\n\u001b[0;32m      7\u001b[0m     \u001b[1;32mfor\u001b[0m \u001b[0my\u001b[0m \u001b[1;32min\u001b[0m \u001b[0mrange\u001b[0m\u001b[1;33m(\u001b[0m\u001b[1;36m0\u001b[0m\u001b[1;33m,\u001b[0m \u001b[0msize\u001b[0m\u001b[1;33m)\u001b[0m\u001b[1;33m:\u001b[0m\u001b[1;33m\u001b[0m\u001b[1;33m\u001b[0m\u001b[0m\n\u001b[1;32m----> 8\u001b[1;33m         \u001b[0mmatrix\u001b[0m\u001b[1;33m[\u001b[0m\u001b[0mx\u001b[0m\u001b[1;33m]\u001b[0m\u001b[1;33m[\u001b[0m\u001b[0my\u001b[0m\u001b[1;33m]\u001b[0m \u001b[1;33m=\u001b[0m \u001b[0mline\u001b[0m\u001b[1;33m[\u001b[0m\u001b[0my\u001b[0m\u001b[1;33m]\u001b[0m\u001b[1;33m\u001b[0m\u001b[1;33m\u001b[0m\u001b[0m\n\u001b[0m\u001b[0;32m      9\u001b[0m \u001b[1;33m\u001b[0m\u001b[0m\n\u001b[0;32m     10\u001b[0m \u001b[0mmatrix_sum_diagonal\u001b[0m \u001b[1;33m=\u001b[0m \u001b[0msum\u001b[0m\u001b[1;33m(\u001b[0m\u001b[0mmatrix\u001b[0m\u001b[1;33m[\u001b[0m\u001b[0msize\u001b[0m \u001b[1;33m-\u001b[0m \u001b[0mi\u001b[0m \u001b[1;33m-\u001b[0m \u001b[1;36m1\u001b[0m\u001b[1;33m]\u001b[0m\u001b[1;33m[\u001b[0m\u001b[0msize\u001b[0m \u001b[1;33m-\u001b[0m \u001b[0mi\u001b[0m \u001b[1;33m-\u001b[0m \u001b[1;36m1\u001b[0m\u001b[1;33m]\u001b[0m \u001b[1;32mfor\u001b[0m \u001b[0mi\u001b[0m \u001b[1;32min\u001b[0m \u001b[0mrange\u001b[0m\u001b[1;33m(\u001b[0m\u001b[0msize\u001b[0m\u001b[1;33m)\u001b[0m\u001b[1;33m)\u001b[0m\u001b[1;33m\u001b[0m\u001b[1;33m\u001b[0m\u001b[0m\n",
      "\u001b[1;31mIndexError\u001b[0m: list index out of range"
     ]
    }
   ],
   "source": [
    "size = int(input(\"Input the size of the matrix: \"))\n",
    "matrix = [[0] * size for row in range(0, size)]\n",
    "for x in range(0, size):\n",
    "\n",
    "    line = list(map(int, input().split()))\n",
    "\n",
    "    for y in range(0, size):\n",
    "        matrix[x][y] = line[y]\n",
    "\n",
    "matrix_sum_diagonal = sum(matrix[size - i - 1][size - i - 1] for i in range(size))\n",
    "print(\"Sum of matrix primary diagonal:\")\n",
    "print(matrix_sum_diagonal)\n"
   ]
  },
  {
   "cell_type": "code",
   "execution_count": 76,
   "id": "8bcae665",
   "metadata": {},
   "outputs": [
    {
     "name": "stdout",
     "output_type": "stream",
     "text": [
      "Input rows: 2\n",
      "Input columns: 3\n",
      "Input number of elements in a row (1, 2, 3): \n",
      "nums = [] for i in range(3):     nums.append([])     for j in range(1, 4):         nums[i].append(j) print(\"3X3 grid with numbers:\") print(nums)\n"
     ]
    },
    {
     "ename": "ValueError",
     "evalue": "invalid literal for int() with base 10: 'nums'",
     "output_type": "error",
     "traceback": [
      "\u001b[1;31m---------------------------------------------------------------------------\u001b[0m",
      "\u001b[1;31mValueError\u001b[0m                                Traceback (most recent call last)",
      "\u001b[1;32m~\\AppData\\Local\\Temp/ipykernel_10924/3983125915.py\u001b[0m in \u001b[0;36m<module>\u001b[1;34m\u001b[0m\n\u001b[0;32m      4\u001b[0m \u001b[0mprint\u001b[0m\u001b[1;33m(\u001b[0m\u001b[1;34m'Input number of elements in a row (1, 2, 3): '\u001b[0m\u001b[1;33m)\u001b[0m\u001b[1;33m\u001b[0m\u001b[1;33m\u001b[0m\u001b[0m\n\u001b[0;32m      5\u001b[0m \u001b[1;32mfor\u001b[0m \u001b[0mrow\u001b[0m \u001b[1;32min\u001b[0m \u001b[0mrange\u001b[0m\u001b[1;33m(\u001b[0m\u001b[0mrows\u001b[0m\u001b[1;33m)\u001b[0m\u001b[1;33m:\u001b[0m\u001b[1;33m\u001b[0m\u001b[1;33m\u001b[0m\u001b[0m\n\u001b[1;32m----> 6\u001b[1;33m     \u001b[0mlines\u001b[0m \u001b[1;33m=\u001b[0m \u001b[0mlist\u001b[0m\u001b[1;33m(\u001b[0m\u001b[0mmap\u001b[0m\u001b[1;33m(\u001b[0m\u001b[0mint\u001b[0m\u001b[1;33m,\u001b[0m \u001b[0minput\u001b[0m\u001b[1;33m(\u001b[0m\u001b[1;33m)\u001b[0m\u001b[1;33m.\u001b[0m\u001b[0msplit\u001b[0m\u001b[1;33m(\u001b[0m\u001b[1;33m)\u001b[0m\u001b[1;33m)\u001b[0m\u001b[1;33m)\u001b[0m\u001b[1;33m\u001b[0m\u001b[1;33m\u001b[0m\u001b[0m\n\u001b[0m\u001b[0;32m      7\u001b[0m     \u001b[1;32mfor\u001b[0m \u001b[0mcolumn\u001b[0m \u001b[1;32min\u001b[0m \u001b[0mrange\u001b[0m\u001b[1;33m(\u001b[0m\u001b[0mcolumns\u001b[0m\u001b[1;33m)\u001b[0m\u001b[1;33m:\u001b[0m\u001b[1;33m\u001b[0m\u001b[1;33m\u001b[0m\u001b[0m\n\u001b[0;32m      8\u001b[0m         \u001b[0mmatrix\u001b[0m\u001b[1;33m[\u001b[0m\u001b[0mrow\u001b[0m\u001b[1;33m]\u001b[0m\u001b[1;33m[\u001b[0m\u001b[0mcolumn\u001b[0m\u001b[1;33m]\u001b[0m \u001b[1;33m=\u001b[0m \u001b[0mlines\u001b[0m\u001b[1;33m[\u001b[0m\u001b[0mcolumn\u001b[0m\u001b[1;33m]\u001b[0m\u001b[1;33m\u001b[0m\u001b[1;33m\u001b[0m\u001b[0m\n",
      "\u001b[1;31mValueError\u001b[0m: invalid literal for int() with base 10: 'nums'"
     ]
    }
   ],
   "source": [
    "rows = int(input(\"Input rows: \"))\n",
    "columns = int(input(\"Input columns: \"))\n",
    "matrix = [[0]*columns for row in range(rows)]\n",
    "print('Input number of elements in a row (1, 2, 3): ')\n",
    "for row in range(rows):\n",
    "    lines = list(map(int, input().split()))\n",
    "    for column in range(columns):\n",
    "        matrix[row][column] = lines[column]\n",
    "\n",
    "sum = [0]*columns\n",
    "print(\"sum for each column:\")\n",
    "for column in range(columns):\n",
    "    for row in range(rows):\n",
    "        sum[column] += matrix[row][column]\n",
    "    print((sum[column]), ' ', end = '')\n"
   ]
  },
  {
   "cell_type": "code",
   "execution_count": 77,
   "id": "3553bb30",
   "metadata": {},
   "outputs": [
    {
     "name": "stdout",
     "output_type": "stream",
     "text": [
      "3X3 grid with numbers:\n",
      "[[1, 2, 3], [1, 2, 3], [1, 2, 3]]\n"
     ]
    }
   ],
   "source": [
    "nums = []\n",
    "for i in range(3):\n",
    "    nums.append([])\n",
    "    for j in range(1, 4):\n",
    "        nums[i].append(j)\n",
    "print(\"3X3 grid with numbers:\")\n",
    "print(nums)\n"
   ]
  },
  {
   "cell_type": "code",
   "execution_count": 78,
   "id": "c8492f2c",
   "metadata": {},
   "outputs": [
    {
     "name": "stdout",
     "output_type": "stream",
     "text": [
      "Multidimensional list:\n",
      "[[0, 0], [0, 0], [0, 0]]\n"
     ]
    }
   ],
   "source": [
    "nums = []\n",
    "\n",
    "for i in range(3):\n",
    "\n",
    "    nums.append([])\n",
    "\n",
    "    for j in range(2):\n",
    "\n",
    "        nums[i].append(0)\n",
    "print(\"Multidimensional list:\")\n",
    "print(nums)\n"
   ]
  },
  {
   "cell_type": "code",
   "execution_count": 79,
   "id": "37e580a4",
   "metadata": {},
   "outputs": [
    {
     "name": "stdout",
     "output_type": "stream",
     "text": [
      "Original list: [22.4, 4.0, 16.22, 9.1, 11.0, 12.22, 14.2, 5.2, 17.5]\n",
      "Minimum value:  4\n",
      "Maximum value:  22\n",
      "Result:\n",
      "20 25 45 55 60 70 80 90 110 "
     ]
    }
   ],
   "source": [
    "nums = [22.4, 4.0, 16.22, 9.10, 11.00, 12.22, 14.20, 5.20, 17.50]\n",
    "print(\"Original list:\", nums)\n",
    "numbers=list(map(round,nums))\n",
    "print(\"Minimum value: \",min(numbers))\n",
    "print(\"Maximum value: \",max(numbers))\n",
    "numbers=list(set(numbers))\n",
    "numbers=(sorted(map(lambda n:n*5,numbers)))\n",
    "print(\"Result:\")\n",
    "for numb in numbers:\n",
    "    print(numb,end=' ')\n"
   ]
  },
  {
   "cell_type": "code",
   "execution_count": 80,
   "id": "6add6d78",
   "metadata": {},
   "outputs": [
    {
     "name": "stdout",
     "output_type": "stream",
     "text": [
      "Original list:  [22.4, 4.0, -16.22, -9.1, 11.0, -12.22, 14.2, -5.2, 17.5]\n",
      "Result:\n",
      "243\n"
     ]
    }
   ],
   "source": [
    "nums = [22.4, 4.0, -16.22, -9.10, 11.00, -12.22, 14.20, -5.20, 17.50]\n",
    "print(\"Original list: \", nums)\n",
    "print(\"Result:\")\n",
    "lenght=len(nums)\n",
    "print(sum(list(map(round,nums))* lenght)) \n"
   ]
  },
  {
   "cell_type": "code",
   "execution_count": 81,
   "id": "018355c9",
   "metadata": {},
   "outputs": [
    {
     "name": "stdout",
     "output_type": "stream",
     "text": [
      "Original list:\n",
      "[1, 2, 3, 4, 5, 6, 7, 8, 9]\n",
      "\n",
      "Combinations of 2 distinct objects:\n",
      "[1, 2]\n",
      "[1, 3]\n",
      "[1, 4]\n",
      "[1, 5]\n",
      "[1, 6]\n",
      "[1, 7]\n",
      "[1, 8]\n",
      "[1, 9]\n",
      "[2, 3]\n",
      "[2, 4]\n",
      "[2, 5]\n",
      "[2, 6]\n",
      "[2, 7]\n",
      "[2, 8]\n",
      "[2, 9]\n",
      "[3, 4]\n",
      "[3, 5]\n",
      "[3, 6]\n",
      "[3, 7]\n",
      "[3, 8]\n",
      "[3, 9]\n",
      "[4, 5]\n",
      "[4, 6]\n",
      "[4, 7]\n",
      "[4, 8]\n",
      "[4, 9]\n",
      "[5, 6]\n",
      "[5, 7]\n",
      "[5, 8]\n",
      "[5, 9]\n",
      "[6, 7]\n",
      "[6, 8]\n",
      "[6, 9]\n",
      "[7, 8]\n",
      "[7, 9]\n",
      "[8, 9]\n"
     ]
    }
   ],
   "source": [
    "def combination(n, n_list):\n",
    "    if n<=0:\n",
    "        yield []\n",
    "        return\n",
    "    for i in range(len(n_list)):\n",
    "        c_num = n_list[i:i+1]\n",
    "        for a_num in combination(n-1, n_list[i+1:]):\n",
    "            yield c_num + a_num\n",
    "n_list = [1,2,3,4,5,6,7,8,9]\n",
    "print(\"Original list:\") \n",
    "print(n_list)\n",
    "n = 2\n",
    "result = combination(n, n_list)\n",
    "print(\"\\nCombinations of\",n,\"distinct objects:\")\n",
    "for e in result:\n",
    "     print(e)\n",
    "\n"
   ]
  },
  {
   "cell_type": "code",
   "execution_count": 82,
   "id": "a3c413b3",
   "metadata": {},
   "outputs": [
    {
     "name": "stdout",
     "output_type": "stream",
     "text": [
      "Original list:\n",
      "[1, 1, 2, 3, 4, 4, 5, 1]\n",
      "\n",
      "Selected 3 random numbers of the above list:\n",
      "[3, 4, 4]\n"
     ]
    }
   ],
   "source": [
    "import random\n",
    "def random_select_nums(n_list, n):\n",
    "        return random.sample(n_list, n)\n",
    "n_list = [1,1,2,3,4,4,5,1]\n",
    "print(\"Original list:\") \n",
    "print(n_list)\n",
    "selec_nums = 3\n",
    "result = random_select_nums(n_list, selec_nums)\n",
    "print(\"\\nSelected 3 random numbers of the above list:\")\n",
    "print(result) \n"
   ]
  },
  {
   "cell_type": "code",
   "execution_count": 83,
   "id": "b44f405d",
   "metadata": {},
   "outputs": [
    {
     "name": "stdout",
     "output_type": "stream",
     "text": [
      "Original list:\n",
      "[1, 1, 2, 3, 4, 4, 5, 1]\n",
      "\n",
      "After inserting an element at kth position in the said list:\n",
      "[1, 1, 12, 2, 3, 4, 4, 5, 1]\n"
     ]
    }
   ],
   "source": [
    "def insert_spec_position(x, n_list, pos):\n",
    "    return n_list[:pos-1]+[x]+n_list[pos-1:]\n",
    "n_list = [1,1,2,3,4,4,5,1]\n",
    "print(\"Original list:\") \n",
    "print(n_list)\n",
    "kth_position = 3\n",
    "x = 12\n",
    "result = insert_spec_position(x, n_list, kth_position)\n",
    "print(\"\\nAfter inserting an element at kth position in the said list:\")\n",
    "print(result)\n"
   ]
  },
  {
   "cell_type": "code",
   "execution_count": 84,
   "id": "71e1c39a",
   "metadata": {},
   "outputs": [
    {
     "name": "stdout",
     "output_type": "stream",
     "text": [
      "Original list:\n",
      "[1, 1, 2, 3, 4, 4, 5, 1]\n",
      "\n",
      "After removing an element at the kth position of the said list:\n",
      "[1, 1, 3, 4, 4, 5, 1]\n"
     ]
    }
   ],
   "source": [
    "def remove_kth_element(n_list, L):\n",
    "    return  n_list[:L-1] + n_list[L:]\n",
    "\n",
    "n_list = [1,1,2,3,4,4,5,1]\n",
    "print(\"Original list:\") \n",
    "print(n_list)\n",
    "kth_position = 3\n",
    "result = remove_kth_element(n_list, kth_position)\n",
    "print(\"\\nAfter removing an element at the kth position of the said list:\")\n",
    "print(result)\n"
   ]
  },
  {
   "cell_type": "code",
   "execution_count": 85,
   "id": "0ff48349",
   "metadata": {},
   "outputs": [
    {
     "name": "stdout",
     "output_type": "stream",
     "text": [
      "Original list:\n",
      "[1, 1, 2, 3, 4, 4, 5, 1]\n",
      "\n",
      "Length of the first part of the list: 3\n",
      "\n",
      "Splited the said list into two parts:\n",
      "([1, 1, 2], [3, 4, 4, 5, 1])\n"
     ]
    }
   ],
   "source": [
    "def split_two_parts(n_list, L):\n",
    "    return n_list[:L], n_list[L:]\n",
    "n_list = [1,1,2,3,4,4,5, 1]\n",
    "print(\"Original list:\") \n",
    "print(n_list)\n",
    "first_list_length = 3\n",
    "print(\"\\nLength of the first part of the list:\",first_list_length)\n",
    "print(\"\\nSplited the said list into two parts:\")\n",
    "print(split_two_parts(n_list, first_list_length))\n",
    "\n"
   ]
  },
  {
   "cell_type": "code",
   "execution_count": 86,
   "id": "9547561c",
   "metadata": {},
   "outputs": [
    {
     "name": "stdout",
     "output_type": "stream",
     "text": [
      "Original encoded list:\n",
      "[[2, 1], 2, 3, [2, 4], 5, 1]\n",
      "\n",
      "Decode a run-length encoded said list:\n",
      "[1, 1, 2, 3, 4, 4, 5, 1]\n"
     ]
    }
   ],
   "source": [
    "def decode(alist):\n",
    "    def aux(g):\n",
    "        if isinstance(g, list):\n",
    "            return [(g[1], range(g[0]))]\n",
    "        else:\n",
    "            return [(g, [0])]\n",
    "    return [x for g in alist for x, R in aux(g) for i in R]\n",
    "n_list = [[2, 1], 2, 3, [2, 4], 5, 1]\n",
    "print(\"Original encoded list:\") \n",
    "print(n_list)\n",
    "print(\"\\nDecode a run-length encoded said list:\")\n",
    "print(decode(n_list))\n"
   ]
  },
  {
   "cell_type": "code",
   "execution_count": 87,
   "id": "3cbbebef",
   "metadata": {},
   "outputs": [
    {
     "name": "stdout",
     "output_type": "stream",
     "text": [
      "Original list:\n",
      "[1, 1, 2, 3, 4, 4, 5, 1]\n",
      "\n",
      "List reflecting the modified run-length encoding from the said list:\n",
      "[[2, 1], 2, 3, [2, 4], 5, 1]\n",
      "\n",
      "Original String:\n",
      "aabcddddadnss\n",
      "\n",
      "List reflecting the modified run-length encoding from the said string:\n",
      "[[2, 'a'], 'b', 'c', [4, 'd'], 'a', 'd', 'n', [2, 's']]\n"
     ]
    }
   ],
   "source": [
    "from itertools import groupby\n",
    "def modified_encode(alist):\n",
    "        def ctr_ele(el):\n",
    "            if len(el)>1: return [len(el), el[0]]\n",
    "            else: return el[0]\n",
    "        return [ctr_ele(list(group)) for key, group in groupby(alist)]\n",
    "\n",
    "n_list = [1,1,2,3,4,4,5, 1]\n",
    "print(\"Original list:\") \n",
    "print(n_list)\n",
    "print(\"\\nList reflecting the modified run-length encoding from the said list:\")\n",
    "print(modified_encode(n_list))\n",
    "\n",
    "n_list = 'aabcddddadnss'\n",
    "print(\"\\nOriginal String:\") \n",
    "print(n_list)\n",
    "print(\"\\nList reflecting the modified run-length encoding from the said string:\")\n",
    "print(modified_encode(n_list))\n",
    "\n"
   ]
  },
  {
   "cell_type": "code",
   "execution_count": 88,
   "id": "234b3390",
   "metadata": {},
   "outputs": [
    {
     "name": "stdout",
     "output_type": "stream",
     "text": [
      "Original list:\n",
      "[1, 1, 2, 3, 4, 4.3, 5, 1]\n",
      "\n",
      "List reflecting the run-length encoding from the said list:\n",
      "[[2, 1], [1, 2], [1, 3], [1, 4], [1, 4.3], [1, 5], [1, 1]]\n",
      "\n",
      "Original String:\n",
      "automatically\n",
      "\n",
      "List reflecting the run-length encoding from the said string:\n",
      "[[1, 'a'], [1, 'u'], [1, 't'], [1, 'o'], [1, 'm'], [1, 'a'], [1, 't'], [1, 'i'], [1, 'c'], [1, 'a'], [2, 'l'], [1, 'y']]\n"
     ]
    }
   ],
   "source": [
    "from itertools import groupby\n",
    "def encode_list(s_list):\n",
    "    return [[len(list(group)), key] for key, group in groupby(s_list)]\n",
    "n_list = [1,1,2,3,4,4.3,5, 1]\n",
    "print(\"Original list:\") \n",
    "print(n_list)\n",
    "print(\"\\nList reflecting the run-length encoding from the said list:\")\n",
    "print(encode_list(n_list))\n",
    "n_list = 'automatically'\n",
    "print(\"\\nOriginal String:\") \n",
    "print(n_list)\n",
    "print(\"\\nList reflecting the run-length encoding from the said string:\")\n",
    "print(encode_list(n_list))\n"
   ]
  },
  {
   "cell_type": "code",
   "execution_count": 89,
   "id": "dcc2caa8",
   "metadata": {},
   "outputs": [
    {
     "name": "stdout",
     "output_type": "stream",
     "text": [
      "Original list:\n",
      "[0, 0, 1, 2, 3, 4, 4, 5, 6, 6, 6, 7, 8, 9, 4, 4]\n",
      "\n",
      "After packing consecutive duplicates of the said list elements into sublists:\n",
      "[[0, 0], [1], [2], [3], [4, 4], [5], [6, 6, 6], [7], [8], [9], [4, 4]]\n"
     ]
    }
   ],
   "source": [
    "from itertools import groupby\n",
    "def pack_consecutive_duplicates(l_nums):\n",
    "    return [list(group) for key, group in groupby(l_nums)]\n",
    "n_list = [0, 0, 1, 2, 3, 4, 4, 5, 6, 6, 6, 7, 8, 9, 4, 4 ]\n",
    "print(\"Original list:\") \n",
    "print(n_list)\n",
    "print(\"\\nAfter packing consecutive duplicates of the said list elements into sublists:\")\n",
    "print(pack_consecutive_duplicates(n_list)) \n",
    "\n"
   ]
  },
  {
   "cell_type": "code",
   "execution_count": 90,
   "id": "f09c4d7b",
   "metadata": {},
   "outputs": [
    {
     "name": "stdout",
     "output_type": "stream",
     "text": [
      "Original list:\n",
      "[0, 0, 1, 2, 3, 4, 4, 5, 6, 6, 6, 7, 8, 9, 4, 4]\n",
      "\n",
      "After removing consecutive duplicates:\n",
      "[0, 1, 2, 3, 4, 5, 6, 7, 8, 9, 4]\n"
     ]
    }
   ],
   "source": [
    "from itertools import groupby\n",
    "def compress(l_nums):\n",
    "    return [key for key, group in groupby(l_nums)] \n",
    "n_list = [0, 0, 1, 2, 3, 4, 4, 5, 6, 6, 6, 7, 8, 9, 4, 4 ]\n",
    "print(\"Original list:\") \n",
    "print(n_list)\n",
    "print(\"\\nAfter removing consecutive duplicates:\")\n",
    "print(compress(n_list)) \n",
    "\n"
   ]
  },
  {
   "cell_type": "code",
   "execution_count": 91,
   "id": "fe4443d7",
   "metadata": {},
   "outputs": [
    {
     "name": "stdout",
     "output_type": "stream",
     "text": [
      "Original list:\n",
      "[0, 10, [20, 30], 40, 50, [60, 70, 80], [90, 100, 110, 120]]\n",
      "\n",
      "Flatten list:\n",
      "[0, 10, 20, 30, 40, 50, 60, 70, 80, 90, 100, 110, 120]\n"
     ]
    }
   ],
   "source": [
    "def flatten_list(n_list):\n",
    "    result_list = []\n",
    "    if not n_list: return result_list\n",
    "    stack = [list(n_list)]\n",
    "    while stack:\n",
    "        c_num = stack.pop()\n",
    "        next = c_num.pop()\n",
    "        if c_num: stack.append(c_num)\n",
    "        if isinstance(next, list):\n",
    "            if next: stack.append(list(next))\n",
    "        else: result_list.append(next)\n",
    "    result_list.reverse()\n",
    "    return result_list \n",
    "n_list = [0, 10, [20, 30], 40, 50, [60, 70, 80], [90, 100, 110, 120]]\n",
    "print(\"Original list:\") \n",
    "print(n_list)\n",
    "print(\"\\nFlatten list:\")\n",
    "print(flatten_list(n_list))\n"
   ]
  },
  {
   "cell_type": "code",
   "execution_count": 92,
   "id": "5a3caeeb",
   "metadata": {},
   "outputs": [
    {
     "name": "stdout",
     "output_type": "stream",
     "text": [
      "True\n",
      "False\n"
     ]
    }
   ],
   "source": [
    "my_list = [{},{},{}]\n",
    "my_list1 = [{1,2},{},{}]\n",
    "print(all(not d for d in my_list))\n",
    "print(all(not d for d in my_list1))\n"
   ]
  },
  {
   "cell_type": "code",
   "execution_count": 93,
   "id": "2c96dcf0",
   "metadata": {},
   "outputs": [
    {
     "name": "stdout",
     "output_type": "stream",
     "text": [
      "\n",
      "Original list:\n",
      "['abcd', 'abc', 'bcd', 'bkie', 'cder', 'cdsw', 'sdfsd', 'dagfa', 'acjd']\n",
      "\n",
      "Items start with a from the said list:\n",
      "['abcd', 'abc', 'acjd']\n",
      "\n",
      "Items start with d from the said list:\n",
      "['dagfa']\n",
      "\n",
      "Items start with w from the said list:\n",
      "[]\n"
     ]
    }
   ],
   "source": [
    "def test(lst, char):\n",
    "    result = [i for i in lst if i.startswith(char)]\n",
    "    return result\n",
    "text = [\"abcd\", \"abc\", \"bcd\", \"bkie\", \"cder\", \"cdsw\", \"sdfsd\", \"dagfa\", \"acjd\"]\n",
    "print(\"\\nOriginal list:\")\n",
    "print(text)\n",
    "char = \"a\"\n",
    "print(\"\\nItems start with\",char,\"from the said list:\")\n",
    "print(test(text, char))\n",
    "char = \"d\"\n",
    "print(\"\\nItems start with\",char,\"from the said list:\")\n",
    "print(test(text, char))\n",
    "char = \"w\"\n",
    "print(\"\\nItems start with\",char,\"from the said list:\")\n",
    "print(test(text, char))\n"
   ]
  },
  {
   "cell_type": "code",
   "execution_count": 94,
   "id": "0abac023",
   "metadata": {},
   "outputs": [
    {
     "name": "stdout",
     "output_type": "stream",
     "text": [
      "Original List [[10, 20], [40], [30, 56, 25], [10, 20], [33], [40]]\n",
      "New List [[10, 20], [30, 56, 25], [33], [40]]\n"
     ]
    }
   ],
   "source": [
    "import itertools\n",
    "num = [[10, 20], [40], [30, 56, 25], [10, 20], [33], [40]]\n",
    "print(\"Original List\", num)\n",
    "num.sort()\n",
    "new_num = list(num for num,_ in itertools.groupby(num))\n",
    "print(\"New List\", new_num)\n"
   ]
  },
  {
   "cell_type": "code",
   "execution_count": 95,
   "id": "898e2ace",
   "metadata": {},
   "outputs": [
    {
     "name": "stdout",
     "output_type": "stream",
     "text": [
      "[40, 50, 60, 10, 20, 30]\n"
     ]
    }
   ],
   "source": [
    "x = [10, 20, 30]\n",
    "y = [40, 50, 60]\n",
    "x[:0] =y\n",
    "print(x)\n"
   ]
  },
  {
   "cell_type": "code",
   "execution_count": 96,
   "id": "cd8b2801",
   "metadata": {},
   "outputs": [
    {
     "name": "stdout",
     "output_type": "stream",
     "text": [
      "True\n",
      "False\n"
     ]
    }
   ],
   "source": [
    "list1 = [220, 330, 500]\n",
    "list2 = [12, 17, 21]\n",
    "print(all(x >= 200 for x in list1))\n",
    "print(all(x >= 25 for x in list2))\n"
   ]
  },
  {
   "cell_type": "code",
   "execution_count": 97,
   "id": "c02f317b",
   "metadata": {},
   "outputs": [
    {
     "name": "stdout",
     "output_type": "stream",
     "text": [
      "[10, 11, 12]\n"
     ]
    }
   ],
   "source": [
    "num = [[1,2,3], [4,5,6], [10,11,12], [7,8,9]]\n",
    "print(max(num, key=sum))\n"
   ]
  },
  {
   "cell_type": "code",
   "execution_count": 98,
   "id": "30219b02",
   "metadata": {},
   "outputs": [
    {
     "name": "stdout",
     "output_type": "stream",
     "text": [
      "[10, 11, 12]\n"
     ]
    }
   ],
   "source": [
    "num = [[1,2,3], [4,5,6], [10,11,12], [7,8,9]]\n",
    "print(max(num, key=sum))\n"
   ]
  },
  {
   "cell_type": "code",
   "execution_count": 99,
   "id": "1268ec5b",
   "metadata": {},
   "outputs": [
    {
     "name": "stdout",
     "output_type": "stream",
     "text": [
      "[10, 11, 12]\n"
     ]
    }
   ],
   "source": [
    "num = [[1,2,3], [4,5,6], [10,11,12], [7,8,9]]\n",
    "print(max(num, key=sum))\n"
   ]
  },
  {
   "cell_type": "code",
   "execution_count": 100,
   "id": "e5b52121",
   "metadata": {},
   "outputs": [
    {
     "name": "stdout",
     "output_type": "stream",
     "text": [
      "\n",
      "Original list:\n",
      "[3, 4, 0, 0, 0, 6, 2, 0, 6, 7, 6, 0, 0, 0, 9, 10, 7, 4, 4, 5, 3, 0, 0, 2, 9, 7, 1]\n",
      "\n",
      "Move all zero digits to end of the said list of numbers:\n",
      "[3, 4, 6, 2, 6, 7, 6, 9, 10, 7, 4, 4, 5, 3, 2, 9, 7, 1, 0, 0, 0, 0, 0, 0, 0, 0, 0]\n"
     ]
    }
   ],
   "source": [
    "def test(lst):\n",
    "    result = sorted(lst, key=lambda x: not x) \n",
    "    return result\n",
    "nums = [3,4,0,0,0,6,2,0,6,7,6,0,0,0,9,10,7,4,4,5,3,0,0,2,9,7,1]\n",
    "print(\"\\nOriginal list:\")\n",
    "print(nums)\n",
    "print(\"\\nMove all zero digits to end of the said list of numbers:\")\n",
    "print(test(nums)) \n"
   ]
  },
  {
   "cell_type": "code",
   "execution_count": 101,
   "id": "66b9dd2f",
   "metadata": {},
   "outputs": [
    {
     "name": "stdout",
     "output_type": "stream",
     "text": [
      "1 red\n",
      "2 white\n",
      "3 black\n"
     ]
    }
   ],
   "source": [
    "num = [1, 2, 3]\n",
    "color = ['red', 'white', 'black']\n",
    "for (a,b) in zip(num, color):\n",
    "     print(a, b)\n",
    "\t "
   ]
  },
  {
   "cell_type": "code",
   "execution_count": 102,
   "id": "1636db7b",
   "metadata": {},
   "outputs": [
    {
     "name": "stdout",
     "output_type": "stream",
     "text": [
      "['emp1', 'emp2', 'emp3', 'emp4']\n"
     ]
    }
   ],
   "source": [
    "num = [1,2,3,4]\n",
    "print(['emp{0}'.format(i) for i in  num])\n"
   ]
  },
  {
   "cell_type": "code",
   "execution_count": 103,
   "id": "33580b70",
   "metadata": {},
   "outputs": [
    {
     "name": "stdout",
     "output_type": "stream",
     "text": [
      "1 2 3 4 5\n"
     ]
    }
   ],
   "source": [
    "num = [1, 2, 3, 4, 5]\n",
    "print(*num)\n"
   ]
  },
  {
   "cell_type": "code",
   "execution_count": 104,
   "id": "bf2fdefb",
   "metadata": {},
   "outputs": [
    {
     "name": "stdout",
     "output_type": "stream",
     "text": [
      "[{}, {}, {}, {}, {}]\n"
     ]
    }
   ],
   "source": [
    "n = 5\n",
    "l = [{} for _ in range(n)]\n",
    "print(l)\n"
   ]
  },
  {
   "cell_type": "code",
   "execution_count": 105,
   "id": "5ee3504c",
   "metadata": {},
   "outputs": [
    {
     "name": "stdout",
     "output_type": "stream",
     "text": [
      "(6, 0)\n"
     ]
    }
   ],
   "source": [
    "x = [(4, 1), (1, 2), (6, 0)]\n",
    "print(min(x, key=lambda n: (n[1], -n[0])))\n"
   ]
  },
  {
   "cell_type": "code",
   "execution_count": 106,
   "id": "cd00f975",
   "metadata": {},
   "outputs": [
    {
     "name": "stdout",
     "output_type": "stream",
     "text": [
      "6\n"
     ]
    }
   ],
   "source": [
    "x = [1, 2, 3, 4, 5, 6]\n",
    "xlen = len(x)-1\n",
    "print(x[xlen])\n"
   ]
  },
  {
   "cell_type": "code",
   "execution_count": 107,
   "id": "2ee102e2",
   "metadata": {},
   "outputs": [
    {
     "name": "stdout",
     "output_type": "stream",
     "text": [
      "[1, 3, 5, 7, 9, 2, 4, 6, 8]\n"
     ]
    }
   ],
   "source": [
    "num1 = [1, 3, 5, 7, 9, 10]\n",
    "num2 = [2, 4, 6, 8]\n",
    "num1[-1:] = num2\n",
    "print(num1)\n"
   ]
  },
  {
   "cell_type": "code",
   "execution_count": 108,
   "id": "e491bab2",
   "metadata": {},
   "outputs": [
    {
     "name": "stdout",
     "output_type": "stream",
     "text": [
      "Original list:\n",
      "[('Greyson Fulton', 98, 99), ('Brady Kent', 97, 96), ('Wyatt Knott', 91, 94), ('Beau Turnbull', 94, 98)]\n",
      "\n",
      "Sort the said list of lists by a given index ( Index =  0 ) of the inner list\n",
      "[('Beau Turnbull', 94, 98), ('Brady Kent', 97, 96), ('Greyson Fulton', 98, 99), ('Wyatt Knott', 91, 94)]\n",
      "\n",
      "Sort the said list of lists by a given index ( Index =  2 ) of the inner list\n",
      "[('Wyatt Knott', 91, 94), ('Brady Kent', 97, 96), ('Beau Turnbull', 94, 98), ('Greyson Fulton', 98, 99)]\n"
     ]
    }
   ],
   "source": [
    "from operator import itemgetter\n",
    "def index_on_inner_list(list_data, index_no):\n",
    "    result = sorted(list_data, key=itemgetter(index_no))\n",
    "    return result\n",
    "students = [('Greyson Fulton', 98, 99), ('Brady Kent', 97, 96), ('Wyatt Knott', 91, 94), ('Beau Turnbull', 94, 98)] \n",
    "print (\"Original list:\")\n",
    "print(students)\n",
    "index_no = 0\n",
    "print(\"\\nSort the said list of lists by a given index\",\"( Index = \",index_no,\") of the inner list\")\n",
    "print(index_on_inner_list(students, index_no))\n",
    "index_no = 2\n",
    "print(\"\\nSort the said list of lists by a given index\",\"( Index = \",index_no,\") of the inner list\")\n",
    "print(index_on_inner_list(students, index_no))\n"
   ]
  },
  {
   "cell_type": "code",
   "execution_count": 110,
   "id": "8fccb937",
   "metadata": {},
   "outputs": [
    {
     "name": "stdout",
     "output_type": "stream",
     "text": [
      "Original list:\n",
      "[1, 2, 4, 6, 8, 2, 1, 4, 10, 12, 14, 12, 16, 17]\n",
      "\n",
      "Is the said list contains all unique elements!\n",
      "False\n",
      "\n",
      "Original list:\n",
      "[2, 4, 6, 8, 10, 12, 14]\n",
      "\n",
      "Is the said list contains all unique elements!\n",
      "True\n"
     ]
    }
   ],
   "source": [
    "def all_unique(test_list):\n",
    "    if len(test_list) > len(set(test_list)):\n",
    "        return False\n",
    "    return True\n",
    "\n",
    "nums1 = [1,2,4,6,8,2,1,4,10,12,14,12,16,17]\n",
    "print (\"Original list:\")\n",
    "print(nums1)\n",
    "print(\"\\nIs the said list contains all unique elements!\")\n",
    "print(all_unique(nums1)) \n",
    "\n",
    "nums2 = [2,4,6,8,10,12,14]\n",
    "print (\"\\nOriginal list:\")\n",
    "print(nums2)\n",
    "print(\"\\nIs the said list contains all unique elements!\")\n",
    "print(all_unique(nums2))\n"
   ]
  },
  {
   "cell_type": "code",
   "execution_count": 111,
   "id": "637b999c",
   "metadata": {},
   "outputs": [
    {
     "name": "stdout",
     "output_type": "stream",
     "text": [
      "Original list:\n",
      "[('Greyson Fulton', 98, 99), ('Brady Kent', 97, 96), ('Wyatt Knott', 91, 94), ('Beau Turnbull', 94, 98)]\n",
      "\n",
      "Extract nth element ( n = 0 ) from the said list of tuples:\n",
      "['Greyson Fulton', 'Brady Kent', 'Wyatt Knott', 'Beau Turnbull']\n",
      "\n",
      "Extract nth element ( n = 2 ) from the said list of tuples:\n",
      "[99, 96, 94, 98]\n"
     ]
    }
   ],
   "source": [
    "def extract_nth_element(test_list, n):\n",
    "    result = [x[n] for x in test_list]\n",
    "    return result\n",
    "\n",
    "students = [('Greyson Fulton', 98, 99), ('Brady Kent', 97, 96), ('Wyatt Knott', 91, 94), ('Beau Turnbull', 94, 98)] \n",
    "print (\"Original list:\")\n",
    "print(students)\n",
    "n = 0\n",
    "print(\"\\nExtract nth element ( n =\",n,\") from the said list of tuples:\")\n",
    "print(extract_nth_element(students, n))\n",
    "\n",
    "n = 2\n",
    "print(\"\\nExtract nth element ( n =\",n,\") from the said list of tuples:\")\n",
    "print(extract_nth_element(students, n))\n"
   ]
  },
  {
   "cell_type": "code",
   "execution_count": 112,
   "id": "357eb272",
   "metadata": {},
   "outputs": [
    {
     "name": "stdout",
     "output_type": "stream",
     "text": [
      "Original list with duplicate dictionary:\n",
      "[{'Green': '#008000'}, {'Black': '#000000'}, {'Blue': '#0000FF'}, {'Green': '#008000'}]\n",
      "\n",
      "After removing duplicate dictionary of the said list:\n",
      "[{'Black': '#000000'}, {'Blue': '#0000FF'}, {'Green': '#008000'}]\n"
     ]
    }
   ],
   "source": [
    "def remove_duplicate_dictionary(list_color):\n",
    "    result = [dict(e) for e in {tuple(d.items()) for d in list_color}]\n",
    "    return result\n",
    "\n",
    "list_color = [{'Green': '#008000'}, {'Black': '#000000'}, {'Blue': '#0000FF'}, {'Green': '#008000'}]\n",
    "print (\"Original list with duplicate dictionary:\")\n",
    "print(list_color)\n",
    "print(\"\\nAfter removing duplicate dictionary of the said list:\")\n",
    "print(remove_duplicate_dictionary(list_color))\n"
   ]
  },
  {
   "cell_type": "code",
   "execution_count": 113,
   "id": "05471c28",
   "metadata": {},
   "outputs": [
    {
     "name": "stdout",
     "output_type": "stream",
     "text": [
      "Original list:\n",
      "[1, 2, 4, 6, 8, 10, 12, 14, 16, 17]\n",
      "\n",
      "Is the said list is sorted!\n",
      "True\n",
      "\n",
      "Original list:\n",
      "[1, 2, 4, 6, 8, 10, 12, 14, 16, 17]\n",
      "\n",
      "Is the said list is sorted!\n",
      "False\n"
     ]
    }
   ],
   "source": [
    "def is_sort_list(nums):\n",
    "    result = all(nums[i] <= nums[i+1] for i in range(len(nums)-1))\n",
    "    return result\n",
    "\n",
    "nums1 = [1,2,4,6,8,10,12,14,16,17]\n",
    "print (\"Original list:\")\n",
    "print(nums1)\n",
    "print(\"\\nIs the said list is sorted!\")\n",
    "print(is_sort_list(nums1)) \n",
    "\n",
    "nums2 = [2,3,8,4,7,9,8,2,6,5,1,6,1,2,3,4,6,9,1,2]\n",
    "print (\"\\nOriginal list:\")\n",
    "print(nums1)\n",
    "print(\"\\nIs the said list is sorted!\")\n",
    "print(is_sort_list(nums2))\n"
   ]
  },
  {
   "cell_type": "code",
   "execution_count": 114,
   "id": "40ccffc6",
   "metadata": {},
   "outputs": [
    {
     "name": "stdout",
     "output_type": "stream",
     "text": [
      "Original list:\n",
      "[2, 3, 8, 4, 7, 9, 8, 2, 6, 5, 1, 6, 1, 2, 3, 4, 6, 9, 1, 2]\n",
      "Index list:\n",
      "[0, 3, 5, 7, 10]\n",
      "\n",
      "Items with specified index of the said list:\n",
      "[2, 4, 9, 2, 1]\n"
     ]
    }
   ],
   "source": [
    "def access_elements(nums, list_index):\n",
    "    result = [nums[i] for i in list_index]\n",
    "    return result\n",
    "\n",
    "\n",
    "nums = [2,3,8,4,7,9,8,2,6,5,1,6,1,2,3,4,6,9,1,2]\n",
    "print (\"Original list:\")\n",
    "print(nums)\n",
    "list_index = [0,3,5,7,10]\n",
    "print(\"Index list:\")\n",
    "print(list_index)\n",
    "print(\"\\nItems with specified index of the said list:\")\n",
    "print(access_elements(nums, list_index))\n"
   ]
  },
  {
   "cell_type": "code",
   "execution_count": 115,
   "id": "32566648",
   "metadata": {},
   "outputs": [
    {
     "name": "stdout",
     "output_type": "stream",
     "text": [
      "Original list:\n",
      "[2, 3, 8, 4, 7, 9, 8, 2, 6, 5, 1, 6, 1, 2, 3, 4, 6, 9, 1, 2]\n",
      "\n",
      "Item with maximum occurrences of the said list:\n",
      "2\n"
     ]
    }
   ],
   "source": [
    "def max_occurrences(nums):\n",
    "    max_val = 0\n",
    "    result = nums[0] \n",
    "    for i in nums:\n",
    "        occu = nums.count(i)\n",
    "        if occu > max_val:\n",
    "            max_val = occu\n",
    "            result = i \n",
    "    return result\n",
    "\n",
    "nums = [2,3,8,4,7,9,8,2,6,5,1,6,1,2,3,4,6,9,1,2]\n",
    "print (\"Original list:\")\n",
    "print(nums)\n",
    "print(\"\\nItem with maximum occurrences of the said list:\")\n",
    "print(max_occurrences(nums)) \n"
   ]
  },
  {
   "cell_type": "code",
   "execution_count": 117,
   "id": "7a505950",
   "metadata": {},
   "outputs": [
    {
     "name": "stdout",
     "output_type": "stream",
     "text": [
      "original List:\n",
      "[1, 2, 3, 4, 5, 6, 7, 8, 9, 10]\n",
      "\n",
      "Rotate the said list in left direction by 4:\n",
      "[4, 5, 6, 7, 8, 9, 10, 1, 2, 3, 4]\n",
      "\n",
      "Rotate the said list in left direction by 2:\n",
      "[3, 4, 5, 6, 7, 8, 9, 10, 1, 2]\n",
      "\n",
      "Rotate the said list in Right direction by 4:\n",
      "[8, 9, 10, 1, 2, 3, 4, 5, 6]\n",
      "\n",
      "Rotate the said list in Right direction by 2:\n",
      "[9, 10, 1, 2, 3, 4, 5, 6, 7, 8]\n"
     ]
    }
   ],
   "source": [
    "nums1 = [1, 2, 3, 4, 5, 6, 7, 8, 9, 10]\n",
    "print(\"original List:\")\n",
    "print(nums1)\n",
    "print(\"\\nRotate the said list in left direction by 4:\")\n",
    "result = nums1[3:] + nums1[:4]\n",
    "print(result)\n",
    "print(\"\\nRotate the said list in left direction by 2:\")\n",
    "result = nums1[2:] + nums1[:2]\n",
    "print(result)\n",
    "print(\"\\nRotate the said list in Right direction by 4:\")\n",
    "result = nums1[-3:] + nums1[:-4]\n",
    "print(result)\n",
    "print(\"\\nRotate the said list in Right direction by 2:\")\n",
    "result = nums1[-2:] + nums1[:-2]\n",
    "print(result)\n"
   ]
  },
  {
   "cell_type": "code",
   "execution_count": 118,
   "id": "0e403965",
   "metadata": {},
   "outputs": [
    {
     "name": "stdout",
     "output_type": "stream",
     "text": [
      "Original Nested list:\n",
      "[[1, 2, 3], [2, 4, 5], [1, 1, 1]]\n",
      "Extract 1st column:\n",
      "[1, 2, 1]\n",
      "\n",
      "Original Nested list:\n",
      "[[1, 2, 3], [-2, 4, -5], [1, -1, 1]]\n",
      "Extract 3rd column:\n",
      "[3, -5, 1]\n"
     ]
    }
   ],
   "source": [
    "def remove_column(nums, n):\n",
    "   result = [i.pop(n) for i in nums]\n",
    "   return result \n",
    "\n",
    "list1 = [[1, 2, 3], [2, 4, 5], [1, 1, 1]]\n",
    "n = 0\n",
    "print(\"Original Nested list:\")\n",
    "print(list1)\n",
    "print(\"Extract 1st column:\")\n",
    "print(remove_column(list1, n))\n",
    "\n",
    "list2 = [[1, 2, 3], [-2, 4, -5], [1, -1, 1]]\n",
    "n = 2\n",
    "print(\"\\nOriginal Nested list:\")\n",
    "print(list2)\n",
    "print(\"Extract 3rd column:\")\n",
    "print(remove_column(list2, n))\n"
   ]
  },
  {
   "cell_type": "code",
   "execution_count": 119,
   "id": "497b88c5",
   "metadata": {},
   "outputs": [
    {
     "name": "stdout",
     "output_type": "stream",
     "text": [
      "Original Nested list:\n",
      "[[1, 2, 3], [2, 4, 5], [1, 1, 1]]\n",
      "After removing 1st column:\n",
      "[[2, 3], [4, 5], [1, 1]]\n",
      "\n",
      "Original Nested list:\n",
      "[[1, 2, 3], [-2, 4, -5], [1, -1, 1]]\n",
      "After removing 3rd column:\n",
      "[[1, 2], [-2, 4], [1, -1]]\n"
     ]
    }
   ],
   "source": [
    "def remove_column(nums, n):\n",
    "   for i in nums: \n",
    "    del i[n] \n",
    "   return nums\n",
    "\n",
    "list1 = [[1, 2, 3], [2, 4, 5], [1, 1, 1]]\n",
    "n = 0\n",
    "print(\"Original Nested list:\")\n",
    "print(list1)\n",
    "print(\"After removing 1st column:\")\n",
    "print(remove_column(list1, n))\n",
    "\n",
    "list2 = [[1, 2, 3], [-2, 4, -5], [1, -1, 1]]\n",
    "n = 2\n",
    "print(\"\\nOriginal Nested list:\")\n",
    "print(list2)\n",
    "print(\"After removing 3rd column:\")\n",
    "print(remove_column(list2, n))\n"
   ]
  },
  {
   "cell_type": "code",
   "execution_count": 120,
   "id": "28e82085",
   "metadata": {},
   "outputs": [
    {
     "name": "stdout",
     "output_type": "stream",
     "text": [
      "Original list:\n",
      "[1, 'abcd', 3, 1.2, 4, 'xyz', 5, 'pqr', 7, -5, -12.22]\n",
      "\n",
      "Number of integers in the said mixed list:\n",
      "6\n"
     ]
    }
   ],
   "source": [
    "def count_integer(list1):\n",
    "    ctr = 0\n",
    "    for i in list1:\n",
    "        if isinstance(i, int):\n",
    "            ctr = ctr + 1\n",
    "    return ctr\n",
    "\n",
    "list1 = [1, 'abcd', 3, 1.2, 4, 'xyz', 5, 'pqr', 7, -5, -12.22]\n",
    "\n",
    "print(\"Original list:\")\n",
    "print(list1)\n",
    "\n",
    "print(\"\\nNumber of integers in the said mixed list:\")\n",
    "print(count_integer(list1))\n"
   ]
  },
  {
   "cell_type": "code",
   "execution_count": 121,
   "id": "886886fd",
   "metadata": {},
   "outputs": [
    {
     "name": "stdout",
     "output_type": "stream",
     "text": [
      "Original list:\n",
      "[1, 1, 3, 4, 4, 5, 6, 7]\n",
      "[0, 1, 2, 3, 4, 4, 5, 7, 8]\n",
      "\n",
      "Average of two lists:\n",
      "3.823529411764706\n"
     ]
    }
   ],
   "source": [
    "def average_two_lists(nums1, nums2):\n",
    "    result = sum(nums1 + nums2) / len(nums1 + nums2) \n",
    "    return result\n",
    "\n",
    "nums1 = [1, 1, 3, 4, 4, 5, 6, 7]\n",
    "nums2 = [0, 1, 2, 3, 4, 4, 5, 7, 8]\n",
    "print(\"Original list:\")\n",
    "print(nums1)\n",
    "print(nums2)\n",
    "\n",
    "print(\"\\nAverage of two lists:\")\n",
    "print(average_two_lists(nums1, nums2))\n"
   ]
  },
  {
   "cell_type": "code",
   "execution_count": 122,
   "id": "5bb885e0",
   "metadata": {},
   "outputs": [
    {
     "name": "stdout",
     "output_type": "stream",
     "text": [
      "Original list:\n",
      "[1, 1, 3, 4, 4, 5, 6, 7]\n",
      "Difference between consecutive numbers of the said list:\n",
      "[0, 2, 1, 0, 1, 1, 1]\n",
      "\n",
      "Original list:\n",
      "[4, 5, 8, 9, 6, 10]\n",
      "Difference between consecutive numbers of the said list:\n",
      "[1, 3, 1, -3, 4]\n"
     ]
    }
   ],
   "source": [
    "def diff_consecutive_nums(nums):\n",
    "    result = [b-a for a, b in zip(nums[:-1], nums[1:])]\n",
    "    return result\n",
    "\n",
    "nums1 = [1, 1, 3, 4, 4, 5, 6, 7]\n",
    "print(\"Original list:\")\n",
    "print(nums1)\n",
    "print(\"Difference between consecutive numbers of the said list:\") \n",
    "print(diff_consecutive_nums(nums1))\n",
    "\n",
    "nums2 = [4, 5, 8, 9, 6, 10]\n",
    "print(\"\\nOriginal list:\")\n",
    "print(nums2)\n",
    "print(\"Difference between consecutive numbers of the said list:\") \n",
    "print(diff_consecutive_nums(nums2))\n"
   ]
  },
  {
   "cell_type": "code",
   "execution_count": 123,
   "id": "82ca5085",
   "metadata": {},
   "outputs": [
    {
     "name": "stdout",
     "output_type": "stream",
     "text": [
      "Original list:\n",
      "[1, 1, 3, 4, 4, 5, 6, 7]\n",
      "Extract 2 number of elements from the said list which follows each other continuously:\n",
      "[1, 4]\n",
      "Original lists:\n",
      "[0, 1, 2, 3, 4, 4, 4, 4, 5, 7]\n",
      "Extract 4 number of elements from the said list which follows each other continuously:\n",
      "[4]\n"
     ]
    }
   ],
   "source": [
    "from itertools import groupby \n",
    "\n",
    "def extract_elements(nums, n):\n",
    "    result = [i for i, j in groupby(nums) if len(list(j)) == n] \n",
    "    return result\n",
    "\n",
    "nums1 = [1, 1, 3, 4, 4, 5, 6, 7]\n",
    "n = 2\n",
    "print(\"Original list:\")\n",
    "print(nums1)\n",
    "print(\"Extract 2 number of elements from the said list which follows each other continuously:\") \n",
    "print(extract_elements(nums1, n))\n",
    "nums2 = [0, 1, 2, 3, 4, 4, 4, 4, 5, 7]\n",
    "n = 4\n",
    "print(\"Original lists:\")\n",
    "print(nums2)\n",
    "print(\"Extract 4 number of elements from the said list which follows each other continuously:\") \n",
    "print(extract_elements(nums2, n))\n"
   ]
  },
  {
   "cell_type": "code",
   "execution_count": 124,
   "id": "a9cfd637",
   "metadata": {},
   "outputs": [
    {
     "name": "stdout",
     "output_type": "stream",
     "text": [
      "Original list:\n",
      "['Python', 'list', 'exercises', 'practice', 'solution']\n",
      "\n",
      "length of the string to extract:\n",
      "8\n",
      "\n",
      "After extracting strings of specified length from the said list:\n",
      "['practice', 'solution']\n"
     ]
    }
   ],
   "source": [
    "def extract_string(str_list1, l):\n",
    "    result = [e for e in str_list1 if len(e) == l] \n",
    "    return result\n",
    "\n",
    "str_list1 = ['Python', 'list', 'exercises', 'practice', 'solution'] \n",
    "print(\"Original list:\")\n",
    "print(str_list1)\n",
    "l = 8\n",
    "print(\"\\nlength of the string to extract:\")\n",
    "print(l)\n",
    "print(\"\\nAfter extracting strings of specified length from the said list:\") \n",
    "print(extract_string(str_list1 , l))\n"
   ]
  },
  {
   "cell_type": "code",
   "execution_count": 125,
   "id": "78138d5a",
   "metadata": {},
   "outputs": [
    {
     "name": "stdout",
     "output_type": "stream",
     "text": [
      "Original Matrix:\n",
      "[[1, 2, 3], [2, 4, 5], [1, 1, 1]]\n",
      "\n",
      "Sort the said matrix in ascending order according to the sum of its rows\n",
      "[[1, 1, 1], [1, 2, 3], [2, 4, 5]]\n",
      "\n",
      "Original Matrix:\n",
      "[[1, 2, 3], [-2, 4, -5], [1, -1, 1]]\n",
      "\n",
      "Sort the said matrix in ascending order according to the sum of its rows\n",
      "[[-2, 4, -5], [1, -1, 1], [1, 2, 3]]\n"
     ]
    }
   ],
   "source": [
    "def sort_matrix(M):\n",
    "    result = sorted(M, key=sum)\n",
    "    return result\n",
    "\n",
    "matrix1 = [[1, 2, 3], [2, 4, 5], [1, 1, 1]]\n",
    "matrix2 = [[1, 2, 3], [-2, 4, -5], [1, -1, 1]]\n",
    "\n",
    "print(\"Original Matrix:\")\n",
    "print(matrix1)\n",
    "print(\"\\nSort the said matrix in ascending order according to the sum of its rows\") \n",
    "print(sort_matrix(matrix1))\n",
    "print(\"\\nOriginal Matrix:\")\n",
    "print(matrix2) \n",
    "print(\"\\nSort the said matrix in ascending order according to the sum of its rows\") \n",
    "print(sort_matrix(matrix2))\n"
   ]
  },
  {
   "cell_type": "code",
   "execution_count": 126,
   "id": "f8c1efa1",
   "metadata": {},
   "outputs": [
    {
     "name": "stdout",
     "output_type": "stream",
     "text": [
      "Original tuple: \n",
      "[10, 2, 56]\n",
      "Sum of digits of each number of the said list of integers:\n",
      "14\n",
      "\n",
      "Original tuple: \n",
      "[10, 20, 4, 5, 'b', 70, 'a']\n",
      "Sum of digits of each number of the said list of integers:\n",
      "19\n",
      "\n",
      "Original tuple: \n",
      "[10, 20, -4, 5, -70]\n",
      "Sum of digits of each number of the said list of integers:\n",
      "19\n"
     ]
    }
   ],
   "source": [
    "def sum_of_digits(nums):\n",
    "    return sum(int(el) for n in nums for el in str(n) if el.isdigit())\n",
    "\n",
    "nums = [10,2,56]\n",
    "print(\"Original tuple: \") \n",
    "print(nums)\n",
    "print(\"Sum of digits of each number of the said list of integers:\")\n",
    "print(sum_of_digits(nums))\n",
    "\n",
    "nums = [10,20,4,5,'b',70,'a']\n",
    "print(\"\\nOriginal tuple: \") \n",
    "print(nums)\n",
    "print(\"Sum of digits of each number of the said list of integers:\")\n",
    "print(sum_of_digits(nums))\n",
    "\n",
    "nums = [10,20,-4,5,-70]\n",
    "print(\"\\nOriginal tuple: \") \n",
    "print(nums)\n",
    "print(\"Sum of digits of each number of the said list of integers:\")\n",
    "print(sum_of_digits(nums))\n"
   ]
  },
  {
   "cell_type": "code",
   "execution_count": 127,
   "id": "d94675d7",
   "metadata": {},
   "outputs": [
    {
     "name": "stdout",
     "output_type": "stream",
     "text": [
      "\n",
      "Generate a number in a specified range (1, 10) except [2, 9, 10]\n",
      "4\n",
      "\n",
      "Generate a number in a specified range (-5, 5) except [-5,0,4,3,2]\n",
      "-1\n"
     ]
    }
   ],
   "source": [
    "from random import choice\n",
    "def generate_random(start_range, end_range, nums):\n",
    "    result = choice([i for i in range(start_range,end_range) if i not in nums])\n",
    "    return result\n",
    "   \n",
    "start_range = 1\n",
    "end_range = 10\n",
    "nums = [2, 9, 10]\n",
    "print(\"\\nGenerate a number in a specified range (1, 10) except [2, 9, 10]\")\n",
    "print(generate_random(start_range,end_range,nums))\n",
    "\n",
    "start_range = -5\n",
    "end_range = 5\n",
    "nums = [-5,0,4,3,2]\n",
    "\n",
    "print(\"\\nGenerate a number in a specified range (-5, 5) except [-5,0,4,3,2]\")\n",
    "print(generate_random(start_range,end_range,nums))\n"
   ]
  },
  {
   "cell_type": "code",
   "execution_count": 128,
   "id": "08c7cf1f",
   "metadata": {},
   "outputs": [
    {
     "name": "stdout",
     "output_type": "stream",
     "text": [
      "Original list of lists:\n",
      "[[1, 2, 3, 2], [4, 5, 6, 2], [7, 1, 9, 5]]\n",
      "\n",
      "Extract every first element from the said given two dimensional list:\n",
      "[1, 4, 7]\n",
      "\n",
      "Extract every third element from the said given two dimensional list:\n",
      "[3, 6, 9]\n"
     ]
    }
   ],
   "source": [
    "def specified_element(nums, N):\n",
    "    result = [i[N] for i in nums]\n",
    "    return result\n",
    "    \n",
    "nums = [\n",
    "        [1,2,3,2],\n",
    "        [4,5,6,2],\n",
    "        [7,1,9,5],\n",
    "       ]\n",
    "    \n",
    "print(\"Original list of lists:\")\n",
    "print(nums)\n",
    "N = 0\n",
    "print(\"\\nExtract every first element from the said given two dimensional list:\")\n",
    "print(specified_element(nums, N))\n",
    "N = 2\n",
    "print(\"\\nExtract every third element from the said given two dimensional list:\")\n",
    "print(specified_element(nums, N))\n"
   ]
  },
  {
   "cell_type": "code",
   "execution_count": 129,
   "id": "c12ebafb",
   "metadata": {},
   "outputs": [
    {
     "name": "stdout",
     "output_type": "stream",
     "text": [
      "Original list of lists:\n",
      "[[1, 2, 3, 2], [4, 5, 6, 2], [7, 8, 9, 5]]\n",
      "\n",
      "Frequency of the elements in the said list of lists:\n",
      "{1: 1, 2: 3, 3: 1, 4: 1, 5: 2, 6: 1, 7: 1, 8: 1, 9: 1}\n"
     ]
    }
   ],
   "source": [
    "def count_elements_lists(nums):\n",
    "    nums = [item for sublist in nums for item in sublist]\n",
    "    dic_data = {}\n",
    "    for num in nums:\n",
    "        if num in dic_data.keys():\n",
    "            dic_data[num] += 1\n",
    "        else:\n",
    "            key = num\n",
    "            value = 1\n",
    "            dic_data[key] = value\n",
    "    return dic_data\n",
    "\n",
    "nums = [\n",
    "        [1,2,3,2],\n",
    "        [4,5,6,2],\n",
    "        [7,8,9,5],\n",
    "       ]    \n",
    "print(\"Original list of lists:\")\n",
    "print(nums)\n",
    "print(\"\\nFrequency of the elements in the said list of lists:\")\n",
    "print(count_elements_lists(nums))\n"
   ]
  },
  {
   "cell_type": "code",
   "execution_count": 130,
   "id": "4bb3ba8a",
   "metadata": {},
   "outputs": [
    {
     "name": "stdout",
     "output_type": "stream",
     "text": [
      "Original list of lists:\n",
      "[[1, 2, 3, 2], [4, 5, 6, 2], [7, 8, 9, 5]]\n",
      "\n",
      "Sum: 1st column of the said list of lists:\n",
      "12\n",
      "\n",
      "Sum: 2nd column of the said list of lists:\n",
      "15\n",
      "\n",
      "Sum: 4th column of the said list of lists:\n",
      "9\n"
     ]
    }
   ],
   "source": [
    "def sum_column(nums, C):\n",
    "    result = sum(row[C] for row in nums)\n",
    "    return result\n",
    "\n",
    "nums = [\n",
    "        [1,2,3,2],\n",
    "        [4,5,6,2],\n",
    "        [7,8,9,5],\n",
    "        ]\n",
    "print(\"Original list of lists:\")\n",
    "print(nums)\n",
    "\n",
    "column = 0\n",
    "print(\"\\nSum: 1st column of the said list of lists:\")\n",
    "print(sum_column(nums, column))\n",
    "column = 1\n",
    "print(\"\\nSum: 2nd column of the said list of lists:\")\n",
    "print(sum_column(nums, column))\n",
    "column = 3\n",
    "print(\"\\nSum: 4th column of the said list of lists:\")\n",
    "print(sum_column(nums, column))\n"
   ]
  },
  {
   "cell_type": "code",
   "execution_count": 131,
   "id": "9caa3b69",
   "metadata": {},
   "outputs": [
    {
     "name": "stdout",
     "output_type": "stream",
     "text": [
      "Original list:\n",
      "[[], [], [], 'Red', 'Green', [1, 2], 'Blue', [], []]\n",
      "\n",
      "After deleting the empty lists from the said lists of lists\n",
      "['Red', 'Green', [1, 2], 'Blue']\n"
     ]
    }
   ],
   "source": [
    "list1 = [[], [], [], 'Red', 'Green', [1,2], 'Blue', [], []]\n",
    "print(\"Original list:\")\n",
    "print(list1)\n",
    "print(\"\\nAfter deleting the empty lists from the said lists of lists\")\n",
    "list2 = [x for x in list1 if x]\n",
    "print(list2)\n"
   ]
  },
  {
   "cell_type": "code",
   "execution_count": 132,
   "id": "b7908446",
   "metadata": {},
   "outputs": [
    {
     "name": "stdout",
     "output_type": "stream",
     "text": [
      "Original list of lists:\n",
      "[['Red', 'Maroon', 'Yellow', 'Olive'], ['#FF0000', '#800000', '#FFFF00', '#808000'], ['rgb(255,0,0)', 'rgb(128,0,0)', 'rgb(255,255,0)', 'rgb(128,128,0)']]\n",
      "\n",
      "Remove 1st item from the said list of lists:\n",
      "[['Maroon', 'Yellow', 'Olive'], ['#800000', '#FFFF00', '#808000'], ['rgb(128,0,0)', 'rgb(255,255,0)', 'rgb(128,128,0)']]\n",
      "\n",
      "Remove 2nd item from the said list of lists:\n",
      "[['Red', 'Yellow', 'Olive'], ['#FF0000', '#FFFF00', '#808000'], ['rgb(255,0,0)', 'rgb(255,255,0)', 'rgb(128,128,0)']]\n",
      "\n",
      "Remove 4th item from the said list of lists:\n",
      "[['Red', 'Maroon', 'Yellow'], ['#FF0000', '#800000', '#FFFF00'], ['rgb(255,0,0)', 'rgb(128,0,0)', 'rgb(255,255,0)']]\n"
     ]
    }
   ],
   "source": [
    "import copy\t\n",
    "def remove_list_of_lists(color, N):\n",
    "    for x in color:\n",
    "        del x[N]\n",
    "    return color\n",
    "\n",
    "nums = [\n",
    "        [\"Red\",\"Maroon\",\"Yellow\",\"Olive\"],\n",
    "        [\"#FF0000\", \"#800000\", \"#FFFF00\", \"#808000\"],\n",
    "        [\"rgb(255,0,0)\",\"rgb(128,0,0)\",\"rgb(255,255,0)\",\"rgb(128,128,0)\"]\n",
    "       ]\n",
    "nums1 =  copy.deepcopy(nums)\n",
    "nums2 =  copy.deepcopy(nums)\n",
    "nums3 =  copy.deepcopy(nums)\n",
    "\n",
    "print(\"Original list of lists:\")\n",
    "print(nums)\n",
    "N = 0\n",
    "print(\"\\nRemove 1st item from the said list of lists:\")\n",
    "print(remove_list_of_lists(nums1, N))\n",
    "N = 1\n",
    "print(\"\\nRemove 2nd item from the said list of lists:\")\n",
    "print(remove_list_of_lists(nums2, N))\n",
    "N = 3\n",
    "print(\"\\nRemove 4th item from the said list of lists:\")\n",
    "print(remove_list_of_lists(nums3, N))\n"
   ]
  },
  {
   "cell_type": "code",
   "execution_count": 133,
   "id": "80eb1042",
   "metadata": {},
   "outputs": [
    {
     "name": "stdout",
     "output_type": "stream",
     "text": [
      "Original list:\n",
      "['4', '12', '45', '7', '0', '100', '200', '-12', '-500']\n",
      "\n",
      "Sort the said list of strings(numbers) numerically:\n",
      "[-500, -12, 0, 4, 7, 12, 45, 100, 200]\n"
     ]
    }
   ],
   "source": [
    "def sort_numeric_strings(nums_str):\n",
    "    result = [int(x) for x in nums_str]\n",
    "    result.sort()\n",
    "    return result\n",
    "nums_str = ['4','12','45','7','0','100','200','-12','-500']\n",
    "print(\"Original list:\")\n",
    "print(nums_str)\n",
    "print(\"\\nSort the said list of strings(numbers) numerically:\")\n",
    "print(sort_numeric_strings(nums_str))\n"
   ]
  },
  {
   "cell_type": "code",
   "execution_count": 134,
   "id": "a52e99ff",
   "metadata": {},
   "outputs": [
    {
     "name": "stdout",
     "output_type": "stream",
     "text": [
      "Original list:\n",
      "[19, 'red', 12, 'green', 'blue', 10, 'white', 'green', 1]\n",
      "\n",
      "Sort the said  mixed list of integers and strings:\n",
      "[1, 10, 12, 19, 'blue', 'green', 'green', 'red', 'white']\n"
     ]
    }
   ],
   "source": [
    "def sort_mixed_list(mixed_list):\n",
    "    int_part = sorted([i for i in mixed_list if type(i) is int])\n",
    "    str_part = sorted([i for i in mixed_list if type(i) is str])\n",
    "    return int_part + str_part\n",
    "mixed_list = [19,'red',12,'green','blue', 10,'white','green',1]\n",
    "print(\"Original list:\")\n",
    "print(mixed_list)\n",
    "print(\"\\nSort the said  mixed list of integers and strings:\")\n",
    "print(sort_mixed_list(mixed_list))\n"
   ]
  },
  {
   "cell_type": "code",
   "execution_count": 135,
   "id": "16c70c16",
   "metadata": {},
   "outputs": [
    {
     "name": "stdout",
     "output_type": "stream",
     "text": [
      "Original list:\n",
      "[1, 3, 5, 7, 4, 1, 6, 8]\n",
      "\n",
      "First even and odd number of the said list of numbers:\n",
      "(4, 1)\n"
     ]
    }
   ],
   "source": [
    "def first_even_odd(nums):\n",
    "    first_even = next((el for el in nums if el%2==0),-1)\n",
    "    first_odd = next((el for el in nums if el%2!=0),-1)\n",
    "    return first_even,first_odd\n",
    "\n",
    "nums= [1,3,5,7,4,1,6,8]\n",
    "print(\"Original list:\")\n",
    "print(nums)\n",
    "print(\"\\nFirst even and odd number of the said list of numbers:\")\n",
    "print(first_even_odd(nums))\n"
   ]
  },
  {
   "cell_type": "code",
   "execution_count": 136,
   "id": "88143ceb",
   "metadata": {},
   "outputs": [
    {
     "name": "stdout",
     "output_type": "stream",
     "text": [
      "Original String:\n",
      "['Python', 'Exercises', 'Practice', 'Solution', 'Exercises']\n",
      "\n",
      "After removing duplicate words from the said list of strings:\n",
      "['Python', 'Exercises', 'Practice', 'Solution']\n"
     ]
    }
   ],
   "source": [
    "def unique_list(l):\n",
    "    temp = []\n",
    "    for x in l:\n",
    "        if x not in temp:\n",
    "            temp.append(x)\n",
    "    return temp\n",
    "\n",
    "text_str = [\"Python\", \"Exercises\", \"Practice\", \"Solution\", \"Exercises\"]\n",
    "print(\"Original String:\")\n",
    "print(text_str)\n",
    "print(\"\\nAfter removing duplicate words from the said list of strings:\")\n",
    "print(unique_list(text_str))\n"
   ]
  },
  {
   "cell_type": "code",
   "execution_count": 137,
   "id": "bc435afc",
   "metadata": {},
   "outputs": [
    {
     "name": "stdout",
     "output_type": "stream",
     "text": [
      "Original lists:\n",
      "[1, 1, 2, 3, 3, 4, 4, 5]\n",
      "\n",
      "Iterate over all pairs of consecutive items of the said list:\n",
      "[(1, 1), (1, 2), (2, 3), (3, 3), (3, 4), (4, 4), (4, 5)]\n"
     ]
    }
   ],
   "source": [
    "def pairwise(l1):\n",
    "    temp = []\n",
    "    for i in range(len(l1) - 1):\n",
    "        current_element, next_element = l1[i], l1[i + 1]\n",
    "        x = (current_element, next_element)\n",
    "        temp.append(x)\n",
    "    return temp\n",
    "l1 = [1,1,2,3,3,4,4,5]\n",
    "print(\"Original lists:\")\n",
    "print(l1)\n",
    "print(\"\\nIterate over all pairs of consecutive items of the said list:\")\n",
    "print(pairwise(l1))\n"
   ]
  },
  {
   "cell_type": "code",
   "execution_count": 138,
   "id": "a2757dfb",
   "metadata": {},
   "outputs": [
    {
     "name": "stdout",
     "output_type": "stream",
     "text": [
      "Original lists:\n",
      "[1, 1, 2, 3, 3, 4, 4, 5, 6, 7]\n",
      "[1, 1, 2, 4, 5, 6]\n",
      "\n",
      "Difference between two said list including duplicate elements):\n",
      "[3, 3, 4, 7]\n"
     ]
    }
   ],
   "source": [
    "def list_difference(l1,l2):\n",
    "    result = list(l1)\n",
    "    for el in l2:\n",
    "        result.remove(el)\n",
    "    return result\n",
    "l1 = [1,1,2,3,3,4,4,5,6,7]\n",
    "l2 = [1,1,2,4,5,6]\n",
    "\n",
    "print(\"Original lists:\")\n",
    "print(l1)\n",
    "print(l2)\n",
    "print(\"\\nDifference between two said list including duplicate elements):\")\n",
    "print(list_difference(l1,l2))\n"
   ]
  },
  {
   "cell_type": "code",
   "execution_count": 139,
   "id": "db4eda04",
   "metadata": {},
   "outputs": [
    {
     "name": "stdout",
     "output_type": "stream",
     "text": [
      "Original lists:\n",
      "['red', 'green', 'black', 'orange']\n",
      "['red', 'pink', 'green', 'white', 'black']\n",
      "['white', 'orange', 'pink', 'black']\n",
      "\n",
      "Test common elements between color1 and color2 are in same order?\n",
      "True\n",
      "\n",
      "Test common elements between color1 and color3 are in same order?\n",
      "False\n",
      "\n",
      "Test common elements between color2 and color3 are in same order?\n",
      "False\n"
     ]
    }
   ],
   "source": [
    "def same_order(l1, l2):\n",
    "    common_elements = set(l1) & set(l2)\n",
    "    l1 = [e for e in l1 if e in common_elements]\n",
    "    l2 = [e for e in l2 if e in common_elements]\n",
    "    return l1 == l2\n",
    "\n",
    "color1 = [\"red\",\"green\",\"black\",\"orange\"]\n",
    "color2 = [\"red\",\"pink\",\"green\",\"white\",\"black\"]\n",
    "color3 = [\"white\",\"orange\",\"pink\",\"black\"]\n",
    "\n",
    "print(\"Original lists:\")\n",
    "print(color1)\n",
    "print(color2)\n",
    "print(color3)\n",
    "print(\"\\nTest common elements between color1 and color2 are in same order?\")\n",
    "print(same_order(color1, color2))\n",
    "print(\"\\nTest common elements between color1 and color3 are in same order?\")\n",
    "print(same_order(color1, color3))\n",
    "print(\"\\nTest common elements between color2 and color3 are in same order?\")\n",
    "print(same_order(color2, color3))\n"
   ]
  },
  {
   "cell_type": "code",
   "execution_count": null,
   "id": "8e49b2a8",
   "metadata": {},
   "outputs": [],
   "source": []
  },
  {
   "cell_type": "code",
   "execution_count": 140,
   "id": "3f5e474d",
   "metadata": {},
   "outputs": [
    {
     "name": "stdout",
     "output_type": "stream",
     "text": [
      "Original list:\n",
      "[12, 33, 23, 10, 67, 89, 45, 667, 23, 12, 11, 10, 54]\n",
      "\n",
      "Index positions of the maximum value of the said list:\n",
      "[7]\n",
      "\n",
      "Index positions of the minimum value of the said list:\n",
      "[3, 11]\n"
     ]
    }
   ],
   "source": [
    "def position_max_min(nums):\n",
    "    max_val = max(nums)\n",
    "    min_val = min(nums)\n",
    "    max_result = [i for i, j in enumerate(nums) if j == max_val]\n",
    "    min_result = [i for i, j in enumerate(nums) if j == min_val]\n",
    "    return max_result,min_result\n",
    "\n",
    "nums = [12,33,23,10,67,89,45,667,23,12,11,10,54]\n",
    "print(\"Original list:\")\n",
    "print(nums)\n",
    "result = position_max_min(nums)\n",
    "print(\"\\nIndex positions of the maximum value of the said list:\")\n",
    "print(result[0])\n",
    "print(\"\\nIndex positions of the minimum value of the said list:\")\n",
    "print(result[1])\n"
   ]
  },
  {
   "cell_type": "code",
   "execution_count": 141,
   "id": "3d5a339b",
   "metadata": {},
   "outputs": [
    {
     "name": "stdout",
     "output_type": "stream",
     "text": [
      "Original lists:\n",
      "[1, 2, 2, 2, 4, 4, 4, 5, 5, 5, 5]\n",
      "\n",
      "Consecutive duplicate elements and their frequency:\n",
      "([1, 2, 4, 5], [1, 3, 3, 4])\n"
     ]
    }
   ],
   "source": [
    "def count_dups(nums):\n",
    "    element = []\n",
    "    freque = []\n",
    "    if not nums:\n",
    "        return element\n",
    "    running_count = 1\n",
    "    for i in range(len(nums)-1):\n",
    "        if nums[i] == nums[i+1]:\n",
    "            running_count += 1\n",
    "        else:\n",
    "            freque.append(running_count)\n",
    "            element.append(nums[i])\n",
    "            running_count = 1\n",
    "    freque.append(running_count)\n",
    "    element.append(nums[i+1])\n",
    "    return element,freque\n",
    "\n",
    "\n",
    "nums = [1,2,2,2,4,4,4,5,5,5,5]\n",
    "print(\"Original lists:\")\n",
    "print(nums)\n",
    "\n",
    "print(\"\\nConsecutive duplicate elements and their frequency:\")\n",
    "print(count_dups(nums))\n"
   ]
  },
  {
   "cell_type": "code",
   "execution_count": 142,
   "id": "a007e455",
   "metadata": {},
   "outputs": [
    {
     "name": "stdout",
     "output_type": "stream",
     "text": [
      "Original lists:\n",
      "[1, 2, 3, 4, 5, 6, 7, 8]\n",
      "[2, 2, 3, 1, 2, 6, 7, 9]\n",
      "[2, 1, 3, 1, 2, 6, 7, 9]\n",
      "\n",
      "Number of same pair of the said three given lists:\n",
      "3\n"
     ]
    }
   ],
   "source": [
    "def count_same_pair(nums1, nums2, nums3):\n",
    "    result = sum(m == n == o for m, n, o in zip(nums1, nums2, nums3))\n",
    "    return result\n",
    "nums1 = [1,2,3,4,5,6,7,8]\n",
    "nums2 = [2,2,3,1,2,6,7,9]\n",
    "nums3 = [2,1,3,1,2,6,7,9]\n",
    "print(\"Original lists:\")\n",
    "print(nums1)\n",
    "print(nums2)\n",
    "print(nums3)\n",
    "print(\"\\nNumber of same pair of the said three given lists:\")\n",
    "print(count_same_pair(nums1, nums2, nums3))\n"
   ]
  },
  {
   "cell_type": "code",
   "execution_count": 143,
   "id": "5aefe21f",
   "metadata": {},
   "outputs": [
    {
     "name": "stdout",
     "output_type": "stream",
     "text": [
      "Original list of lists:\n",
      "[[1, 2, 3, 4], [5, 6, 7, 8], [9, 10, 11, 12], [13, 14, 15, 16]]\n",
      "\n",
      "Reverse each list in the said list of lists:\n",
      "[[4, 3, 2, 1], [8, 7, 6, 5], [12, 11, 10, 9], [16, 15, 14, 13]]\n"
     ]
    }
   ],
   "source": [
    "def reverse_list_lists(nums):\n",
    "    for l in nums:\n",
    "        l.sort(reverse = True)\n",
    "    return nums    \n",
    "nums = [[1, 2, 3, 4], [5, 6, 7, 8], [9, 10, 11, 12], [13, 14, 15, 16]]\n",
    "print(\"Original list of lists:\")\n",
    "print(nums)\n",
    "print(\"\\nReverse each list in the said list of lists:\")\n",
    "print(reverse_list_lists(nums))\n"
   ]
  },
  {
   "cell_type": "code",
   "execution_count": 144,
   "id": "1a10d1e2",
   "metadata": {},
   "outputs": [
    {
     "name": "stdout",
     "output_type": "stream",
     "text": [
      "Original list:\n",
      "[2, 1, 5, 6, 8, 3, 4, 9, 10, 11, 8, 12]\n",
      "Range: 8 , 10\n",
      "\n",
      "Sum of the specified range:\n",
      "29\n"
     ]
    }
   ],
   "source": [
    "def sum_Range_list(nums, m, n):                                                                                                                                                                                                \n",
    "    sum_range = 0                                                                                                                                                                                                         \n",
    "    for i in range(m, n+1, 1):                                                                                                                                                                                        \n",
    "        sum_range += nums[i]                                                                                                                                                                                                  \n",
    "    return sum_range   \n",
    "\n",
    "nums = [2,1,5,6,8,3,4,9,10,11,8,12]\n",
    "print(\"Original list:\")\n",
    "print(nums)\n",
    "m = 8\n",
    "n = 10\n",
    "print(\"Range:\",m,\",\",n) \n",
    "print(\"\\nSum of the specified range:\")\n",
    "print(sum_Range_list(nums, m, n))\n"
   ]
  },
  {
   "cell_type": "code",
   "execution_count": 145,
   "id": "a2dee8f7",
   "metadata": {},
   "outputs": [
    {
     "name": "stdout",
     "output_type": "stream",
     "text": [
      "Original list:\n",
      "list1: ['Red color', 'Orange#', 'Green', 'Orange @', 'White']\n",
      "\n",
      "Character list:\n",
      "['#', 'color', '@']\n",
      "\n",
      "New list:\n",
      "['Red', '', 'Green', 'Orange', 'White']\n"
     ]
    }
   ],
   "source": [
    "def remove_words(in_list, char_list):\n",
    "    new_list = []\n",
    "    for line in in_list:\n",
    "        new_words = ' '.join([word for word in line.split() if not any([phrase in word for phrase in char_list])])\n",
    "        new_list.append(new_words)\n",
    "    return new_list\n",
    "     \n",
    "str_list = ['Red color', 'Orange#', 'Green', 'Orange @', \"White\"]\n",
    "print(\"Original list:\")\n",
    "print(\"list1:\",str_list)\n",
    "char_list = ['#', 'color', '@']\n",
    "print(\"\\nCharacter list:\")\n",
    "print(char_list)\n",
    "print(\"\\nNew list:\")\n",
    "print(remove_words(str_list, char_list))\n"
   ]
  },
  {
   "cell_type": "code",
   "execution_count": 146,
   "id": "79ddb88c",
   "metadata": {},
   "outputs": [
    {
     "name": "stdout",
     "output_type": "stream",
     "text": [
      "Original list:\n",
      "list1: [1, 2, 3, 4, 5, 6, 7]\n",
      "list2: [10, 20, 30, 40, 50, 60, 70]\n",
      "list3: [100, 200, 300, 400, 500, 600, 700]\n",
      "\n",
      "Interleave multiple lists:\n",
      "[1, 10, 100, 2, 20, 200, 3, 30, 300, 4, 40, 400, 5, 50, 500, 6, 60, 600, 7, 70, 700]\n"
     ]
    }
   ],
   "source": [
    "def interleave_multiple_lists(list1,list2,list3):\n",
    "    result = [el for pair in zip(list1, list2, list3) for el in pair]\n",
    "    return result\n",
    "     \n",
    "list1 = [1,2,3,4,5,6,7]\n",
    "list2 = [10,20,30,40,50,60,70]\n",
    "list3 = [100,200,300,400,500,600,700]\n",
    "print(\"Original list:\")\n",
    "print(\"list1:\",list1)\n",
    "print(\"list2:\",list2)\n",
    "print(\"list3:\",list3)\n",
    "print(\"\\nInterleave multiple lists:\")\n",
    "print(interleave_multiple_lists(list1,list2,list3))\n"
   ]
  },
  {
   "cell_type": "code",
   "execution_count": 147,
   "id": "6053d097",
   "metadata": {},
   "outputs": [
    {
     "name": "stdout",
     "output_type": "stream",
     "text": [
      "Original List :  [10, 20, 30, 40, 20, 50, 60, 40]\n",
      "Product of the unique numbers of the said list:  720000000\n"
     ]
    }
   ],
   "source": [
    "def unique_product(list_data):\n",
    "    temp = list(set(list_data))\n",
    "    p = 1\n",
    "    for i in temp:\n",
    "        p *= i\n",
    "    return p\n",
    "nums = [10, 20, 30, 40, 20, 50, 60, 40]\n",
    "print(\"Original List : \",nums)\n",
    "print(\"Product of the unique numbers of the said list: \",unique_product(nums))\n"
   ]
  },
  {
   "cell_type": "code",
   "execution_count": 148,
   "id": "5deef926",
   "metadata": {},
   "outputs": [
    {
     "name": "stdout",
     "output_type": "stream",
     "text": [
      "The original list, tuple : \n",
      "[(2, 7), (2, 6), (1, 8), (4, 9)]\n",
      "\n",
      "Maximum and minimum product from the pairs of the said tuple of list:\n",
      "(36, 8)\n"
     ]
    }
   ],
   "source": [
    "def tuple_max_val(nums):\n",
    "    result_max = max([abs(x * y) for x, y in nums] )\n",
    "    result_min = min([abs(x * y) for x, y in nums] )\n",
    "    return result_max,result_min\n",
    "nums = [(2, 7), (2, 6), (1, 8), (4, 9)]   \n",
    "print(\"The original list, tuple : \") \n",
    "print(nums)\n",
    "print(\"\\nMaximum and minimum product from the pairs of the said tuple of list:\")\n",
    "print(tuple_max_val(nums)) \n"
   ]
  },
  {
   "cell_type": "code",
   "execution_count": 149,
   "id": "23588f8e",
   "metadata": {},
   "outputs": [
    {
     "name": "stdout",
     "output_type": "stream",
     "text": [
      "\n",
      "Original lists:\n",
      "['Red', 'Green', 'Blue', 'White', 'Black']\n",
      "\n",
      "Reverse strings of the said given list:\n",
      "['deR', 'neerG', 'eulB', 'etihW', 'kcalB']\n"
     ]
    }
   ],
   "source": [
    "def reverse_strings_list(string_list):\n",
    "    result = [x[::-1] for x in string_list]\n",
    "    return result\n",
    "\n",
    "colors_list = [\"Red\", \"Green\", \"Blue\", \"White\", \"Black\"]\n",
    "print(\"\\nOriginal lists:\")\n",
    "print(colors_list)\n",
    "print(\"\\nReverse strings of the said given list:\")\n",
    "print(reverse_strings_list(colors_list))\n"
   ]
  },
  {
   "cell_type": "code",
   "execution_count": 150,
   "id": "d5cf75b8",
   "metadata": {},
   "outputs": [
    {
     "name": "stdout",
     "output_type": "stream",
     "text": [
      "\n",
      "Original lists:\n",
      "[[12, 18, 23, 25, 45], [7, 12, 18, 24, 28], [1, 5, 8, 12, 15, 16, 18]]\n",
      "\n",
      "Common element(s) in nested lists:\n",
      "[18, 12]\n"
     ]
    }
   ],
   "source": [
    "def common_in_nested_lists(nested_list):\n",
    "    result = list(set.intersection(*map(set, nested_list)))\n",
    "    return result\n",
    "nested_list = [[12, 18, 23, 25, 45], [7, 12, 18, 24, 28], [1, 5, 8, 12, 15, 16, 18]]\n",
    "print(\"\\nOriginal lists:\")\n",
    "print(nested_list)\n",
    "print(\"\\nCommon element(s) in nested lists:\")\n",
    "print(common_in_nested_lists(nested_list))\n"
   ]
  },
  {
   "cell_type": "code",
   "execution_count": 151,
   "id": "8ed2b5ec",
   "metadata": {},
   "outputs": [
    {
     "name": "stdout",
     "output_type": "stream",
     "text": [
      "\n",
      "Original lists:\n",
      "[1, 2, 3, 4, 5, 6, 7, 8, 9, 10, 11, 12, 13, 14]\n",
      "[[12, 18, 23, 25, 45], [7, 11, 19, 24, 28], [1, 5, 8, 18, 15, 16]]\n",
      "\n",
      "Intersection of said nested lists:\n",
      "[[12], [7, 11], [1, 5, 8]]\n"
     ]
    }
   ],
   "source": [
    "def intersection_nested_lists(l1, l2):\n",
    "    result = [[n for n in lst if n in l1] for lst in l2]\n",
    "    return result\n",
    "nums1 = [1, 2, 3, 4, 5, 6, 7, 8, 9, 10, 11, 12, 13, 14]\n",
    "nums2 = [[12, 18, 23, 25, 45], [7, 11, 19, 24, 28], [1, 5, 8, 18, 15, 16]]\n",
    "print(\"\\nOriginal lists:\")\n",
    "print(nums1)\n",
    "print(nums2)\n",
    "print(\"\\nIntersection of said nested lists:\")\n",
    "print(intersection_nested_lists(nums1, nums2))\n"
   ]
  },
  {
   "cell_type": "code",
   "execution_count": 152,
   "id": "7faf1425",
   "metadata": {},
   "outputs": [
    {
     "name": "stdout",
     "output_type": "stream",
     "text": [
      "Original list:\n",
      "['red', 'black', 'white', 'green', 'orange']\n",
      "List with alternate elements from the said list:\n",
      "['red', 'white', 'orange']\n",
      "\n",
      "Original list:\n",
      "[2, 0, 3, 4, 0, 2, 8, 3, 4, 2]\n",
      "List with alternate elements from the said list:\n",
      "[2, 3, 0, 8, 4]\n"
     ]
    }
   ],
   "source": [
    "def alternate_elements(list_data):\n",
    "    result=[]\n",
    "    for item in list_data[::2]:\n",
    "        result.append(item)\n",
    "    return result \n",
    "colors = [\"red\", \"black\", \"white\", \"green\", \"orange\"]\n",
    "print(\"Original list:\")\n",
    "print(colors)\n",
    "print(\"List with alternate elements from the said list:\")\n",
    "print(alternate_elements(colors))\n",
    "nums = [2,0,3,4,0,2,8,3,4,2]\n",
    "print(\"\\nOriginal list:\")\n",
    "print(nums)\n",
    "print(\"List with alternate elements from the said list:\")\n",
    "print(alternate_elements(nums))\n"
   ]
  },
  {
   "cell_type": "code",
   "execution_count": 153,
   "id": "b78e5e3e",
   "metadata": {},
   "outputs": [
    {
     "name": "stdout",
     "output_type": "stream",
     "text": [
      "Original list:\n",
      "['red', 'black', 'white', 'green', 'orange']\n",
      "Substring to search:\n",
      "ack\n",
      "Check if a substring presents in the said list of string values:\n",
      "True\n",
      "Substring to search:\n",
      "abc\n",
      "Check if a substring presents in the said list of string values:\n",
      "False\n"
     ]
    }
   ],
   "source": [
    "def find_substring(str1, sub_str):\n",
    "   if any(sub_str in s for s in str1):\n",
    "       return True\n",
    "   return False\n",
    "\n",
    "colors = [\"red\", \"black\", \"white\", \"green\", \"orange\"]\n",
    "print(\"Original list:\")\n",
    "print(colors)\n",
    "sub_str = \"ack\"\n",
    "print(\"Substring to search:\")\n",
    "print(sub_str)\n",
    "print(\"Check if a substring presents in the said list of string values:\")\n",
    "print(find_substring(colors, sub_str))\n",
    "sub_str = \"abc\"\n",
    "print(\"Substring to search:\")\n",
    "print(sub_str)\n",
    "print(\"Check if a substring presents in the said list of string values:\")\n",
    "print(find_substring(colors, sub_str))\n"
   ]
  },
  {
   "cell_type": "code",
   "execution_count": null,
   "id": "d3301875",
   "metadata": {},
   "outputs": [],
   "source": []
  },
  {
   "cell_type": "code",
   "execution_count": 154,
   "id": "d9be08b2",
   "metadata": {},
   "outputs": [
    {
     "name": "stdout",
     "output_type": "stream",
     "text": [
      "Original list:\n",
      "[1, 2, 3, 4, 5, 6, 7, 8, 9, 10]\n",
      "\n",
      "Dfference between elements (n+1th – nth) of the said list :\n",
      "[1, 1, 1, 1, 1, 1, 1, 1, 1]\n",
      "\n",
      "Original list:\n",
      "[2, 4, 6, 8]\n",
      "\n",
      "Dfference between elements (n+1th – nth) of the said list :\n",
      "[2, 2, 2]\n"
     ]
    }
   ],
   "source": [
    "def elements_difference(nums):\n",
    "    result = [j-i for i, j in zip(nums[:-1], nums[1:])]\n",
    "    return result\n",
    "\n",
    "nums1 = [1,2,3,4,5,6,7,8,9,10]\n",
    "nums2 = [2,4,6,8]\n",
    "\n",
    "print(\"Original list:\")\n",
    "print(nums1)\n",
    "print(\"\\nDfference between elements (n+1th – nth) of the said list :\")\n",
    "print(elements_difference(nums1))\n",
    "print(\"\\nOriginal list:\")\n",
    "print(nums2)\n",
    "print(\"\\nDfference between elements (n+1th – nth) of the said list :\")\n",
    "print(elements_difference(nums2))\n",
    "\n"
   ]
  },
  {
   "cell_type": "code",
   "execution_count": 155,
   "id": "f0af27c4",
   "metadata": {},
   "outputs": [
    {
     "name": "stdout",
     "output_type": "stream",
     "text": [
      "Original lists:\n",
      "list1: [1, 2, 3, 4, 5, 6, 7, 8, 9, 10]\n",
      "list2: [2, 4, 6, 8]\n",
      "\n",
      "Remove all elements from 'list1' present in 'list2:\n",
      "[1, 3, 5, 7, 9, 10]\n"
     ]
    }
   ],
   "source": [
    "def index_on_inner_list(list1, list2):\n",
    "    result = [x for x in list1 if x not in list2]\n",
    "    return result\n",
    "\n",
    "list1 = [1,2,3,4,5,6,7,8,9,10]\n",
    "list2 = [2,4,6,8]\n",
    "\n",
    "print(\"Original lists:\")\n",
    "print(\"list1:\", list1)\n",
    "print(\"list2:\", list2)\n",
    "\n",
    "print(\"\\nRemove all elements from 'list1' present in 'list2:\")\n",
    "print(index_on_inner_list(list1, list2))\n"
   ]
  },
  {
   "cell_type": "code",
   "execution_count": 156,
   "id": "35e4767e",
   "metadata": {},
   "outputs": [
    {
     "name": "stdout",
     "output_type": "stream",
     "text": [
      "Original list:\n",
      "[3, 40, 41, 43, 74, 9]\n",
      "Smallest possible number using the elements of the said list of positive integers:\n",
      "3404143749\n",
      "\n",
      "Original list:\n",
      "[10, 40, 20, 30, 50, 60]\n",
      "Smallest possible number using the elements of the said list of positive integers:\n",
      "102030405060\n",
      "\n",
      "Original list:\n",
      "[8, 4, 2, 9, 5, 6, 1, 0]\n",
      "Smallest possible number using the elements of the said list of positive integers:\n",
      "01245689\n"
     ]
    }
   ],
   "source": [
    "def create_largest_number(lst):\n",
    "    if all(val == 0 for val in lst):\n",
    "        return '0'\n",
    "    result = ''.join(sorted((str(val) for val in lst), reverse=False,\n",
    "                      key=lambda i: i*( len(str(min(lst))) * 2 // len(i))))\n",
    "    return result\n",
    "\n",
    "\n",
    "nums = [3, 40, 41, 43, 74, 9]\n",
    "print(\"Original list:\")\n",
    "print(nums)\n",
    "print(\"Smallest possible number using the elements of the said list of positive integers:\")\n",
    "print(create_largest_number(nums))\n",
    "\n",
    "nums = [10, 40, 20, 30, 50, 60]\n",
    "print(\"\\nOriginal list:\")\n",
    "print(nums)\n",
    "print(\"Smallest possible number using the elements of the said list of positive integers:\")\n",
    "print(create_largest_number(nums))\n",
    "nums = [8, 4, 2, 9, 5, 6, 1, 0]\n",
    "print(\"\\nOriginal list:\")\n",
    "print(nums)\n",
    "print(\"Smallest possible number using the elements of the said list of positive integers:\")\n",
    "print(create_largest_number(nums))\n"
   ]
  },
  {
   "cell_type": "code",
   "execution_count": 157,
   "id": "96d8a63d",
   "metadata": {},
   "outputs": [
    {
     "name": "stdout",
     "output_type": "stream",
     "text": [
      "Original list:\n",
      "[3, 40, 41, 43, 74, 9]\n",
      "Largest possible number using the elements of the said list of positive integers:\n",
      "9744341403\n",
      "\n",
      "Original list:\n",
      "[10, 40, 20, 30, 50, 60]\n",
      "Largest possible number using the elements of the said list of positive integers:\n",
      "605040302010\n",
      "\n",
      "Original list:\n",
      "[8, 4, 2, 9, 5, 6, 1, 0]\n",
      "Largest possible number using the elements of the said list of positive integers:\n",
      "98654210\n"
     ]
    }
   ],
   "source": [
    "def create_largest_number(lst):\n",
    "    if all(val == 0 for val in lst):\n",
    "        return '0'\n",
    "    result = ''.join(sorted((str(val) for val in lst), reverse=True,\n",
    "                      key=lambda i: i*( len(str(max(lst))) * 2 // len(i))))\n",
    "    return result\n",
    "nums = [3, 40, 41, 43, 74, 9]\n",
    "print(\"Original list:\")\n",
    "print(nums)\n",
    "print(\"Largest possible number using the elements of the said list of positive integers:\")\n",
    "print(create_largest_number(nums))\n",
    "\n",
    "nums = [10, 40, 20, 30, 50, 60]\n",
    "print(\"\\nOriginal list:\")\n",
    "print(nums)\n",
    "print(\"Largest possible number using the elements of the said list of positive integers:\")\n",
    "print(create_largest_number(nums))\n",
    "nums = [8, 4, 2, 9, 5, 6, 1, 0]\n",
    "print(\"\\nOriginal list:\")\n",
    "print(nums)\n",
    "print(\"Largest possible number using the elements of the said list of positive integers:\")\n",
    "print(create_largest_number(nums))\n"
   ]
  },
  {
   "cell_type": "code",
   "execution_count": 158,
   "id": "487fcd57",
   "metadata": {},
   "outputs": [
    {
     "name": "stdout",
     "output_type": "stream",
     "text": [
      "Original list:\n",
      "[1, 3, 5, 7, 9, 11, 0, 2, 4, 6, 8, 10, 8, 9, 0, 4, 3, 0]\n",
      "\n",
      "Insert 20 in said list after every 4 th element:\n",
      "[1, 3, 5, 7, 20, 9, 11, 0, 2, 20, 4, 6, 8, 10, 20, 8, 9, 0, 4, 20, 3, 0]\n",
      "\n",
      "Original list:\n",
      "['s', 'd', 'f', 'j', 's', 'a', 'j', 'd', 'f', 'd']\n",
      "\n",
      "Insert Z in said list after every 3 th element:\n",
      "['s', 'd', 'f', 'Z', 'j', 's', 'a', 'Z', 'j', 'd', 'f', 'Z', 'd']\n"
     ]
    }
   ],
   "source": [
    "def inset_element_list(lst, x, n):\n",
    "    i = n\n",
    "    while i < len(lst):\n",
    "        lst.insert(i, x)\n",
    "        i+= n+1\n",
    "    return lst\n",
    "\n",
    "nums = [1, 3, 5, 7, 9, 11,0, 2, 4, 6, 8, 10,8,9,0,4,3,0]\n",
    "print(\"Original list:\")\n",
    "print(nums)\n",
    "x = 20\n",
    "n = 4\n",
    "print(\"\\nInsert\",x,\"in said list after every\",n,\"th element:\")\n",
    "print(inset_element_list(nums, x, n))\n",
    "\n",
    "chars = ['s','d','f','j','s','a','j','d','f','d']\n",
    "print(\"\\nOriginal list:\")\n",
    "print(chars)\n",
    "x = 'Z'\n",
    "n = 3\n",
    "print(\"\\nInsert\",x,\"in said list after every\",n,\"th element:\")\n",
    "print(inset_element_list(chars, x, n))\n"
   ]
  },
  {
   "cell_type": "code",
   "execution_count": 159,
   "id": "ec3cbfbd",
   "metadata": {},
   "outputs": [
    {
     "name": "stdout",
     "output_type": "stream",
     "text": [
      "Original list:\n",
      "[[7, 2, 3, 4, 7], [9, 2, 3, 2, 5], [8, 2, 3, 4, 4]]\n",
      "\n",
      "Common elements of the said list of lists:\n",
      "[2, 3]\n",
      "\n",
      "Original list:\n",
      "[['a', 'b', 'c'], ['b', 'c', 'd'], ['c', 'd', 'e']]\n",
      "\n",
      "Common elements of the said list of lists:\n",
      "['c']\n"
     ]
    }
   ],
   "source": [
    "def common_list_of_lists(lst):\n",
    "    temp = set(lst[0]).intersection(*lst)\n",
    "    return list(temp) \n",
    "\n",
    "nums = [[7,2,3,4,7],[9,2,3,2,5],[8,2,3,4,4]]\n",
    "print(\"Original list:\")\n",
    "print(nums)\n",
    "print(\"\\nCommon elements of the said list of lists:\")\n",
    "print(common_list_of_lists(nums))\n",
    "chars = [['a','b','c'],['b','c','d'],['c','d','e']]\n",
    "print(\"\\nOriginal list:\")\n",
    "print(chars)\n",
    "print(\"\\nCommon elements of the said list of lists:\")\n",
    "print(common_list_of_lists(chars))\n"
   ]
  },
  {
   "cell_type": "code",
   "execution_count": 160,
   "id": "e4b0c12b",
   "metadata": {},
   "outputs": [
    {
     "name": "stdout",
     "output_type": "stream",
     "text": [
      "Original list:\n",
      "[7, 2, 3, 4, 9, 2, 3]\n",
      "[7, 2, 3, 4, 9, 2, 3]\n",
      "[0.7777777777777778, 0.25, 1.5, 1.3333333333333333, 3.0, 2.0, 1.5]\n"
     ]
    }
   ],
   "source": [
    "def dividing_two_lists(l1,l2):\n",
    "    result = [x/y for x, y in zip(l1,l2)]\n",
    "    return result \n",
    "nums1 = [7,2,3,4,9,2,3]\n",
    "nums2 = [9,8,2,3,3,1,2]\n",
    "print(\"Original list:\")\n",
    "print(nums1)\n",
    "print(nums1)\n",
    "print(dividing_two_lists(nums1, nums2))\n"
   ]
  },
  {
   "cell_type": "code",
   "execution_count": 161,
   "id": "f0372f5a",
   "metadata": {},
   "outputs": [
    {
     "name": "stdout",
     "output_type": "stream",
     "text": [
      "Original list:\n",
      "[(2, 3), (2, 4), (0, 6), (7, 1)]\n",
      "\n",
      "Maximum value  for each tuple position in the said list of tuples:\n",
      "[7, 6]\n",
      "\n",
      "Minimum value  for each tuple position in the said list of tuples:\n",
      "[0, 1]\n"
     ]
    }
   ],
   "source": [
    "def max_min_list_tuples(nums):\n",
    "    zip(*nums)\n",
    "    result1 = map(max, zip(*nums))\n",
    "    result2 = map(min, zip(*nums))\n",
    "    return list(result1), list(result2)\n",
    "\n",
    "nums = [(2,3),(2,4),(0,6),(7,1)]\n",
    "print(\"Original list:\")\n",
    "print(nums)\n",
    "\n",
    "result = max_min_list_tuples(nums)\n",
    "print(\"\\nMaximum value  for each tuple position in the said list of tuples:\")\n",
    "print(result[0])\n",
    "print(\"\\nMinimum value  for each tuple position in the said list of tuples:\")\n",
    "print(result[1])\n"
   ]
  },
  {
   "cell_type": "code",
   "execution_count": 162,
   "id": "1d7de9fd",
   "metadata": {},
   "outputs": [
    {
     "name": "stdout",
     "output_type": "stream",
     "text": [
      "Original lists:\n",
      "[3, 8, 9, 4, 5, 0, 5, 0, 3]\n",
      "\n",
      "Add 3 to each element in the said list:\n",
      "[6, 11, 12, 7, 8, 3, 8, 3, 6]\n",
      "\n",
      "Original lists:\n",
      "[3.2, 8, 9.9, 4.2, 5, 0.1, 5, 3.11, 0]\n",
      "\n",
      "Add 0.51 to each element in the said list:\n",
      "[3.71, 8.51, 10.41, 4.71, 5.51, 0.61, 5.51, 3.62, 0.51]\n"
     ]
    }
   ],
   "source": [
    "def add_val_to_list(lst, add_val):\n",
    "    result = lst\n",
    "    result = [x+add_val for x in result]   \n",
    "    return result    \n",
    "nums = [3,8,9,4,5,0,5,0,3]\n",
    "print(\"Original lists:\")\n",
    "print(nums)\n",
    "add_val = 3\n",
    "print(\"\\nAdd\",add_val,\"to each element in the said list:\")\n",
    "print(add_val_to_list(nums, add_val))\n",
    "nums = [3.2,8,9.9,4.2,5,0.1,5,3.11,0]\n",
    "print(\"\\nOriginal lists:\")\n",
    "print(nums)\n",
    "add_val = .51\n",
    "print(\"\\nAdd\",add_val,\"to each element in the said list:\")\n",
    "print(add_val_to_list(nums, add_val))\n"
   ]
  },
  {
   "cell_type": "code",
   "execution_count": 164,
   "id": "692b17ba",
   "metadata": {},
   "outputs": [
    {
     "name": "stdout",
     "output_type": "stream",
     "text": [
      "Original list:\n",
      "['a', 'b', 'c', 'd', 'e', 'f']\n",
      "\n",
      "Display each element vertically of the said list:\n",
      "a\n",
      "b\n",
      "c\n",
      "d\n",
      "e\n",
      "f\n",
      "Original list:\n",
      "[[1, 2, 5], [4, 5, 8], [7, 3, 6]]\n",
      "\n",
      "Display each element vertically of the said list of lists:\n",
      "1 4 7\n",
      "2 5 3\n",
      "5 8 6\n"
     ]
    }
   ],
   "source": [
    "text = [\"a\", \"b\", \"c\", \"d\",\"e\", \"f\"]\n",
    "print(\"Original list:\")\n",
    "print(text)\n",
    "print(\"\\nDisplay each element vertically of the said list:\")\n",
    "for i in text:\n",
    "       print(i)\n",
    "nums = [[1, 2, 5], [4, 5, 8], [7, 3, 6]] \n",
    "print(\"Original list:\")\n",
    "print(nums)\n",
    "print(\"\\nDisplay each element vertically of the said list of lists:\")\n",
    "for a,b,c in zip(*nums): \n",
    "    print(a, b, c)\n"
   ]
  },
  {
   "cell_type": "code",
   "execution_count": 165,
   "id": "ae5d313e",
   "metadata": {},
   "outputs": [
    {
     "name": "stdout",
     "output_type": "stream",
     "text": [
      "Original list of strings:\n",
      "['Red', 'Maroon', 'Yellow', 'Olive']\n",
      "\n",
      "Convert the said list of strings into list of lists:\n",
      "[['R', 'e', 'd'], ['M', 'a', 'r', 'o', 'o', 'n'], ['Y', 'e', 'l', 'l', 'o', 'w'], ['O', 'l', 'i', 'v', 'e']]\n"
     ]
    }
   ],
   "source": [
    "def strings_to_listOflists(colors):\n",
    "    result = [list(word) for word in colors]\n",
    "    return result\n",
    "\n",
    "colors = [\"Red\", \"Maroon\", \"Yellow\", \"Olive\"]\n",
    "print('Original list of strings:')\n",
    "print(colors)\n",
    "print(\"\\nConvert the said list of strings into list of lists:\")\n",
    "print(strings_to_listOflists(colors))\n"
   ]
  },
  {
   "cell_type": "code",
   "execution_count": 166,
   "id": "80ce0146",
   "metadata": {},
   "outputs": [
    {
     "name": "stdout",
     "output_type": "stream",
     "text": [
      "Original list:\n",
      "[12, 0, None, 23, None, -55, 234, 89, None, 0, 6, -12]\n",
      "\n",
      "Remove None value from the said list:\n",
      "[12, 0, 23, -55, 234, 89, 0, 6, -12]\n"
     ]
    }
   ],
   "source": [
    "def remove_none(nums):\n",
    "    result = [x for x in nums if x is not None]\n",
    "    return result\n",
    "nums = [12, 0, None, 23, None, -55, 234, 89, None, 0, 6, -12]\n",
    "print(\"Original list:\")\n",
    "print(nums)\n",
    "print(\"\\nRemove None value from the said list:\")\n",
    "print(remove_none(nums))\n"
   ]
  },
  {
   "cell_type": "code",
   "execution_count": 167,
   "id": "cf26d151",
   "metadata": {},
   "outputs": [
    {
     "name": "stdout",
     "output_type": "stream",
     "text": [
      "Original list:\n",
      "[12, 45, 23, 67, 78, 90, 45, 32, 100, 76, 38, 62, 73, 29, 83]\n",
      "\n",
      "Split the said list into equal size 3\n",
      "[[12, 45, 23], [67, 78, 90], [45, 32, 100], [76, 38, 62], [73, 29, 83]]\n",
      "\n",
      "Split the said list into equal size 4\n",
      "[[12, 45, 23, 67], [78, 90, 45, 32], [100, 76, 38, 62], [73, 29, 83]]\n",
      "\n",
      "Split the said list into equal size 5\n",
      "[[12, 45, 23, 67, 78], [90, 45, 32, 100, 76], [38, 62, 73, 29, 83]]\n"
     ]
    }
   ],
   "source": [
    "def split_list(lst, n):\n",
    "    result = list((lst[i:i+n] for i in range(0, len(lst), n)))\n",
    "    return result\n",
    "nums = [12,45,23,67,78,90,45,32,100,76,38,62,73,29,83]\n",
    "print(\"Original list:\")\n",
    "print(nums)\n",
    "n = 3\n",
    "print(\"\\nSplit the said list into equal size\",n)\n",
    "print(split_list(nums,n))\n",
    "n = 4\n",
    "print(\"\\nSplit the said list into equal size\",n)\n",
    "print(split_list(nums,n))\n",
    "n = 5\n",
    "print(\"\\nSplit the said list into equal size\",n)\n",
    "print(split_list(nums,n))\n"
   ]
  },
  {
   "cell_type": "code",
   "execution_count": 168,
   "id": "02e0c8e0",
   "metadata": {},
   "outputs": [
    {
     "name": "stdout",
     "output_type": "stream",
     "text": [
      "Original list:\n",
      "[12, 45, 23, 67, 78, 90, 45, 32, 100, 76, 38, 62, 73, 29, 83]\n",
      "\n",
      "Number of Items of the said list which are even and greater than 45\n",
      "5\n"
     ]
    }
   ],
   "source": [
    "def first_index(l1):\n",
    "    return sum(1 for i in l1 if (i> 45 and i % 2 == 0))\n",
    "\n",
    "nums = [12,45,23,67,78,90,45,32,100,76,38,62,73,29,83]\n",
    "print(\"Original list:\")\n",
    "print(nums)\n",
    "n = 45\n",
    "print(\"\\nNumber of Items of the said list which are even and greater than\",n)\n",
    "print(first_index(nums))\n"
   ]
  },
  {
   "cell_type": "code",
   "execution_count": 169,
   "id": "0b8ee4fa",
   "metadata": {},
   "outputs": [
    {
     "name": "stdout",
     "output_type": "stream",
     "text": [
      "Original list:\n",
      "[12, 45, 23, 67, 78, 90, 100, 76, 38, 62, 73, 29, 83]\n",
      "\n",
      "Index of the first element which is greater than 73 in the said list:\n",
      "4\n",
      "\n",
      "Index of the first element which is greater than 21 in the said list:\n",
      "1\n",
      "\n",
      "Index of the first element which is greater than 80 in the said list:\n",
      "5\n",
      "\n",
      "Index of the first element which is greater than 55 in the said list:\n",
      "3\n"
     ]
    }
   ],
   "source": [
    "def first_index(l1, n):\n",
    "    return next(a[0] for a in enumerate(l1) if a[1] > n)\n",
    " \n",
    "nums = [12,45,23,67,78,90,100,76,38,62,73,29,83]\n",
    "print(\"Original list:\")\n",
    "print(nums)\n",
    "n = 73\n",
    "print(\"\\nIndex of the first element which is greater than\",n,\"in the said list:\")\n",
    "print(first_index(nums,n))\n",
    "n = 21\n",
    "print(\"\\nIndex of the first element which is greater than\",n,\"in the said list:\")\n",
    "print(first_index(nums,n))\n",
    "n = 80\n",
    "print(\"\\nIndex of the first element which is greater than\",n,\"in the said list:\")\n",
    "print(first_index(nums,n))\n",
    "n = 55\n",
    "print(\"\\nIndex of the first element which is greater than\",n,\"in the said list:\")\n",
    "print(first_index(nums,n))\n"
   ]
  },
  {
   "cell_type": "code",
   "execution_count": 170,
   "id": "41e9025d",
   "metadata": {},
   "outputs": [
    {
     "name": "stdout",
     "output_type": "stream",
     "text": [
      "Original list:\n",
      "['s', 'd', 'f', 's', 'd', 'f', 's', 'f', 'k', 'o', 'p', 'i', 'w', 'e', 'k', 'c']\n",
      "Last occurrence of f in the said list:\n",
      "7\n",
      "Last occurrence of c in the said list:\n",
      "15\n",
      "Last occurrence of k in the said list:\n",
      "14\n",
      "Last occurrence of w in the said list:\n",
      "12\n"
     ]
    }
   ],
   "source": [
    "def last_occurrence(l1, ch):\n",
    "    return ''.join(l1).rindex(ch)\n",
    "\n",
    "chars = ['s','d','f','s','d','f','s','f','k','o','p','i','w','e','k','c']\n",
    "print(\"Original list:\")\n",
    "print(chars)\n",
    "ch = 'f'\n",
    "print(\"Last occurrence of\",ch,\"in the said list:\")\n",
    "print(last_occurrence(chars, ch))\n",
    "ch = 'c'\n",
    "print(\"Last occurrence of\",ch,\"in the said list:\")\n",
    "print(last_occurrence(chars, ch))\n",
    "ch = 'k'\n",
    "print(\"Last occurrence of\",ch,\"in the said list:\")\n",
    "print(last_occurrence(chars, ch))\n",
    "ch = 'w'\n",
    "print(\"Last occurrence of\",ch,\"in the said list:\")\n",
    "print(last_occurrence(chars, ch)) \n"
   ]
  },
  {
   "cell_type": "code",
   "execution_count": 171,
   "id": "53bb9483",
   "metadata": {},
   "outputs": [
    {
     "name": "stdout",
     "output_type": "stream",
     "text": [
      "True\n",
      "True\n",
      "True\n",
      "True\n",
      "True\n",
      "True\n",
      "True\n",
      "True\n",
      "True\n",
      "True\n",
      "True\n",
      "False\n",
      "False\n",
      "False\n",
      "False\n",
      "False\n"
     ]
    }
   ],
   "source": [
    "# Source: https://bit.ly/3qZqcwm\n",
    "def almost_increasing_sequence(sequence):\n",
    "    if len(sequence) < 3:\n",
    "        return True\n",
    "\n",
    "    a, b, *sequence = sequence\n",
    "    skipped = 0\n",
    "    for c in sequence:\n",
    "        if a < b < c:  # XXX\n",
    "            a, b = b, c\n",
    "            continue\n",
    "        elif b < c:    # !XX\n",
    "            a, b = b, c\n",
    "        elif a < c:    # X!X\n",
    "            a, b = a, c\n",
    "        skipped += 1\n",
    "        if skipped == 2:\n",
    "            return False\n",
    "    return a < b\n",
    "\n",
    "print(almost_increasing_sequence([]))\n",
    "print(almost_increasing_sequence([1]))\n",
    "print(almost_increasing_sequence([1, 2]))\n",
    "print(almost_increasing_sequence([1, 2, 3]))\n",
    "print(almost_increasing_sequence([3, 1, 2]))\n",
    "print(almost_increasing_sequence([1, 2, 3, 0, 4, 5, 6]))\n",
    "print(almost_increasing_sequence([1, 2, 3, 0]))\n",
    "print(almost_increasing_sequence([1, 2, 0, 3]))\n",
    "print(almost_increasing_sequence([10, 1, 2, 3, 4, 5]))\n",
    "print(almost_increasing_sequence([1, 2, 10, 3, 4]))\n",
    "print(almost_increasing_sequence([1, 2, 3, 12, 4, 5]))\n",
    "\n",
    "print(almost_increasing_sequence([3, 2, 1]))\n",
    "print(almost_increasing_sequence([1, 2, 0, -1]))\n",
    "print(almost_increasing_sequence([5, 6, 1, 2]))\n",
    "print(almost_increasing_sequence([1, 2, 3, 0, -1]))\n",
    "print(almost_increasing_sequence([10, 11, 12, 2, 3, 4, 5]))\n"
   ]
  },
  {
   "cell_type": "code",
   "execution_count": 172,
   "id": "5ff91f58",
   "metadata": {},
   "outputs": [
    {
     "name": "stdout",
     "output_type": "stream",
     "text": [
      "Original list:\n",
      "[3, 10, 4, 7, 5, 7, 8, 3, 3, 4, 5, 9, 3, 4, 9, 8, 5]\n",
      "\n",
      "Remove first 4 even numbers from the said list:\n",
      "[3, 7, 5, 7, 3, 3, 5, 9, 3, 4, 9, 8, 5]\n"
     ]
    }
   ],
   "source": [
    "def condition_match(x):\n",
    "    return ((x % 2) == 0)\n",
    "def remove_items_con(data, N):\n",
    "    ctr = 1\n",
    "    result = []\n",
    "    for x in data:\n",
    "        if ctr > N or not condition_match(x):\n",
    "            result.append(x)\n",
    "        else:\n",
    "            ctr = ctr + 1\n",
    "    return result\n",
    "nums = [3,10,4,7,5,7,8,3,3,4,5,9,3,4,9,8,5]\n",
    "N = 4\n",
    "print(\"Original list:\")\n",
    "print(nums)\n",
    "print(\"\\nRemove first 4 even numbers from the said list:\")\n",
    "print(remove_items_con(nums, N))\n"
   ]
  },
  {
   "cell_type": "code",
   "execution_count": 173,
   "id": "e47e1931",
   "metadata": {},
   "outputs": [
    {
     "name": "stdout",
     "output_type": "stream",
     "text": [
      "Add a value(7), 5 times, to a list:\n",
      "['7', '7', '7', '7', '7']\n",
      "\n",
      "Add 5, 6 times, to a list:\n",
      "[1, 2, 3, 4, 5, 5, 5, 5, 5, 5]\n",
      "\n",
      "Add a list, 4 times, to a list of lists:\n",
      "[[1, 2, 5], [1, 2, 5], [1, 2, 5], [1, 2, 5]]\n",
      "\n",
      "Add a list, 4 times, to a list of lists:\n",
      "[[5, 6, 7], [1, 2, 5], [1, 2, 5], [1, 2, 5], [1, 2, 5]]\n"
     ]
    }
   ],
   "source": [
    "print(\"Add a value(7), 5 times, to a list:\")\n",
    "nums = []\n",
    "nums += 5 * ['7']\n",
    "print(nums)\n",
    "nums1 = [1,2,3,4]\n",
    "print(\"\\nAdd 5, 6 times, to a list:\")\n",
    "nums1 += 6 * [5]\n",
    "print(nums1)\n",
    "print(\"\\nAdd a list, 4 times, to a list of lists:\")\n",
    "nums1 = []\n",
    "nums1 += 4 * [[1,2,5]]\n",
    "print(nums1)\n",
    "print(\"\\nAdd a list, 4 times, to a list of lists:\")\n",
    "nums1 = [[5,6,7]]\n",
    "nums1 += 4 * [[1,2,5]]\n",
    "print(nums1)\n"
   ]
  },
  {
   "cell_type": "code",
   "execution_count": 174,
   "id": "24add6ff",
   "metadata": {},
   "outputs": [
    {
     "name": "stdout",
     "output_type": "stream",
     "text": [
      "Original list with tuples:\n",
      "[('V', 60), ('VI', 70), ('VII', 75), ('VIII', 72), ('IX', 78), ('X', 70)]\n",
      "\n",
      "Maximum and minimum values of the said list of tuples:\n",
      "(78, 60)\n"
     ]
    }
   ],
   "source": [
    "from operator import itemgetter\n",
    "\n",
    "def max_min_list_tuples(class_students):\n",
    "    return_max = max(class_students,key=itemgetter(1))[1] \n",
    "    return_min = min(class_students,key=itemgetter(1))[1] \n",
    "    return return_max, return_min\n",
    "   \n",
    "class_students = [('V', 60), ('VI', 70), ('VII', 75), ('VIII', 72), ('IX', 78), ('X', 70)]\n",
    "print(\"Original list with tuples:\")\n",
    "print(class_students)\n",
    "print(\"\\nMaximum and minimum values of the said list of tuples:\")\n",
    "print(max_min_list_tuples(class_students))\n"
   ]
  },
  {
   "cell_type": "code",
   "execution_count": 175,
   "id": "5dbfb64e",
   "metadata": {},
   "outputs": [
    {
     "name": "stdout",
     "output_type": "stream",
     "text": [
      "\n",
      "Original lists:\n",
      "[2, 4, 7, 0, 5, 8]\n",
      "[2, 5, 8]\n",
      "[0, 1]\n",
      "[3, 3, -1, 7]\n",
      "\n",
      "Interleave said lists of different lengths:\n",
      "[2, 2, 0, 3, 4, 5, 1, 3, 7, 8, -1, 0, 7, 5, 8]\n"
     ]
    }
   ],
   "source": [
    "def interleave_diff_len_lists(list1, list2, list3, list4):\n",
    "    result = []\n",
    "    l1 = len(list1)\n",
    "    l2 = len(list2)\n",
    "    l3 = len(list3)\n",
    "    l4 = len(list4)\n",
    "    \n",
    "    for i in range(max(l1, l2, l3, l4)):\n",
    "        if i < l1:\n",
    "            result.append(list1[i])\n",
    "        if i < l2:\n",
    "            result.append(list2[i])\n",
    "        if i < l3:\n",
    "            result.append(list3[i])\n",
    "        if i < l4:\n",
    "            result.append(list4[i])\n",
    "    return result\n",
    "\n",
    "nums1 = [2, 4, 7, 0, 5, 8]\n",
    "nums2 = [2, 5, 8]\n",
    "nums3 = [0, 1]\n",
    "nums4 = [3, 3, -1, 7]\n",
    "\n",
    "print(\"\\nOriginal lists:\")\n",
    "print(nums1)\n",
    "print(nums2)\n",
    "print(nums3)\n",
    "print(nums4)\n",
    "\n",
    "print(\"\\nInterleave said lists of different lengths:\")\n",
    "print(interleave_diff_len_lists(nums1, nums2, nums3, nums4))\n"
   ]
  },
  {
   "cell_type": "code",
   "execution_count": 176,
   "id": "e7b007f4",
   "metadata": {},
   "outputs": [
    {
     "name": "stdout",
     "output_type": "stream",
     "text": [
      "\n",
      "Original lists:\n",
      "[2, 4, 7, 0, 5, 8]\n",
      "[3, 3, -1, 7]\n",
      "\n",
      "Add said two lists from left:\n",
      "[2, 4, 10, 3, 4, 15]\n",
      "\n",
      "Original lists:\n",
      "[1, 2, 3, 4, 5, 6]\n",
      "[2, 4, -3]\n",
      "\n",
      "Add said two lists from left:\n",
      "[1, 2, 3, 6, 9, 3]\n"
     ]
    }
   ],
   "source": [
    "def elementswise_right_join(l1, l2):\n",
    "    f_len = len(l1)-(len(l2) - 1)\n",
    "    for i in range(len(l1), 0, -1):\n",
    "        if i-f_len < 0:\n",
    "            break\n",
    "        else:\n",
    "            l1[i-1] = l1[i-1] + l2[i-f_len]\n",
    "    return l1\n",
    "\n",
    "nums1 = [2, 4, 7, 0, 5, 8]\n",
    "nums2 = [3, 3, -1, 7]\n",
    "print(\"\\nOriginal lists:\")\n",
    "print(nums1)\n",
    "print(nums2)\n",
    "print(\"\\nAdd said two lists from left:\")\n",
    "print(elementswise_right_join(nums1, nums2))\n",
    "\n",
    "nums3 = [1, 2, 3, 4, 5, 6]\n",
    "nums4 = [2, 4, -3]\n",
    "print(\"\\nOriginal lists:\")\n",
    "print(nums3)\n",
    "print(nums4)\n",
    "print(\"\\nAdd said two lists from left:\")\n",
    "print(elementswise_right_join(nums3, nums4))\n"
   ]
  },
  {
   "cell_type": "code",
   "execution_count": 177,
   "id": "dc38c39a",
   "metadata": {},
   "outputs": [
    {
     "name": "stdout",
     "output_type": "stream",
     "text": [
      "\n",
      "Original lists:\n",
      "[2, 4, 7, 0, 5, 8]\n",
      "[3, 3, -1, 7]\n",
      "\n",
      "Add said two lists from left:\n",
      "[5, 7, 6, 7, 5, 8]\n",
      "\n",
      "Original lists:\n",
      "[1, 2, 3, 4, 5, 6]\n",
      "[2, 4, -3]\n",
      "\n",
      "Add said two lists from left:\n",
      "[3, 6, 0, 4, 5, 6]\n"
     ]
    }
   ],
   "source": [
    "def elementswise_left_join(l1, l2):\n",
    "    f_len = len(l1)-(len(l2) - 1)\n",
    "    for i in range(0, len(l2), 1):\n",
    "        if f_len - i >= len(l1):\n",
    "            break\n",
    "        else:\n",
    "            l1[i] = l1[i] + l2[i]\n",
    "    return l1\n",
    "\n",
    "nums1 = [2, 4, 7, 0, 5, 8]\n",
    "nums2 = [3, 3, -1, 7]\n",
    "print(\"\\nOriginal lists:\")\n",
    "print(nums1)\n",
    "print(nums2)\n",
    "print(\"\\nAdd said two lists from left:\")\n",
    "print(elementswise_left_join(nums1,nums2))\n",
    "\n",
    "nums3 = [1, 2, 3, 4, 5, 6]\n",
    "nums4 = [2, 4, -3]\n",
    "print(\"\\nOriginal lists:\")\n",
    "print(nums3)\n",
    "print(nums4)\n",
    "print(\"\\nAdd said two lists from left:\")\n",
    "print(elementswise_left_join(nums3,nums4))\n"
   ]
  },
  {
   "cell_type": "code",
   "execution_count": 178,
   "id": "25009841",
   "metadata": {},
   "outputs": [
    {
     "name": "stdout",
     "output_type": "stream",
     "text": [
      "Original lists:\n",
      "[[10, 20], [30, 40], [50, 60], [30, 20, 80]]\n",
      "[[61], [12, 14, 15], [12, 13, 19, 20], [12]]\n",
      "\n",
      "Join the said two lists element wise:\n",
      "[[10, 20, 61], [30, 40, 12, 14, 15], [50, 60, 12, 13, 19, 20], [30, 20, 80, 12]]\n",
      "\n",
      "Original lists:\n",
      "[['a', 'b'], ['b', 'c', 'd'], ['e', 'f']]\n",
      "[['p', 'q'], ['p', 's', 't'], ['u', 'v', 'w']]\n",
      "\n",
      "Join the said two lists element wise:\n",
      "[['a', 'b', 'p', 'q'], ['b', 'c', 'd', 'p', 's', 't'], ['e', 'f', 'u', 'v', 'w']]\n"
     ]
    }
   ],
   "source": [
    "def elementswise_join(l1, l2):\n",
    "    result = [x + y for x, y in zip(l1, l2)]\n",
    "    return result\n",
    "\n",
    "nums1 = [[10,20], [30,40], [50,60], [30,20,80]]\n",
    "nums2 = [[61], [12,14,15], [12,13,19,20], [12]]\n",
    "print(\"Original lists:\")\n",
    "print(nums1)\n",
    "print(nums2)\n",
    "print(\"\\nJoin the said two lists element wise:\")\n",
    "print(elementswise_join(nums1, nums2))\n",
    "\n",
    "list1 = [['a','b'], ['b','c','d'], ['e', 'f']]\n",
    "list2 = [['p','q'], ['p','s','t'], ['u','v','w']]\n",
    "print(\"\\nOriginal lists:\")\n",
    "print(list1)\n",
    "print(list2)\n",
    "print(\"\\nJoin the said two lists element wise:\")\n",
    "print(elementswise_join(list1, list2))\n"
   ]
  },
  {
   "cell_type": "code",
   "execution_count": 179,
   "id": "6dc6f30e",
   "metadata": {},
   "outputs": [
    {
     "name": "stdout",
     "output_type": "stream",
     "text": [
      "Original list:\n",
      "[0, 1, 3, 5, 0, 3, 4, 5, 0, 8, 0, 3, 6, 0, 3, 1, 1, 0]\n",
      "\n",
      "Check if 3 occurs at least 4 times in a list:\n",
      "True\n",
      "\n",
      "Check if 0 occurs at least 5 times in a list:\n",
      "True\n",
      "\n",
      "Check if 8 occurs at least 3 times in a list:\n",
      "False\n"
     ]
    }
   ],
   "source": [
    "def check_element_in_list(lst, x, n):\n",
    "    t = 0\n",
    "    try:\n",
    "        for _ in range(n):\n",
    "            t = lst.index(x, t) + 1\n",
    "        return True\n",
    "    except ValueError:\n",
    "        return False\n",
    "\n",
    "nums = [0,1,3,5,0,3,4,5,0,8,0,3,6,0,3,1,1,0]\n",
    "print(\"Original list:\")\n",
    "print(nums)\n",
    "x = 3\n",
    "n = 4\n",
    "print(\"\\nCheck if\",x,\"occurs at least\",n,\"times in a list:\")\n",
    "print(check_element_in_list(nums,x,n))\n",
    "x = 0\n",
    "n = 5\n",
    "print(\"\\nCheck if\",x,\"occurs at least\",n,\"times in a list:\")\n",
    "print(check_element_in_list(nums,x,n))\n",
    "x = 8\n",
    "n = 3\n",
    "print(\"\\nCheck if\",x,\"occurs at least\",n,\"times in a list:\")\n",
    "print(check_element_in_list(nums,x,n))\n"
   ]
  },
  {
   "cell_type": "code",
   "execution_count": 180,
   "id": "83f20dbd",
   "metadata": {},
   "outputs": [
    {
     "name": "stdout",
     "output_type": "stream",
     "text": [
      "Original list:\n",
      "[4, 3, 0, 5, 3, 0, 2, 3, 4, 2, 4, 3, 5]\n",
      "\n",
      "Index range:\n",
      "3 to 8\n",
      "\n",
      "Maximum and minimum values of the said given list within index range:\n",
      "(5, 0)\n"
     ]
    }
   ],
   "source": [
    "def reverse_list_of_lists(nums,lr,hr):\n",
    "    temp = []\n",
    "    for idx, el in enumerate(nums):\n",
    "        if idx >= lr and idx < hr:\n",
    "            temp.append(el)\n",
    "    result_max = max(temp) \n",
    "    result_min = min(temp) \n",
    "    return result_max, result_min\n",
    "nums = [4,3,0,5,3,0,2,3,4,2,4,3,5]\n",
    "print(\"Original list:\")\n",
    "print(nums)\n",
    "print(\"\\nIndex range:\")\n",
    "lr = 3\n",
    "hr = 8\n",
    "print(lr,\"to\",hr)\n",
    "print(\"\\nMaximum and minimum values of the said given list within index range:\")\n",
    "print(reverse_list_of_lists(nums,lr,hr))\n"
   ]
  },
  {
   "cell_type": "code",
   "execution_count": 181,
   "id": "d5ad63f6",
   "metadata": {},
   "outputs": [
    {
     "name": "stdout",
     "output_type": "stream",
     "text": [
      "Original list:\n",
      "[['orange', 'red'], ['green', 'blue'], ['white', 'black', 'pink']]\n",
      "\n",
      "Reverse said list of lists:\n",
      "[['white', 'black', 'pink'], ['green', 'blue'], ['orange', 'red']]\n",
      "\n",
      "Original list:\n",
      "[[1, 2, 3, 4], [0, 2, 4, 5], [2, 3, 4, 2, 4]]\n",
      "\n",
      "Reverse said list of lists:\n",
      "[[2, 3, 4, 2, 4], [0, 2, 4, 5], [1, 2, 3, 4]]\n"
     ]
    }
   ],
   "source": [
    "def reverse_list_of_lists(list1):\n",
    "    return list1[::-1]\n",
    "colors = [['orange', 'red'], ['green', 'blue'], ['white', 'black', 'pink']]\n",
    "print(\"Original list:\")\n",
    "print(colors)\n",
    "print(\"\\nReverse said list of lists:\")\n",
    "print(reverse_list_of_lists(colors))\n",
    "nums = [[1,2,3,4], [0,2,4,5], [2,3,4,2,4]]\n",
    "print(\"\\nOriginal list:\")\n",
    "print(nums)\n",
    "print(\"\\nReverse said list of lists:\")\n",
    "print(reverse_list_of_lists(nums))\n"
   ]
  },
  {
   "cell_type": "code",
   "execution_count": 182,
   "id": "cf76c274",
   "metadata": {},
   "outputs": [
    {
     "name": "stdout",
     "output_type": "stream",
     "text": [
      "Original list:\n",
      "['orange', 'red', 'green', 'blue']\n",
      "\n",
      "All possible combinations of the said list’s elements:\n",
      "[[], ['orange'], ['red'], ['red', 'orange'], ['green'], ['green', 'orange'], ['green', 'red'], ['green', 'red', 'orange'], ['blue'], ['blue', 'orange'], ['blue', 'red'], ['blue', 'red', 'orange'], ['blue', 'green'], ['blue', 'green', 'orange'], ['blue', 'green', 'red'], ['blue', 'green', 'red', 'orange']]\n"
     ]
    }
   ],
   "source": [
    "def combinations_list(colors):\n",
    "    if len(colors) == 0:\n",
    "        return [[]]\n",
    "    result = []\n",
    "    for el in combinations_list(colors[1:]):\n",
    "        result += [el, el+[colors[0]]]\n",
    "    return result\n",
    "colors = ['orange', 'red', 'green', 'blue']\n",
    "print(\"Original list:\")\n",
    "print(colors)\n",
    "print(\"\\nAll possible combinations of the said list’s elements:\")\n",
    "print(combinations_list(colors))\n"
   ]
  },
  {
   "cell_type": "code",
   "execution_count": 183,
   "id": "33cd24d5",
   "metadata": {},
   "outputs": [
    {
     "name": "stdout",
     "output_type": "stream",
     "text": [
      "Original list:\n",
      "['red', 'green', 'blue', 'white', 'black', 'orange']\n",
      "\n",
      "Remove words:\n",
      "['white', 'orange']\n",
      "\n",
      "After removing the specified words from the said list:\n",
      "['red', 'green', 'blue', 'black']\n"
     ]
    }
   ],
   "source": [
    "def remove_words(list1, remove_words):\n",
    "    for word in list(list1):\n",
    "        if word in remove_words:\n",
    "            list1.remove(word)\n",
    "    return list1        \n",
    "colors = ['red', 'green', 'blue', 'white', 'black', 'orange']\n",
    "remove_colors = ['white', 'orange']\n",
    "print(\"Original list:\")\n",
    "print(colors)\n",
    "print(\"\\nRemove words:\")\n",
    "print(remove_colors)\n",
    "print(\"\\nAfter removing the specified words from the said list:\")\n",
    "print(remove_words(colors, remove_colors))\n"
   ]
  },
  {
   "cell_type": "code",
   "execution_count": 184,
   "id": "72b082c8",
   "metadata": {},
   "outputs": [
    {
     "name": "stdout",
     "output_type": "stream",
     "text": [
      "Original lists:\n",
      "[1, 2, 7, 8, 3, 7]\n",
      "[4, 3, 8, 9, 4, 3, 8, 9]\n",
      "\n",
      "Interleave two given list into another list randomly:\n",
      "[1, 4, 2, 3, 8, 7, 9, 8, 4, 3, 8, 9, 3, 7]\n"
     ]
    }
   ],
   "source": [
    "import random\n",
    "def randomly_interleave(nums1, nums2):\n",
    "    result =  [x.pop(0) for x in random.sample([nums1]*len(nums1) + [nums2]*len(nums2), len(nums1)+len(nums2))]\n",
    "    return result\n",
    "nums1 = [1,2,7,8,3,7]\n",
    "nums2 = [4,3,8,9,4,3,8,9]\n",
    "print(\"Original lists:\") \n",
    "print(nums1)\n",
    "print(nums2)\n",
    "print(\"\\nInterleave two given list into another list randomly:\")\n",
    "print(randomly_interleave(nums1, nums2))\n"
   ]
  },
  {
   "cell_type": "code",
   "execution_count": 185,
   "id": "95dd14a1",
   "metadata": {},
   "outputs": [
    {
     "name": "stdout",
     "output_type": "stream",
     "text": [
      "Original tuple: \n",
      "[10, 2, 56]\n",
      "Sum of digits of each number of the said list of integers:\n",
      "14\n",
      "\n",
      "Original tuple: \n",
      "[10, 20, 4, 5, 'b', 70, 'a']\n",
      "Sum of digits of each number of the said list of integers:\n",
      "19\n",
      "\n",
      "Original tuple: \n",
      "[10, 20, -4, 5, -70]\n",
      "Sum of digits of each number of the said list of integers:\n",
      "19\n"
     ]
    }
   ],
   "source": [
    "def sum_of_digits(nums):\n",
    "    return sum(int(el) for n in nums for el in str(n) if el.isdigit())\n",
    "\n",
    "nums = [10,2,56]\n",
    "print(\"Original tuple: \") \n",
    "print(nums)\n",
    "print(\"Sum of digits of each number of the said list of integers:\")\n",
    "print(sum_of_digits(nums))\n",
    "\n",
    "nums = [10,20,4,5,'b',70,'a']\n",
    "print(\"\\nOriginal tuple: \") \n",
    "print(nums)\n",
    "print(\"Sum of digits of each number of the said list of integers:\")\n",
    "print(sum_of_digits(nums))\n",
    "\n",
    "nums = [10,20,-4,5,-70]\n",
    "print(\"\\nOriginal tuple: \") \n",
    "print(nums)\n",
    "print(\"Sum of digits of each number of the said list of integers:\")\n",
    "print(sum_of_digits(nums))\n"
   ]
  },
  {
   "cell_type": "code",
   "execution_count": 186,
   "id": "c37b43a0",
   "metadata": {},
   "outputs": [
    {
     "name": "stdout",
     "output_type": "stream",
     "text": [
      "\n",
      "Generate a number in a specified range (1, 10) except [2, 9, 10]\n",
      "3\n",
      "\n",
      "Generate a number in a specified range (-5, 5) except [-5,0,4,3,2]\n",
      "-3\n"
     ]
    }
   ],
   "source": [
    "from random import choice\n",
    "def generate_random(start_range, end_range, nums):\n",
    "    result = choice([i for i in range(start_range,end_range) if i not in nums])\n",
    "    return result\n",
    "   \n",
    "start_range = 1\n",
    "end_range = 10\n",
    "nums = [2, 9, 10]\n",
    "print(\"\\nGenerate a number in a specified range (1, 10) except [2, 9, 10]\")\n",
    "print(generate_random(start_range,end_range,nums))\n",
    "\n",
    "start_range = -5\n",
    "end_range = 5\n",
    "nums = [-5,0,4,3,2]\n",
    "\n",
    "print(\"\\nGenerate a number in a specified range (-5, 5) except [-5,0,4,3,2]\")\n",
    "print(generate_random(start_range,end_range,nums))\n"
   ]
  },
  {
   "cell_type": "code",
   "execution_count": 187,
   "id": "a3976bfa",
   "metadata": {},
   "outputs": [
    {
     "name": "stdout",
     "output_type": "stream",
     "text": [
      "Original list of lists:\n",
      "[[1, 2, 3, 2], [4, 5, 6, 2], [7, 1, 9, 5]]\n",
      "\n",
      "Extract every first element from the said given two dimensional list:\n",
      "[1, 4, 7]\n",
      "\n",
      "Extract every third element from the said given two dimensional list:\n",
      "[3, 6, 9]\n"
     ]
    }
   ],
   "source": [
    "def specified_element(nums, N):\n",
    "    result = [i[N] for i in nums]\n",
    "    return result\n",
    "    \n",
    "nums = [\n",
    "        [1,2,3,2],\n",
    "        [4,5,6,2],\n",
    "        [7,1,9,5],\n",
    "       ]\n",
    "    \n",
    "print(\"Original list of lists:\")\n",
    "print(nums)\n",
    "N = 0\n",
    "print(\"\\nExtract every first element from the said given two dimensional list:\")\n",
    "print(specified_element(nums, N))\n",
    "N = 2\n",
    "print(\"\\nExtract every third element from the said given two dimensional list:\")\n",
    "print(specified_element(nums, N))\n"
   ]
  },
  {
   "cell_type": "code",
   "execution_count": 188,
   "id": "a700da7b",
   "metadata": {},
   "outputs": [
    {
     "name": "stdout",
     "output_type": "stream",
     "text": [
      "After merging lists into a list of lists:\n",
      "[['a', 1, True], ['b', 2, False]]\n",
      "[['a', 1, True], [None, 2, False]]\n",
      "[['a', 1, True], ['_', 2, False]]\n"
     ]
    }
   ],
   "source": [
    "def merge_lists(*args, fill_value = None):\n",
    "  max_length = max([len(lst) for lst in args])\n",
    "  result = []\n",
    "  for i in range(max_length):\n",
    "    result.append([\n",
    "      args[k][i] if i < len(args[k]) else fill_value for k in range(len(args))\n",
    "    ])\n",
    "  return result\n",
    "print(\"After merging lists into a list of lists:\")\n",
    "print(merge_lists(['a', 'b'], [1, 2], [True, False]))  \n",
    "print(merge_lists(['a'], [1, 2], [True, False]))  \n",
    "print(merge_lists(['a'], [1, 2], [True, False], fill_value = '_'))\n"
   ]
  },
  {
   "cell_type": "code",
   "execution_count": null,
   "id": "29f5d6d8",
   "metadata": {},
   "outputs": [],
   "source": []
  },
  {
   "cell_type": "code",
   "execution_count": 189,
   "id": "71c465d2",
   "metadata": {},
   "outputs": [
    {
     "name": "stdout",
     "output_type": "stream",
     "text": [
      "Original list elements:\n",
      "[-14, 15, -10, -11, -12, -13, 16, 17, 18, 19, 20]\n",
      "Sum of two lowest negative numbers of the said array of integers:  -27\n",
      "\n",
      "Original list elements:\n",
      "[-4, 5, -2, 0, 3, -1, 4, 9]\n",
      "Sum of two lowest negative numbers of the said array of integers:  -6\n"
     ]
    }
   ],
   "source": [
    "def test(nums):\n",
    "    result = sorted([item for item in nums if item < 0])\n",
    "    return result[0]+result[1]\n",
    "\n",
    "nums = [-14, 15, -10, -11, -12, -13, 16, 17, 18, 19, 20]\n",
    "print(\"Original list elements:\")\n",
    "print(nums)\n",
    "print(\"Sum of two lowest negative numbers of the said array of integers: \",test(nums))\n",
    "nums = [-4, 5, -2, 0, 3, -1, 4 , 9]\n",
    "print(\"\\nOriginal list elements:\")\n",
    "print(nums)\n",
    "print(\"Sum of two lowest negative numbers of the said array of integers: \",test(nums))\n"
   ]
  },
  {
   "cell_type": "code",
   "execution_count": 190,
   "id": "2e30f4bf",
   "metadata": {},
   "outputs": [
    {
     "name": "stdout",
     "output_type": "stream",
     "text": [
      "Original list: [34.67, 12, -94.89, 'Python', 0, 'C#']\n",
      "After removing all the values except integer values from the said array of mixed values:\n",
      "[12, 0]\n"
     ]
    }
   ],
   "source": [
    "def test(lst):\n",
    "    return [lst for lst in lst if isinstance(lst, int)]\n",
    "mixed_list = [34.67, 12, -94.89, \"Python\", 0, \"C#\"]\n",
    "print(\"Original list:\", mixed_list)\n",
    "print(\"After removing all the values except integer values from the said array of mixed values:\")\n",
    "print(test(mixed_list)) \n"
   ]
  },
  {
   "cell_type": "code",
   "execution_count": 191,
   "id": "6b051ab5",
   "metadata": {},
   "outputs": [
    {
     "name": "stdout",
     "output_type": "stream",
     "text": [
      "Original list:\n",
      "['Ricky Rivera', 98, 'Math', 90, 'Science']\n",
      "\n",
      "After deleting an element:, using index of the element:\n",
      "[98, 'Math', 90, 'Science']\n"
     ]
    }
   ],
   "source": [
    "student = ['Ricky Rivera', 98, 'Math', 90, 'Science']\n",
    "print(\"Original list:\")\n",
    "print(student)\n",
    "print(\"\\nAfter deleting an element:, using index of the element:\")\n",
    "del(student[0])\n",
    "print(student)\n"
   ]
  },
  {
   "cell_type": "code",
   "execution_count": 192,
   "id": "2317dbb4",
   "metadata": {},
   "outputs": [
    {
     "name": "stdout",
     "output_type": "stream",
     "text": [
      "\n",
      "Original list:\n",
      "[3, 4, 6, 2, 0, 0, 0, 0, 0, 0, 6, 7, 6, 9, 10, 0, 0, 0, 0, 0, 7, 4, 4, 0, 0, 0, 0, 0, 0, 5, 3, 2, 9, 7, 1, 0, 0, 0]\n",
      "\n",
      "Compute the sum of non-zero groups (separated by zeros) of the said list of numbers:\n",
      "[15, 38, 15, 27]\n"
     ]
    }
   ],
   "source": [
    "def test(lst):\n",
    "    result = []\n",
    "    ele_val = 0\n",
    "    for digit in lst:\n",
    "        if digit == 0:\n",
    "            if ele_val != 0:\n",
    "                result.append(ele_val)\n",
    "                ele_val = 0\n",
    "        else:\n",
    "            ele_val += digit \n",
    "    if ele_val>0:\n",
    "        result.append(ele_val) \n",
    "    return result\n",
    "nums = [3,4,6,2,0,0,0,0,0,0,6,7,6,9,10,0,0,0,0,0,7,4,4,0,0,0,0,0,0,5,3,2,9,7,1,0,0,0]\n",
    "print(\"\\nOriginal list:\")\n",
    "print(nums)\n",
    "print(\"\\nCompute the sum of non-zero groups (separated by zeros) of the said list of numbers:\")\n",
    "print(test(nums))\n"
   ]
  },
  {
   "cell_type": "code",
   "execution_count": 193,
   "id": "bc1596ed",
   "metadata": {},
   "outputs": [
    {
     "name": "stdout",
     "output_type": "stream",
     "text": [
      "\n",
      "Original list:\n",
      "[3, 4, 6, 2, 0, 0, 0, 0, 0, 0, 6, 7, 6, 9, 10, 0, 0, 0, 0, 0, 5, 9, 9, 7, 4, 4, 0, 0, 0, 0, 0, 0, 5, 3, 2, 9, 7, 1]\n",
      "\n",
      "Number of groups of non-zero numbers separated by zeros of the said list:\n",
      "4\n"
     ]
    }
   ],
   "source": [
    "def test(lst):\n",
    "    previous_digit = 0\n",
    "    ctr = 0\n",
    "    for digit in lst:\n",
    "        if previous_digit==0 and digit!=0:\n",
    "            ctr+=1\n",
    "        previous_digit = digit\n",
    "    return ctr\n",
    "\n",
    "nums = [3,4,6,2,0,0,0,0,0,0,6,7,6,9,10,0,0,0,0,0,5,9,9,7,4,4,0,0,0,0,0,0,5,3,2,9,7,1]\n",
    "\n",
    "print(\"\\nOriginal list:\")\n",
    "print(nums)\n",
    "print(\"\\nNumber of groups of non-zero numbers separated by zeros of the said list:\")\n",
    "print(test(nums)) \n"
   ]
  },
  {
   "cell_type": "code",
   "execution_count": 194,
   "id": "123e6aa0",
   "metadata": {},
   "outputs": [
    {
     "name": "stdout",
     "output_type": "stream",
     "text": [
      "\n",
      "Original list:\n",
      "[1, 2, 3, 4, 5, 6, 7]\n",
      "\n",
      "Sum the said list of numbers:\n",
      "[1.5, 2.5, 3.5, 4.5, 5.5, 6.5]\n",
      "\n",
      "Original list:\n",
      "[0, 1, -3, 3, 7, -5, 6, 7, 11]\n",
      "\n",
      "Sum the said list of numbers:\n",
      "[0.5, -1.0, 0.0, 5.0, 1.0, 0.5, 6.5, 9.0]\n"
     ]
    }
   ],
   "source": [
    "#Source: shorturl.at/csxLM\n",
    "def test(list1):\n",
    "    result =   [(x + y) / 2.0 for (x, y) in zip(list1[:-1], list1[1:])]\n",
    "    return list(result)\n",
    "\n",
    "nums =  [1,2,3,4,5,6,7]\n",
    "print(\"\\nOriginal list:\")\n",
    "print(nums)\n",
    "print(\"\\nSum the said list of numbers:\")\n",
    "print(test(nums))\n",
    "\n",
    "nums =  [0,1,-3,3,7,-5,6,7,11]\n",
    "print(\"\\nOriginal list:\")\n",
    "print(nums)\n",
    "print(\"\\nSum the said list of numbers:\")\n",
    "print(test(nums))\n"
   ]
  },
  {
   "cell_type": "code",
   "execution_count": 195,
   "id": "c4f28e94",
   "metadata": {},
   "outputs": [
    {
     "name": "stdout",
     "output_type": "stream",
     "text": [
      "\n",
      "Original lists:\n",
      "[('red', 'green'), ('black', 'white'), ('orange', 'pink')]\n",
      "[('red', 'green'), ('orange', 'pink')]\n",
      "\n",
      "Common tuples between two said lists\n",
      "[('red', 'green'), ('orange', 'pink')]\n",
      "\n",
      "Original lists:\n",
      "[('red', 'green'), ('orange', 'pink')]\n",
      "[('red', 'green'), ('black', 'white'), ('orange', 'pink')]\n",
      "\n",
      "Common tuples between two said lists\n",
      "[('red', 'green'), ('orange', 'pink')]\n"
     ]
    }
   ],
   "source": [
    "def test(list1, list2):\n",
    "    result =  set(list1).intersection(list2)\n",
    "    return list(result)\n",
    "list1 =  [('red', 'green'), ('black', 'white'), ('orange', 'pink')] \n",
    "list2 =  [('red', 'green'), ('orange', 'pink')] \n",
    "print(\"\\nOriginal lists:\")\n",
    "print(list1)\n",
    "print(list2)\n",
    "print(\"\\nCommon tuples between two said lists\")\n",
    "print(test(list1,list2)) \n",
    "list1 =  [('red', 'green'), ('orange', 'pink')] \n",
    "list2 =  [('red', 'green'), ('black', 'white'), ('orange', 'pink')] \n",
    "print(\"\\nOriginal lists:\")\n",
    "print(list1)\n",
    "print(list2)\n",
    "print(\"\\nCommon tuples between two said lists\")\n",
    "print(test(list1,list2))\n"
   ]
  },
  {
   "cell_type": "code",
   "execution_count": 196,
   "id": "f01e4b2a",
   "metadata": {},
   "outputs": [
    {
     "name": "stdout",
     "output_type": "stream",
     "text": [
      "\n",
      "Original list:\n",
      "['abc ', '  ', ' ', 'sdfds ', ' ', '     ', 'sdfds ', 'huy']\n",
      "Remove additional spaces from the said list:\n",
      "['abc', '', '', 'sdfds', '', '', 'sdfds', 'huy']\n"
     ]
    }
   ],
   "source": [
    "def test(lst):\n",
    "    result =[]\n",
    "    for i in lst:\n",
    "        j = i.replace(' ','')\n",
    "        result.append(j)\n",
    "    return result\n",
    "\n",
    "text = ['abc ', '  ', ' ', 'sdfds ', ' ', '     ', 'sdfds ', 'huy']\n",
    "print(\"\\nOriginal list:\")\n",
    "print(text)\n",
    "print(\"Remove additional spaces from the said list:\")\n",
    "print(test(text))\n"
   ]
  },
  {
   "cell_type": "code",
   "execution_count": 197,
   "id": "f3f95732",
   "metadata": {},
   "outputs": [
    {
     "name": "stdout",
     "output_type": "stream",
     "text": [
      "\n",
      "Original list:\n",
      "[1234, 1522, 1984, 19372, 1000, 2342, 7626]\n",
      "Indices of elements of the said list, greater than 3000\n",
      "[3, 6]\n",
      "\n",
      "Original list:\n",
      "[1234, 1522, 1984, 19372, 1000, 2342, 7626]\n",
      "Indices of elements of the said list, greater than 20000\n",
      "[]\n"
     ]
    }
   ],
   "source": [
    "def test(lst, value):\n",
    "    result = [i for i,val in enumerate(lst) if val > value]\n",
    "    return result\n",
    "nums = [1234, 1522, 1984, 19372, 1000, 2342, 7626]\n",
    "print(\"\\nOriginal list:\")\n",
    "print(nums)\n",
    "val = 3000\n",
    "print(\"Indices of elements of the said list, greater than\",val)\n",
    "print(test(nums,val))\n",
    "nums = [1234, 1522, 1984, 19372, 1000, 2342, 7626]\n",
    "print(\"\\nOriginal list:\")\n",
    "print(nums)\n",
    "val = 20000\n",
    "print(\"Indices of elements of the said list, greater than\",val)\n",
    "print(test(nums,val))\n"
   ]
  },
  {
   "cell_type": "code",
   "execution_count": 198,
   "id": "618999f5",
   "metadata": {},
   "outputs": [
    {
     "name": "stdout",
     "output_type": "stream",
     "text": [
      "\n",
      "Original list:\n",
      "[1234, 122, 1984, 19372, 100]\n",
      "Check if first digit in each element of the said given list is same or not!\n",
      "True\n",
      "\n",
      "Original list:\n",
      "[1234, 922, 1984, 19372, 100]\n",
      "Check if first digit in each element of the said given list is same or not!\n",
      "False\n",
      "\n",
      "Original list:\n",
      "['aabc', 'abc', 'ab', 'a']\n",
      "Check if first character in each element of the said given list is same or not!\n",
      "True\n",
      "\n",
      "Original list:\n",
      "['aabc', 'abc', 'ab', 'ha']\n",
      "Check if first character in each element of the said given list is same or not!\n",
      "False\n"
     ]
    }
   ],
   "source": [
    "def test(lst):\n",
    "    result = all(str(x)[0] == str(lst[0])[0] for x in lst) \n",
    "    return result\n",
    "nums = [1234, 122, 1984, 19372, 100]\n",
    "print(\"\\nOriginal list:\")\n",
    "print(nums)\n",
    "print(\"Check if first digit in each element of the said given list is same or not!\")\n",
    "print(test(nums))\n",
    "nums = [1234, 922, 1984, 19372, 100]\n",
    "print(\"\\nOriginal list:\")\n",
    "print(nums)\n",
    "print(\"Check if first digit in each element of the said given list is same or not!\")\n",
    "print(test(nums))\n",
    "nums = ['aabc', 'abc', 'ab', 'a']\n",
    "print(\"\\nOriginal list:\")\n",
    "print(nums)\n",
    "print(\"Check if first character in each element of the said given list is same or not!\")\n",
    "print(test(nums))\n",
    "nums = ['aabc', 'abc', 'ab', 'ha']\n",
    "print(\"\\nOriginal list:\")\n",
    "print(nums)\n",
    "print(\"Check if first character in each element of the said given list is same or not!\")\n",
    "print(test(nums))\n"
   ]
  },
  {
   "cell_type": "code",
   "execution_count": 199,
   "id": "4b92fe07",
   "metadata": {},
   "outputs": [
    {
     "name": "stdout",
     "output_type": "stream",
     "text": [
      "Original list:\n",
      "['1', '2', '3', '4', '5', '6', '7', '8']\n",
      "\n",
      "Join adjacent members of a given list:\n",
      "['12', '34', '56', '78']\n",
      "\n",
      "Original list:\n",
      "['1', '2', '3']\n",
      "\n",
      "Join adjacent members of a given list:\n",
      "['12']\n"
     ]
    }
   ],
   "source": [
    "def test(lst):\n",
    "    result = [x + y for x, y in zip(lst[::2],lst[1::2])]\n",
    "    return result\n",
    "\n",
    "nums = ['1','2','3','4','5','6','7','8']\n",
    "print(\"Original list:\")\n",
    "print(nums)\n",
    "print(\"\\nJoin adjacent members of a given list:\")\n",
    "print(test(nums))\n",
    "\n",
    "nums = ['1','2','3']\n",
    "print(\"\\nOriginal list:\")\n",
    "print(nums)\n",
    "print(\"\\nJoin adjacent members of a given list:\")\n",
    "print(test(nums))\n"
   ]
  },
  {
   "cell_type": "code",
   "execution_count": 200,
   "id": "7ed17562",
   "metadata": {},
   "outputs": [
    {
     "name": "stdout",
     "output_type": "stream",
     "text": [
      "Original list:\n",
      "[1, None, 5, 4, None, 0, None, None]\n",
      "\n",
      "Indexes of all None items of the list:\n",
      "[1, 4, 6, 7]\n"
     ]
    }
   ],
   "source": [
    "def relative_order(lst):\n",
    "    result = [i for i in range(len(lst)) if lst[i] == None]\n",
    "    return result\n",
    "\n",
    "nums = [1, None, 5, 4,None, 0, None, None]\n",
    "print(\"Original list:\")\n",
    "print(nums)\n",
    "print(\"\\nIndexes of all None items of the list:\")\n",
    "print(relative_order(nums))\n"
   ]
  },
  {
   "cell_type": "code",
   "execution_count": 201,
   "id": "a2a596a5",
   "metadata": {},
   "outputs": [
    {
     "name": "stdout",
     "output_type": "stream",
     "text": [
      "The original string and list: \n",
      "https://www.w3resource.com/python-exercises/list/\n",
      "['.com', '.edu', '.tv']\n",
      "\n",
      "Check if https://www.w3resource.com/python-exercises/list/ contains an element, which is present in the list ['.com', '.edu', '.tv']\n",
      "True\n",
      "\n",
      "The original string and list: https://www.w3resource.net\n",
      "https://www.w3resource.net\n",
      "['.com', '.edu', '.tv']\n",
      "\n",
      "Check if https://www.w3resource.net contains an element, which is present in the list ['.com', '.edu', '.tv']\n",
      "False\n"
     ]
    }
   ],
   "source": [
    "def test(lst,str1):\n",
    "    result = [el for el in lst if(el in str1)] \n",
    "    return bool(result)\n",
    "\n",
    "\n",
    "str1 = \"https://www.w3resource.com/python-exercises/list/\"\n",
    "lst = ['.com', '.edu', '.tv']   \n",
    "print(\"The original string and list: \") \n",
    "print(str1)\n",
    "print(lst)\n",
    "print(\"\\nCheck if\",str1,\"contains an element, which is present in the list\",lst)\n",
    "print(test(lst,str1))\n",
    "str1 = \"https://www.w3resource.net\"\n",
    "lst = ['.com', '.edu', '.tv']   \n",
    "print(\"\\nThe original string and list: \" + str1) \n",
    "print(str1)\n",
    "print(lst)\n",
    "print(\"\\nCheck if\",str1,\"contains an element, which is present in the list\",lst)\n",
    "print(test(lst,str1))\n"
   ]
  },
  {
   "cell_type": "code",
   "execution_count": null,
   "id": "6ac86a2e",
   "metadata": {},
   "outputs": [],
   "source": []
  },
  {
   "cell_type": "code",
   "execution_count": 202,
   "id": "314634eb",
   "metadata": {},
   "outputs": [
    {
     "name": "stdout",
     "output_type": "stream",
     "text": [
      "Original lists:\n",
      "[1, 2, 3, 4, 5, 6]\n",
      "Pair up the consecutive elements of the said list:\n",
      "[[1, 2], [2, 3], [3, 4], [4, 5], [5, 6]]\n",
      "\n",
      "Original lists:\n",
      "[1, 2, 3, 4, 5]\n",
      "Pair up the consecutive elements of the said list:\n",
      "[[1, 2], [2, 3], [3, 4], [4, 5]]\n"
     ]
    }
   ],
   "source": [
    "def pair_consecutive_elements(lst):\n",
    "    result = [[lst[i], lst[i + 1]] for i in range(len(lst) - 1)]\n",
    "    return result\n",
    "nums =  [1,2,3,4,5,6]\n",
    "print(\"Original lists:\")\n",
    "print(nums)\n",
    "print(\"Pair up the consecutive elements of the said list:\")\n",
    "print(pair_consecutive_elements(nums))\n",
    "nums =  [1,2,3,4,5]\n",
    "print(\"\\nOriginal lists:\")\n",
    "print(nums)\n",
    "print(\"Pair up the consecutive elements of the said list:\")\n",
    "print(pair_consecutive_elements(nums))\n"
   ]
  },
  {
   "cell_type": "code",
   "execution_count": 203,
   "id": "1acbe48f",
   "metadata": {},
   "outputs": [
    {
     "name": "stdout",
     "output_type": "stream",
     "text": [
      "Original lists:\n",
      "[1, 2, 3, 4, 5, 6]\n",
      "Pair up the consecutive elements of the said list:\n",
      "[[1, 2], [2, 3], [3, 4], [4, 5], [5, 6]]\n",
      "\n",
      "Original lists:\n",
      "[1, 2, 3, 4, 5]\n",
      "Pair up the consecutive elements of the said list:\n",
      "[[1, 2], [2, 3], [3, 4], [4, 5]]\n"
     ]
    }
   ],
   "source": [
    "def pair_consecutive_elements(lst):\n",
    "    result = [[lst[i], lst[i + 1]] for i in range(len(lst) - 1)]\n",
    "    return result\n",
    "nums =  [1,2,3,4,5,6]\n",
    "print(\"Original lists:\")\n",
    "print(nums)\n",
    "print(\"Pair up the consecutive elements of the said list:\")\n",
    "print(pair_consecutive_elements(nums))\n",
    "nums =  [1,2,3,4,5]\n",
    "print(\"\\nOriginal lists:\")\n",
    "print(nums)\n",
    "print(\"Pair up the consecutive elements of the said list:\")\n",
    "print(pair_consecutive_elements(nums))\n"
   ]
  },
  {
   "cell_type": "code",
   "execution_count": 204,
   "id": "84633ca8",
   "metadata": {},
   "outputs": [
    {
     "name": "stdout",
     "output_type": "stream",
     "text": [
      "Original lists:\n",
      "[1, 2, 3, 4, 5, 6]\n",
      "Pair up the consecutive elements of the said list:\n",
      "[[1, 2], [2, 3], [3, 4], [4, 5], [5, 6]]\n",
      "\n",
      "Original lists:\n",
      "[1, 2, 3, 4, 5]\n",
      "Pair up the consecutive elements of the said list:\n",
      "[[1, 2], [2, 3], [3, 4], [4, 5]]\n"
     ]
    }
   ],
   "source": [
    "def pair_consecutive_elements(lst):\n",
    "    result = [[lst[i], lst[i + 1]] for i in range(len(lst) - 1)]\n",
    "    return result\n",
    "nums =  [1,2,3,4,5,6]\n",
    "print(\"Original lists:\")\n",
    "print(nums)\n",
    "print(\"Pair up the consecutive elements of the said list:\")\n",
    "print(pair_consecutive_elements(nums))\n",
    "nums =  [1,2,3,4,5]\n",
    "print(\"\\nOriginal lists:\")\n",
    "print(nums)\n",
    "print(\"Pair up the consecutive elements of the said list:\")\n",
    "print(pair_consecutive_elements(nums))\n"
   ]
  },
  {
   "cell_type": "code",
   "execution_count": 205,
   "id": "376d0716",
   "metadata": {},
   "outputs": [
    {
     "name": "stdout",
     "output_type": "stream",
     "text": [
      "Original lists:\n",
      "['S001', 'S002', 'S003', 'S004']\n",
      " Convert the said unicode list to a list contains strings:\n",
      "['S001', 'S002', 'S003', 'S004']\n"
     ]
    }
   ],
   "source": [
    "def unicode_to_str(lst):\n",
    "    result = [str(x) for x in lst]\n",
    "    return result\n",
    "students =  [u'S001', u'S002', u'S003', u'S004']\n",
    "print(\"Original lists:\")\n",
    "print(students)\n",
    "print(\" Convert the said unicode list to a list contains strings:\")\n",
    "print(unicode_to_str(students))\n"
   ]
  },
  {
   "cell_type": "code",
   "execution_count": 206,
   "id": "f47ffbc8",
   "metadata": {},
   "outputs": [
    {
     "name": "stdout",
     "output_type": "stream",
     "text": [
      "Original lists:\n",
      "[1, 2, 3, 4, 5, 6]\n",
      "[7, 8, 5, 2, 10, 12]\n",
      "Compare said two lists and get the indices of the values present in both lists:\n",
      "[1, 4]\n",
      "\n",
      "Original lists:\n",
      "[1, 2, 3, 4, 5, 6]\n",
      "[7, 8, 5, 7, 10, 12]\n",
      "Compare said two lists and get the indices of the values present in both lists:\n",
      "[4]\n",
      "\n",
      "Original lists:\n",
      "[1, 2, 3, 4, 15, 6]\n",
      "[7, 8, 5, 7, 10, 12]\n",
      "Compare said two lists and get the indices of the values present in both lists:\n",
      "[]\n"
     ]
    }
   ],
   "source": [
    "def matched_index(l1, l2):\n",
    "    l2 = set(l2)\n",
    "    return [i for i, el in enumerate(l1) if el in l2]\n",
    "\n",
    "nums1 = [1, 2, 3, 4, 5 ,6]\n",
    "nums2 = [7, 8, 5, 2, 10, 12]\n",
    "print(\"Original lists:\")\n",
    "print(nums1)\n",
    "print(nums2)\n",
    "print(\"Compare said two lists and get the indices of the values present in both lists:\")\n",
    "print(matched_index(nums1, nums2))\n",
    "\n",
    "nums1 = [1, 2, 3, 4, 5 ,6]\n",
    "nums2 = [7, 8, 5, 7, 10, 12]\n",
    "print(\"\\nOriginal lists:\")\n",
    "print(nums1)\n",
    "print(nums2)\n",
    "print(\"Compare said two lists and get the indices of the values present in both lists:\")\n",
    "print(matched_index(nums1, nums2))\n",
    "\n",
    "nums1 = [1, 2, 3, 4, 15 ,6]\n",
    "nums2 = [7, 8, 5, 7, 10, 12]\n",
    "print(\"\\nOriginal lists:\")\n",
    "print(nums1)\n",
    "print(nums2)\n",
    "print(\"Compare said two lists and get the indices of the values present in both lists:\")\n",
    "print(matched_index(nums1, nums2))\n"
   ]
  },
  {
   "cell_type": "code",
   "execution_count": 207,
   "id": "cced6045",
   "metadata": {},
   "outputs": [
    {
     "name": "stdout",
     "output_type": "stream",
     "text": [
      "Original list:\n",
      "[[0, 1, 2], [2, 3, 4], [3, 4, 5, 6], [7, 8, 9, 10, 11], [12, 13, 14]]\n",
      "\n",
      "Average of n-th elements in the said list of lists with different lengths:\n",
      "[4.8, 5.8, 6.8, 8.0, 11.0]\n"
     ]
    }
   ],
   "source": [
    "import itertools as it\n",
    "nums = [[0, 1, 2],\n",
    "       [2, 3, 4],\n",
    "       [3, 4, 5, 6],\n",
    "       [7, 8, 9, 10, 11],\n",
    "       [12, 13, 14]]\n",
    "\n",
    "print(\"Original list:\")\n",
    "print(nums)\n",
    "def get_avg(x):\n",
    "    x = [i for i in x if i is not None]\n",
    "    return sum(x, 0.0) / len(x)\n",
    "result = map(get_avg, it.zip_longest(*nums))\n",
    "print(\"\\nAverage of n-th elements in the said list of lists with different lengths:\")\n",
    "print(list(result))\n"
   ]
  },
  {
   "cell_type": "code",
   "execution_count": 208,
   "id": "c7780adc",
   "metadata": {},
   "outputs": [
    {
     "name": "stdout",
     "output_type": "stream",
     "text": [
      "Original list:\n",
      "['red', 'green', 'white', 'black', 'orange']\n",
      "Move white at the end of the said list:\n",
      "['red', 'green', 'black', 'orange', 'white']\n",
      "\n",
      "Original list:\n",
      "['red', 'green', 'white', 'black', 'orange']\n",
      "Move red at the end of the said list:\n",
      "['green', 'white', 'black', 'orange', 'red']\n",
      "\n",
      "Original list:\n",
      "['red', 'green', 'white', 'black', 'orange']\n",
      "Move black at the end of the said list:\n",
      "['red', 'green', 'white', 'orange', 'black']\n"
     ]
    }
   ],
   "source": [
    "def group_similar_items(seq,el):\n",
    "    seq.append(seq.pop(seq.index(el)))\n",
    "    return seq \n",
    "\n",
    "colors = ['red','green','white','black','orange']\n",
    "print(\"Original list:\")\n",
    "print(colors)\n",
    "el = \"white\"\n",
    "print(\"Move\",el,\"at the end of the said list:\")\n",
    "print(group_similar_items(colors, el))\n",
    "\n",
    "colors = ['red','green','white','black','orange']\n",
    "print(\"\\nOriginal list:\")\n",
    "print(colors)\n",
    "el = \"red\"\n",
    "print(\"Move\",el,\"at the end of the said list:\")\n",
    "print(group_similar_items(colors, el))\n",
    "\n",
    "colors = ['red','green','white','black','orange']\n",
    "print(\"\\nOriginal list:\")\n",
    "print(colors)\n",
    "el = \"black\"\n",
    "print(\"Move\",el,\"at the end of the said list:\")\n",
    "print(group_similar_items(colors, el))\n"
   ]
  },
  {
   "cell_type": "code",
   "execution_count": 209,
   "id": "3a0c5072",
   "metadata": {},
   "outputs": [
    {
     "name": "stdout",
     "output_type": "stream",
     "text": [
      "Original list:\n",
      "['red', 'green', 'white', 'black']\n",
      "\n",
      "Traverse the said list in reverse order:\n",
      "black\n",
      "white\n",
      "green\n",
      "red\n",
      "\n",
      "Traverse the said list in reverse order with original index:\n",
      "3 black\n",
      "2 white\n",
      "1 green\n",
      "0 red\n"
     ]
    }
   ],
   "source": [
    "color = [\"red\", \"green\", \"white\", \"black\"]\n",
    "print(\"Original list:\")\n",
    "print(color)\n",
    "print(\"\\nTraverse the said list in reverse order:\")\n",
    "for i in reversed(color):\n",
    "    print(i)\n",
    "print(\"\\nTraverse the said list in reverse order with original index:\")\n",
    "for i, el in reversed(list(enumerate(color))):\n",
    "    print(i, el) \n"
   ]
  },
  {
   "cell_type": "code",
   "execution_count": 210,
   "id": "3b5a1c3a",
   "metadata": {},
   "outputs": [
    {
     "name": "stdout",
     "output_type": "stream",
     "text": [
      "\n",
      "Original list:\n",
      "[[1, 2, 4], [2, 4, 4], [1, 2]]\n",
      "Sum said lists with different lengths:\n",
      "[4, 8, 8]\n",
      "\n",
      "Original list:\n",
      "[[1], [2, 4, 4], [1, 2], [4]]\n",
      "Sum said lists with different lengths:\n",
      "[8, 6, 4]\n"
     ]
    }
   ],
   "source": [
    "def sum_lists_diff_length(test_list):\n",
    "    result =  [sum(x) for x in zip(*map(lambda x:x+[0]*max(map(len, test_list)) if len(x)<max(map(len, test_list)) else x, test_list))]\n",
    "    return result\n",
    "\n",
    "nums = [[1,2,4],[2,4,4],[1,2]]\n",
    "print(\"\\nOriginal list:\")\n",
    "print(nums)\n",
    "print(\"Sum said lists with different lengths:\")\n",
    "print(sum_lists_diff_length(nums))\n",
    "\n",
    "nums = [[1],[2,4,4],[1,2],[4]]\n",
    "print(\"\\nOriginal list:\")\n",
    "print(nums)\n",
    "print(\"Sum said lists with different lengths:\")\n",
    "print(sum_lists_diff_length(nums))\n"
   ]
  },
  {
   "cell_type": "code",
   "execution_count": 211,
   "id": "afa16db4",
   "metadata": {},
   "outputs": [
    {
     "name": "stdout",
     "output_type": "stream",
     "text": [
      "\n",
      "Original list:\n",
      "[[1, 2], [2, 4]]\n",
      "Dimension of the said matrix:\n",
      "(2, 2)\n",
      "\n",
      "Original list:\n",
      "[[0, 1, 2], [2, 4, 5]]\n",
      "Dimension of the said matrix:\n",
      "(2, 3)\n",
      "\n",
      "Original list:\n",
      "[[0, 1, 2], [2, 4, 5], [2, 3, 4]]\n",
      "Dimension of the said matrix:\n",
      "(3, 3)\n"
     ]
    }
   ],
   "source": [
    "def matrix_dimensions(test_list):\n",
    "    row = len(test_list)\n",
    "    column = len(test_list[0])\n",
    "    return row,column\n",
    "\n",
    "lst = [[1,2],[2,4]]\n",
    "print(\"\\nOriginal list:\")\n",
    "print(lst)\n",
    "print(\"Dimension of the said matrix:\")\n",
    "print(matrix_dimensions(lst))\n",
    "lst = [[0,1,2],[2,4,5]]\n",
    "print(\"\\nOriginal list:\")\n",
    "print(lst)\n",
    "print(\"Dimension of the said matrix:\")\n",
    "print(matrix_dimensions(lst))\n",
    "lst = [[0,1,2],[2,4,5],[2,3,4]]\n",
    "print(\"\\nOriginal list:\")\n",
    "print(lst)\n",
    "print(\"Dimension of the said matrix:\")\n",
    "print(matrix_dimensions(lst)) \n"
   ]
  },
  {
   "cell_type": "code",
   "execution_count": 212,
   "id": "4fcc95c4",
   "metadata": {},
   "outputs": [
    {
     "name": "stdout",
     "output_type": "stream",
     "text": [
      "\n",
      "Original list:\n",
      "[(100, 'Math'), (80, 'Math'), (90, 'Math'), (88, 'Science', 89), (90, 'Science', 92)]\n",
      "\n",
      "Remove all strings from the said list of tuples:\n",
      "[(100,), (80,), (90,), (88, 89), (90, 92)]\n"
     ]
    }
   ],
   "source": [
    "def test(list1):\n",
    "    result =   [tuple(v for v in i if not isinstance(v, str)) for i in list1]\n",
    "    return list(result)\n",
    "\n",
    "marks = [(100, 'Math'), (80, 'Math'), (90, 'Math'), (88, 'Science', 89), (90, 'Science', 92)]\n",
    "print(\"\\nOriginal list:\")\n",
    "print(marks)\n",
    "print(\"\\nRemove all strings from the said list of tuples:\")\n",
    "print(test(marks))\n"
   ]
  },
  {
   "cell_type": "code",
   "execution_count": 213,
   "id": "9706077c",
   "metadata": {},
   "outputs": [
    {
     "name": "stdout",
     "output_type": "stream",
     "text": [
      "\n",
      "Original list:\n",
      "[(100, 'Math'), (80, 'Math'), (90, 'Math'), (88, 'Science', 89), (90, 'Science', 92)]\n",
      "\n",
      "Remove all strings from the said list of tuples:\n",
      "[(100,), (80,), (90,), (88, 89), (90, 92)]\n"
     ]
    }
   ],
   "source": [
    "def test(list1):\n",
    "    result =   [tuple(v for v in i if not isinstance(v, str)) for i in list1]\n",
    "    return list(result)\n",
    "\n",
    "marks = [(100, 'Math'), (80, 'Math'), (90, 'Math'), (88, 'Science', 89), (90, 'Science', 92)]\n",
    "print(\"\\nOriginal list:\")\n",
    "print(marks)\n",
    "print(\"\\nRemove all strings from the said list of tuples:\")\n",
    "print(test(marks))\n"
   ]
  },
  {
   "cell_type": "code",
   "execution_count": 214,
   "id": "5552edae",
   "metadata": {},
   "outputs": [
    {
     "name": "stdout",
     "output_type": "stream",
     "text": [
      "Original lists:\n",
      "[2, 3, 5, 8, 7, 2, 3]\n",
      "[4, 3, 9, 0, 4, 3, 9]\n",
      "[2, 1, 5, 6, 5, 5, 4]\n",
      "Maximum value of the said three lists:\n",
      "9\n",
      "Minimum value of the said three lists:\n",
      "0\n"
     ]
    }
   ],
   "source": [
    "nums1 = [2,3,5,8,7,2,3]\n",
    "nums2 = [4,3,9,0,4,3,9]\n",
    "nums3 = [2,1,5,6,5,5,4]\n",
    "print(\"Original lists:\")\n",
    "print(nums1)\n",
    "print(nums2)\n",
    "print(nums3)\n",
    "print(\"Maximum value of the said three lists:\")\n",
    "print(max(nums1+nums2+nums3))\n",
    "print(\"Minimum value of the said three lists:\")\n",
    "print(min(nums1+nums2+nums3)) \n"
   ]
  },
  {
   "cell_type": "code",
   "execution_count": 215,
   "id": "99a65dff",
   "metadata": {},
   "outputs": [
    {
     "name": "stdout",
     "output_type": "stream",
     "text": [
      "Original lists:\n",
      "[1, 2, 3, 4, 5, 6]\n",
      "[3, 6, 8, 9, 10, 6] \n",
      "\n",
      "3 Number of largest products from the said two lists:\n",
      "[60, 54, 50]\n",
      "4 Number of largest products from the said two lists:\n",
      "[60, 54, 50, 48]\n"
     ]
    }
   ],
   "source": [
    "def top_product(nums1, nums2, N):\n",
    "    result = sorted([x*y for x in nums1 for y in nums2], reverse=True)[:N]\n",
    "    return result\n",
    "nums1 = [1, 2, 3, 4, 5, 6]\n",
    "nums2 = [3, 6, 8, 9, 10, 6]\n",
    "print(\"Original lists:\")\n",
    "print(nums1)\n",
    "print(nums2,\"\\n\")\n",
    "N = 3\n",
    "print(N,\"Number of largest products from the said two lists:\")\n",
    "print(top_product(nums1, nums2, N))\n",
    "N = 4\n",
    "print(N,\"Number of largest products from the said two lists:\")\n",
    "print(top_product(nums1, nums2, N))\n"
   ]
  },
  {
   "cell_type": "code",
   "execution_count": 216,
   "id": "3cf3265c",
   "metadata": {},
   "outputs": [
    {
     "name": "stdout",
     "output_type": "stream",
     "text": [
      "Original list:\n",
      "[1, 2, 3, 4, 5, 6, 7]\n",
      "Shift last element to first position and first element to last position of the said list:\n",
      "[7, 2, 3, 4, 5, 6, 1]\n",
      "\n",
      "Original list:\n",
      "['s', 'd', 'f', 'd', 's', 's', 'd', 'f']\n",
      "Shift last element to first position and first element to last position of the said list:\n",
      "['f', 'd', 'f', 'd', 's', 's', 'd', 's']\n"
     ]
    }
   ],
   "source": [
    "def shift_first_last(lst):\n",
    "    x = lst.pop(0)\n",
    "    y = lst.pop()\n",
    "    lst.insert(0, y)\n",
    "    lst.insert(len(lst), x)\n",
    "    return lst\n",
    "\n",
    "nums = [1,2,3,4,5,6,7]\n",
    "print(\"Original list:\")\n",
    "print(nums)\n",
    "print(\"Shift last element to first position and first element to last position of the said list:\")\n",
    "print(shift_first_last(nums))\n",
    "\n",
    "chars = ['s','d','f','d','s','s','d','f']\n",
    "print(\"\\nOriginal list:\")\n",
    "print(chars)\n",
    "print(\"Shift last element to first position and first element to last position of the said list:\")\n",
    "print(shift_first_last(chars))\n"
   ]
  },
  {
   "cell_type": "code",
   "execution_count": 217,
   "id": "076abb46",
   "metadata": {},
   "outputs": [
    {
     "name": "stdout",
     "output_type": "stream",
     "text": [
      "Original list of tuples:\n",
      "[('item2', 10, 10.12), ('item3', 15, 25.1), ('item1', 11, 24.5), ('item4', 12, 22.5)]\n",
      "\n",
      "Sort on 1st element of the tuple of the said list:\n",
      "[('item1', 11, 24.5), ('item2', 10, 10.12), ('item3', 15, 25.1), ('item4', 12, 22.5)]\n",
      "\n",
      "Sort on 2nd element of the tuple of the said list:\n",
      "[('item2', 10, 10.12), ('item1', 11, 24.5), ('item4', 12, 22.5), ('item3', 15, 25.1)]\n",
      "\n",
      "Sort on 3rd element of the tuple of the said list:\n",
      "[('item2', 10, 10.12), ('item4', 12, 22.5), ('item1', 11, 24.5), ('item3', 15, 25.1)]\n"
     ]
    }
   ],
   "source": [
    "def sort_on_specific_item(lst, n):\n",
    "    result = sorted((lst), key=lambda x: x[n])\n",
    "    return result   \n",
    "items = [('item2', 10, 10.12), ('item3', 15, 25.10), ('item1', 11, 24.50),('item4', 12, 22.50)]\n",
    "print(\"Original list of tuples:\")\n",
    "print(items)\n",
    "print(\"\\nSort on 1st element of the tuple of the said list:\")\n",
    "n = 0\n",
    "print(sort_on_specific_item(items, n))\n",
    "print(\"\\nSort on 2nd element of the tuple of the said list:\")\n",
    "n = 1\n",
    "print(sort_on_specific_item(items, n))\n",
    "print(\"\\nSort on 3rd element of the tuple of the said list:\")\n",
    "n = 2\n",
    "print(sort_on_specific_item(items, n))\n"
   ]
  },
  {
   "cell_type": "code",
   "execution_count": 218,
   "id": "0f6d8e99",
   "metadata": {},
   "outputs": [
    {
     "name": "stdout",
     "output_type": "stream",
     "text": [
      "Original list of tuples:\n",
      "[('red', 'green'), ('black', 'white'), ('orange', 'pink')]\n",
      "\n",
      "Convert the said list of tuples to a list of strings:\n",
      "['red green', 'black white', 'orange pink']\n",
      "\n",
      "Original list of tuples:\n",
      "[('Laiba', 'Delacruz'), ('Mali', 'Stacey', 'Drummond'), ('Raja', 'Welch'), ('Saarah', 'Stone')]\n",
      "\n",
      "Convert the said list of tuples to a list of strings:\n",
      "['Laiba Delacruz', 'Mali Stacey Drummond', 'Raja Welch', 'Saarah Stone']\n"
     ]
    }
   ],
   "source": [
    "def tuples_to_list_str(lst):\n",
    "    result = [(\"%s \"*len(el)%el).strip() for el in lst]\n",
    "    return result   \n",
    "colors = [('red', 'green'), ('black', 'white'), ('orange', 'pink')]\n",
    "print(\"Original list of tuples:\")\n",
    "print(colors)\n",
    "print(\"\\nConvert the said list of tuples to a list of strings:\")\n",
    "print(tuples_to_list_str(colors))\n",
    "names = [('Laiba','Delacruz'), ('Mali','Stacey','Drummond'), ('Raja','Welch'), ('Saarah','Stone')]\n",
    "print(\"\\nOriginal list of tuples:\")\n",
    "print(names)\n",
    "print(\"\\nConvert the said list of tuples to a list of strings:\")\n",
    "print(tuples_to_list_str(names))\n"
   ]
  },
  {
   "cell_type": "code",
   "execution_count": 219,
   "id": "7cd78501",
   "metadata": {},
   "outputs": [
    {
     "name": "stdout",
     "output_type": "stream",
     "text": [
      "Original list:\n",
      "[0, 1, 2, 3, 4, 5, 6, 7, 8, 9, 10, 11, 12, 13, 14, 15]\n",
      "\n",
      "Swap two sublists of the said list:\n",
      "[0, 6, 7, 8, 9, 3, 4, 5, 1, 2, 10, 11, 12, 13, 14, 15]\n",
      "\n",
      "Swap two sublists of the said list:\n",
      "[0, 9, 3, 8, 6, 7, 4, 5, 1, 2, 10, 11, 12, 13, 14, 15]\n"
     ]
    }
   ],
   "source": [
    "nums = [0, 1, 2, 3, 4, 5, 6, 7, 8, 9, 10, 11, 12, 13, 14, 15]\n",
    "print(\"Original list:\")\n",
    "print(nums)\n",
    "nums[6:10], nums[1:3] = nums[1:3], nums[6:10]\n",
    "print(\"\\nSwap two sublists of the said list:\")\n",
    "print(nums)\n",
    "nums[1:3], nums[4:6] = nums[4:6], nums[1:3]\n",
    "print(\"\\nSwap two sublists of the said list:\")\n",
    "print(nums)\n"
   ]
  },
  {
   "cell_type": "code",
   "execution_count": 220,
   "id": "ddcb4422",
   "metadata": {},
   "outputs": [
    {
     "name": "stdout",
     "output_type": "stream",
     "text": [
      "Original Number: 8\n",
      "Decimal number ( 8 ) to binary list:\n",
      "[1, 0, 0, 0]\n",
      "\n",
      "Original Number: 45\n",
      "Decimal number ( 45 ) to binary list:\n",
      "[1, 0, 1, 1, 0, 1]\n",
      "\n",
      "Original Number: 100\n",
      "Decimal number ( 100 ) to binary list:\n",
      "[1, 1, 0, 0, 1, 0, 0]\n"
     ]
    }
   ],
   "source": [
    "def decimal_to_binary_list(n):\n",
    "    result = [int(x) for x in list('{0:0b}'.format(n))]\n",
    "    return result\n",
    "n = 8\n",
    "print(\"Original Number:\",n)\n",
    "print(\"Decimal number (\",n,\") to binary list:\")\n",
    "print(decimal_to_binary_list(n))\n",
    "n = 45\n",
    "print(\"\\nOriginal Number:\",n)\n",
    "print(\"Decimal number (\",n,\") to binary list:\")\n",
    "print(decimal_to_binary_list(n))\n",
    "n = 100\n",
    "print(\"\\nOriginal Number:\",n)\n",
    "print(\"Decimal number (\",n,\") to binary list:\")\n",
    "print(decimal_to_binary_list(n))\n"
   ]
  },
  {
   "cell_type": "code",
   "execution_count": 221,
   "id": "a418f049",
   "metadata": {},
   "outputs": [
    {
     "name": "stdout",
     "output_type": "stream",
     "text": [
      "Original list:\n",
      "['Sum all the items in a list', 'Find the second smallest number in a list']\n",
      "\n",
      "Bigram sequence of the said list:\n",
      "[('Sum', 'all'), ('all', 'the'), ('the', 'items'), ('items', 'in'), ('in', 'a'), ('a', 'list'), ('Find', 'the'), ('the', 'second'), ('second', 'smallest'), ('smallest', 'number'), ('number', 'in'), ('in', 'a'), ('a', 'list')]\n"
     ]
    }
   ],
   "source": [
    "def bigram_sequence(text_lst):\n",
    "    result = [a for ls in text_lst for a in zip(ls.split(\" \")[:-1], ls.split(\" \")[1:])]\n",
    "    return result\n",
    "text = [\"Sum all the items in a list\", \"Find the second smallest number in a list\"]\n",
    "print(\"Original list:\")\n",
    "print(text)\n",
    "print(\"\\nBigram sequence of the said list:\")\n",
    "print(bigram_sequence(text))\n"
   ]
  },
  {
   "cell_type": "code",
   "execution_count": 222,
   "id": "be2b5bd1",
   "metadata": {},
   "outputs": [
    {
     "name": "stdout",
     "output_type": "stream",
     "text": [
      "Original list:\n",
      "[[1, 2, 3, 5], [2, 3, 5, 4], [0, 5, 4, 1], [3, 7, 2, 1], [1, 2, 1, 2]]\n",
      "Unique values of the said list of lists:\n",
      "[0, 1, 2, 3, 4, 5, 7]\n",
      "\n",
      "Original list:\n",
      "[['h', 'g', 'l', 'k'], ['a', 'b', 'd', 'e', 'c'], ['j', 'i', 'y'], ['n', 'b', 'v', 'c'], ['x', 'z']]\n",
      "Unique values of the said list of lists:\n",
      "['d', 'x', 'l', 'b', 'h', 'e', 'k', 'g', 'a', 'c', 'j', 'z', 'y', 'n', 'v', 'i']\n"
     ]
    }
   ],
   "source": [
    "def unique_values_in_list_of_lists(lst):\n",
    "    result = set(x for l in lst for x in l)\n",
    "    return list(result)\n",
    "nums = [[1,2,3,5], [2,3,5,4], [0,5,4,1], [3,7,2,1], [1,2,1,2]]\n",
    "print(\"Original list:\")\n",
    "print(nums)\n",
    "print(\"Unique values of the said list of lists:\")\n",
    "print(unique_values_in_list_of_lists(nums))\n",
    "chars = [['h','g','l','k'], ['a','b','d','e','c'], ['j','i','y'], ['n','b','v','c'], ['x','z']]\n",
    "print(\"\\nOriginal list:\")\n",
    "print(chars)\n",
    "print(\"Unique values of the said list of lists:\")\n",
    "print(unique_values_in_list_of_lists(chars))\n"
   ]
  },
  {
   "cell_type": "code",
   "execution_count": 223,
   "id": "a450d392",
   "metadata": {},
   "outputs": [
    {
     "name": "stdout",
     "output_type": "stream",
     "text": [
      "Original list:\n",
      "[[1, 2, 3, 5], [2, 3, 5, 4], [0, 5, 4, 1], [3, 7, 2, 1], [1, 2, 1, 2]]\n",
      "\n",
      "Maximum sum of sub list of the said list of lists:\n",
      "[2, 3, 5, 4]\n",
      "\n",
      "Minimum sum of sub list of the said list of lists:\n",
      "[1, 2, 1, 2]\n"
     ]
    }
   ],
   "source": [
    "def max_min_sublist(lst):\n",
    "    max_result = (max(lst, key=sum))\n",
    "    min_result = (min(lst, key=sum))\n",
    "    return max_result,min_result\n",
    "\n",
    "nums = [[1,2,3,5], [2,3,5,4], [0,5,4,1], [3,7,2,1], [1,2,1,2]]\n",
    "print(\"Original list:\")\n",
    "print(nums)\n",
    "result = max_min_sublist(nums)\n",
    "print(\"\\nMaximum sum of sub list of the said list of lists:\")\n",
    "print(result[0])\n",
    "print(\"\\nMinimum sum of sub list of the said list of lists:\")\n",
    "print(result[1])\n"
   ]
  },
  {
   "cell_type": "code",
   "execution_count": 224,
   "id": "fa29500c",
   "metadata": {},
   "outputs": [
    {
     "name": "stdout",
     "output_type": "stream",
     "text": [
      "Original list:\n",
      "['a', 'b', 'c', 'd', 'e', 'f', 'g', 'h']\n",
      "\n",
      "Iterate the said  list cyclically on specific index position 3 :\n",
      "['d', 'e', 'f', 'g', 'h', 'a', 'b', 'c']\n",
      "\n",
      "Iterate the said  list cyclically on specific index position 5 :\n",
      "['f', 'g', 'h', 'a', 'b', 'c', 'd', 'e']\n"
     ]
    }
   ],
   "source": [
    "def cyclically_iteration(lst,spec_index):\n",
    "    result = []\n",
    "    length = len(lst)\n",
    "    for i in range(length):\n",
    "        element_index = spec_index % length\n",
    "        result.append(lst[element_index])\n",
    "        spec_index += 1\n",
    "    return result\n",
    "\n",
    "chars = ['a', 'b', 'c', 'd', 'e', 'f', 'g', 'h']\n",
    "print(\"Original list:\")\n",
    "print(chars)\n",
    "spec_index = 3\n",
    "print(\"\\nIterate the said  list cyclically on specific index position\",spec_index,\":\")\n",
    "print(cyclically_iteration(chars,spec_index))\n",
    "spec_index = 5\n",
    "print(\"\\nIterate the said  list cyclically on specific index position\",spec_index,\":\")\n",
    "print(cyclically_iteration(chars,spec_index))\n"
   ]
  },
  {
   "cell_type": "code",
   "execution_count": 225,
   "id": "11adb718",
   "metadata": {},
   "outputs": [
    {
     "name": "stdout",
     "output_type": "stream",
     "text": [
      "Original list:\n",
      "[3, 40, 41, 43, 74, 9]\n",
      "Smallest possible number using the elements of the said list of positive integers:\n",
      "3404143749\n",
      "\n",
      "Original list:\n",
      "[10, 40, 20, 30, 50, 60]\n",
      "Smallest possible number using the elements of the said list of positive integers:\n",
      "102030405060\n",
      "\n",
      "Original list:\n",
      "[8, 4, 2, 9, 5, 6, 1, 0]\n",
      "Smallest possible number using the elements of the said list of positive integers:\n",
      "01245689\n"
     ]
    }
   ],
   "source": [
    "def create_largest_number(lst):\n",
    "    if all(val == 0 for val in lst):\n",
    "        return '0'\n",
    "    result = ''.join(sorted((str(val) for val in lst), reverse=False,\n",
    "                      key=lambda i: i*( len(str(min(lst))) * 2 // len(i))))\n",
    "    return result\n",
    "\n",
    "\n",
    "nums = [3, 40, 41, 43, 74, 9]\n",
    "print(\"Original list:\")\n",
    "print(nums)\n",
    "print(\"Smallest possible number using the elements of the said list of positive integers:\")\n",
    "print(create_largest_number(nums))\n",
    "\n",
    "nums = [10, 40, 20, 30, 50, 60]\n",
    "print(\"\\nOriginal list:\")\n",
    "print(nums)\n",
    "print(\"Smallest possible number using the elements of the said list of positive integers:\")\n",
    "print(create_largest_number(nums))\n",
    "nums = [8, 4, 2, 9, 5, 6, 1, 0]\n",
    "print(\"\\nOriginal list:\")\n",
    "print(nums)\n",
    "print(\"Smallest possible number using the elements of the said list of positive integers:\")\n",
    "print(create_largest_number(nums))\n"
   ]
  },
  {
   "cell_type": "code",
   "execution_count": 226,
   "id": "d73e5e82",
   "metadata": {},
   "outputs": [
    {
     "name": "stdout",
     "output_type": "stream",
     "text": [
      "[1, 2, 3, 4, 5, 6, 7, 8, 9, 10, 11, 12, 13, 14, 15]\n",
      "[3, 6, 9, 12, 15, 18, 21, 24, 27, 30, 33, 36]\n",
      "[5, 10, 15, 20, 25]\n"
     ]
    }
   ],
   "source": [
    "def arithmetic_progression(n, x):\n",
    "  return list(range(n, x + 1, n))\n",
    "\n",
    "print(arithmetic_progression(1, 15))\n",
    "print(arithmetic_progression(3, 37))\n",
    "print(arithmetic_progression(5, 25))\n"
   ]
  },
  {
   "cell_type": "code",
   "execution_count": 227,
   "id": "ddc85170",
   "metadata": {},
   "outputs": [
    {
     "name": "stdout",
     "output_type": "stream",
     "text": [
      "Original list:\n",
      "[1, 2, 3, 4, 5, 6, 7]\n",
      "Check if there are duplicate values in the said given flat list:\n",
      "False\n",
      "\n",
      "Original list:\n",
      "[1, 2, 3, 3, 4, 5, 5, 6, 7]\n",
      "Check if there are duplicate values in the said given flat list:\n",
      "True\n"
     ]
    }
   ],
   "source": [
    "def has_duplicates(lst):\n",
    "  return len(lst) != len(set(lst))\n",
    "nums = [1, 2, 3, 4, 5, 6, 7]\n",
    "print(\"Original list:\")\n",
    "print(nums)\n",
    "print(\"Check if there are duplicate values in the said given flat list:\")\n",
    "print(has_duplicates(nums)) \n",
    "nums = [1, 2, 3, 3, 4, 5, 5, 6, 7]\n",
    "print(\"\\nOriginal list:\")\n",
    "print(nums)\n",
    "print(\"Check if there are duplicate values in the said given flat list:\")\n",
    "print(has_duplicates(nums)) \n"
   ]
  },
  {
   "cell_type": "code",
   "execution_count": 228,
   "id": "934bdc39",
   "metadata": {},
   "outputs": [
    {
     "name": "stdout",
     "output_type": "stream",
     "text": [
      "True\n",
      "True\n",
      "False\n",
      "True\n"
     ]
    }
   ],
   "source": [
    "def is_contained_in(l1, l2):\n",
    "  for x in set(l1):\n",
    "    if l1.count(x) > l2.count(x):\n",
    "      return False\n",
    "  return True\n",
    "print(is_contained_in([1, 2], [2, 4, 1]))\n",
    "print(is_contained_in([1], [2, 4, 1]))\n",
    "print(is_contained_in([1, 1], [4, 2, 1]))\n",
    "print(is_contained_in([1, 1], [3, 2, 4, 1, 5, 1]))\n"
   ]
  },
  {
   "cell_type": "code",
   "execution_count": 229,
   "id": "adfc8d68",
   "metadata": {},
   "outputs": [
    {
     "name": "stdout",
     "output_type": "stream",
     "text": [
      "[1, 2, 3, 4, 5, 6, 7, 8, 9, 10]\n",
      "[2, 4, 6, 8, 10]\n",
      "[5, 10]\n",
      "[6]\n"
     ]
    }
   ],
   "source": [
    "def every_nth(nums, nth):\n",
    "  return nums[nth - 1::nth]\n",
    "print(every_nth([1, 2, 3, 4, 5, 6, 7, 8, 9, 10], 1))\n",
    "print(every_nth([1, 2, 3, 4, 5, 6, 7, 8, 9, 10], 2))\n",
    "print(every_nth([1, 2, 3, 4, 5, 6, 7, 8, 9, 10], 5))\n",
    "print(every_nth([1, 2, 3, 4, 5, 6, 7, 8, 9, 10], 6))\n"
   ]
  },
  {
   "cell_type": "code",
   "execution_count": 230,
   "id": "3b7fb161",
   "metadata": {},
   "outputs": [
    {
     "name": "stdout",
     "output_type": "stream",
     "text": [
      "Original list elements:\n",
      "[1, 2, 3]\n",
      "Remove 1 element from left of the said list:\n",
      "[2, 3]\n",
      "Remove 1 element from right of the said list:\n",
      "[1, 2]\n",
      "\n",
      "Original list elements:\n",
      "[1, 2, 3, 4]\n",
      "Remove 2 elements from left of the said list:\n",
      "[3, 4]\n",
      "Remove 2 elements from right of the said list:\n",
      "[1, 2]\n",
      "\n",
      "Original list elements:\n",
      "[1, 2, 3, 4, 5, 6]\n",
      "Remove 7 elements from left of the said list:\n",
      "[2, 3, 4, 5, 6]\n",
      "Remove 7 elements from right of the said list:\n",
      "[1, 2, 3, 4, 5]\n"
     ]
    }
   ],
   "source": [
    "def drop_left_right(a, n = 1):\n",
    "  return a[n:], a[:-n] \n",
    "nums = [1, 2, 3]\n",
    "print(\"Original list elements:\")\n",
    "print(nums)\n",
    "result = drop_left_right(nums)\n",
    "print(\"Remove 1 element from left of the said list:\")\n",
    "print(result[0])\n",
    "print(\"Remove 1 element from right of the said list:\")\n",
    "print(result[1])\n",
    "nums = [1, 2, 3, 4]\n",
    "print(\"\\nOriginal list elements:\")\n",
    "print(nums)\n",
    "result = drop_left_right(nums,2)\n",
    "print(\"Remove 2 elements from left of the said list:\")\n",
    "print(result[0])\n",
    "print(\"Remove 2 elements from right of the said list:\")\n",
    "print(result[1])\n",
    "nums = [1, 2, 3, 4, 5, 6]\n",
    "print(\"\\nOriginal list elements:\")\n",
    "print(nums)\n",
    "result = drop_left_right(nums)\n",
    "print(\"Remove 7 elements from left of the said list:\")\n",
    "print(result[0])\n",
    "print(\"Remove 7 elements from right of the said list:\")\n",
    "print(result[1])\n"
   ]
  },
  {
   "cell_type": "code",
   "execution_count": 231,
   "id": "515cf39e",
   "metadata": {},
   "outputs": [
    {
     "name": "stdout",
     "output_type": "stream",
     "text": [
      "Original list elements:\n",
      "[1, 2, 3, 4]\n",
      "Cumulative sum of the elements of the said list:\n",
      "[1, 3, 6, 10]\n",
      "\n",
      "Original list elements:\n",
      "[-1, -2, -3, 4]\n",
      "Cumulative sum of the elements of the said list:\n",
      "[-1, -3, -6, -2]\n"
     ]
    }
   ],
   "source": [
    "from itertools import accumulate\n",
    "def cumsum(lst):\n",
    "  return list(accumulate(lst))\n",
    "nums = [1,2,3,4]\n",
    "print(\"Original list elements:\")\n",
    "print(nums)\n",
    "print(\"Cumulative sum of the elements of the said list:\")\n",
    "print(cumsum(nums)) \n",
    "nums = [-1,-2,-3,4]\n",
    "print(\"\\nOriginal list elements:\")\n",
    "print(nums)\n",
    "print(\"Cumulative sum of the elements of the said list:\")\n",
    "print(cumsum(nums))\n"
   ]
  },
  {
   "cell_type": "code",
   "execution_count": 232,
   "id": "4f5e6d59",
   "metadata": {},
   "outputs": [
    {
     "name": "stdout",
     "output_type": "stream",
     "text": [
      "<class 'list'>\n",
      "[1]\n",
      "<class 'tuple'>\n",
      "['Red', 'Green']\n",
      "<class 'set'>\n",
      "['Green', 'Red']\n",
      "<class 'dict'>\n",
      "[1, 2, 3]\n"
     ]
    }
   ],
   "source": [
    "def cast_list(val):\n",
    "  return list(val) if isinstance(val, (tuple, list, set, dict)) else [val]\n",
    "d1 = [1]\n",
    "print(type(d1))\n",
    "print(cast_list(d1)) \n",
    "d2 = ('Red', 'Green')\n",
    "print(type(d2))\n",
    "print(cast_list(d2)) \n",
    "d3 = {'Red', 'Green'}\n",
    "print(type(d3))\n",
    "print(cast_list(d3))\n",
    "d4 = {1: 'Red', 2: 'Green', 3: 'Black'}\n",
    "print(type(d4))\n",
    "print(cast_list(d4))\n"
   ]
  },
  {
   "cell_type": "code",
   "execution_count": 233,
   "id": "6f7fc2c5",
   "metadata": {},
   "outputs": [
    {
     "name": "stdout",
     "output_type": "stream",
     "text": [
      "First 7 Fibonacci numbers:\n",
      "[0, 1, 1, 2, 3, 5, 8, 13]\n",
      "\n",
      "First 15 Fibonacci numbers:\n",
      "[0, 1, 1, 2, 3, 5, 8, 13, 21, 34, 55, 89, 144, 233, 377, 610]\n",
      "\n",
      "First 50 Fibonacci numbers:\n",
      "[0, 1, 1, 2, 3, 5, 8, 13, 21, 34, 55, 89, 144, 233, 377, 610, 987, 1597, 2584, 4181, 6765, 10946, 17711, 28657, 46368, 75025, 121393, 196418, 317811, 514229, 832040, 1346269, 2178309, 3524578, 5702887, 9227465, 14930352, 24157817, 39088169, 63245986, 102334155, 165580141, 267914296, 433494437, 701408733, 1134903170, 1836311903, 2971215073, 4807526976, 7778742049, 12586269025]\n"
     ]
    }
   ],
   "source": [
    "def fibonacci_nums(n):\n",
    "  if n <= 0:\n",
    "    return [0]\n",
    "  sequence = [0, 1]\n",
    "  while len(sequence) <= n:\n",
    "    next_value = sequence[len(sequence) - 1] + sequence[len(sequence) - 2]\n",
    "    sequence.append(next_value)\n",
    "  return sequence\n",
    "print(\"First 7 Fibonacci numbers:\")\n",
    "print(fibonacci_nums(7))\n",
    "print(\"\\nFirst 15 Fibonacci numbers:\")\n",
    "print(fibonacci_nums(15))\n",
    "print(\"\\nFirst 50 Fibonacci numbers:\")\n",
    "print(fibonacci_nums(50))\n"
   ]
  },
  {
   "cell_type": "code",
   "execution_count": 234,
   "id": "284584db",
   "metadata": {},
   "outputs": [
    {
     "name": "stdout",
     "output_type": "stream",
     "text": [
      "[6, 7, 8, 1, 2, 3, 4, 5]\n",
      "[4, 5, 6, 7, 8, 1, 2, 3]\n",
      "[1, 2, 3, 4, 5, 6, 7, 8]\n",
      "[1, 2, 3, 4, 5, 6, 7, 8]\n",
      "[2, 3, 4, 5, 6, 7, 8, 1]\n",
      "[8, 1, 2, 3, 4, 5, 6, 7]\n"
     ]
    }
   ],
   "source": [
    "def move_start(nums, offset):\n",
    "  return nums[-offset:] + nums[:-offset] \n",
    "print(move_start([1, 2, 3, 4, 5, 6, 7, 8], 3))\n",
    "print(move_start([1, 2, 3, 4, 5, 6, 7, 8], -3))\n",
    "print(move_start([1, 2, 3, 4, 5, 6, 7, 8], 8))\n",
    "print(move_start([1, 2, 3, 4, 5, 6, 7, 8], -8))\n",
    "print(move_start([1, 2, 3, 4, 5, 6, 7, 8], 7))\n",
    "print(move_start([1, 2, 3, 4, 5, 6, 7, 8], -7))\n"
   ]
  },
  {
   "cell_type": "code",
   "execution_count": 236,
   "id": "1f54e496",
   "metadata": {},
   "outputs": [
    {
     "name": "stdout",
     "output_type": "stream",
     "text": [
      "[4, 5, 6, 7, 8, 1, 2, 3]\n",
      "[6, 7, 8, 1, 2, 3, 4, 5]\n",
      "[1, 2, 3, 4, 5, 6, 7, 8]\n",
      "[1, 2, 3, 4, 5, 6, 7, 8]\n",
      "[8, 1, 2, 3, 4, 5, 6, 7]\n",
      "[2, 3, 4, 5, 6, 7, 8, 1]\n"
     ]
    }
   ],
   "source": [
    "def move_end(nums, offset):\n",
    "  return nums[offset:] + nums[:offset] \n",
    "print(move_end([1, 2, 3, 4, 5, 6, 7, 8], 3))\n",
    "print(move_end([1, 2, 3, 4, 5, 6, 7, 8], -3))\n",
    "print(move_end([1, 2, 3, 4, 5, 6, 7, 8], 8))\n",
    "print(move_end([1, 2, 3, 4, 5, 6, 7, 8], -8))\n",
    "print(move_end([1, 2, 3, 4, 5, 6, 7, 8], 7))\n",
    "print(move_end([1, 2, 3, 4, 5, 6, 7, 8], -7))\n"
   ]
  },
  {
   "cell_type": "code",
   "execution_count": 237,
   "id": "64aabde1",
   "metadata": {},
   "outputs": [
    {
     "name": "stdout",
     "output_type": "stream",
     "text": [
      "2\n",
      "Original list:\n",
      "[2, 3, 8, 4, 7, 9, 8, 2, 6, 5, 1, 6, 1, 2, 3, 2, 4, 6, 9, 1, 2]\n",
      "Item with maximum frequency of the said list:\n",
      "2\n",
      "\n",
      "Original list:\n",
      "[1, 2, 3, 1, 2, 3, 2, 1, 4, 3, 3]\n",
      "Item with maximum frequency of the said list:\n",
      "3\n"
     ]
    }
   ],
   "source": [
    "def most_frequent(nums):\n",
    "  return max(set(nums), key = nums.count) \n",
    "print(most_frequent([1, 2, 1, 2, 3, 2, 1, 4, 2]))\n",
    "nums = [2,3,8,4,7,9,8,2,6,5,1,6,1,2,3,2,4,6,9,1,2]\n",
    "print (\"Original list:\")\n",
    "print(nums)\n",
    "print(\"Item with maximum frequency of the said list:\")\n",
    "print(most_frequent(nums))\n",
    "nums = [1, 2, 3, 1, 2, 3, 2, 1, 4, 3, 3]\n",
    "print (\"\\nOriginal list:\")\n",
    "print(nums)\n",
    "print(\"Item with maximum frequency of the said list:\")\n",
    "print(most_frequent(nums))\n"
   ]
  },
  {
   "cell_type": "code",
   "execution_count": 238,
   "id": "c29955be",
   "metadata": {},
   "outputs": [
    {
     "name": "stdout",
     "output_type": "stream",
     "text": [
      "True\n",
      "False\n"
     ]
    }
   ],
   "source": [
    "def test_includes_all(nums, lsts):\n",
    "  for x in lsts:\n",
    "    if x not in nums:\n",
    "      return False\n",
    "  return True\n",
    "print(test_includes_all([10, 20, 30, 40, 50, 60], [20, 40]))\n",
    "print(test_includes_all([10, 20, 30, 40, 50, 60], [20, 80]))\n"
   ]
  },
  {
   "cell_type": "code",
   "execution_count": 239,
   "id": "2a042b23",
   "metadata": {},
   "outputs": [
    {
     "name": "stdout",
     "output_type": "stream",
     "text": [
      "False\n",
      "True\n",
      "False\n"
     ]
    }
   ],
   "source": [
    "def test(lst, fn = lambda x: x):\n",
    "  return all(not fn(x) for x in lst)\n",
    "print(test([1, 0, 2, 3], lambda x: x >= 3 ))\n",
    "print(test([1, 0, 2, 3], lambda x: x < 0 ))\n",
    "print(test([2, 2, 4, 4]))\n"
   ]
  },
  {
   "cell_type": "code",
   "execution_count": 240,
   "id": "d6e88e78",
   "metadata": {},
   "outputs": [
    {
     "name": "stdout",
     "output_type": "stream",
     "text": [
      "Original directory elements:\n",
      "{'Laura': 10, 'Spencer': 11, 'Bridget': 9, 'Howard ': 10}\n",
      "\n",
      "Flat list of all the keys of the said dictionary:\n",
      "['Laura', 'Spencer', 'Bridget', 'Howard ']\n"
     ]
    }
   ],
   "source": [
    "def keys_only(students):\n",
    "  return list(students.keys()) \n",
    "students = {\n",
    "  'Laura': 10,\n",
    "  'Spencer': 11,\n",
    "  'Bridget': 9,\n",
    "  'Howard ': 10,\n",
    "}\n",
    "print(\"Original directory elements:\")\n",
    "print(students)\n",
    "print(\"\\nFlat list of all the keys of the said dictionary:\")\n",
    "print(keys_only(students))\n"
   ]
  },
  {
   "cell_type": "code",
   "execution_count": 241,
   "id": "2e8f3dd3",
   "metadata": {},
   "outputs": [
    {
     "name": "stdout",
     "output_type": "stream",
     "text": [
      "Original list elements:\n",
      "[1, 2, 4]\n",
      "[2, 4, 1]\n",
      "\n",
      "Check two said lists contain the same elements regardless of order!\n",
      "True\n",
      "\n",
      "Original list elements:\n",
      "[1, 2, 3]\n",
      "[1, 2, 3]\n",
      "\n",
      "Check two said lists contain the same elements regardless of order!\n",
      "True\n",
      "\n",
      "Original list elements:\n",
      "[1, 2, 3]\n",
      "[1, 2, 4]\n",
      "\n",
      "Check two said lists contain the same elements regardless of order!\n",
      "False\n"
     ]
    }
   ],
   "source": [
    "def check_same_contents(nums1, nums2):\n",
    "  for x in set(nums1 + nums2):\n",
    "    if nums1.count(x) != nums2.count(x):\n",
    "      return False\n",
    "  return True\n",
    "nums1 = [1, 2, 4]\n",
    "nums2 = [2, 4, 1]\n",
    "print(\"Original list elements:\")\n",
    "print(nums1)\n",
    "print(nums2)\n",
    "print(\"\\nCheck two said lists contain the same elements regardless of order!\")\n",
    "print(check_same_contents(nums1, nums2))\n",
    "nums1 = [1, 2, 3]\n",
    "nums2 = [1, 2, 3]\n",
    "print(\"\\nOriginal list elements:\")\n",
    "print(nums1)\n",
    "print(nums2)\n",
    "print(\"\\nCheck two said lists contain the same elements regardless of order!\")\n",
    "print(check_same_contents(nums1, nums2))\n",
    "nums1 = [1, 2, 3]\n",
    "nums2 = [1, 2, 4]\n",
    "print(\"\\nOriginal list elements:\")\n",
    "print(nums1)\n",
    "print(nums2)\n",
    "print(\"\\nCheck two said lists contain the same elements regardless of order!\")\n",
    "print(check_same_contents(nums1, nums2))\n"
   ]
  },
  {
   "cell_type": "code",
   "execution_count": 242,
   "id": "fa27857a",
   "metadata": {},
   "outputs": [
    {
     "name": "stdout",
     "output_type": "stream",
     "text": [
      "Original list elements:\n",
      "[1, 2]\n",
      "Powerset of the said list:\n",
      "[(), (1,), (2,), (1, 2)]\n",
      "\n",
      "Original list elements:\n",
      "[1, 2, 3, 4]\n",
      "Powerset of the said list:\n",
      "[(), (1,), (2,), (3,), (4,), (1, 2), (1, 3), (1, 4), (2, 3), (2, 4), (3, 4), (1, 2, 3), (1, 2, 4), (1, 3, 4), (2, 3, 4), (1, 2, 3, 4)]\n"
     ]
    }
   ],
   "source": [
    "from itertools import chain, combinations\n",
    "def powerset(iterable):\n",
    "  s = list(iterable)\n",
    "  return list(chain.from_iterable(combinations(s, r) for r in range(len(s)+1)))\n",
    "nums = [1, 2]\n",
    "print(\"Original list elements:\")\n",
    "print(nums)\n",
    "print(\"Powerset of the said list:\")\n",
    "print(powerset(nums))\n",
    "nums = [1, 2, 3, 4]\n",
    "print(\"\\nOriginal list elements:\")\n",
    "print(nums)\n",
    "print(\"Powerset of the said list:\")\n",
    "print(powerset(nums))\n"
   ]
  },
  {
   "cell_type": "code",
   "execution_count": 243,
   "id": "1b330cef",
   "metadata": {},
   "outputs": [
    {
     "name": "stdout",
     "output_type": "stream",
     "text": [
      "Original list elements:\n",
      "[1, [2], [[3], [4], 5], 6]\n",
      "\n",
      "Deep flatten the said list:\n",
      "[1, 2, 3, 4, 5, 6]\n",
      "\n",
      "Original list elements:\n",
      "[[[1, 2, 3], [4, 5]], 6]\n",
      "\n",
      "Deep flatten the said list:\n",
      "[1, 2, 3, 4, 5, 6]\n"
     ]
    }
   ],
   "source": [
    "from collections.abc import Iterable\n",
    "def deep_flatten(lst):\n",
    "  return ([a for i in lst for a in\n",
    "          deep_flatten(i)] if isinstance(lst, Iterable) else [lst])\n",
    "nums = [1, [2], [[3], [4], 5], 6]\n",
    "print(\"Original list elements:\")\n",
    "print(nums) \n",
    "print()\n",
    "print(\"Deep flatten the said list:\")\n",
    "print(deep_flatten(nums))\n",
    "nums = [[[1, 2, 3], [4, 5]], 6]\n",
    "print(\"\\nOriginal list elements:\")\n",
    "print(nums) \n",
    "print()\n",
    "print(\"Deep flatten the said list:\")\n",
    "print(deep_flatten(nums))\n"
   ]
  },
  {
   "cell_type": "code",
   "execution_count": 244,
   "id": "469f68f7",
   "metadata": {},
   "outputs": [
    {
     "name": "stdout",
     "output_type": "stream",
     "text": [
      "Original list elements:\n",
      "[10, 50, 40]\n",
      "[2, 5, 3]\n",
      "\n",
      "Weighted average of the said two list of numbers:\n",
      "39.0\n",
      "\n",
      "Original list elements:\n",
      "[82, 90, 76, 83]\n",
      "[0.2, 0.35, 0.45, 32]\n",
      "\n",
      "Weighted average of the said two list of numbers:\n",
      "82.97272727272727\n"
     ]
    }
   ],
   "source": [
    "def weighted_average(nums, weights):\n",
    "  return sum(x * y for x, y in zip(nums, weights)) / sum(weights)\n",
    "nums1 = [10, 50, 40]\n",
    "nums2 = [2, 5, 3]\n",
    "print(\"Original list elements:\")\n",
    "print(nums1) \n",
    "print(nums2)\n",
    "print(\"\\nWeighted average of the said two list of numbers:\")\n",
    "print(weighted_average(nums1, nums2))\n",
    "nums1 = [82, 90, 76, 83]\n",
    "nums2 = [.2, .35, .45, 32]\n",
    "print(\"\\nOriginal list elements:\")\n",
    "print(nums1) \n",
    "print(nums2)\n",
    "print(\"\\nWeighted average of the said two list of numbers:\")\n",
    "print(weighted_average(nums1, nums2))\n"
   ]
  },
  {
   "cell_type": "code",
   "execution_count": 245,
   "id": "94c6bafd",
   "metadata": {},
   "outputs": [
    {
     "name": "stdout",
     "output_type": "stream",
     "text": [
      "Original list elements:\n",
      "[1, 2, 3]\n",
      "Minimum values of the said list: [1]\n",
      "\n",
      "Original list elements:\n",
      "[1, 2, 3]\n",
      "Two minimum values of the said list: [1, 2]\n",
      "\n",
      "Original list elements:\n",
      "[-2, -3, -1, -2, -4, 0, -5]\n",
      "Threee minimum values of the said list: [-5, -4, -3]\n",
      "\n",
      "Original list elements:\n",
      "[2.2, 2, 3.2, 4.5, 4.6, 5.2, 2.9]\n",
      "Two minimum values of the said list: [2, 2.2]\n"
     ]
    }
   ],
   "source": [
    "def min_n_nums(nums, n = 1):\n",
    "  return sorted(nums, reverse = False)[:n]\n",
    "\n",
    "nums = [1, 2, 3]\n",
    "print(\"Original list elements:\")\n",
    "print(nums)\n",
    "print(\"Minimum values of the said list:\", min_n_nums(nums))\n",
    "nums = [1, 2, 3]\n",
    "print(\"\\nOriginal list elements:\")\n",
    "print(nums)\n",
    "print(\"Two minimum values of the said list:\", min_n_nums(nums,2))\n",
    "nums = [-2, -3, -1, -2, -4, 0, -5]\n",
    "print(\"\\nOriginal list elements:\")\n",
    "print(nums)\n",
    "print(\"Threee minimum values of the said list:\", min_n_nums(nums,3))\n",
    "nums = [2.2, 2, 3.2, 4.5, 4.6, 5.2, 2.9]\n",
    "print(\"\\nOriginal list elements:\")\n",
    "print(nums)\n",
    "print(\"Two minimum values of the said list:\", min_n_nums(nums, 2))\n"
   ]
  },
  {
   "cell_type": "code",
   "execution_count": 246,
   "id": "a951b7ca",
   "metadata": {},
   "outputs": [
    {
     "name": "stdout",
     "output_type": "stream",
     "text": [
      "Original list elements:\n",
      "[1, 2, 3]\n",
      "Maximum values of the said list: [3]\n",
      "\n",
      "Original list elements:\n",
      "[1, 2, 3]\n",
      "Two maximum values of the said list: [3, 2]\n",
      "\n",
      "Original list elements:\n",
      "[-2, -3, -1, -2, -4, 0, -5]\n",
      "Threee maximum values of the said list: [0, -1, -2]\n",
      "\n",
      "Original list elements:\n",
      "[2.2, 2, 3.2, 4.5, 4.6, 5.2, 2.9]\n",
      "Two maximum values of the said list: [5.2, 4.6]\n"
     ]
    }
   ],
   "source": [
    "def max_n_nums(nums, n = 1):\n",
    "  return sorted(nums, reverse = True)[:n]\n",
    "nums = [1, 2, 3]\n",
    "print(\"Original list elements:\")\n",
    "print(nums)\n",
    "print(\"Maximum values of the said list:\", max_n_nums(nums))\n",
    "nums = [1, 2, 3]\n",
    "print(\"\\nOriginal list elements:\")\n",
    "print(nums)\n",
    "print(\"Two maximum values of the said list:\", max_n_nums(nums,2))\n",
    "nums = [-2, -3, -1, -2, -4, 0, -5]\n",
    "print(\"\\nOriginal list elements:\")\n",
    "print(nums)\n",
    "print(\"Threee maximum values of the said list:\", max_n_nums(nums,3))\n",
    "nums = [2.2, 2, 3.2, 4.5, 4.6, 5.2, 2.9]\n",
    "print(\"\\nOriginal list elements:\")\n",
    "print(nums)\n",
    "print(\"Two maximum values of the said list:\", max_n_nums(nums, 2))\n"
   ]
  },
  {
   "cell_type": "code",
   "execution_count": 247,
   "id": "0e2fa399",
   "metadata": {},
   "outputs": [
    {
     "name": "stdout",
     "output_type": "stream",
     "text": [
      "[0, 0, 0, 0, 0, 0, 0]\n",
      "[3, 3, 3, 3, 3, 3, 3, 3]\n",
      "[-2, -2, -2, -2, -2]\n",
      "[3.2, 3.2, 3.2, 3.2, 3.2]\n"
     ]
    }
   ],
   "source": [
    "def initialize_list_with_values(n, val = 0):\n",
    "  return [val for x in range(n)] \n",
    "print(initialize_list_with_values(7))\n",
    "print(initialize_list_with_values(8,3))\n",
    "print(initialize_list_with_values(5,-2))\n",
    "print(initialize_list_with_values(5, 3.2))\n"
   ]
  },
  {
   "cell_type": "code",
   "execution_count": 248,
   "id": "be1000c5",
   "metadata": {},
   "outputs": [
    {
     "name": "stdout",
     "output_type": "stream",
     "text": [
      "20\n"
     ]
    }
   ],
   "source": [
    "def sum_by(lst, fn):\n",
    "  return sum(map(fn, lst))\n",
    "print(sum_by([{ 'n': 4 }, { 'n': 2 }, { 'n': 8 }, { 'n': 6 }], lambda v : v['n']))\n"
   ]
  },
  {
   "cell_type": "code",
   "execution_count": 249,
   "id": "f601314c",
   "metadata": {},
   "outputs": [
    {
     "name": "stdout",
     "output_type": "stream",
     "text": [
      "2\n"
     ]
    }
   ],
   "source": [
    "def min_by(lst, fn):\n",
    "  return min(map(fn, lst)) \n",
    "print(min_by([{ 'n': 4 }, { 'n': 2 }, { 'n': 8 }, { 'n': 6 }], lambda v : v['n'])) \n"
   ]
  },
  {
   "cell_type": "code",
   "execution_count": 250,
   "id": "d9d0a936",
   "metadata": {},
   "outputs": [
    {
     "name": "stdout",
     "output_type": "stream",
     "text": [
      "8\n"
     ]
    }
   ],
   "source": [
    "def max_by(lst, fn):\n",
    "  return max(map(fn, lst))\n",
    "print(max_by([{ 'n': 4 }, { 'n': 2 }, { 'n': 8 }, { 'n': 6 }], lambda v : v['n'])) \n"
   ]
  },
  {
   "cell_type": "code",
   "execution_count": 251,
   "id": "5de07ded",
   "metadata": {},
   "outputs": [
    {
     "name": "stdout",
     "output_type": "stream",
     "text": [
      "[3]\n"
     ]
    }
   ],
   "source": [
    "def difference(x, y):\n",
    "  _y = set(y)\n",
    "  return [item for item in x if item not in _y]\n",
    "print(difference([1, 2, 3], [1, 2, 4]))\n"
   ]
  },
  {
   "cell_type": "code",
   "execution_count": 252,
   "id": "6542817c",
   "metadata": {},
   "outputs": [
    {
     "name": "stdout",
     "output_type": "stream",
     "text": [
      "True\n",
      "False\n"
     ]
    }
   ],
   "source": [
    "def some(lst, fn = lambda x: x):\n",
    "  return any(map(fn, lst))\n",
    "print(some([0, 1, 2, 0], lambda x: x >= 2 ))\n",
    "print(some([5, 10, 20, 10], lambda x: x < 2 ))\n"
   ]
  },
  {
   "cell_type": "code",
   "execution_count": 253,
   "id": "b804e6a4",
   "metadata": {},
   "outputs": [
    {
     "name": "stdout",
     "output_type": "stream",
     "text": [
      "Green\n",
      "[1, 2, 3, 4, 5]\n",
      "[1, 2, 3, 4]\n"
     ]
    }
   ],
   "source": [
    "def longest_item(*args):\n",
    "  return max(args, key = len)\n",
    "print(longest_item('this', 'is', 'a', 'Green'))  \n",
    "print(longest_item([1, 2, 3], [1, 2], [1, 2, 3, 4, 5])) \n",
    "print(longest_item([1, 2, 3, 4], 'Red'))\n"
   ]
  },
  {
   "cell_type": "code",
   "execution_count": 254,
   "id": "a1c12acd",
   "metadata": {},
   "outputs": [
    {
     "name": "stdout",
     "output_type": "stream",
     "text": [
      "[1, 2, 4, 8, 16, 32, 64, 128, 256]\n",
      "[3, 6, 12, 24, 48, 96, 192]\n",
      "[1, 4, 16, 64, 256]\n"
     ]
    }
   ],
   "source": [
    "from math import floor, log\n",
    "def geometric_progression(end, start=1, step=2):\n",
    "  return [start * step ** i for i in range(floor(log(end / start)\n",
    "          / log(step)) + 1)] \n",
    "print(geometric_progression(256))\n",
    "print(geometric_progression(256, 3))\n",
    "print(geometric_progression(256, 1, 4))\n"
   ]
  },
  {
   "cell_type": "code",
   "execution_count": 255,
   "id": "6db1c8ce",
   "metadata": {},
   "outputs": [
    {
     "name": "stdout",
     "output_type": "stream",
     "text": [
      "True\n",
      "False\n",
      "False\n"
     ]
    }
   ],
   "source": [
    "def every(lst, fn = lambda x: x):\n",
    "  return all(map(fn, lst))\n",
    "print(every([4, 2, 3], lambda x: x > 1))\n",
    "print(every([4, 2, 3], lambda x: x < 1))\n",
    "print(every([4, 2, 3], lambda x: x == 1))\n"
   ]
  },
  {
   "cell_type": "code",
   "execution_count": 256,
   "id": "46138b2e",
   "metadata": {},
   "outputs": [
    {
     "name": "stdout",
     "output_type": "stream",
     "text": [
      "[30, 40]\n"
     ]
    }
   ],
   "source": [
    "def symmetric_difference(x, y):\n",
    "  (_x, _y) = (set(x), set(y))\n",
    "  return [item for item in x if item not in _y] + [item for item in y\n",
    "          if item not in _x]\n",
    "print(symmetric_difference([10, 20, 30], [10, 20, 40]))\n"
   ]
  },
  {
   "cell_type": "code",
   "execution_count": 257,
   "id": "9a71f789",
   "metadata": {},
   "outputs": [
    {
     "name": "stdout",
     "output_type": "stream",
     "text": [
      "{'a': 4, 'b': 2, 'f': 2, 'c': 1, 'e': 2}\n",
      "{3: 4, 4: 2, 7: 1, 5: 2, 9: 1, 0: 1, 2: 1}\n"
     ]
    }
   ],
   "source": [
    "from collections import defaultdict\n",
    "def frequencies(lst):\n",
    "  freq = defaultdict(int)\n",
    "  for val in lst:\n",
    "    freq[val] += 1\n",
    "  return dict(freq) \n",
    "print(frequencies(['a', 'b', 'f', 'a', 'c', 'e', 'a', 'a', 'b', 'e', 'f'])) \n",
    "print(frequencies([3,4,7,5,9,3,4,5,0,3,2,3]))\n"
   ]
  },
  {
   "cell_type": "code",
   "execution_count": 258,
   "id": "c3b64405",
   "metadata": {},
   "outputs": [
    {
     "name": "stdout",
     "output_type": "stream",
     "text": [
      "3\n",
      "4\n"
     ]
    }
   ],
   "source": [
    "def find_last(lst, fn):\n",
    "  return next(x for x in lst[::-1] if fn(x))\n",
    "\n",
    "print(find_last([1, 2, 3, 4], lambda n: n % 2 == 1))\n",
    "print(find_last([1, 2, 3, 4], lambda n: n % 2 == 0))\n"
   ]
  },
  {
   "cell_type": "code",
   "execution_count": 259,
   "id": "e21087c6",
   "metadata": {},
   "outputs": [
    {
     "name": "stdout",
     "output_type": "stream",
     "text": [
      "1\n",
      "2\n"
     ]
    }
   ],
   "source": [
    "def find(lst, fn):\n",
    "  return next(x for x in lst if fn(x)) \n",
    "print(find([1, 2, 3, 4], lambda n: n % 2 == 1))\n",
    "print(find([1, 2, 3, 4], lambda n: n % 2 == 0))\n"
   ]
  },
  {
   "cell_type": "code",
   "execution_count": 260,
   "id": "7ebf0ae9",
   "metadata": {},
   "outputs": [
    {
     "name": "stdout",
     "output_type": "stream",
     "text": [
      "5.0\n",
      "15.0\n"
     ]
    }
   ],
   "source": [
    "def average_by(lst, fn = lambda x: x):\n",
    "  return sum(map(fn, lst), 0.0) / len(lst)\n",
    "\n",
    "print(average_by([{ 'n': 4 }, { 'n': 2 }, { 'n': 8 }, { 'n': 6 }], lambda x: x['n']))\n",
    "print(average_by([{ 'n': 10 }, { 'n': 20 }, { 'n': -30 }, { 'n': 60 }], lambda x: x['n']))\n"
   ]
  },
  {
   "cell_type": "code",
   "execution_count": 261,
   "id": "b4ebe08c",
   "metadata": {},
   "outputs": [
    {
     "name": "stdout",
     "output_type": "stream",
     "text": [
      "[8, 36, 34, 10]\n"
     ]
    }
   ],
   "source": [
    "def pluck(lst, key):\n",
    "  return [x.get(key) for x in lst]\n",
    " \n",
    "simpsons = [\n",
    "  { 'name': 'Areeba', 'age': 8 },\n",
    "  { 'name': 'Zachariah', 'age': 36 },\n",
    "  { 'name': 'Caspar', 'age': 34 },\n",
    "  { 'name': 'Presley', 'age': 10 }\n",
    "]\n",
    "print(pluck(simpsons, 'age'))\n"
   ]
  },
  {
   "cell_type": "code",
   "execution_count": 262,
   "id": "43fccf66",
   "metadata": {},
   "outputs": [
    {
     "name": "stdout",
     "output_type": "stream",
     "text": [
      "[1, 3]\n",
      "[2, 4, 6]\n"
     ]
    }
   ],
   "source": [
    "from collections import Counter\n",
    "def find_parity_outliers(nums):\n",
    "  return [\n",
    "    x for x in nums\n",
    "    if x % 2 != Counter([n % 2 for n in nums]).most_common()[0][0]\n",
    "  ] \n",
    "print(find_parity_outliers([1, 2, 3, 4, 6]))  \n",
    "print(find_parity_outliers([1, 2, 3, 4, 5, 6, 7]))\n"
   ]
  },
  {
   "cell_type": "code",
   "execution_count": 263,
   "id": "48cf279a",
   "metadata": {},
   "outputs": [
    {
     "name": "stdout",
     "output_type": "stream",
     "text": [
      "2\n"
     ]
    }
   ],
   "source": [
    "def find_last_index(lst, fn):\n",
    "  return len(lst) - 1 - next(i for i, x in enumerate(lst[::-1]) if fn(x))\n",
    "\n",
    "print(find_last_index([1, 2, 3, 4], lambda n: n % 2 == 1))\n"
   ]
  },
  {
   "cell_type": "code",
   "execution_count": 264,
   "id": "5d780e69",
   "metadata": {},
   "outputs": [
    {
     "name": "stdout",
     "output_type": "stream",
     "text": [
      "[1, 2, 3]\n",
      "[1, 3, 4, 7, 8, 2, 3]\n"
     ]
    }
   ],
   "source": [
    "def digitize(n):\n",
    "  return list(map(int, str(n)))\n",
    "print(digitize(123))\n",
    "print(digitize(1347823)) \n"
   ]
  },
  {
   "cell_type": "code",
   "execution_count": 265,
   "id": "afac76bf",
   "metadata": {},
   "outputs": [
    {
     "name": "stdout",
     "output_type": "stream",
     "text": [
      "[[1, 2], [3, 4], [5, 6], [7]]\n"
     ]
    }
   ],
   "source": [
    "from math import ceil\n",
    "\n",
    "def chunk_list_into_n(nums, n):\n",
    "  size = ceil(len(nums) / n)\n",
    "  return list(\n",
    "    map(lambda x: nums[x * size:x * size + size],\n",
    "    list(range(n)))\n",
    "  )\n",
    "print(chunk_list_into_n([1, 2, 3, 4, 5, 6, 7], 4))  \n"
   ]
  },
  {
   "cell_type": "code",
   "execution_count": 266,
   "id": "5511b54a",
   "metadata": {},
   "outputs": [
    {
     "name": "stdout",
     "output_type": "stream",
     "text": [
      "[[1, 2, 3], [4, 5, 6], [7, 8]]\n"
     ]
    }
   ],
   "source": [
    "from math import ceil\n",
    "def chunk_list(lst, size):\n",
    "  return list(\n",
    "    map(lambda x: lst[x * size:x * size + size],\n",
    "      list(range(ceil(len(lst) / size)))))\n",
    "print(chunk_list([1, 2, 3, 4, 5, 6, 7, 8], 3))\n"
   ]
  },
  {
   "cell_type": "code",
   "execution_count": 267,
   "id": "2af243c2",
   "metadata": {},
   "outputs": [
    {
     "name": "stdout",
     "output_type": "stream",
     "text": [
      "[['red', 'green', 'pink'], ['blue']]\n"
     ]
    }
   ],
   "source": [
    "def bifurcate(colors, filter):\n",
    "  return [\n",
    "    [x for x, flag in zip(colors, filter) if flag],\n",
    "    [x for x, flag in zip(colors, filter) if not flag]\n",
    "  ]\n",
    "print(bifurcate(['red', 'green', 'blue', 'pink'], [True, True, False, True]))\n"
   ]
  },
  {
   "cell_type": "code",
   "execution_count": 268,
   "id": "5fd0ed2f",
   "metadata": {},
   "outputs": [
    {
     "name": "stdout",
     "output_type": "stream",
     "text": [
      "[0, 2]\n"
     ]
    }
   ],
   "source": [
    "def find_index_of_all(lst, fn):\n",
    "  return [i for i, x in enumerate(lst) if fn(x)]\n",
    "print(find_index_of_all([1, 2, 3, 4], lambda n: n % 2 == 1))\n"
   ]
  },
  {
   "cell_type": "code",
   "execution_count": 269,
   "id": "4a6f143e",
   "metadata": {},
   "outputs": [
    {
     "name": "stdout",
     "output_type": "stream",
     "text": [
      "0\n"
     ]
    }
   ],
   "source": [
    "def find_index(nums, fn):\n",
    "  return next(i for i, x in enumerate(nums) if fn(x))\n",
    "print(find_index([1, 2, 3, 4], lambda n: n % 2 == 1))\n"
   ]
  },
  {
   "cell_type": "code",
   "execution_count": 270,
   "id": "20e047e5",
   "metadata": {},
   "outputs": [
    {
     "name": "stdout",
     "output_type": "stream",
     "text": [
      "[2.2, 4.1]\n"
     ]
    }
   ],
   "source": [
    "def union_by_el(x, y, fn):\n",
    "  _x = set(map(fn, x))\n",
    "  return list(set(x + [item for item in y if fn(item) not in _x])) \n",
    "from math import floor\n",
    "print(union_by_el([4.1], [2.2, 4.3], floor))\n"
   ]
  },
  {
   "cell_type": "code",
   "execution_count": 271,
   "id": "136f3694",
   "metadata": {},
   "outputs": [
    {
     "name": "stdout",
     "output_type": "stream",
     "text": [
      "[1.2, 3.4]\n"
     ]
    }
   ],
   "source": [
    "def symmetric_difference_by(a, b, fn):\n",
    "  (_a, _b) = (set(map(fn, a)), set(map(fn, b)))\n",
    "  return [item for item in a if fn(item) not in _b] + [item\n",
    "          for item in b if fn(item) not in _a]\n",
    "from math import floor\n",
    "print(symmetric_difference_by([2.1, 1.2], [2.3, 3.4], floor))\n"
   ]
  },
  {
   "cell_type": "code",
   "execution_count": 272,
   "id": "0faf2162",
   "metadata": {},
   "outputs": [
    {
     "name": "stdout",
     "output_type": "stream",
     "text": [
      "[2.1]\n"
     ]
    }
   ],
   "source": [
    "def intersection_by(a, b, fn):\n",
    "  _b = set(map(fn, b))\n",
    "  return [item for item in a if fn(item) in _b]\n",
    "from math import floor\n",
    "print(intersection_by([2.1, 1.2], [2.3, 3.4], floor))\n"
   ]
  },
  {
   "cell_type": "code",
   "execution_count": 273,
   "id": "d8b81037",
   "metadata": {},
   "outputs": [
    {
     "name": "stdout",
     "output_type": "stream",
     "text": [
      "Harwood\n",
      "2\n"
     ]
    }
   ],
   "source": [
    "from functools import reduce \n",
    "from operator import getitem\n",
    "def get(d, selectors):\n",
    "  return reduce(getitem, selectors, d) \n",
    "users = {\n",
    "  'freddy': {\n",
    "    'name': {\n",
    "      'first': 'Fateh',\n",
    "      'last': 'Harwood' \n",
    "    },\n",
    "    'postIds': [1, 2, 3]\n",
    "  }\n",
    "}\n",
    "print(get(users, ['freddy', 'name', 'last']))\n",
    "print(get(users, ['freddy', 'postIds', 1]))\n"
   ]
  },
  {
   "cell_type": "code",
   "execution_count": 274,
   "id": "b8ba6c6e",
   "metadata": {},
   "outputs": [
    {
     "name": "stdout",
     "output_type": "stream",
     "text": [
      "[2, 4]\n"
     ]
    }
   ],
   "source": [
    "from collections import Counter\n",
    "def filter_unique(lst):\n",
    "  return [item for item, count in Counter(lst).items() if count > 1] \n",
    "print(filter_unique([1, 2, 2, 3, 4, 4, 5]))\n"
   ]
  },
  {
   "cell_type": "code",
   "execution_count": 275,
   "id": "14c9ffec",
   "metadata": {},
   "outputs": [
    {
     "name": "stdout",
     "output_type": "stream",
     "text": [
      "[1, 3, 5]\n"
     ]
    }
   ],
   "source": [
    "from collections import Counter\n",
    "def filter_non_unique(lst):\n",
    "  return [item for item, count in Counter(lst).items() if count == 1]\n",
    "print(filter_non_unique([1, 2, 2, 3, 4, 4, 5]))\n"
   ]
  },
  {
   "cell_type": "code",
   "execution_count": 276,
   "id": "1e9d7df6",
   "metadata": {},
   "outputs": [
    {
     "name": "stdout",
     "output_type": "stream",
     "text": [
      "[1.2]\n",
      "[{'x': 2}]\n"
     ]
    }
   ],
   "source": [
    "def difference_by(a, b, fn):\n",
    "  _b = set(map(fn, b))\n",
    "  return [item for item in a if fn(item) not in _b]\n",
    "from math import floor\n",
    "print(difference_by([2.1, 1.2], [2.3, 3.4], floor)) \n",
    "print(difference_by([{ 'x': 2 }, { 'x': 1 }], [{ 'x': 1 }], lambda v : v['x']))\n"
   ]
  },
  {
   "cell_type": "code",
   "execution_count": 277,
   "id": "685e4909",
   "metadata": {},
   "outputs": [
    {
     "name": "stdout",
     "output_type": "stream",
     "text": [
      "Original list:  [1, 2, 3, 4, 5, 6]\n",
      "\n",
      "Shuffle the elements of the said list:\n",
      "[4, 6, 3, 2, 1, 5]\n"
     ]
    }
   ],
   "source": [
    "from copy import deepcopy\n",
    "from random import randint\n",
    "def shuffle_list(lst):\n",
    "  temp_lst = deepcopy(lst)\n",
    "  m = len(temp_lst)\n",
    "  while (m):\n",
    "    m -= 1\n",
    "    i = randint(0, m)\n",
    "    temp_lst[m], temp_lst[i] = temp_lst[i], temp_lst[m]\n",
    "  return temp_lst\n",
    "nums = [1, 2, 3, 4, 5, 6]\n",
    "print(\"Original list: \",nums)\n",
    "print(\"\\nShuffle the elements of the said list:\")\n",
    "print(shuffle_list(nums))\n"
   ]
  },
  {
   "cell_type": "code",
   "execution_count": 278,
   "id": "3b5436f1",
   "metadata": {},
   "outputs": [
    {
     "name": "stdout",
     "output_type": "stream",
     "text": [
      "{1: 1, 2: 4, 3: 9}\n"
     ]
    }
   ],
   "source": [
    "def map_dictionary(itr, fn):\n",
    "  return dict(zip(itr, map(fn, itr)))\n",
    "print(map_dictionary([1, 2, 3], lambda x: x * x))\n"
   ]
  },
  {
   "cell_type": "code",
   "execution_count": 279,
   "id": "2b8c8d80",
   "metadata": {},
   "outputs": [
    {
     "name": "stdout",
     "output_type": "stream",
     "text": [
      "[-10, -20, -30, -40]\n"
     ]
    }
   ],
   "source": [
    "def unfold(fn, seed):\n",
    "  def fn_generator(val):\n",
    "    while True: \n",
    "      val = fn(val[1])\n",
    "      if val == False: break\n",
    "      yield val[0]\n",
    "  return [i for i in fn_generator([None, seed])]\n",
    "f = lambda n: False if n > 40 else [-n, n + 10]\n",
    "print(unfold(f, 10))\n"
   ]
  },
  {
   "cell_type": "code",
   "execution_count": 280,
   "id": "feca234c",
   "metadata": {},
   "outputs": [
    {
     "name": "stdout",
     "output_type": "stream",
     "text": [
      "['apples', 'bread', 'eggs', 'jam', 'milk', 'oranges']\n",
      "['oranges', 'milk', 'jam', 'eggs', 'bread', 'apples']\n"
     ]
    }
   ],
   "source": [
    "def sort_by_indexes(lst, indexes, reverse=False):\n",
    "  return [val for (_, val) in sorted(zip(indexes, lst), key=lambda x: \\\n",
    "          x[0], reverse=reverse)]\n",
    "\n",
    "l1 = ['eggs', 'bread', 'oranges', 'jam', 'apples', 'milk']\n",
    "l2 = [3, 2, 6, 4, 1, 5]\n",
    "print(sort_by_indexes(l1, l2))  \n",
    "print(sort_by_indexes(l1, l2, True))\n"
   ]
  },
  {
   "cell_type": "code",
   "execution_count": 281,
   "id": "d4e55333",
   "metadata": {},
   "outputs": [
    {
     "name": "stdout",
     "output_type": "stream",
     "text": [
      "[['white'], ['red', 'green', 'black']]\n"
     ]
    }
   ],
   "source": [
    "def bifurcate_by(lst, fn):\n",
    "  return [\n",
    "    [x for x in lst if fn(x)],\n",
    "    [x for x in lst if not fn(x)]\n",
    "  ]\n",
    "print(bifurcate_by(['red', 'green', 'black', 'white'], lambda x: x[0] == 'w'))\n"
   ]
  },
  {
   "cell_type": "code",
   "execution_count": 282,
   "id": "d4aa46d3",
   "metadata": {},
   "outputs": [
    {
     "name": "stdout",
     "output_type": "stream",
     "text": [
      "[['white'], ['red', 'green', 'black']]\n"
     ]
    }
   ],
   "source": [
    "def bifurcate_by(lst, fn):\n",
    "  return [\n",
    "    [x for x in lst if fn(x)],\n",
    "    [x for x in lst if not fn(x)]\n",
    "  ]\n",
    "print(bifurcate_by(['red', 'green', 'black', 'white'], lambda x: x[0] == 'w'))\n"
   ]
  },
  {
   "cell_type": "code",
   "execution_count": 283,
   "id": "b7a93fef",
   "metadata": {},
   "outputs": [
    {
     "name": "stdout",
     "output_type": "stream",
     "text": [
      "[['white'], ['red', 'green', 'black']]\n"
     ]
    }
   ],
   "source": [
    "def bifurcate_by(lst, fn):\n",
    "  return [\n",
    "    [x for x in lst if fn(x)],\n",
    "    [x for x in lst if not fn(x)]\n",
    "  ]\n",
    "print(bifurcate_by(['red', 'green', 'black', 'white'], lambda x: x[0] == 'w'))\n"
   ]
  },
  {
   "cell_type": "code",
   "execution_count": 284,
   "id": "7fe839e9",
   "metadata": {},
   "outputs": [
    {
     "name": "stdout",
     "output_type": "stream",
     "text": [
      "[['white'], ['red', 'green', 'black']]\n"
     ]
    }
   ],
   "source": [
    "def bifurcate_by(lst, fn):\n",
    "  return [\n",
    "    [x for x in lst if fn(x)],\n",
    "    [x for x in lst if not fn(x)]\n",
    "  ]\n",
    "print(bifurcate_by(['red', 'green', 'black', 'white'], lambda x: x[0] == 'w'))\n"
   ]
  },
  {
   "cell_type": "code",
   "execution_count": 285,
   "id": "9add8e2a",
   "metadata": {},
   "outputs": [
    {
     "name": "stdout",
     "output_type": "stream",
     "text": [
      "{6: 2, 4: 1}\n",
      "{3: 2, 5: 1}\n"
     ]
    }
   ],
   "source": [
    "from collections import defaultdict\n",
    "def count_by(lst, fn = lambda x: x):\n",
    "  count = defaultdict(int)\n",
    "  for val in map(fn, lst):\n",
    "    count[val] += 1\n",
    "  return dict(count)\n",
    "from math import floor\n",
    "print(count_by([6.1, 4.2, 6.3], floor)) \n",
    "print(count_by(['one', 'two', 'three'], len))\n"
   ]
  },
  {
   "cell_type": "code",
   "execution_count": 286,
   "id": "80b9a43e",
   "metadata": {},
   "outputs": [
    {
     "name": "stdout",
     "output_type": "stream",
     "text": [
      "After merging lists into a list of lists:\n",
      "[['a', 1, True], ['b', 2, False]]\n",
      "[['a', 1, True], [None, 2, False]]\n",
      "[['a', 1, True], ['_', 2, False]]\n"
     ]
    }
   ],
   "source": [
    "def merge_lists(*args, fill_value = None):\n",
    "  max_length = max([len(lst) for lst in args])\n",
    "  result = []\n",
    "  for i in range(max_length):\n",
    "    result.append([\n",
    "      args[k][i] if i < len(args[k]) else fill_value for k in range(len(args))\n",
    "    ])\n",
    "  return result\n",
    "print(\"After merging lists into a list of lists:\")\n",
    "print(merge_lists(['a', 'b'], [1, 2], [True, False]))  \n",
    "print(merge_lists(['a'], [1, 2], [True, False]))  \n",
    "print(merge_lists(['a'], [1, 2], [True, False], fill_value = '_'))\n"
   ]
  },
  {
   "cell_type": "code",
   "execution_count": 287,
   "id": "f931e551",
   "metadata": {},
   "outputs": [
    {
     "name": "stdout",
     "output_type": "stream",
     "text": [
      "Original Number:  134543\n",
      "Descending order of the said number:  544331\n",
      "Ascending order of the said number:  133445\n",
      "\n",
      "Original Number:  43750973\n",
      "Descending order of the said number:  97754330\n",
      "Ascending order of the said number:  3345779\n"
     ]
    }
   ],
   "source": [
    "def test_dsc(n):\n",
    "    return int(''.join(sorted(str(n), reverse = True)))\n",
    "\n",
    "def test_asc(n):\n",
    "    return int(''.join(sorted(list(str(n))))[::1])\n",
    "\n",
    "n = 134543\n",
    "print(\"Original Number: \",n);\n",
    "print(\"Descending order of the said number: \", test_dsc(n));\n",
    "print(\"Ascending order of the said number: \", test_asc(n));\n",
    "n = 43750973\n",
    "print(\"\\nOriginal Number: \",n);\n",
    "print(\"Descending order of the said number: \", test_dsc(n));\n",
    "print(\"Ascending order of the said number: \", test_asc(n));\n"
   ]
  },
  {
   "cell_type": "code",
   "execution_count": null,
   "id": "155cedd0",
   "metadata": {},
   "outputs": [],
   "source": []
  }
 ],
 "metadata": {
  "kernelspec": {
   "display_name": "Python 3 (ipykernel)",
   "language": "python",
   "name": "python3"
  },
  "language_info": {
   "codemirror_mode": {
    "name": "ipython",
    "version": 3
   },
   "file_extension": ".py",
   "mimetype": "text/x-python",
   "name": "python",
   "nbconvert_exporter": "python",
   "pygments_lexer": "ipython3",
   "version": "3.9.7"
  }
 },
 "nbformat": 4,
 "nbformat_minor": 5
}
