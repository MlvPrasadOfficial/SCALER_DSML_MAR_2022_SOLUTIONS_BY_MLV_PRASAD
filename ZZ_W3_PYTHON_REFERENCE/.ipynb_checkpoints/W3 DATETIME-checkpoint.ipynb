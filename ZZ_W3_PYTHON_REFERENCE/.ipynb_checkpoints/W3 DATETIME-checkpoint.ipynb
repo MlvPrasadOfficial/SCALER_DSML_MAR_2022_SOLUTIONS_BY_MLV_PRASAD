{
 "cells": [
  {
   "cell_type": "code",
   "execution_count": 1,
   "id": "3a27d2a6",
   "metadata": {},
   "outputs": [
    {
     "name": "stdout",
     "output_type": "stream",
     "text": [
      "Current date and time:  2022-04-10 22:07:10.309917\n",
      "Current year:  2022\n",
      "Month of year:  April\n",
      "Week number of the year:  14\n",
      "Weekday of the week:  0\n",
      "Day of year:  100\n",
      "Day of the month :  10\n",
      "Day of week:  Sunday\n"
     ]
    }
   ],
   "source": [
    "import time\n",
    "import datetime\n",
    "print(\"Current date and time: \" , datetime.datetime.now())\n",
    "print(\"Current year: \", datetime.date.today().strftime(\"%Y\"))\n",
    "print(\"Month of year: \", datetime.date.today().strftime(\"%B\"))\n",
    "print(\"Week number of the year: \", datetime.date.today().strftime(\"%W\"))\n",
    "print(\"Weekday of the week: \", datetime.date.today().strftime(\"%w\"))\n",
    "print(\"Day of year: \", datetime.date.today().strftime(\"%j\"))\n",
    "print(\"Day of the month : \", datetime.date.today().strftime(\"%d\"))\n",
    "print(\"Day of week: \", datetime.date.today().strftime(\"%A\"))\n"
   ]
  },
  {
   "cell_type": "code",
   "execution_count": 2,
   "id": "f4a0c955",
   "metadata": {},
   "outputs": [
    {
     "name": "stdout",
     "output_type": "stream",
     "text": [
      "False\n",
      "True\n"
     ]
    }
   ],
   "source": [
    "def leap_year(y):\n",
    "    if y % 400 == 0:\n",
    "        return True\n",
    "    if y % 100 == 0:\n",
    "        return False\n",
    "    if y % 4 == 0:\n",
    "        return True\n",
    "    else:\n",
    "        return False\n",
    "print(leap_year(1900))\n",
    "print(leap_year(2004))\n"
   ]
  },
  {
   "cell_type": "code",
   "execution_count": 3,
   "id": "728d8fe6",
   "metadata": {},
   "outputs": [
    {
     "name": "stdout",
     "output_type": "stream",
     "text": [
      "2015-12-20\n",
      "2015-12-21\n",
      "2015-12-22\n",
      "2015-12-23\n",
      "2015-12-24\n",
      "2015-12-25\n",
      "2015-12-26\n",
      "2015-12-27\n",
      "2015-12-28\n",
      "2015-12-29\n",
      "2015-12-30\n",
      "2015-12-31\n",
      "2016-01-01\n",
      "2016-01-02\n",
      "2016-01-03\n",
      "2016-01-04\n",
      "2016-01-05\n",
      "2016-01-06\n",
      "2016-01-07\n",
      "2016-01-08\n",
      "2016-01-09\n",
      "2016-01-10\n",
      "2016-01-11\n"
     ]
    }
   ],
   "source": [
    "from datetime import timedelta, date\n",
    "\n",
    "def daterange(date1, date2):\n",
    "    for n in range(int ((date2 - date1).days)+1):\n",
    "        yield date1 + timedelta(n)\n",
    "\n",
    "start_dt = date(2015, 12, 20)\n",
    "end_dt = date(2016, 1, 11)\n",
    "for dt in daterange(start_dt, end_dt):\n",
    "    print(dt.strftime(\"%Y-%m-%d\"))\n",
    "\t"
   ]
  },
  {
   "cell_type": "code",
   "execution_count": 4,
   "id": "5a5312e0",
   "metadata": {},
   "outputs": [
    {
     "name": "stdout",
     "output_type": "stream",
     "text": [
      "\n",
      "2016-05-12 02:25:00\n",
      "\n"
     ]
    }
   ],
   "source": [
    "from datetime import datetime\n",
    "\n",
    "date_obj = datetime.strptime('May 12 2016  2:25AM', '%b %d %Y %I:%M%p')\n",
    "print()\n",
    "print(date_obj)\n",
    "print()\n"
   ]
  },
  {
   "cell_type": "code",
   "execution_count": 5,
   "id": "c7a7d6d9",
   "metadata": {},
   "outputs": [
    {
     "name": "stdout",
     "output_type": "stream",
     "text": [
      "Print a calendar for a year and month:\n",
      "Month (mm): DSF\n"
     ]
    },
    {
     "ename": "ValueError",
     "evalue": "invalid literal for int() with base 10: 'DSF'",
     "output_type": "error",
     "traceback": [
      "\u001b[1;31m---------------------------------------------------------------------------\u001b[0m",
      "\u001b[1;31mValueError\u001b[0m                                Traceback (most recent call last)",
      "\u001b[1;32m~\\AppData\\Local\\Temp/ipykernel_20416/3934572605.py\u001b[0m in \u001b[0;36m<module>\u001b[1;34m\u001b[0m\n\u001b[0;32m      1\u001b[0m \u001b[1;32mimport\u001b[0m \u001b[0mcalendar\u001b[0m\u001b[1;33m\u001b[0m\u001b[1;33m\u001b[0m\u001b[0m\n\u001b[0;32m      2\u001b[0m \u001b[0mprint\u001b[0m\u001b[1;33m(\u001b[0m\u001b[1;34m'Print a calendar for a year and month:'\u001b[0m\u001b[1;33m)\u001b[0m\u001b[1;33m\u001b[0m\u001b[1;33m\u001b[0m\u001b[0m\n\u001b[1;32m----> 3\u001b[1;33m \u001b[0mmonth\u001b[0m \u001b[1;33m=\u001b[0m \u001b[0mint\u001b[0m\u001b[1;33m(\u001b[0m\u001b[0minput\u001b[0m\u001b[1;33m(\u001b[0m\u001b[1;34m'Month (mm): '\u001b[0m\u001b[1;33m)\u001b[0m\u001b[1;33m)\u001b[0m\u001b[1;33m\u001b[0m\u001b[1;33m\u001b[0m\u001b[0m\n\u001b[0m\u001b[0;32m      4\u001b[0m \u001b[0myear\u001b[0m \u001b[1;33m=\u001b[0m \u001b[0mint\u001b[0m\u001b[1;33m(\u001b[0m\u001b[0minput\u001b[0m\u001b[1;33m(\u001b[0m\u001b[1;34m'Year (yyyy): '\u001b[0m\u001b[1;33m)\u001b[0m\u001b[1;33m)\u001b[0m\u001b[1;33m\u001b[0m\u001b[1;33m\u001b[0m\u001b[0m\n\u001b[0;32m      5\u001b[0m \u001b[0mprint\u001b[0m\u001b[1;33m(\u001b[0m\u001b[1;34m'\\n'\u001b[0m\u001b[1;33m)\u001b[0m\u001b[1;33m\u001b[0m\u001b[1;33m\u001b[0m\u001b[0m\n",
      "\u001b[1;31mValueError\u001b[0m: invalid literal for int() with base 10: 'DSF'"
     ]
    }
   ],
   "source": [
    "import calendar\n",
    "print('Print a calendar for a year and month:')\n",
    "month = int(input('Month (mm): '))\n",
    "year = int(input('Year (yyyy): '))\n",
    "print('\\n')\n",
    " \n",
    "calendar.setfirstweekday(calendar.SUNDAY)\n",
    "cal = calendar.monthcalendar(year, month)\n",
    " \n",
    "if len(str(month)) == 1:\n",
    "    month = '0%s' % month\n",
    " \n",
    "# Header\n",
    "print('|++++++ %s-%s +++++|' % (month, year))\n",
    "print('|Su Mo Tu We Th Fr Sa|')\n",
    "print('|--------------------|')\n",
    " \n",
    "# display calendar\n",
    "border = '|'\n",
    "for week in cal:\n",
    "    line = border\n",
    "\n",
    "      \n",
    "    for day in week:\n",
    "        if day == 0:\n",
    "      # 3 spaces for blank days       \n",
    "         line += '   ' \n",
    "        elif len(str(day)) == 1:\n",
    "            line += ' %d ' % day\n",
    "        else:\n",
    "         line += '%d ' % day\n",
    "    # remove space in last column\n",
    "    line = line[0:len(line) - 1]  \n",
    "    line += border\n",
    "    print(line)\n",
    " \n",
    "print('|--------------------|\\n')\n"
   ]
  },
  {
   "cell_type": "code",
   "execution_count": 6,
   "id": "b984af7e",
   "metadata": {},
   "outputs": [
    {
     "name": "stdout",
     "output_type": "stream",
     "text": [
      "Jan: 11\n",
      "Feb:  8\n",
      "Mar: 14\n",
      "Apr: 11\n",
      "May:  9\n",
      "Jun: 13\n",
      "Jul: 11\n",
      "Aug:  8\n",
      "Sep: 12\n",
      "Oct: 10\n",
      "Nov: 14\n",
      "Dec: 12\n"
     ]
    }
   ],
   "source": [
    "import calendar\n",
    "# Show every month\n",
    "for month in range(1, 13):\n",
    "    cal = calendar.monthcalendar(2020, month)\n",
    "    first_week  = cal[0]\n",
    "    second_week = cal[1]\n",
    "    third_week  = cal[2]\n",
    "\n",
    "    # If a Saturday presents in the first week, the second Saturday\n",
    "    # is in the second week.  Otherwise, the second Saturday must \n",
    "    # be in the third week.\n",
    "    \n",
    "    if first_week[calendar.SATURDAY]:\n",
    "        holi_day = second_week[calendar.SATURDAY]\n",
    "    else:\n",
    "        holi_day = third_week[calendar.SATURDAY]\n",
    "\n",
    "    print('%3s: %2s' % (calendar.month_abbr[month], holi_day))\n",
    "\t"
   ]
  },
  {
   "cell_type": "code",
   "execution_count": 7,
   "id": "4a34b07b",
   "metadata": {},
   "outputs": [
    {
     "name": "stdout",
     "output_type": "stream",
     "text": [
      "<table border=\"0\" cellpadding=\"0\" cellspacing=\"0\" class=\"month\">\n",
      "<tr><th colspan=\"7\" class=\"month\">December 2020</th></tr>\n",
      "<tr><th class=\"mon\">Mon</th><th class=\"tue\">Tue</th><th class=\"wed\">Wed</th><th class=\"thu\">Thu</th><th class=\"fri\">Fri</th><th class=\"sat\">Sat</th><th class=\"sun\">Sun</th></tr>\n",
      "<tr><td class=\"noday\">&nbsp;</td><td class=\"tue\">1</td><td class=\"wed\">2</td><td class=\"thu\">3</td><td class=\"fri\">4</td><td class=\"sat\">5</td><td class=\"sun\">6</td></tr>\n",
      "<tr><td class=\"mon\">7</td><td class=\"tue\">8</td><td class=\"wed\">9</td><td class=\"thu\">10</td><td class=\"fri\">11</td><td class=\"sat\">12</td><td class=\"sun\">13</td></tr>\n",
      "<tr><td class=\"mon\">14</td><td class=\"tue\">15</td><td class=\"wed\">16</td><td class=\"thu\">17</td><td class=\"fri\">18</td><td class=\"sat\">19</td><td class=\"sun\">20</td></tr>\n",
      "<tr><td class=\"mon\">21</td><td class=\"tue\">22</td><td class=\"wed\">23</td><td class=\"thu\">24</td><td class=\"fri\">25</td><td class=\"sat\">26</td><td class=\"sun\">27</td></tr>\n",
      "<tr><td class=\"mon\">28</td><td class=\"tue\">29</td><td class=\"wed\">30</td><td class=\"thu\">31</td><td class=\"noday\">&nbsp;</td><td class=\"noday\">&nbsp;</td><td class=\"noday\">&nbsp;</td></tr>\n",
      "</table>\n",
      "\n"
     ]
    }
   ],
   "source": [
    "import calendar\n",
    "htmlcal = calendar.HTMLCalendar(calendar.MONDAY)\n",
    "print(htmlcal.formatmonth(2020, 12))\n"
   ]
  },
  {
   "cell_type": "code",
   "execution_count": 8,
   "id": "55a56f1b",
   "metadata": {},
   "outputs": [
    {
     "name": "stdout",
     "output_type": "stream",
     "text": [
      "\n",
      "Year 2017, Week Number 41, Day of the Week 4\n",
      "\n"
     ]
    }
   ],
   "source": [
    "import datetime\n",
    "Jan1st = datetime.date(2017,10,12)\n",
    "year,week_num,day_of_week = Jan1st.isocalendar() # DOW = day of week\n",
    "print()\n",
    "print(\"Year %d, Week Number %d, Day of the Week %d\" %(year,week_num, day_of_week))\n",
    "print()\n"
   ]
  },
  {
   "cell_type": "code",
   "execution_count": 9,
   "id": "5917e8bd",
   "metadata": {},
   "outputs": [
    {
     "name": "stdout",
     "output_type": "stream",
     "text": [
      "   September 2025\n",
      "Mo Tu We Th Fr Sa Su\n",
      " 1  2  3  4  5  6  7\n",
      " 8  9 10 11 12 13 14\n",
      "15 16 17 18 19 20 21\n",
      "22 23 24 25 26 27 28\n",
      "29 30\n",
      "None\n"
     ]
    }
   ],
   "source": [
    "import calendar\n",
    "cal = calendar.LocaleTextCalendar(locale='en_AU.utf8')\n",
    "print(cal.prmonth(2025, 9))\n"
   ]
  },
  {
   "cell_type": "code",
   "execution_count": 10,
   "id": "9502e3c1",
   "metadata": {},
   "outputs": [
    {
     "name": "stdout",
     "output_type": "stream",
     "text": [
      "\n",
      "# In string: 2022-04-10 22:08:43 PM\n",
      "\n",
      "\n"
     ]
    }
   ],
   "source": [
    "import datetime\n",
    "# Current time\n",
    "now = datetime.datetime.now()\n",
    "# Make a note of the date and time in a string\n",
    "# Date and time in string : 2016-11-05 11:24:24 PM\n",
    "datestr = \"# In string: \" + now.strftime(\"%Y-%m-%d %H:%M:%S %p\") + \"\\n\"\n",
    "print()\n",
    "print(datestr)\n",
    "print()\n"
   ]
  },
  {
   "cell_type": "code",
   "execution_count": 11,
   "id": "5d9b9708",
   "metadata": {},
   "outputs": [
    {
     "name": "stdout",
     "output_type": "stream",
     "text": [
      "\n",
      "Time in seconds since the epoch: 1649608733.3214974\n",
      "Current date and time:  2022-04-10 22:08:53.321497\n",
      "Alternate date and time:  22-04-10-22-08\n",
      "Current year:  2022\n",
      "Month of year:  April\n",
      "Week number of the year:  14\n",
      "Weekday of the week:  0\n",
      "Day of year:  100\n",
      "Day of the month :  10\n",
      "Day of week:  Sunday\n",
      "\n"
     ]
    }
   ],
   "source": [
    "import time\n",
    "import datetime\n",
    "\n",
    "print()\n",
    "print(\"Time in seconds since the epoch: %s\" %time.time())\n",
    "print(\"Current date and time: \" , datetime.datetime.now())\n",
    "print(\"Alternate date and time: \" ,datetime.datetime.now().strftime(\"%y-%m-%d-%H-%M\"))\n",
    "print(\"Current year: \", datetime.date.today().strftime(\"%Y\"))\n",
    "print(\"Month of year: \", datetime.date.today().strftime(\"%B\"))\n",
    "print(\"Week number of the year: \", datetime.date.today().strftime(\"%W\"))\n",
    "print(\"Weekday of the week: \", datetime.date.today().strftime(\"%w\"))\n",
    "print(\"Day of year: \", datetime.date.today().strftime(\"%j\"))\n",
    "print(\"Day of the month : \", datetime.date.today().strftime(\"%d\"))\n",
    "print(\"Day of week: \", datetime.date.today().strftime(\"%A\"))\n",
    "print()\n"
   ]
  },
  {
   "cell_type": "code",
   "execution_count": 12,
   "id": "516e909c",
   "metadata": {},
   "outputs": [
    {
     "name": "stdout",
     "output_type": "stream",
     "text": [
      "\n",
      "15\n",
      "33\n",
      "\n"
     ]
    }
   ],
   "source": [
    "from datetime import date\n",
    "\n",
    "def calculate_age(dtob):\n",
    "    today = date.today()\n",
    "    return today.year - dtob.year - ((today.month, today.day) < (dtob.month, dtob.day))\n",
    "print()\n",
    "print(calculate_age(date(2006,10,12)))\n",
    "print(calculate_age(date(1989,1,12)))\n",
    "print()\n"
   ]
  },
  {
   "cell_type": "code",
   "execution_count": 13,
   "id": "0ed7b6c6",
   "metadata": {},
   "outputs": [
    {
     "name": "stdout",
     "output_type": "stream",
     "text": [
      "\n"
     ]
    },
    {
     "ename": "FileNotFoundError",
     "evalue": "[WinError 2] The system cannot find the file specified: 'test.txt'",
     "output_type": "error",
     "traceback": [
      "\u001b[1;31m---------------------------------------------------------------------------\u001b[0m",
      "\u001b[1;31mFileNotFoundError\u001b[0m                         Traceback (most recent call last)",
      "\u001b[1;32m~\\AppData\\Local\\Temp/ipykernel_20416/180546100.py\u001b[0m in \u001b[0;36m<module>\u001b[1;34m\u001b[0m\n\u001b[0;32m     31\u001b[0m         \u001b[1;32mreturn\u001b[0m \u001b[1;33m(\u001b[0m\u001b[0mstrYear\u001b[0m\u001b[1;33m+\u001b[0m\u001b[1;34m\"-\"\u001b[0m\u001b[1;33m+\u001b[0m\u001b[0mstrMonth\u001b[0m\u001b[1;33m+\u001b[0m\u001b[1;34m\"-\"\u001b[0m\u001b[1;33m+\u001b[0m\u001b[0mstrDay\u001b[0m\u001b[1;33m+\u001b[0m\u001b[1;34m\" \"\u001b[0m\u001b[1;33m+\u001b[0m\u001b[0mstr\u001b[0m\u001b[1;33m(\u001b[0m\u001b[0mhour\u001b[0m\u001b[1;33m)\u001b[0m\u001b[1;33m+\u001b[0m\u001b[1;34m\":\"\u001b[0m\u001b[1;33m+\u001b[0m\u001b[0mstr\u001b[0m\u001b[1;33m(\u001b[0m\u001b[0mminute\u001b[0m\u001b[1;33m)\u001b[0m\u001b[1;33m+\u001b[0m\u001b[1;34m\":\"\u001b[0m\u001b[1;33m+\u001b[0m\u001b[0mstr\u001b[0m\u001b[1;33m(\u001b[0m\u001b[0msecond\u001b[0m\u001b[1;33m)\u001b[0m\u001b[1;33m)\u001b[0m\u001b[1;33m\u001b[0m\u001b[1;33m\u001b[0m\u001b[0m\n\u001b[0;32m     32\u001b[0m \u001b[0mprint\u001b[0m\u001b[1;33m(\u001b[0m\u001b[1;33m)\u001b[0m\u001b[1;33m\u001b[0m\u001b[1;33m\u001b[0m\u001b[0m\n\u001b[1;32m---> 33\u001b[1;33m \u001b[0mprint\u001b[0m\u001b[1;33m(\u001b[0m\u001b[0mlast_modified_fileinfo\u001b[0m\u001b[1;33m(\u001b[0m\u001b[1;34m'test.txt'\u001b[0m\u001b[1;33m)\u001b[0m\u001b[1;33m)\u001b[0m\u001b[1;33m\u001b[0m\u001b[1;33m\u001b[0m\u001b[0m\n\u001b[0m\u001b[0;32m     34\u001b[0m \u001b[0mprint\u001b[0m\u001b[1;33m(\u001b[0m\u001b[1;33m)\u001b[0m\u001b[1;33m\u001b[0m\u001b[1;33m\u001b[0m\u001b[0m\n",
      "\u001b[1;32m~\\AppData\\Local\\Temp/ipykernel_20416/180546100.py\u001b[0m in \u001b[0;36mlast_modified_fileinfo\u001b[1;34m(filepath)\u001b[0m\n\u001b[0;32m      2\u001b[0m \u001b[1;32mdef\u001b[0m \u001b[0mlast_modified_fileinfo\u001b[0m\u001b[1;33m(\u001b[0m\u001b[0mfilepath\u001b[0m\u001b[1;33m)\u001b[0m\u001b[1;33m:\u001b[0m\u001b[1;33m\u001b[0m\u001b[1;33m\u001b[0m\u001b[0m\n\u001b[0;32m      3\u001b[0m \u001b[1;33m\u001b[0m\u001b[0m\n\u001b[1;32m----> 4\u001b[1;33m         \u001b[0mfilestat\u001b[0m \u001b[1;33m=\u001b[0m \u001b[0mos\u001b[0m\u001b[1;33m.\u001b[0m\u001b[0mstat\u001b[0m\u001b[1;33m(\u001b[0m\u001b[0mfilepath\u001b[0m\u001b[1;33m)\u001b[0m\u001b[1;33m\u001b[0m\u001b[1;33m\u001b[0m\u001b[0m\n\u001b[0m\u001b[0;32m      5\u001b[0m         \u001b[0mdate\u001b[0m \u001b[1;33m=\u001b[0m \u001b[0mtime\u001b[0m\u001b[1;33m.\u001b[0m\u001b[0mlocaltime\u001b[0m\u001b[1;33m(\u001b[0m\u001b[1;33m(\u001b[0m\u001b[0mfilestat\u001b[0m\u001b[1;33m.\u001b[0m\u001b[0mst_mtime\u001b[0m\u001b[1;33m)\u001b[0m\u001b[1;33m)\u001b[0m\u001b[1;33m\u001b[0m\u001b[1;33m\u001b[0m\u001b[0m\n\u001b[0;32m      6\u001b[0m \u001b[1;33m\u001b[0m\u001b[0m\n",
      "\u001b[1;31mFileNotFoundError\u001b[0m: [WinError 2] The system cannot find the file specified: 'test.txt'"
     ]
    }
   ],
   "source": [
    "import os, time\n",
    "def last_modified_fileinfo(filepath):\n",
    "\t\n",
    "\tfilestat = os.stat(filepath)\n",
    "\tdate = time.localtime((filestat.st_mtime))\n",
    "\n",
    "\t# Extract year, month and day from the date\n",
    "\tyear = date[0]\n",
    "\tmonth = date[1]\n",
    "\tday = date[2]\n",
    "\t# Extract hour, minute, second\n",
    "\thour = date[3]\n",
    "\tminute = date[4]\n",
    "\tsecond = date[5]\n",
    "\t\n",
    "\t# Year\n",
    "\tstrYear = str(year)[0:]\n",
    "\n",
    "\t# Month\n",
    "\tif (month <=9):\n",
    "\t    strMonth = '0' + str(month)\n",
    "\telse:\n",
    "\t    strMonth = str(month)\n",
    "\n",
    "\t# Date\n",
    "\tif (day <=9):\n",
    "\t    strDay = '0' + str(day)\n",
    "\telse:\n",
    "\t    strDay = str(day)\n",
    "\n",
    "\treturn (strYear+\"-\"+strMonth+\"-\"+strDay+\" \"+str(hour)+\":\"+str(minute)+\":\"+str(second))\n",
    "print()\n",
    "print(last_modified_fileinfo('test.txt'))\n",
    "print()\n"
   ]
  },
  {
   "cell_type": "code",
   "execution_count": 14,
   "id": "fbf9a557",
   "metadata": {},
   "outputs": [
    {
     "name": "stdout",
     "output_type": "stream",
     "text": [
      "\n",
      "2656 days, 21 hours, 9 minutes, 18 seconds\n",
      "\n"
     ]
    }
   ],
   "source": [
    "from datetime import datetime, time\n",
    "\n",
    "def date_diff_in_seconds(dt2, dt1):\n",
    "  timedelta = dt2 - dt1\n",
    "  return timedelta.days * 24 * 3600 + timedelta.seconds\n",
    "\n",
    "def dhms_from_seconds(seconds):\n",
    "\tminutes, seconds = divmod(seconds, 60)\n",
    "\thours, minutes = divmod(minutes, 60)\n",
    "\tdays, hours = divmod(hours, 24)\n",
    "\treturn (days, hours, minutes, seconds)\n",
    "\n",
    "#Specified date\n",
    "date1 = datetime.strptime('2015-01-01 01:00:00', '%Y-%m-%d %H:%M:%S')\n",
    "\n",
    "#Current date\n",
    "date2 = datetime.now()\n",
    "\n",
    "print(\"\\n%d days, %d hours, %d minutes, %d seconds\" % dhms_from_seconds(date_diff_in_seconds(date2, date1)))\n",
    "print()\n"
   ]
  },
  {
   "cell_type": "code",
   "execution_count": 15,
   "id": "fe7d7d58",
   "metadata": {},
   "outputs": [
    {
     "name": "stdout",
     "output_type": "stream",
     "text": [
      "\n",
      "229554563 seconds\n",
      "\n"
     ]
    }
   ],
   "source": [
    "from datetime import datetime, time\n",
    "def date_diff_in_Seconds(dt2, dt1):\n",
    "  timedelta = dt2 - dt1\n",
    "  return timedelta.days * 24 * 3600 + timedelta.seconds\n",
    "#Specified date\n",
    "date1 = datetime.strptime('2015-01-01 01:00:00', '%Y-%m-%d %H:%M:%S')\n",
    "#Current date\n",
    "date2 = datetime.now()\n",
    "print(\"\\n%d seconds\" %(date_diff_in_Seconds(date2, date1)))\n",
    "print()\n"
   ]
  },
  {
   "cell_type": "code",
   "execution_count": 16,
   "id": "bba6f2ab",
   "metadata": {},
   "outputs": [
    {
     "name": "stdout",
     "output_type": "stream",
     "text": [
      "\n",
      "Unix Timestamp:  1456422780.0\n",
      "\n"
     ]
    }
   ],
   "source": [
    "import datetime\n",
    "import time\n",
    "dt = datetime.datetime(2016, 2, 25, 23, 23)\n",
    "print()\n",
    "print(\"Unix Timestamp: \",(time.mktime(dt.timetuple())))\n",
    "print()\n"
   ]
  },
  {
   "cell_type": "code",
   "execution_count": 17,
   "id": "3b3bd702",
   "metadata": {},
   "outputs": [
    {
     "name": "stdout",
     "output_type": "stream",
     "text": [
      "\n",
      "Sun Apr 10 22:09:34 2022\n",
      "\n"
     ]
    }
   ],
   "source": [
    "import time\n",
    "print()\n",
    "print(time.ctime())\n",
    "print()\n"
   ]
  },
  {
   "cell_type": "code",
   "execution_count": 18,
   "id": "7e84b7ef",
   "metadata": {},
   "outputs": [
    {
     "name": "stdout",
     "output_type": "stream",
     "text": [
      "\n",
      "307\n",
      "306\n",
      "\n"
     ]
    }
   ],
   "source": [
    "import datetime\n",
    "from datetime import datetime\n",
    "\n",
    "def differ_days(date1, date2):\n",
    "    a = date1\n",
    "    b = date2\n",
    "    return (a-b).days\n",
    "print()\n",
    "print(differ_days((datetime(2016,10,12,0,0,0)), datetime(2015,12,10,0,0,0)))\n",
    "print(differ_days((datetime(2016,10,12,0,0,0)), datetime(2015,12,10,23,59,59)))\n",
    "print()\n"
   ]
  },
  {
   "cell_type": "code",
   "execution_count": 19,
   "id": "b786a1c8",
   "metadata": {},
   "outputs": [
    {
     "name": "stdout",
     "output_type": "stream",
     "text": [
      "\n",
      "307\n",
      "-627\n",
      "\n"
     ]
    }
   ],
   "source": [
    "import datetime\n",
    "from datetime import date\n",
    "def differ_days(date1, date2):\n",
    "\n",
    "    a = date1\n",
    "    b = date2\n",
    "    return (a-b).days\n",
    "print()\n",
    "print(differ_days((date(2016,10,12)), date(2015,12,10)))\n",
    "print(differ_days((date(2016,3,23)), date(2017,12,10)))\n",
    "print()\n"
   ]
  },
  {
   "cell_type": "code",
   "execution_count": 20,
   "id": "fb585c03",
   "metadata": {},
   "outputs": [
    {
     "name": "stdout",
     "output_type": "stream",
     "text": [
      "\n",
      "1475260200.0\n",
      "\n"
     ]
    }
   ],
   "source": [
    "import time\n",
    "import datetime\n",
    "s = \"01/10/2016\"\n",
    "print()\n",
    "print(time.mktime(datetime.datetime.strptime(s, \"%d/%m/%Y\").timetuple()))\n",
    "print()\n"
   ]
  },
  {
   "cell_type": "code",
   "execution_count": 21,
   "id": "fc6ed055",
   "metadata": {},
   "outputs": [
    {
     "name": "stdout",
     "output_type": "stream",
     "text": [
      "\n",
      "1649608800.0\n",
      "\n"
     ]
    }
   ],
   "source": [
    "import time\n",
    "import datetime\n",
    "now = datetime.datetime.now()\n",
    "print()\n",
    "print(time.mktime(now.timetuple()))\n",
    "print()\n"
   ]
  },
  {
   "cell_type": "code",
   "execution_count": 22,
   "id": "a25ebd4c",
   "metadata": {},
   "outputs": [
    {
     "name": "stdout",
     "output_type": "stream",
     "text": [
      "\n",
      "GMT: Sun, 10 Apr 2022 04:40:08 PM India Standard Time\n",
      "Local: Sun, 10 Apr 2022 10:10:08 PM India Standard Time\n",
      "\n"
     ]
    }
   ],
   "source": [
    "from time import gmtime, strftime\n",
    "import time\n",
    "print(\"\\nGMT: \"+time.strftime(\"%a, %d %b %Y %I:%M:%S %p %Z\", time.gmtime()))\n",
    "print(\"Local: \"+strftime(\"%a, %d %b %Y %I:%M:%S %p %Z\\n\"))\n"
   ]
  },
  {
   "cell_type": "code",
   "execution_count": 23,
   "id": "e4c0f788",
   "metadata": {},
   "outputs": [
    {
     "name": "stdout",
     "output_type": "stream",
     "text": [
      "\n",
      "Current Date:  2022-04-10\n",
      "30 days before current date:  2022-03-11\n",
      "30 days after current date :  2022-05-10\n"
     ]
    }
   ],
   "source": [
    "from datetime import date, timedelta\n",
    "\n",
    "current_date = date.today().isoformat()   \n",
    "days_before = (date.today()-timedelta(days=30)).isoformat()\n",
    "days_after = (date.today()+timedelta(days=30)).isoformat()  \n",
    "\n",
    "print(\"\\nCurrent Date: \",current_date)\n",
    "print(\"30 days before current date: \",days_before)\n",
    "print(\"30 days after current date : \",days_after)\n"
   ]
  },
  {
   "cell_type": "code",
   "execution_count": 24,
   "id": "e25c1b07",
   "metadata": {},
   "outputs": [
    {
     "name": "stdout",
     "output_type": "stream",
     "text": [
      "Starting Date: 2016-08-01\n",
      "Next 12 days :\n",
      "2016-08-21\n",
      "2016-09-10\n",
      "2016-09-30\n",
      "2016-10-20\n",
      "2016-11-09\n",
      "2016-11-29\n",
      "2016-12-19\n",
      "2017-01-08\n",
      "2017-01-28\n",
      "2017-02-17\n",
      "2017-03-09\n",
      "2017-03-29\n"
     ]
    }
   ],
   "source": [
    "import datetime\n",
    "def every_20_days(date):\n",
    "    print('Starting Date: {d}'.format(d=date))\n",
    "    print(\"Next 12 days :\")\n",
    "    for _ in range(12):\n",
    "        date=date+datetime.timedelta(days=20)\n",
    "        print('{d}'.format(d=date))\n",
    "\n",
    "dt = datetime.date(2016,8,1)\n",
    "every_20_days(dt)\n"
   ]
  },
  {
   "cell_type": "code",
   "execution_count": 25,
   "id": "d7400165",
   "metadata": {},
   "outputs": [
    {
     "name": "stdout",
     "output_type": "stream",
     "text": [
      "2022-10-09\n"
     ]
    }
   ],
   "source": [
    "import datetime\n",
    "print((datetime.date.today() + datetime.timedelta(6*365/12)).isoformat())\n"
   ]
  },
  {
   "cell_type": "code",
   "execution_count": 28,
   "id": "a35d2c46",
   "metadata": {},
   "outputs": [
    {
     "ename": "TabError",
     "evalue": "inconsistent use of tabs and spaces in indentation (Temp/ipykernel_20416/3183415078.py, line 8)",
     "output_type": "error",
     "traceback": [
      "\u001b[1;36m  File \u001b[1;32m\"C:\\Users\\iampr.MS\\AppData\\Local\\Temp/ipykernel_20416/3183415078.py\"\u001b[1;36m, line \u001b[1;32m8\u001b[0m\n\u001b[1;33m    from datetime import date, timedelta\u001b[0m\n\u001b[1;37m                                        ^\u001b[0m\n\u001b[1;31mTabError\u001b[0m\u001b[1;31m:\u001b[0m inconsistent use of tabs and spaces in indentation\n"
     ]
    }
   ],
   "source": [
    "import time \n",
    "x=0\n",
    "print(\"\\nw3resource will print five  times, delay for three seconds.\")\n",
    "while x<5:\n",
    "    print(\"w3resource\")\n",
    "    time.sleep(3)\n",
    "    x=x+1\n",
    "\tfrom datetime import date, timedelta\n",
    "import calendar\n",
    "start_date = date(2014, 12, 25)\n",
    "days_in_month = calendar.monthrange(start_date.year, start_date.month)[1]\n",
    "print(start_date + timedelta(days=days_in_month))\n"
   ]
  },
  {
   "cell_type": "code",
   "execution_count": 27,
   "id": "1939a411",
   "metadata": {},
   "outputs": [
    {
     "name": "stdout",
     "output_type": "stream",
     "text": [
      "3\n"
     ]
    }
   ],
   "source": [
    "import datetime\n",
    "from datetime import datetime\n",
    "monday1 = 0\n",
    "months = range(1,13)\n",
    "for year in range(2015, 2017):\n",
    "    for month in months:\n",
    "        if datetime(year, month, 1).weekday() == 0:\n",
    "            monday1 += 1\n",
    "print(monday1)\n"
   ]
  },
  {
   "cell_type": "code",
   "execution_count": 29,
   "id": "122f67c6",
   "metadata": {},
   "outputs": [
    {
     "name": "stdout",
     "output_type": "stream",
     "text": [
      "False\n",
      "True\n",
      "True\n"
     ]
    }
   ],
   "source": [
    "from datetime import datetime \n",
    "def is_third_tuesday(s):\n",
    "    d = datetime.strptime(s, '%b %d, %Y')\n",
    "    return d.weekday() == 1 and 14 < d.day < 22\n",
    "\n",
    "print(is_third_tuesday('Jun 23, 2015')) #False\n",
    "print(is_third_tuesday('Jun 16, 2015')) #True \n",
    "print(is_third_tuesday('Jul 21, 2015')) #False\n"
   ]
  },
  {
   "cell_type": "code",
   "execution_count": 30,
   "id": "756d8afb",
   "metadata": {},
   "outputs": [
    {
     "name": "stdout",
     "output_type": "stream",
     "text": [
      "2022-04-05\n"
     ]
    }
   ],
   "source": [
    "from datetime import date\n",
    "from datetime import timedelta\n",
    "today = date.today()\n",
    "offset = (today.weekday() - 1) % 7\n",
    "last_tuesday = today - timedelta(days=offset)\n",
    "print(last_tuesday)\n"
   ]
  },
  {
   "cell_type": "code",
   "execution_count": 31,
   "id": "36ee00a3",
   "metadata": {},
   "outputs": [
    {
     "name": "stdout",
     "output_type": "stream",
     "text": [
      "2014-01-01\n",
      "2015-01-01\n",
      "2017-01-01\n",
      "2001-03-01\n"
     ]
    }
   ],
   "source": [
    "import datetime\n",
    "from datetime import date\n",
    "def addYears(d, years):\n",
    "    try:\n",
    "#Return same day of the current year        \n",
    "        return d.replace(year = d.year + years)\n",
    "    except ValueError:\n",
    "#If not same day, it will return other, i.e.  February 29 to March 1 etc.        \n",
    "        return d + (date(d.year + years, 1, 1) - date(d.year, 1, 1))\n",
    "\n",
    "print(addYears(datetime.date(2015,1,1), -1))\n",
    "print(addYears(datetime.date(2015,1,1), 0))\n",
    "print(addYears(datetime.date(2015,1,1), 2))\n",
    "print(addYears(datetime.date(2000,2,29),1))\n"
   ]
  },
  {
   "cell_type": "code",
   "execution_count": 32,
   "id": "8bb62197",
   "metadata": {},
   "outputs": [
    {
     "name": "stdout",
     "output_type": "stream",
     "text": [
      "Mon Dec 14 00:00:00 2015\n"
     ]
    }
   ],
   "source": [
    "import time\n",
    "print(time.asctime(time.strptime('2015 50 1', '%Y %W %w')))\n"
   ]
  },
  {
   "cell_type": "code",
   "execution_count": 33,
   "id": "5b3fa01a",
   "metadata": {},
   "outputs": [
    {
     "name": "stdout",
     "output_type": "stream",
     "text": [
      "Current Date : 2022-04-10\n",
      "5 days before Current Date : 2022-04-05\n"
     ]
    }
   ],
   "source": [
    "from datetime import date, timedelta\n",
    "dt = date.today() - timedelta(5)\n",
    "print('Current Date :',date.today())\n",
    "print('5 days before Current Date :',dt)\n"
   ]
  },
  {
   "cell_type": "code",
   "execution_count": 34,
   "id": "6f0c6fb4",
   "metadata": {},
   "outputs": [
    {
     "name": "stdout",
     "output_type": "stream",
     "text": [
      "2014-07-01 14:43:00\n"
     ]
    }
   ],
   "source": [
    "from datetime import datetime\n",
    "date_object = datetime.strptime('Jul 1 2014 2:43PM', '%b %d %Y %I:%M%p')\n",
    "print(date_object)\n"
   ]
  },
  {
   "cell_type": "code",
   "execution_count": null,
   "id": "31c77db4",
   "metadata": {},
   "outputs": [],
   "source": []
  }
 ],
 "metadata": {
  "kernelspec": {
   "display_name": "Python 3 (ipykernel)",
   "language": "python",
   "name": "python3"
  },
  "language_info": {
   "codemirror_mode": {
    "name": "ipython",
    "version": 3
   },
   "file_extension": ".py",
   "mimetype": "text/x-python",
   "name": "python",
   "nbconvert_exporter": "python",
   "pygments_lexer": "ipython3",
   "version": "3.9.7"
  }
 },
 "nbformat": 4,
 "nbformat_minor": 5
}
