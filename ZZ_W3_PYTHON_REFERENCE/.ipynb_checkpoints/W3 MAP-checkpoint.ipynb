{
 "cells": [
  {
   "cell_type": "code",
   "execution_count": 1,
   "id": "adb974fb",
   "metadata": {},
   "outputs": [
    {
     "name": "stdout",
     "output_type": "stream",
     "text": [
      "Original list:  (1, 2, 3, 4, 5, 6, 7)\n",
      "\n",
      "Triple of said list numbers:\n",
      "[3, 6, 9, 12, 15, 18, 21]\n"
     ]
    }
   ],
   "source": [
    "nums = (1, 2, 3, 4, 5, 6, 7) \n",
    "print(\"Original list: \", nums)\n",
    "result = map(lambda x: x + x + x, nums) \n",
    "print(\"\\nTriple of said list numbers:\")\n",
    "print(list(result))\n"
   ]
  },
  {
   "cell_type": "code",
   "execution_count": 2,
   "id": "f1c2692b",
   "metadata": {},
   "outputs": [
    {
     "name": "stdout",
     "output_type": "stream",
     "text": [
      "Original list: \n",
      "[1, 2, 3]\n",
      "[4, 5, 6]\n",
      "[7, 8, 9]\n",
      "\n",
      "New list after adding above three lists:\n",
      "[12, 15, 18]\n"
     ]
    }
   ],
   "source": [
    "nums1 = [1, 2, 3] \n",
    "nums2 = [4, 5, 6] \n",
    "nums3 = [7, 8, 9] \n",
    "print(\"Original list: \")\n",
    "print(nums1)  \n",
    "print(nums2)  \n",
    "print(nums3)  \n",
    "result = map(lambda x, y, z: x + y + z, nums1, nums2, nums3) \n",
    "print(\"\\nNew list after adding above three lists:\")\n",
    "print(list(result))\n"
   ]
  },
  {
   "cell_type": "code",
   "execution_count": 3,
   "id": "84fe6066",
   "metadata": {},
   "outputs": [
    {
     "name": "stdout",
     "output_type": "stream",
     "text": [
      "Original list: \n",
      "['Red', 'Blue', 'Black', 'White', 'Pink']\n",
      "\n",
      "After listify the list of strings are:\n",
      "[['R', 'e', 'd'], ['B', 'l', 'u', 'e'], ['B', 'l', 'a', 'c', 'k'], ['W', 'h', 'i', 't', 'e'], ['P', 'i', 'n', 'k']]\n"
     ]
    }
   ],
   "source": [
    "color = ['Red', 'Blue', 'Black', 'White', 'Pink'] \n",
    "print(\"Original list: \")\n",
    "print(color) \n",
    "print(\"\\nAfter listify the list of strings are:\") \n",
    "result = list(map(list, color)) \n",
    "print(result)\n"
   ]
  },
  {
   "cell_type": "code",
   "execution_count": 4,
   "id": "c97f132f",
   "metadata": {},
   "outputs": [
    {
     "name": "stdout",
     "output_type": "stream",
     "text": [
      "Base numbers abd index: \n",
      "[10, 20, 30, 40, 50, 60, 70, 80, 90, 100]\n",
      "[1, 2, 3, 4, 5, 6, 7, 8, 9, 10]\n",
      "\n",
      "Power of said number in bases raised to the corresponding number in the index:\n",
      "[10, 400, 27000, 2560000, 312500000, 46656000000, 8235430000000, 1677721600000000, 387420489000000000, 100000000000000000000]\n"
     ]
    }
   ],
   "source": [
    "bases_num = [10, 20, 30, 40, 50, 60, 70, 80, 90, 100]\n",
    "index = [1, 2, 3, 4, 5, 6, 7, 8, 9, 10]\n",
    "print(\"Base numbers abd index: \")\n",
    "print(bases_num)\n",
    "print(index)\n",
    "result = list(map(pow, bases_num, index))\n",
    "print(\"\\nPower of said number in bases raised to the corresponding number in the index:\")\n",
    "print(result)\n"
   ]
  },
  {
   "cell_type": "code",
   "execution_count": 5,
   "id": "caa6910a",
   "metadata": {},
   "outputs": [
    {
     "name": "stdout",
     "output_type": "stream",
     "text": [
      "Original List:  [4, 5, 2, 9]\n",
      "Square the elements of the said list using map():\n",
      "[16, 25, 4, 81]\n"
     ]
    }
   ],
   "source": [
    "def square_num(n):\n",
    "  return n * n\n",
    "nums = [4, 5, 2, 9]\n",
    "print(\"Original List: \",nums)\n",
    "result = map(square_num, nums)\n",
    "print(\"Square the elements of the said list using map():\")\n",
    "print(list(result))\n"
   ]
  },
  {
   "cell_type": "code",
   "execution_count": 6,
   "id": "6d92d9e3",
   "metadata": {},
   "outputs": [
    {
     "name": "stdout",
     "output_type": "stream",
     "text": [
      "Original Characters:\n",
      " {'b', 'E', 'o', 'U', 'i', 'f', 'a'}\n",
      "\n",
      "After converting above characters in upper and lower cases\n",
      "and eliminating duplicate letters:\n",
      "{('E', 'e'), ('F', 'f'), ('O', 'o'), ('U', 'u'), ('A', 'a'), ('I', 'i'), ('B', 'b')}\n"
     ]
    }
   ],
   "source": [
    "def change_cases(s):\n",
    "  return str(s).upper(), str(s).lower()\n",
    " \n",
    "chrars = {'a', 'b', 'E', 'f', 'a', 'i', 'o', 'U', 'a'}\n",
    "print(\"Original Characters:\\n\",chrars)\n",
    " \n",
    "result = map(change_cases, chrars)\n",
    "print(\"\\nAfter converting above characters in upper and lower cases\\nand eliminating duplicate letters:\")\n",
    "print(set(result))\n"
   ]
  },
  {
   "cell_type": "code",
   "execution_count": 7,
   "id": "692767ee",
   "metadata": {},
   "outputs": [
    {
     "name": "stdout",
     "output_type": "stream",
     "text": [
      "Original lists:\n",
      "[6, 5, 3, 9]\n",
      "[0, 1, 7, 7]\n",
      "\n",
      "Result:\n",
      "[(6, 6), (6, 4), (10, -4), (16, 2)]\n"
     ]
    }
   ],
   "source": [
    "def addition_subtrction(x, y):\n",
    "    return x + y, x - y\n",
    " \n",
    "nums1 = [6, 5, 3, 9]\n",
    "nums2 = [0, 1, 7, 7]\n",
    "print(\"Original lists:\")\n",
    "print(nums1)\n",
    "print(nums2)\n",
    "result = map(addition_subtrction, nums1, nums2)\n",
    "print(\"\\nResult:\")\n",
    "print(list(result))\n"
   ]
  },
  {
   "cell_type": "code",
   "execution_count": 8,
   "id": "d6a19685",
   "metadata": {},
   "outputs": [
    {
     "name": "stdout",
     "output_type": "stream",
     "text": [
      "Original list and tuple:\n",
      "[1, 2, 3, 4]\n",
      "(0, 1, 2, 3)\n",
      "\n",
      "List of strings:\n",
      "['1', '2', '3', '4']\n",
      "\n",
      "Tuple of strings:\n",
      "('0', '1', '2', '3')\n"
     ]
    }
   ],
   "source": [
    "nums_list = [1,2,3,4]\n",
    "nums_tuple = (0, 1, 2, 3) \n",
    "print(\"Original list and tuple:\")\n",
    "print(nums_list)\n",
    "print(nums_tuple)\n",
    "result_list = list(map(str,nums_list))\n",
    "result_tuple = tuple(map(str,nums_tuple))\n",
    "print(\"\\nList of strings:\")\n",
    "print(result_list)\n",
    "print(\"\\nTuple of strings:\")\n",
    "print(result_tuple)\n"
   ]
  },
  {
   "cell_type": "code",
   "execution_count": 9,
   "id": "ce00f436",
   "metadata": {},
   "outputs": [
    {
     "name": "stdout",
     "output_type": "stream",
     "text": [
      "Original data:\n",
      "[('Alberto Franco', '15/05/2002', '35kg'), ('Gino Mcneill', '17/05/2002', '37kg'), ('Ryan Parkes', '16/02/1999', '39kg'), ('Eesha Hinton', '25/09/1998', '35kg')]\n",
      "\n",
      "Student name:\n",
      "['Alberto Franco', 'Gino Mcneill', 'Ryan Parkes', 'Eesha Hinton']\n",
      "Student name:\n",
      "['15/05/2002', '17/05/2002', '16/02/1999', '25/09/1998']\n",
      "Student weight:\n",
      "[35, 37, 39, 35]\n"
     ]
    }
   ],
   "source": [
    "student_data  = [('Alberto Franco','15/05/2002','35kg'), ('Gino Mcneill','17/05/2002','37kg'), ('Ryan Parkes','16/02/1999', '39kg'), ('Eesha Hinton','25/09/1998', '35kg')]\n",
    "print(\"Original data:\")\n",
    "print(student_data)\n",
    "students_data_name = list(map(lambda x:x[0], student_data))\n",
    "students_data_dob = list(map(lambda x:x[1], student_data))\n",
    "students_data_weight = list(map(lambda x:int(x[2][:-2]), student_data))\n",
    "print(\"\\nStudent name:\")\n",
    "print(students_data_name)\n",
    "print(\"Student name:\")\n",
    "print(students_data_dob)\n",
    "print(\"Student weight:\")\n",
    "print(students_data_weight)\n"
   ]
  },
  {
   "cell_type": "code",
   "execution_count": 10,
   "id": "5a53ea37",
   "metadata": {},
   "outputs": [
    {
     "name": "stdout",
     "output_type": "stream",
     "text": [
      "Original array: array('i', [1, 2, 3, 4, 5, -15])\n",
      "Sum of all elements of the said array:\n",
      "0\n"
     ]
    }
   ],
   "source": [
    "from array import array\n",
    "def array_sum(nums_arr):\n",
    "    sum_n = 0\n",
    "    for n in nums_arr:\n",
    "        sum_n += n\n",
    "    return sum_n\n",
    "\n",
    "nums = array('i', [1, 2, 3, 4, 5, -15])\n",
    "print(\"Original array:\",nums)\n",
    "nums_arr = list(map(int, nums))\n",
    "result = array_sum(nums_arr)\n",
    "print(\"Sum of all elements of the said array:\")\n",
    "print(result)\n"
   ]
  },
  {
   "cell_type": "code",
   "execution_count": 11,
   "id": "19e1faa2",
   "metadata": {},
   "outputs": [
    {
     "name": "stdout",
     "output_type": "stream",
     "text": [
      "Original dictionary of lists:\n",
      "{'Science': [88, 89, 62, 95], 'Language': [77, 78, 84, 80]}\n",
      "\n",
      "Split said dictionary of lists into list of dictionaries:\n",
      "[{'Science': 88, 'Language': 77}, {'Science': 89, 'Language': 78}, {'Science': 62, 'Language': 84}, {'Science': 95, 'Language': 80}]\n"
     ]
    }
   ],
   "source": [
    "def list_of_dicts(marks):\n",
    "    result = map(dict, zip(*[[(key, val) for val in value] for key, value in marks.items()]))\n",
    "    return list(result)\n",
    "marks = {'Science': [88, 89, 62, 95], 'Language': [77, 78, 84, 80]}\n",
    "print(\"Original dictionary of lists:\")\n",
    "print(marks)\n",
    "print(\"\\nSplit said dictionary of lists into list of dictionaries:\")\n",
    "print(list_of_dicts(marks))\n"
   ]
  },
  {
   "cell_type": "code",
   "execution_count": 12,
   "id": "aab99bb2",
   "metadata": {},
   "outputs": [
    {
     "name": "stdout",
     "output_type": "stream",
     "text": [
      "Original dictionary of lists:\n",
      "{'Science': [88, 89, 62, 95], 'Language': [77, 78, 84, 80]}\n",
      "\n",
      "Split said dictionary of lists into list of dictionaries:\n",
      "[{'Science': 88, 'Language': 77}, {'Science': 89, 'Language': 78}, {'Science': 62, 'Language': 84}, {'Science': 95, 'Language': 80}]\n"
     ]
    }
   ],
   "source": [
    "def list_of_dicts(marks):\n",
    "    result = map(dict, zip(*[[(key, val) for val in value] for key, value in marks.items()]))\n",
    "    return list(result)\n",
    "marks = {'Science': [88, 89, 62, 95], 'Language': [77, 78, 84, 80]}\n",
    "print(\"Original dictionary of lists:\")\n",
    "print(marks)\n",
    "print(\"\\nSplit said dictionary of lists into list of dictionaries:\")\n",
    "print(list_of_dicts(marks))\n"
   ]
  },
  {
   "cell_type": "code",
   "execution_count": 13,
   "id": "c069ed11",
   "metadata": {},
   "outputs": [
    {
     "name": "stdout",
     "output_type": "stream",
     "text": [
      "Original list of strings:\n",
      "['Red', 'Green', 'Black', 'Orange']\n",
      "\n",
      "Convert the said list of strings into list of lists:\n",
      "[['R', 'e', 'd'], ['G', 'r', 'e', 'e', 'n'], ['B', 'l', 'a', 'c', 'k'], ['O', 'r', 'a', 'n', 'g', 'e']]\n"
     ]
    }
   ],
   "source": [
    "def strings_to_listOflists(str):\n",
    "    result = map(list, str)\n",
    "    return list(result)\n",
    "\n",
    "colors = [\"Red\", \"Green\", \"Black\", \"Orange\"]\n",
    "print('Original list of strings:')\n",
    "print(colors)\n",
    "print(\"\\nConvert the said list of strings into list of lists:\")\n",
    "print(strings_to_listOflists(colors))\n"
   ]
  },
  {
   "cell_type": "code",
   "execution_count": 14,
   "id": "fdac3f1e",
   "metadata": {},
   "outputs": [
    {
     "name": "stdout",
     "output_type": "stream",
     "text": [
      "Original list of tuples:\n",
      "[('red', 'pink'), ('white', 'black'), ('orange', 'green')]\n",
      "\n",
      "Convert the said list of tuples to a list of strings:\n",
      "['red pink', 'white black', 'orange green']\n",
      "\n",
      "Original list of tuples:\n",
      "[('Sheridan', 'Gentry'), ('Laila', 'Mckee'), ('Ahsan', 'Rivas'), ('Conna', 'Gonzalez')]\n",
      "\n",
      "Convert the said list of tuples to a list of strings:\n",
      "['Sheridan Gentry', 'Laila Mckee', 'Ahsan Rivas', 'Conna Gonzalez']\n"
     ]
    }
   ],
   "source": [
    "def tuples_to_list_string(lst):\n",
    "    result = list(map(' '.join, lst))\n",
    "    return result   \n",
    "colors = [('red', 'pink'), ('white', 'black'), ('orange', 'green')]\n",
    "print(\"Original list of tuples:\")\n",
    "print(colors)\n",
    "print(\"\\nConvert the said list of tuples to a list of strings:\")\n",
    "print(tuples_to_list_string(colors))\n",
    "names = [('Sheridan','Gentry'), ('Laila','Mckee'), ('Ahsan','Rivas'), ('Conna','Gonzalez')]\n",
    "print(\"\\nOriginal list of tuples:\")\n",
    "print(names)\n",
    "print(\"\\nConvert the said list of tuples to a list of strings:\")\n",
    "print(tuples_to_list_string(names))\n"
   ]
  },
  {
   "cell_type": "code",
   "execution_count": null,
   "id": "77ba790b",
   "metadata": {},
   "outputs": [],
   "source": []
  }
 ],
 "metadata": {
  "kernelspec": {
   "display_name": "Python 3 (ipykernel)",
   "language": "python",
   "name": "python3"
  },
  "language_info": {
   "codemirror_mode": {
    "name": "ipython",
    "version": 3
   },
   "file_extension": ".py",
   "mimetype": "text/x-python",
   "name": "python",
   "nbconvert_exporter": "python",
   "pygments_lexer": "ipython3",
   "version": "3.9.7"
  }
 },
 "nbformat": 4,
 "nbformat_minor": 5
}
