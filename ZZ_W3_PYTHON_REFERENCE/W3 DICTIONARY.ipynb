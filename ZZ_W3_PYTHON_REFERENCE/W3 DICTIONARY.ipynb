{
 "cells": [
  {
   "cell_type": "code",
   "execution_count": 1,
   "id": "d20a5c50",
   "metadata": {},
   "outputs": [
    {
     "name": "stdout",
     "output_type": "stream",
     "text": [
      "C1 C2 C3\n",
      "1 5 9\n",
      "2 6 10\n",
      "3 7 11\n"
     ]
    }
   ],
   "source": [
    "my_dict = {'C1':[1,2,3],'C2':[5,6,7],'C3':[9,10,11]}\n",
    "for row in zip(*([key] + (value) for key, value in sorted(my_dict.items()))):\n",
    "    print(*row)\n"
   ]
  },
  {
   "cell_type": "code",
   "execution_count": 2,
   "id": "666c5ed3",
   "metadata": {},
   "outputs": [
    {
     "name": "stdout",
     "output_type": "stream",
     "text": [
      "Counter({'item1': 1150, 'item2': 300})\n"
     ]
    }
   ],
   "source": [
    "from collections import Counter\n",
    "item_list = [{'item': 'item1', 'amount': 400}, {'item': 'item2', 'amount': 300}, {'item': 'item1', 'amount': 750}]\n",
    "result = Counter()\n",
    "for d in item_list:\n",
    "    result[d['item']] += d['amount']\n",
    "print(result) \n"
   ]
  },
  {
   "cell_type": "code",
   "execution_count": 3,
   "id": "fceeff25",
   "metadata": {},
   "outputs": [
    {
     "name": "stdout",
     "output_type": "stream",
     "text": [
      "['b', 'e', 'c']\n"
     ]
    }
   ],
   "source": [
    "from heapq import nlargest\n",
    "my_dict = {'a':500, 'b':5874, 'c': 560,'d':400, 'e':5874, 'f': 20}  \n",
    "three_largest = nlargest(3, my_dict, key=my_dict.get)\n",
    "print(three_largest) \n"
   ]
  },
  {
   "cell_type": "code",
   "execution_count": 4,
   "id": "ca1c4068",
   "metadata": {},
   "outputs": [
    {
     "name": "stdout",
     "output_type": "stream",
     "text": [
      "ac\n",
      "ad\n",
      "bc\n",
      "bd\n"
     ]
    }
   ],
   "source": [
    "import itertools      \n",
    "d ={'1':['a','b'], '2':['c','d']}\n",
    "for combo in itertools.product(*[d[k] for k in sorted(d.keys())]):\n",
    "    print(''.join(combo))\n",
    "\t"
   ]
  },
  {
   "cell_type": "code",
   "execution_count": 5,
   "id": "f29a48bc",
   "metadata": {},
   "outputs": [
    {
     "name": "stdout",
     "output_type": "stream",
     "text": [
      "Original List:  [{'V': 'S001'}, {'V': 'S002'}, {'VI': 'S001'}, {'VI': 'S005'}, {'VII': 'S005'}, {'V': 'S009'}, {'VIII': 'S007'}]\n",
      "Unique Values:  {'S001', 'S005', 'S002', 'S007', 'S009'}\n"
     ]
    }
   ],
   "source": [
    "L = [{\"V\":\"S001\"}, {\"V\": \"S002\"}, {\"VI\": \"S001\"}, {\"VI\": \"S005\"}, {\"VII\":\"S005\"}, {\"V\":\"S009\"},{\"VIII\":\"S007\"}]\n",
    "print(\"Original List: \",L)\n",
    "u_value = set( val for dic in L for val in dic.values())\n",
    "print(\"Unique Values: \",u_value)\n"
   ]
  },
  {
   "cell_type": "code",
   "execution_count": 6,
   "id": "46736ba9",
   "metadata": {},
   "outputs": [
    {
     "name": "stdout",
     "output_type": "stream",
     "text": [
      "Counter({'a': 400, 'b': 400, 'd': 400, 'c': 300})\n"
     ]
    }
   ],
   "source": [
    "from collections import Counter\n",
    "d1 = {'a': 100, 'b': 200, 'c':300}\n",
    "d2 = {'a': 300, 'b': 200, 'd':400}\n",
    "d = Counter(d1) + Counter(d2)\n",
    "print(d)\n"
   ]
  },
  {
   "cell_type": "code",
   "execution_count": 7,
   "id": "71bb36bd",
   "metadata": {},
   "outputs": [
    {
     "name": "stdout",
     "output_type": "stream",
     "text": [
      "Dictionary is empty\n"
     ]
    }
   ],
   "source": [
    "my_dict = {}\n",
    "\n",
    "if not bool(my_dict):\n",
    "    print(\"Dictionary is empty\")\n",
    "\t"
   ]
  },
  {
   "cell_type": "code",
   "execution_count": 8,
   "id": "f1f8e381",
   "metadata": {},
   "outputs": [
    {
     "name": "stdout",
     "output_type": "stream",
     "text": [
      "{'id1': {'name': ['Sara'], 'class': ['V'], 'subject_integration': ['english, math, science']}, 'id2': {'name': ['David'], 'class': ['V'], 'subject_integration': ['english, math, science']}, 'id4': {'name': ['Surya'], 'class': ['V'], 'subject_integration': ['english, math, science']}}\n"
     ]
    }
   ],
   "source": [
    "student_data = {'id1': \n",
    "   {'name': ['Sara'], \n",
    "    'class': ['V'], \n",
    "    'subject_integration': ['english, math, science']\n",
    "   },\n",
    " 'id2': \n",
    "  {'name': ['David'], \n",
    "    'class': ['V'], \n",
    "    'subject_integration': ['english, math, science']\n",
    "   },\n",
    " 'id3': \n",
    "    {'name': ['Sara'], \n",
    "    'class': ['V'], \n",
    "    'subject_integration': ['english, math, science']\n",
    "   },\n",
    " 'id4': \n",
    "   {'name': ['Surya'], \n",
    "    'class': ['V'], \n",
    "    'subject_integration': ['english, math, science']\n",
    "   },\n",
    "}\n",
    "\n",
    "result = {}\n",
    "\n",
    "for key,value in student_data.items():\n",
    "    if value not in result.values():\n",
    "        result[key] = value\n",
    "\n",
    "print(result)\n"
   ]
  },
  {
   "cell_type": "code",
   "execution_count": 9,
   "id": "43705a5c",
   "metadata": {},
   "outputs": [
    {
     "name": "stdout",
     "output_type": "stream",
     "text": [
      "{'x': 'red', 'y': 'Yellow', 'z': 'Green'}\n"
     ]
    }
   ],
   "source": [
    "class dictObj(object):\n",
    "     def __init__(self):\n",
    "         self.x = 'red'\n",
    "         self.y = 'Yellow'\n",
    "         self.z = 'Green'\n",
    "     def do_nothing(self):\n",
    "         pass\n",
    "test = dictObj()\n",
    "print(test.__dict__)\n"
   ]
  },
  {
   "cell_type": "code",
   "execution_count": 10,
   "id": "900b35ee",
   "metadata": {},
   "outputs": [
    {
     "name": "stdout",
     "output_type": "stream",
     "text": [
      "Maximum Value:  5874\n",
      "Minimum Value:  500\n"
     ]
    }
   ],
   "source": [
    "my_dict = {'x':500, 'y':5874, 'z': 560}\n",
    "\n",
    "key_max = max(my_dict.keys(), key=(lambda k: my_dict[k]))\n",
    "key_min = min(my_dict.keys(), key=(lambda k: my_dict[k]))\n",
    "\n",
    "print('Maximum Value: ',my_dict[key_max])\n",
    "print('Minimum Value: ',my_dict[key_min])\n"
   ]
  },
  {
   "cell_type": "code",
   "execution_count": 11,
   "id": "db965cf8",
   "metadata": {},
   "outputs": [
    {
     "name": "stdout",
     "output_type": "stream",
     "text": [
      "black: #000000\n",
      "green: #008000\n",
      "red: #FF0000\n",
      "white: #FFFFFF\n"
     ]
    }
   ],
   "source": [
    "color_dict = {'red':'#FF0000',\n",
    "          'green':'#008000',\n",
    "          'black':'#000000',\n",
    "          'white':'#FFFFFF'}\n",
    "\n",
    "for key in sorted(color_dict):\n",
    "    print(\"%s: %s\" % (key, color_dict[key]))\n",
    "\t"
   ]
  },
  {
   "cell_type": "code",
   "execution_count": 12,
   "id": "63417065",
   "metadata": {},
   "outputs": [
    {
     "name": "stdout",
     "output_type": "stream",
     "text": [
      "black: #000000\n",
      "green: #008000\n",
      "red: #FF0000\n",
      "white: #FFFFFF\n"
     ]
    }
   ],
   "source": [
    "color_dict = {'red':'#FF0000',\n",
    "          'green':'#008000',\n",
    "          'black':'#000000',\n",
    "          'white':'#FFFFFF'}\n",
    "\n",
    "for key in sorted(color_dict):\n",
    "    print(\"%s: %s\" % (key, color_dict[key]))\n",
    "\t"
   ]
  },
  {
   "cell_type": "code",
   "execution_count": 13,
   "id": "f830b9cb",
   "metadata": {},
   "outputs": [
    {
     "name": "stdout",
     "output_type": "stream",
     "text": [
      "{'red': '#FF0000', 'green': '#008000', 'blue': '#0000FF'}\n"
     ]
    }
   ],
   "source": [
    "keys = ['red', 'green', 'blue']\n",
    "values = ['#FF0000','#008000', '#0000FF']\n",
    "color_dictionary = dict(zip(keys, values))\n",
    "print(color_dictionary)\n"
   ]
  },
  {
   "cell_type": "code",
   "execution_count": 14,
   "id": "54d8cb4e",
   "metadata": {},
   "outputs": [
    {
     "name": "stdout",
     "output_type": "stream",
     "text": [
      "{'a': 1, 'b': 2, 'c': 3, 'd': 4}\n",
      "{'b': 2, 'c': 3, 'd': 4}\n"
     ]
    }
   ],
   "source": [
    "myDict = {'a':1,'b':2,'c':3,'d':4}\n",
    "print(myDict)\n",
    "if 'a' in myDict: \n",
    "    del myDict['a']\n",
    "print(myDict)\n"
   ]
  },
  {
   "cell_type": "code",
   "execution_count": 15,
   "id": "07e95665",
   "metadata": {},
   "outputs": [
    {
     "name": "stdout",
     "output_type": "stream",
     "text": [
      "-1333800\n"
     ]
    }
   ],
   "source": [
    "my_dict = {'data1':100,'data2':-54,'data3':247}\n",
    "result=1\n",
    "for key in my_dict:    \n",
    "    result=result * my_dict[key]\n",
    "\n",
    "print(result)\n"
   ]
  },
  {
   "cell_type": "code",
   "execution_count": 16,
   "id": "ae856fd2",
   "metadata": {},
   "outputs": [
    {
     "name": "stdout",
     "output_type": "stream",
     "text": [
      "-1333800\n"
     ]
    }
   ],
   "source": [
    "my_dict = {'data1':100,'data2':-54,'data3':247}\n",
    "result=1\n",
    "for key in my_dict:    \n",
    "    result=result * my_dict[key]\n",
    "\n",
    "print(result)\n"
   ]
  },
  {
   "cell_type": "code",
   "execution_count": 17,
   "id": "1f9c8ca8",
   "metadata": {},
   "outputs": [
    {
     "name": "stdout",
     "output_type": "stream",
     "text": [
      "293\n"
     ]
    }
   ],
   "source": [
    "my_dict = {'data1':100,'data2':-54,'data3':247}\n",
    "print(sum(my_dict.values()))\n"
   ]
  },
  {
   "cell_type": "code",
   "execution_count": 18,
   "id": "e7dc7e64",
   "metadata": {},
   "outputs": [
    {
     "name": "stdout",
     "output_type": "stream",
     "text": [
      "Red corresponds to  1\n",
      "Green corresponds to  2\n",
      "Blue corresponds to  3\n"
     ]
    }
   ],
   "source": [
    "d = {'Red': 1, 'Green': 2, 'Blue': 3} \n",
    "for color_key, value in d.items():\n",
    "     print(color_key, 'corresponds to ', d[color_key]) \n"
   ]
  },
  {
   "cell_type": "code",
   "execution_count": 19,
   "id": "2f5cd4bc",
   "metadata": {},
   "outputs": [
    {
     "name": "stdout",
     "output_type": "stream",
     "text": [
      "{'a': 100, 'b': 200, 'x': 300, 'y': 200}\n"
     ]
    }
   ],
   "source": [
    "d1 = {'a': 100, 'b': 200}\n",
    "d2 = {'x': 300, 'y': 200}\n",
    "d = d1.copy()\n",
    "d.update(d2)\n",
    "print(d)\n"
   ]
  },
  {
   "cell_type": "code",
   "execution_count": 20,
   "id": "7b0920c2",
   "metadata": {},
   "outputs": [
    {
     "name": "stdout",
     "output_type": "stream",
     "text": [
      "{1: 1, 2: 4, 3: 9, 4: 16, 5: 25, 6: 36, 7: 49, 8: 64, 9: 81, 10: 100, 11: 121, 12: 144, 13: 169, 14: 196, 15: 225}\n"
     ]
    }
   ],
   "source": [
    "d=dict()\n",
    "for x in range(1,16):\n",
    "    d[x]=x**2\n",
    "print(d)  \n"
   ]
  },
  {
   "cell_type": "code",
   "execution_count": 21,
   "id": "7f3d1cbb",
   "metadata": {},
   "outputs": [
    {
     "name": "stdout",
     "output_type": "stream",
     "text": [
      "{1: 1, 2: 4, 3: 9, 4: 16, 5: 25, 6: 36, 7: 49, 8: 64, 9: 81, 10: 100, 11: 121, 12: 144, 13: 169, 14: 196, 15: 225}\n"
     ]
    }
   ],
   "source": [
    "d=dict()\n",
    "for x in range(1,16):\n",
    "    d[x]=x**2\n",
    "print(d)  \n"
   ]
  },
  {
   "cell_type": "code",
   "execution_count": 22,
   "id": "f72331dc",
   "metadata": {},
   "outputs": [
    {
     "name": "stdout",
     "output_type": "stream",
     "text": [
      "Input a number 33\n",
      "{1: 1, 2: 4, 3: 9, 4: 16, 5: 25, 6: 36, 7: 49, 8: 64, 9: 81, 10: 100, 11: 121, 12: 144, 13: 169, 14: 196, 15: 225, 16: 256, 17: 289, 18: 324, 19: 361, 20: 400, 21: 441, 22: 484, 23: 529, 24: 576, 25: 625, 26: 676, 27: 729, 28: 784, 29: 841, 30: 900, 31: 961, 32: 1024, 33: 1089}\n"
     ]
    }
   ],
   "source": [
    "n=int(input(\"Input a number \"))\n",
    "d = dict()\n",
    "\n",
    "for x in range(1,n+1):\n",
    "    d[x]=x*x\n",
    "\n",
    "print(d) \n"
   ]
  },
  {
   "cell_type": "code",
   "execution_count": 23,
   "id": "e466d2cc",
   "metadata": {},
   "outputs": [
    {
     "name": "stdout",
     "output_type": "stream",
     "text": [
      "x -> 10\n",
      "y -> 20\n",
      "z -> 30\n"
     ]
    }
   ],
   "source": [
    "d = {'x': 10, 'y': 20, 'z': 30} \n",
    "for dict_key, dict_value in d.items():\n",
    "    print(dict_key,'->',dict_value)\n",
    "\t"
   ]
  },
  {
   "cell_type": "code",
   "execution_count": 24,
   "id": "22575013",
   "metadata": {},
   "outputs": [
    {
     "name": "stdout",
     "output_type": "stream",
     "text": [
      "Key is present in the dictionary\n",
      "Key is not present in the dictionary\n"
     ]
    }
   ],
   "source": [
    "d = {1: 10, 2: 20, 3: 30, 4: 40, 5: 50, 6: 60}\n",
    "def is_key_present(x):\n",
    "  if x in d:\n",
    "      print('Key is present in the dictionary')\n",
    "  else:\n",
    "      print('Key is not present in the dictionary')\n",
    "is_key_present(5)\n",
    "is_key_present(9)\n"
   ]
  },
  {
   "cell_type": "code",
   "execution_count": 25,
   "id": "506622d9",
   "metadata": {},
   "outputs": [
    {
     "name": "stdout",
     "output_type": "stream",
     "text": [
      "{1: 10, 2: 20, 3: 30, 4: 40, 5: 50, 6: 60}\n"
     ]
    }
   ],
   "source": [
    "dic1={1:10, 2:20}\n",
    "dic2={3:30, 4:40}\n",
    "dic3={5:50,6:60}\n",
    "dic4 = {}\n",
    "for d in (dic1, dic2, dic3): dic4.update(d)\n",
    "print(dic4)\n"
   ]
  },
  {
   "cell_type": "code",
   "execution_count": 26,
   "id": "d5472a6a",
   "metadata": {},
   "outputs": [
    {
     "name": "stdout",
     "output_type": "stream",
     "text": [
      "{0: 10, 1: 20}\n",
      "{0: 10, 1: 20, 2: 30}\n"
     ]
    }
   ],
   "source": [
    "d = {0:10, 1:20}\n",
    "print(d)\n",
    "d.update({2:30})\n",
    "print(d)\n"
   ]
  },
  {
   "cell_type": "code",
   "execution_count": 27,
   "id": "217ae074",
   "metadata": {},
   "outputs": [
    {
     "name": "stdout",
     "output_type": "stream",
     "text": [
      "Original dictionary :  {1: 2, 3: 4, 4: 3, 2: 1, 0: 0}\n",
      "Dictionary in ascending order by value :  [(0, 0), (2, 1), (1, 2), (4, 3), (3, 4)]\n",
      "Dictionary in descending order by value :  {3: 4, 4: 3, 1: 2, 2: 1, 0: 0}\n"
     ]
    }
   ],
   "source": [
    "import operator\n",
    "d = {1: 2, 3: 4, 4: 3, 2: 1, 0: 0}\n",
    "print('Original dictionary : ',d)\n",
    "sorted_d = sorted(d.items(), key=operator.itemgetter(1))\n",
    "print('Dictionary in ascending order by value : ',sorted_d)\n",
    "sorted_d = dict( sorted(d.items(), key=operator.itemgetter(1),reverse=True))\n",
    "print('Dictionary in descending order by value : ',sorted_d)\n"
   ]
  },
  {
   "cell_type": "code",
   "execution_count": 28,
   "id": "47213add",
   "metadata": {},
   "outputs": [
    {
     "name": "stdout",
     "output_type": "stream",
     "text": [
      "\n",
      "Original dictionary elements:\n",
      "{'Theodore': 19, 'Roxanne': 22, 'Mathew': 21, 'Betty': 20}\n",
      "\n",
      "Finds the key of the maximum and minimum value of the said dictionary:\n",
      "('Roxanne', 'Theodore')\n"
     ]
    }
   ],
   "source": [
    "def test(d):\n",
    "  return max(d, key = d.get), min(d, key = d.get)\n",
    "\n",
    "students = {\n",
    "  'Theodore': 19,\n",
    "  'Roxanne': 22,\n",
    "  'Mathew': 21,\n",
    "  'Betty': 20\n",
    "}\n",
    "print(\"\\nOriginal dictionary elements:\")\n",
    "print(students)\n",
    "print(\"\\nFinds the key of the maximum and minimum value of the said dictionary:\")\n",
    "print(test(students))\n"
   ]
  },
  {
   "cell_type": "code",
   "execution_count": 29,
   "id": "68cc3a7d",
   "metadata": {},
   "outputs": [
    {
     "name": "stdout",
     "output_type": "stream",
     "text": [
      "\n",
      "Original dictionary elements:\n",
      "{'Theodore': 19, 'Roxanne': 20, 'Mathew': 21, 'Betty': 20}\n",
      "\n",
      "Create a flat list of all the values of the said flat dictionary:\n",
      "[19, 20, 21, 20]\n"
     ]
    }
   ],
   "source": [
    "def test(flat_dict):\n",
    "  return list(flat_dict.values())\n",
    "students = {\n",
    "  'Theodore': 19,\n",
    "  'Roxanne': 20,\n",
    "  'Mathew': 21,\n",
    "  'Betty': 20\n",
    "}\n",
    "print(\"\\nOriginal dictionary elements:\")\n",
    "print(students)\n",
    "print(\"\\nCreate a flat list of all the values of the said flat dictionary:\")\n",
    "print(test(students))\n"
   ]
  },
  {
   "cell_type": "code",
   "execution_count": 30,
   "id": "fc91cb88",
   "metadata": {},
   "outputs": [
    {
     "name": "stdout",
     "output_type": "stream",
     "text": [
      "\n",
      "Original dictionary elements:\n",
      "{'Theodore': 19, 'Roxanne': 20, 'Mathew': 21, 'Betty': 20}\n",
      "\n",
      "Create a flat list of all the keys of the said flat dictionary:\n",
      "['Theodore', 'Roxanne', 'Mathew', 'Betty']\n"
     ]
    }
   ],
   "source": [
    "def test(flat_dict):\n",
    "  return list(flat_dict.keys())\n",
    "students = {\n",
    "  'Theodore': 19,\n",
    "  'Roxanne': 20,\n",
    "  'Mathew': 21,\n",
    "  'Betty': 20\n",
    "}\n",
    "\n",
    "print(\"\\nOriginal dictionary elements:\")\n",
    "print(students)\n",
    "print(\"\\nCreate a flat list of all the keys of the said flat dictionary:\")\n",
    "print(test(students))\n"
   ]
  },
  {
   "cell_type": "code",
   "execution_count": 31,
   "id": "4865dee1",
   "metadata": {},
   "outputs": [
    {
     "name": "stdout",
     "output_type": "stream",
     "text": [
      "Original Dictionary:\n",
      "{'Red': 1, 'Green': 3, 'White': 5, 'Black': 2, 'Pink': 4}\n",
      "\n",
      "Convert the said dictionary to a list of tuples:\n",
      "[('Red', 1), ('Green', 3), ('White', 5), ('Black', 2), ('Pink', 4)]\n"
     ]
    }
   ],
   "source": [
    "def test(d):\n",
    "  return list(d.items())\n",
    " \n",
    "d = {'Red': 1, 'Green': 3, 'White': 5, 'Black': 2, 'Pink': 4}\n",
    "print(\"Original Dictionary:\")\n",
    "print(d)\n",
    "print(\"\\nConvert the said dictionary to a list of tuples:\")\n",
    "print(test(d))\n"
   ]
  },
  {
   "cell_type": "code",
   "execution_count": 32,
   "id": "eb0c35b9",
   "metadata": {},
   "outputs": [
    {
     "name": "stdout",
     "output_type": "stream",
     "text": [
      "Original lists:\n",
      "['a', 'b', 'c', 'd', 'e', 'f']\n",
      "[1, 2, 3, 4, 5]\n",
      "\n",
      "Combine the values of the said two lists into a dictionary:\n",
      "{'a': 1, 'b': 2, 'c': 3, 'd': 4, 'e': 5}\n"
     ]
    }
   ],
   "source": [
    "def test(keys, values):\n",
    "  return dict(zip(keys, values))\n",
    "\n",
    "l1 = ['a', 'b', 'c', 'd', 'e', 'f']\n",
    "l2 = [1, 2, 3, 4, 5]     \n",
    "print(\"Original lists:\")\n",
    "print(l1)\n",
    "print(l2)\n",
    "print(\"\\nCombine the values of the said two lists into a dictionary:\")\n",
    "print(test(l1, l2))\n"
   ]
  },
  {
   "cell_type": "code",
   "execution_count": 33,
   "id": "35bde010",
   "metadata": {},
   "outputs": [
    {
     "name": "stdout",
     "output_type": "stream",
     "text": [
      "\n",
      "Original dictionary elements:\n",
      "{'Theodore': 19, 'Roxanne': 20, 'Mathew': 21, 'Betty': 20}\n",
      "\n",
      "Find all keys in the said dictionary that have the specified value:\n",
      "['Roxanne', 'Betty']\n"
     ]
    }
   ],
   "source": [
    "def test(dict, val):\n",
    "  return list(key for key, value in dict.items() if value == val)\n",
    "\n",
    "students = {\n",
    "  'Theodore': 19,\n",
    "  'Roxanne': 20,\n",
    "  'Mathew': 21,\n",
    "  'Betty': 20\n",
    "}\n",
    "\n",
    "print(\"\\nOriginal dictionary elements:\")\n",
    "print(students)\n",
    "print(\"\\nFind all keys in the said dictionary that have the specified value:\")\n",
    "print(test(students, 20))\n"
   ]
  },
  {
   "cell_type": "code",
   "execution_count": 34,
   "id": "2f64764b",
   "metadata": {},
   "outputs": [
    {
     "name": "stdout",
     "output_type": "stream",
     "text": [
      "\n",
      "Original dictionary elements:\n",
      "{'Theodore': {'user': 'Theodore', 'age': 45}, 'Roxanne': {'user': 'Roxanne', 'age': 15}, 'Mathew': {'user': 'Mathew', 'age': 21}}\n",
      "\n",
      "Dictionary with the same keys:\n",
      "{'Theodore': 45, 'Roxanne': 15, 'Mathew': 21}\n"
     ]
    }
   ],
   "source": [
    "def test(obj, fn):\n",
    "  return dict((k, fn(v)) for k, v in obj.items())\n",
    " \n",
    "users = {\n",
    "  'Theodore': { 'user': 'Theodore', 'age': 45 },\n",
    "  'Roxanne': { 'user': 'Roxanne', 'age': 15 },\n",
    "  'Mathew': { 'user': 'Mathew', 'age': 21 },\n",
    "}\n",
    "print(\"\\nOriginal dictionary elements:\")\n",
    "print(users)\n",
    "print(\"\\nDictionary with the same keys:\")\n",
    "print(test(users, lambda u : u['age']))\n"
   ]
  },
  {
   "cell_type": "code",
   "execution_count": 35,
   "id": "923fbd1a",
   "metadata": {},
   "outputs": [
    {
     "name": "stdout",
     "output_type": "stream",
     "text": [
      "{10: 'Theodore', 11: 'Mathew', 9: 'Roxanne'}\n"
     ]
    }
   ],
   "source": [
    "def test(students):\n",
    "  return { value: key for key, value in students.items() }\n",
    " \n",
    "students = {\n",
    "  'Theodore': 10,\n",
    "  'Mathew': 11,\n",
    "  'Roxanne': 9,\n",
    "}\n",
    "print(test(students))\n"
   ]
  },
  {
   "cell_type": "code",
   "execution_count": 36,
   "id": "c6446637",
   "metadata": {},
   "outputs": [
    {
     "name": "stdout",
     "output_type": "stream",
     "text": [
      "Russell\n",
      "2\n"
     ]
    }
   ],
   "source": [
    "from functools import reduce \n",
    "from operator import getitem\n",
    "def test(d, selectors):\n",
    "  return reduce(getitem, selectors, d) \n",
    "users = {\n",
    "  'Carla ': {\n",
    "    'name': {\n",
    "      'first': 'Carla ',\n",
    "      'last': 'Russell' \n",
    "    },\n",
    "    'postIds': [1, 2, 3, 4, 5]\n",
    "  }\n",
    "}\n",
    "print(test(users, ['Carla ', 'name', 'last']))\n",
    "print(test(users, ['Carla ', 'postIds', 1]))\n"
   ]
  },
  {
   "cell_type": "code",
   "execution_count": 37,
   "id": "76a1f2f0",
   "metadata": {},
   "outputs": [
    {
     "name": "stdout",
     "output_type": "stream",
     "text": [
      "{1: 1, 2: 4, 3: 9, 4: 16}\n"
     ]
    }
   ],
   "source": [
    "def test(itr, fn):\n",
    "  return dict(zip(itr, map(fn, itr)))\n",
    "print(test([1, 2, 3, 4], lambda x: x * x))\n"
   ]
  },
  {
   "cell_type": "code",
   "execution_count": 38,
   "id": "17a42b6a",
   "metadata": {},
   "outputs": [
    {
     "name": "stdout",
     "output_type": "stream",
     "text": [
      "Original list & function:\n",
      "[7, 23, 3.2, 3.3, 8.4]  Function name: floor:\n",
      "Group the elements of the said list based on the given function:\n",
      "{7: [7], 23: [23], 3: [3.2, 3.3], 8: [8.4]}\n",
      "\n",
      "\n",
      "Original list & function:\n",
      "['Red', 'Green', 'Black', 'White', 'Pink']  Function name: len:\n",
      "Group the elements of the said list based on the given function:\n",
      "{3: ['Red'], 5: ['Green', 'Black', 'White'], 4: ['Pink']}\n"
     ]
    }
   ],
   "source": [
    "from collections import defaultdict\n",
    "from math import floor\n",
    "def test(lst, fn):\n",
    "  d = defaultdict(list)\n",
    "  for el in lst:\n",
    "    d[fn(el)].append(el)\n",
    "  return dict(d)\n",
    "nums = [7,23, 3.2, 3.3, 8.4]\n",
    "print(\"Original list & function:\")\n",
    "print(nums,\" Function name: floor:\")\n",
    "print(\"Group the elements of the said list based on the given function:\")\n",
    "print(test(nums, floor))\n",
    "print(\"\\n\")\n",
    "print(\"Original list & function:\")\n",
    "colors = ['Red', 'Green', 'Black', 'White', 'Pink']\n",
    "print(colors,\" Function name: len:\")\n",
    "print(\"Group the elements of the said list based on the given function:\")\n",
    "print(test(colors, len))\n"
   ]
  },
  {
   "cell_type": "code",
   "execution_count": 39,
   "id": "a5e74e64",
   "metadata": {},
   "outputs": [
    {
     "name": "stdout",
     "output_type": "stream",
     "text": [
      "Original dictionaries:\n",
      "{'w': 50, 'x': 100, 'y': 'Green', 'z': 400}\n",
      "{'x': 300, 'y': 'Red', 'z': 600}\n",
      "\n",
      "Combined dictionaries, creating a list of values for each key:\n",
      "{'w': [50], 'x': [100, 300], 'y': ['Green', 'Red'], 'z': [400, 600]}\n"
     ]
    }
   ],
   "source": [
    "from collections import defaultdict\n",
    "def test(*dicts):\n",
    "  result = defaultdict(list)\n",
    "  for el in dicts:\n",
    "    for key in el:\n",
    "      result[key].append(el[key])\n",
    "  return dict(result)\n",
    " \n",
    "d1 = {'w': 50, 'x': 100, 'y': 'Green', 'z': 400}\n",
    "d2 = {'x': 300, 'y': 'Red', 'z': 600}\n",
    "\n",
    "print(\"Original dictionaries:\")\n",
    "print(d1)\n",
    "print(d2)\n",
    "print(\"\\nCombined dictionaries, creating a list of values for each key:\")\n",
    "print(test(d1, d2))\n"
   ]
  },
  {
   "cell_type": "code",
   "execution_count": 40,
   "id": "7a2f24af",
   "metadata": {},
   "outputs": [
    {
     "name": "stdout",
     "output_type": "stream",
     "text": [
      "{8: ['Ora Mckinney', 'Mathew Gilbert'], 7: ['Theodore Hollandl', 'Mae Fleming', 'Ivan Little']}\n"
     ]
    }
   ],
   "source": [
    "from collections import defaultdict\n",
    "def test(students):\n",
    "  obj = defaultdict(list)\n",
    "  for key, value in students.items():\n",
    "    obj[value].append(key)\n",
    "  return dict(obj)\n",
    " \n",
    "students = {\n",
    "  'Ora Mckinney': 8,\n",
    "  'Theodore Hollandl': 7,\n",
    "  'Mae Fleming': 7,\n",
    "  'Mathew Gilbert': 8,\n",
    "  'Ivan Little': 7,  \n",
    "}\n",
    "print(test(students))\n"
   ]
  },
  {
   "cell_type": "code",
   "execution_count": 41,
   "id": "4dde9f78",
   "metadata": {},
   "outputs": [
    {
     "name": "stdout",
     "output_type": "stream",
     "text": [
      "\n",
      "Original dictionary:\n",
      "[{'student_id': 1, 'name': 'Jean Castro', 'class': 'V'}, {'student_id': 2, 'name': 'Lula Powell', 'class': 'V'}, {'student_id': 3, 'name': 'Brian Howell', 'class': 'VI'}, {'student_id': 4, 'name': 'Lynne Foster', 'class': 'VI'}, {'student_id': 5, 'name': 'Zachary Simon', 'class': 'VII'}]\n",
      "\n",
      "Check if a specific Key and a value exist in the said dictionary:\n",
      "True\n",
      "True\n",
      "True\n",
      "False\n",
      "False\n",
      "False\n"
     ]
    }
   ],
   "source": [
    "def test(dictt, key, value):\n",
    "   if any(sub[key] == value for sub in dictt):\n",
    "       return True\n",
    "   return False\n",
    "\n",
    "students = [\n",
    "        {'student_id': 1, 'name': 'Jean Castro', 'class': 'V'}, \n",
    "        {'student_id': 2, 'name': 'Lula Powell', 'class': 'V'},\n",
    "        {'student_id': 3, 'name': 'Brian Howell', 'class': 'VI'}, \n",
    "        {'student_id': 4, 'name': 'Lynne Foster', 'class': 'VI'}, \n",
    "        {'student_id': 5, 'name': 'Zachary Simon', 'class': 'VII'}\n",
    "        ]\n",
    "\n",
    "\n",
    "print(\"\\nOriginal dictionary:\")\n",
    "print(students)\n",
    "print(\"\\nCheck if a specific Key and a value exist in the said dictionary:\")\n",
    "print(test(students,'student_id', 1))\n",
    "print(test(students,'name', 'Brian Howell'))\n",
    "print(test(students,'class', 'VII'))\n",
    "print(test(students,'class', 'I'))\n",
    "print(test(students,'name', 'Brian Howelll'))\n",
    "print(test(students,'student_id', 11))\n"
   ]
  },
  {
   "cell_type": "code",
   "execution_count": 42,
   "id": "d5d57314",
   "metadata": {},
   "outputs": [
    {
     "name": "stdout",
     "output_type": "stream",
     "text": [
      "\n",
      "Original dictionary:\n",
      "{'#FF0000': 'Red', '#800000': 'Maroon', '#FFFF00': 'Yellow', '#808000': 'Olive'}\n",
      "\n",
      "Total length of all values of the said dictionary with string values:\n",
      "20\n"
     ]
    }
   ],
   "source": [
    "def test(dictt):\n",
    "    result = sum((len(values) for values in dictt.values()))\n",
    "    return result\n",
    "color = {'#FF0000':'Red', '#800000':'Maroon', '#FFFF00':'Yellow', '#808000':'Olive'}\n",
    "print(\"\\nOriginal dictionary:\")\n",
    "print(color)\n",
    "print(\"\\nTotal length of all values of the said dictionary with string values:\")\n",
    "print(test(color))\n"
   ]
  },
  {
   "cell_type": "code",
   "execution_count": 43,
   "id": "074b0d7d",
   "metadata": {},
   "outputs": [
    {
     "name": "stdout",
     "output_type": "stream",
     "text": [
      "\n",
      "Original dictionary:\n",
      "{1: ['Jean Castro'], 2: ['Lula Powell'], 3: ['Brian Howell'], 4: ['Lynne Foster'], 5: ['Zachary Simon']}\n",
      "\n",
      "A key-value list pairings of the said dictionary:\n",
      "[{1: 'Jean Castro', 2: 'Lula Powell', 3: 'Brian Howell', 4: 'Lynne Foster', 5: 'Zachary Simon'}]\n"
     ]
    }
   ],
   "source": [
    "from itertools import product\n",
    "def test(dictt):\n",
    "    result = [dict(zip(dictt, sub)) for sub in product(*dictt.values())]\n",
    "    return result\n",
    "\n",
    "students = {1: ['Jean Castro'], 2: ['Lula Powell'], 3: ['Brian Howell'], 4: ['Lynne Foster'], 5: ['Zachary Simon']}\n",
    "\n",
    "print(\"\\nOriginal dictionary:\")\n",
    "print(students)\n",
    "print(\"\\nA key-value list pairings of the said dictionary:\")\n",
    "print(test(students))\n"
   ]
  },
  {
   "cell_type": "code",
   "execution_count": 44,
   "id": "33aab7a5",
   "metadata": {},
   "outputs": [
    {
     "name": "stdout",
     "output_type": "stream",
     "text": [
      "\n",
      "Original list of lists:\n",
      "[[1, 'Jean Castro', 'V'], [2, 'Lula Powell', 'V'], [3, 'Brian Howell', 'VI'], [4, 'Lynne Foster', 'VI'], [5, 'Zachary Simon', 'VII']]\n",
      "\n",
      "Convert the said list of lists to a dictionary:\n",
      "{1: ['Jean Castro', 'V'], 2: ['Lula Powell', 'V'], 3: ['Brian Howell', 'VI'], 4: ['Lynne Foster', 'VI'], 5: ['Zachary Simon', 'VII']}\n"
     ]
    }
   ],
   "source": [
    "def test(lst):\n",
    "    result = {item[0]: item[1:] for item in lst}\n",
    "    return result\n",
    "\n",
    "students = [[1, 'Jean Castro', 'V'], [2, 'Lula Powell', 'V'], [3, 'Brian Howell', 'VI'], [4, 'Lynne Foster', 'VI'], [5, 'Zachary Simon', 'VII']]\n",
    "\n",
    "print(\"\\nOriginal list of lists:\")\n",
    "print(students)\n",
    "print(\"\\nConvert the said list of lists to a dictionary:\")\n",
    "print(test(students))\n"
   ]
  },
  {
   "cell_type": "code",
   "execution_count": 45,
   "id": "701a35e7",
   "metadata": {},
   "outputs": [
    {
     "name": "stdout",
     "output_type": "stream",
     "text": [
      "\n",
      "Original Dictionary:\n",
      "[{'student_id': 1, 'name': 'Jean Castro', 'class': 'V'}, {'student_id': 2, 'name': 'Lula Powell', 'class': 'V'}, {'student_id': 3, 'name': 'Brian Howell', 'class': 'VI'}, {'student_id': 4, 'name': 'Lynne Foster', 'class': 'VI'}, {'student_id': 5, 'name': 'Zachary Simon', 'class': 'VII'}]\n",
      "\n",
      "Extract values from the said dictionarie and create a list of lists using those values:\n",
      "\n",
      " [[1, 'Jean Castro', 'V'], [2, 'Lula Powell', 'V'], [3, 'Brian Howell', 'VI'], [4, 'Lynne Foster', 'VI'], [5, 'Zachary Simon', 'VII']]\n",
      "\n",
      " [[1, 'Jean Castro'], [2, 'Lula Powell'], [3, 'Brian Howell'], [4, 'Lynne Foster'], [5, 'Zachary Simon']]\n",
      "\n",
      " [['Jean Castro', 'V'], ['Lula Powell', 'V'], ['Brian Howell', 'VI'], ['Lynne Foster', 'VI'], ['Zachary Simon', 'VII']]\n"
     ]
    }
   ],
   "source": [
    "def test(dictt,keys):\n",
    "    return [list(d[k] for k in keys) for d in dictt] \n",
    "\n",
    "students = [\n",
    "        {'student_id': 1, 'name': 'Jean Castro', 'class': 'V'}, \n",
    "        {'student_id': 2, 'name': 'Lula Powell', 'class': 'V'},\n",
    "        {'student_id': 3, 'name': 'Brian Howell', 'class': 'VI'}, \n",
    "        {'student_id': 4, 'name': 'Lynne Foster', 'class': 'VI'}, \n",
    "        {'student_id': 5, 'name': 'Zachary Simon', 'class': 'VII'}\n",
    "        ]\n",
    "\n",
    "print(\"\\nOriginal Dictionary:\")\n",
    "print(students)\n",
    "print(\"\\nExtract values from the said dictionarie and create a list of lists using those values:\")\n",
    "print(\"\\n\",test(students,('student_id', 'name', 'class')))\n",
    "print(\"\\n\",test(students,('student_id', 'name')))\n",
    "print(\"\\n\",test(students,('name', 'class')))\n"
   ]
  },
  {
   "cell_type": "code",
   "execution_count": 46,
   "id": "8bc766d8",
   "metadata": {},
   "outputs": [
    {
     "name": "stdout",
     "output_type": "stream",
     "text": [
      "\n",
      "Original Dictionary:\n",
      "{'V': 10, 'VI': 10, 'VII': 40, 'VIII': 20, 'IX': 70, 'X': 80, 'XI': 40, 'XII': 20}\n",
      "\n",
      "Count the frequency of the said dictionary:\n",
      "Counter({10: 2, 40: 2, 20: 2, 70: 1, 80: 1})\n"
     ]
    }
   ],
   "source": [
    "from collections import Counter\n",
    "def test(dictt):    \n",
    "    result = Counter(dictt.values())\n",
    "    return result    \n",
    "\n",
    "dictt = {\n",
    " 'V': 10,\n",
    " 'VI': 10,\n",
    " 'VII': 40,\n",
    " 'VIII': 20,\n",
    " 'IX': 70,\n",
    " 'X': 80,\n",
    " 'XI': 40,\n",
    " 'XII': 20, \n",
    " }\n",
    "\n",
    "print(\"\\nOriginal Dictionary:\")\n",
    "print(dictt)\n",
    "print(\"\\nCount the frequency of the said dictionary:\")\n",
    "print(test(dictt))\n"
   ]
  },
  {
   "cell_type": "code",
   "execution_count": 47,
   "id": "57960c03",
   "metadata": {},
   "outputs": [
    {
     "name": "stdout",
     "output_type": "stream",
     "text": [
      "\n",
      "Original Dictionary:\n",
      "{'V': [10, 12], 'VI': [10], 'VII': [10, 20, 30, 40], 'VIII': [20], 'IX': [10, 30, 50, 70], 'X': [80]}\n",
      "\n",
      "Shortest list of values with the keys of the said dictionary:\n",
      "['VI', 'VIII', 'X']\n"
     ]
    }
   ],
   "source": [
    "def test(dictt):\n",
    "    min_value=1\n",
    "    result = [k for k, v in dictt.items() if len(v) == (min_value)] \n",
    "    return result    \n",
    "\n",
    "dictt = {\n",
    " 'V': [10, 12],\n",
    " 'VI': [10],\n",
    " 'VII': [10, 20, 30, 40],\n",
    " 'VIII': [20],\n",
    " 'IX': [10,30,50,70],\n",
    " 'X': [80]\n",
    " }\n",
    "\n",
    "print(\"\\nOriginal Dictionary:\")\n",
    "print(dictt)\n",
    "print(\"\\nShortest list of values with the keys of the said dictionary:\")\n",
    "print(test(dictt))\n"
   ]
  },
  {
   "cell_type": "code",
   "execution_count": 48,
   "id": "cb0bca9c",
   "metadata": {},
   "outputs": [
    {
     "name": "stdout",
     "output_type": "stream",
     "text": [
      "\n",
      "Original Dictionary:\n",
      "{'a': 5, 'b': 14, 'c': 32, 'd': 35, 'e': 24, 'f': 100, 'g': 57, 'h': 8, 'i': 100}\n",
      "\n",
      " 1 maximum value(s) in the said dictionary:\n",
      "['f']\n",
      "\n",
      " 2 maximum value(s) in the said dictionary:\n",
      "['f', 'i']\n",
      "\n",
      " 5 maximum value(s) in the said dictionary:\n",
      "['f', 'i', 'g', 'd', 'c']\n"
     ]
    }
   ],
   "source": [
    "def test(dictt, N):\n",
    "    result = sorted(dictt, key=dictt.get, reverse=True)[:N]\n",
    "    return result \n",
    "dictt = {'a':5, 'b':14, 'c': 32, 'd':35, 'e':24, 'f': 100, 'g':57, 'h':8, 'i': 100}\n",
    "print(\"\\nOriginal Dictionary:\")\n",
    "print(dictt)\n",
    "N = 1\n",
    "print(\"\\n\",N,\"maximum value(s) in the said dictionary:\")\n",
    "print(test(dictt, N))\n",
    "N = 2\n",
    "print(\"\\n\",N,\"maximum value(s) in the said dictionary:\")\n",
    "print(test(dictt, N))\n",
    "N = 5\n",
    "print(\"\\n\",N,\"maximum value(s) in the said dictionary:\")\n",
    "print(test(dictt, N))\n"
   ]
  },
  {
   "cell_type": "code",
   "execution_count": 49,
   "id": "e319569e",
   "metadata": {},
   "outputs": [
    {
     "name": "stdout",
     "output_type": "stream",
     "text": [
      "\n",
      "Original Dictionary:\n",
      "{'V': [1, 4, 6, 10], 'VI': [1, 4, 12], 'VII': [1, 3, 8]}\n",
      "\n",
      "Combinations of key-value pairs of the said dictionary:\n",
      "[{'V': [1, 4, 6, 10], 'VI': [1, 4, 12]}, {'V': [1, 4, 6, 10], 'VII': [1, 3, 8]}, {'VI': [1, 4, 12], 'VII': [1, 3, 8]}]\n",
      "\n",
      "Original Dictionary:\n",
      "{'V': [1, 3, 5], 'VI': [1, 5]}\n",
      "\n",
      "Combinations of key-value pairs of the said dictionary:\n",
      "[{'V': [1, 3, 5], 'VI': [1, 5]}]\n"
     ]
    }
   ],
   "source": [
    "import itertools\n",
    "def test(dictt):\n",
    "    result = list(map(dict, itertools.combinations(dictt.items(), 2)))\n",
    "    return result    \n",
    "\n",
    "students = {'V' : [1, 4, 6, 10], 'VI' : [1, 4, 12], 'VII' : [1, 3, 8]} \n",
    "print(\"\\nOriginal Dictionary:\")\n",
    "print(students)\n",
    "print(\"\\nCombinations of key-value pairs of the said dictionary:\")\n",
    "print(test(students))\n",
    "\n",
    "students = {'V' : [1, 3, 5], 'VI' : [1, 5]} \n",
    "print(\"\\nOriginal Dictionary:\")\n",
    "print(students)\n",
    "print(\"\\nCombinations of key-value pairs of the said dictionary:\")\n",
    "print(test(students))\n"
   ]
  },
  {
   "cell_type": "code",
   "execution_count": 50,
   "id": "8cf431b7",
   "metadata": {},
   "outputs": [
    {
     "name": "stdout",
     "output_type": "stream",
     "text": [
      "\n",
      "Original Dictionary:\n",
      "{'V': [1, 4, 6, 10], 'VI': [1, 4, 12], 'VII': [1, 3, 8]}\n",
      "Filter even numbers from said dictionary values:\n",
      "{'V': [4, 6, 10], 'VI': [4, 12], 'VII': [8]}\n",
      "\n",
      "Original Dictionary:\n",
      "{'V': [1, 3, 5], 'VI': [1, 5], 'VII': [2, 7, 9]}\n",
      "Filter even numbers from said dictionary values:\n",
      "{'V': [], 'VI': [], 'VII': [2]}\n"
     ]
    }
   ],
   "source": [
    "def test(dictt):\n",
    "    result = {key: [idx for idx in val if not idx % 2]  \n",
    "          for key, val in dictt.items()}   \n",
    "    return result    \n",
    "\n",
    "students = {'V' : [1, 4, 6, 10], 'VI' : [1, 4, 12], 'VII' : [1, 3, 8]} \n",
    "print(\"\\nOriginal Dictionary:\")\n",
    "print(students)\n",
    "print(\"Filter even numbers from said dictionary values:\")\n",
    "print(test(students))\n",
    "\n",
    "students = {'V' : [1, 3, 5], 'VI' : [1, 5], 'VII' : [2, 7, 9]} \n",
    "print(\"\\nOriginal Dictionary:\")\n",
    "print(students)\n",
    "print(\"Filter even numbers from said dictionary values:\")\n",
    "print(test(students))\n"
   ]
  },
  {
   "cell_type": "code",
   "execution_count": 51,
   "id": "64356bdf",
   "metadata": {},
   "outputs": [
    {
     "name": "stdout",
     "output_type": "stream",
     "text": [
      "\n",
      "Original Dictionary:\n",
      "{1: 'red', 2: 'green', 3: 'black', 4: 'white', 5: 'black'}\n",
      "Convert the said dictionary into a list of lists:\n",
      "[[1, 'red'], [2, 'green'], [3, 'black'], [4, 'white'], [5, 'black']]\n",
      "\n",
      "Original Dictionary:\n",
      "{'1': 'Austin Little', '2': 'Natasha Howard', '3': 'Alfred Mullins', '4': 'Jamie Rowe'}\n",
      "Convert the said dictionary into a list of lists:\n",
      "[['1', 'Austin Little'], ['2', 'Natasha Howard'], ['3', 'Alfred Mullins'], ['4', 'Jamie Rowe']]\n"
     ]
    }
   ],
   "source": [
    "def test(dictt):\n",
    "    result = list(map(list, dictt.items()))\n",
    "    return result    \n",
    "\n",
    "color_dict = {1 : 'red', 2 : 'green', 3 : 'black', 4 : 'white', 5 : 'black'}\n",
    "print(\"\\nOriginal Dictionary:\")\n",
    "print(color_dict)\n",
    "print(\"Convert the said dictionary into a list of lists:\")\n",
    "print(test(color_dict))\n",
    "\n",
    "color_dict = {'1' : 'Austin Little', '2' : 'Natasha Howard', '3' : 'Alfred Mullins', '4' : 'Jamie Rowe'}\n",
    "print(\"\\nOriginal Dictionary:\")\n",
    "print(color_dict)\n",
    "print(\"Convert the said dictionary into a list of lists:\")\n",
    "print(test(color_dict))\n"
   ]
  },
  {
   "cell_type": "code",
   "execution_count": 52,
   "id": "2b62ba1e",
   "metadata": {},
   "outputs": [
    {
     "name": "stdout",
     "output_type": "stream",
     "text": [
      "physics\n",
      "math\n",
      "chemistry\n"
     ]
    }
   ],
   "source": [
    "num = {'physics': 80, 'math': 90, 'chemistry': 86}\n",
    "print(list(num)[0])\n",
    "print(list(num)[1])\n",
    "print(list(num)[2])\n"
   ]
  },
  {
   "cell_type": "code",
   "execution_count": 53,
   "id": "b1d7ab14",
   "metadata": {},
   "outputs": [
    {
     "name": "stdout",
     "output_type": "stream",
     "text": [
      "4\n"
     ]
    }
   ],
   "source": [
    "def dict_depth(d):\n",
    "    if isinstance(d, dict):\n",
    "        return 1 + (max(map(dict_depth, d.values())) if d else 0)\n",
    "    return 0\n",
    "dic = {'a':1, 'b': {'c': {'d': {}}}}\n",
    "print(dict_depth(dic))\n"
   ]
  },
  {
   "cell_type": "code",
   "execution_count": 54,
   "id": "7ac385fe",
   "metadata": {},
   "outputs": [
    {
     "name": "stdout",
     "output_type": "stream",
     "text": [
      "\n",
      "Original Dictionary:\n",
      "{1: 'red', 2: 'green', 3: 'black', 4: 'white', 5: 'black'}\n",
      "Length of dictionary values:\n",
      "{'red': 3, 'green': 5, 'black': 5, 'white': 5}\n",
      "\n",
      "Original Dictionary:\n",
      "{'1': 'Austin Little', '2': 'Natasha Howard', '3': 'Alfred Mullins', '4': 'Jamie Rowe'}\n",
      "Length of dictionary values:\n",
      "{'Austin Little': 13, 'Natasha Howard': 14, 'Alfred Mullins': 14, 'Jamie Rowe': 10}\n"
     ]
    }
   ],
   "source": [
    "def test(dictt):\n",
    "    result = {}\n",
    "    for val in dictt.values(): \n",
    "        result[val] = len(val) \n",
    "    return result    \n",
    "\n",
    "color_dict = {1 : 'red', 2 : 'green', 3 : 'black', 4 : 'white', 5 : 'black'}\n",
    "print(\"\\nOriginal Dictionary:\")\n",
    "print(color_dict)\n",
    "print(\"Length of dictionary values:\")\n",
    "print(test(color_dict))\n",
    "\n",
    "color_dict = {'1' : 'Austin Little', '2' : 'Natasha Howard', '3' : 'Alfred Mullins', '4' : 'Jamie Rowe'}\n",
    "print(\"\\nOriginal Dictionary:\")\n",
    "print(color_dict)\n",
    "print(\"Length of dictionary values:\")\n",
    "print(test(color_dict))\n"
   ]
  },
  {
   "cell_type": "code",
   "execution_count": 55,
   "id": "d8c8cac6",
   "metadata": {},
   "outputs": [
    {
     "name": "stdout",
     "output_type": "stream",
     "text": [
      "\n",
      "Original Dictionary:\n",
      "[{'Math': 90, 'Science': 92}, {'Math': 89, 'Science': 94}, {'Math': 92, 'Science': 88}]\n",
      "\n",
      "Extract a list of values from said list of dictionaries where subject = Science\n",
      "[92, 94, 88]\n",
      "\n",
      "Original Dictionary:\n",
      "[{'Math': 90, 'Science': 92}, {'Math': 89, 'Science': 94}, {'Math': 92, 'Science': 88}]\n",
      "\n",
      "Extract a list of values from said list of dictionaries where subject = Math\n",
      "[90, 89, 92]\n"
     ]
    }
   ],
   "source": [
    "def test(lst, marks):\n",
    "    result = [d[marks] for d in lst if marks in d]\n",
    " \n",
    "    return result\n",
    "\n",
    "marks = [{'Math': 90, 'Science': 92}, \n",
    "         {'Math': 89, 'Science': 94}, \n",
    "         {'Math': 92, 'Science': 88}]\n",
    "\n",
    "print(\"\\nOriginal Dictionary:\")\n",
    "print(marks)\n",
    "subj = \"Science\"\n",
    "print(\"\\nExtract a list of values from said list of dictionaries where subject =\",subj)\n",
    "print(test(marks, subj))\n",
    "\n",
    "print(\"\\nOriginal Dictionary:\")\n",
    "print(marks)\n",
    "subj = \"Math\"\n",
    "print(\"\\nExtract a list of values from said list of dictionaries where subject =\",subj)\n",
    "print(test(marks, subj))\n"
   ]
  },
  {
   "cell_type": "code",
   "execution_count": 56,
   "id": "f9810610",
   "metadata": {},
   "outputs": [
    {
     "name": "stdout",
     "output_type": "stream",
     "text": [
      "\n",
      "Original Dictionary:\n",
      "{'Math': [88, 89, 90], 'Physics': [92, 94, 89], 'Chemistry': [90, 87, 93]}\n",
      "\n",
      "Update the list values of the said dictionary:\n",
      "{'Math': [89, 90, 91], 'Physics': [90, 92, 87], 'Chemistry': [90, 87, 93]}\n"
     ]
    }
   ],
   "source": [
    "def test(dictionary):\n",
    "    dictionary['Math'] = [x+1 for x in dictionary['Math']]\n",
    "    dictionary['Physics'] = [x-2 for x in dictionary['Physics']]\n",
    "    return dictionary\n",
    "\n",
    "dictionary = { \n",
    "               'Math' : [88, 89, 90], \n",
    "               'Physics' : [92, 94, 89],\n",
    "               'Chemistry' : [90, 87, 93]\n",
    "             }\n",
    "print(\"\\nOriginal Dictionary:\")\n",
    "print(dictionary)\n",
    "print(\"\\nUpdate the list values of the said dictionary:\")\n",
    "print(test(dictionary))\n"
   ]
  },
  {
   "cell_type": "code",
   "execution_count": 57,
   "id": "2521e1c4",
   "metadata": {},
   "outputs": [
    {
     "name": "stdout",
     "output_type": "stream",
     "text": [
      "\n",
      "Original Dictionary:\n",
      "{'C1': [10, 20, 30], 'C2': [20, 30, 40], 'C3': [12, 34]}\n",
      "\n",
      "Clear the list values in the said dictionary:\n",
      "{'C1': [], 'C2': [], 'C3': []}\n"
     ]
    }
   ],
   "source": [
    "def test(dictionary):\n",
    "    for key in dictionary:\n",
    "        dictionary[key].clear()\n",
    "    return dictionary\n",
    "\n",
    "dictionary = { \n",
    "               'C1' : [10,20,30], \n",
    "               'C2' : [20,30,40],\n",
    "               'C3' : [12,34]\n",
    "             }\n",
    "print(\"\\nOriginal Dictionary:\")\n",
    "print(dictionary)\n",
    "print(\"\\nClear the list values in the said dictionary:\")\n",
    "print(test(dictionary)) \n"
   ]
  },
  {
   "cell_type": "code",
   "execution_count": 58,
   "id": "03606d33",
   "metadata": {},
   "outputs": [
    {
     "name": "stdout",
     "output_type": "stream",
     "text": [
      "Original list:\n",
      "[{'x': '10', 'y': '20', 'z': '30'}, {'p': '40', 'q': '50', 'r': '60'}]\n",
      "\n",
      "String values of a given dictionary, into integer types:\n",
      "[{'x': 10, 'y': 20, 'z': 30}, {'p': 40, 'q': 50, 'r': 60}]\n",
      "\n",
      "Original list:\n",
      "[{'x': '10.12', 'y': '20.23', 'z': '30'}, {'p': '40.00', 'q': '50.19', 'r': '60.99'}]\n",
      "\n",
      "String values of a given dictionary, into float types:\n",
      "[{'x': 10.12, 'y': 20.23, 'z': 30.0}, {'p': 40.0, 'q': 50.19, 'r': 60.99}]\n"
     ]
    }
   ],
   "source": [
    "def convert_to_int(lst):\n",
    "    result = [dict([a, int(x)] for a, x in b.items()) for b in lst]\n",
    "    return result\n",
    "\n",
    "def convert_to_float(lst):\n",
    "    result = [dict([a, float(x)] for a, x in b.items()) for b in lst]\n",
    "    return result\n",
    "\n",
    "nums =[{ 'x':'10' , 'y':'20' , 'z':'30' }, { 'p':'40', 'q':'50', 'r':'60'}]\n",
    "print(\"Original list:\")\n",
    "print(nums)\n",
    "print(\"\\nString values of a given dictionary, into integer types:\")\n",
    "print(convert_to_int(nums))\n",
    "nums =[{ 'x':'10.12', 'y':'20.23', 'z':'30'}, { 'p':'40.00', 'q':'50.19', 'r':'60.99'}]\n",
    "print(\"\\nOriginal list:\")\n",
    "print(nums)\n",
    "print(\"\\nString values of a given dictionary, into float types:\")\n",
    "print(convert_to_float(nums))\n"
   ]
  },
  {
   "cell_type": "code",
   "execution_count": 59,
   "id": "cef54015",
   "metadata": {},
   "outputs": [
    {
     "name": "stdout",
     "output_type": "stream",
     "text": [
      "Original list of dictionary:\n",
      "[{'id': '#FF0000', 'color': 'Red'}, {'id': '#800000', 'color': 'Maroon'}, {'id': '#FFFF00', 'color': 'Yellow'}, {'id': '#808000', 'color': 'Olive'}]\n",
      "\n",
      "Remove id #FF0000 from the said list of dictionary:\n",
      "[{'id': '#800000', 'color': 'Maroon'}, {'id': '#FFFF00', 'color': 'Yellow'}, {'id': '#808000', 'color': 'Olive'}]\n"
     ]
    }
   ],
   "source": [
    "def remove_dictionary(colors, r_id):\n",
    "    colors[:] = [d for d in colors if d.get('id') != r_id]\n",
    "    return colors\n",
    "\n",
    "colors = [{\"id\" : \"#FF0000\", \"color\" : \"Red\"}, \n",
    "          {\"id\" : \"#800000\", \"color\" : \"Maroon\"}, \n",
    "          {\"id\" : \"#FFFF00\", \"color\" : \"Yellow\"}, \n",
    "          {\"id\" : \"#808000\", \"color\" : \"Olive\"}] \n",
    "print('Original list of dictionary:')\n",
    "print(colors)\n",
    "r_id = \"#FF0000\"\n",
    "print(\"\\nRemove id\",r_id,\"from the said list of dictionary:\")\n",
    "print(remove_dictionary(colors, r_id))\n"
   ]
  },
  {
   "cell_type": "code",
   "execution_count": 60,
   "id": "555ba092",
   "metadata": {},
   "outputs": [
    {
     "name": "stdout",
     "output_type": "stream",
     "text": [
      "Original dictionary of lists:\n",
      "{'Science': [88, 89, 62, 95], 'Language': [77, 78, 84, 80]}\n",
      "\n",
      "Split said dictionary of lists into list of dictionaries:\n",
      "[{'Science': 88, 'Language': 77}, {'Science': 89, 'Language': 78}, {'Science': 62, 'Language': 84}, {'Science': 95, 'Language': 80}]\n"
     ]
    }
   ],
   "source": [
    "def list_of_dicts(marks):\n",
    "    keys = marks.keys()\n",
    "    vals = zip(*[marks[k] for k in keys])\n",
    "    result = [dict(zip(keys, v)) for v in vals]\n",
    "    return result\n",
    "\n",
    "marks = {'Science': [88, 89, 62, 95], 'Language': [77, 78, 84, 80]}\n",
    "print(\"Original dictionary of lists:\")\n",
    "print(marks)\n",
    "print(\"\\nSplit said dictionary of lists into list of dictionaries:\")\n",
    "print(list_of_dicts(marks))\n"
   ]
  },
  {
   "cell_type": "code",
   "execution_count": 61,
   "id": "04b6efa1",
   "metadata": {},
   "outputs": [
    {
     "name": "stdout",
     "output_type": "stream",
     "text": [
      "Original list:\n",
      "[('yellow', 1), ('blue', 2), ('yellow', 3), ('blue', 4), ('red', 1)]\n",
      "\n",
      "Grouping a sequence of key-value pairs into a dictionary of lists:\n",
      "{'yellow': [1, 3], 'blue': [2, 4], 'red': [1]}\n"
     ]
    }
   ],
   "source": [
    "def grouping_dictionary(l):\n",
    "    result = {}\n",
    "    for k, v in l:\n",
    "         result.setdefault(k, []).append(v)\n",
    "    return result\n",
    "colors = [('yellow', 1), ('blue', 2), ('yellow', 3), ('blue', 4), ('red', 1)]\n",
    "print(\"Original list:\")\n",
    "print(colors)\n",
    "print(\"\\nGrouping a sequence of key-value pairs into a dictionary of lists:\")\n",
    "print(grouping_dictionary(colors))\n"
   ]
  },
  {
   "cell_type": "code",
   "execution_count": 62,
   "id": "002a9f4e",
   "metadata": {},
   "outputs": [
    {
     "name": "stdout",
     "output_type": "stream",
     "text": [
      "Original Dictionary:\n",
      "{'Cierra Vega': 12, 'Alden Cantrell': 12, 'Kierra Gentry': 12, 'Pierre Cox': 12}\n",
      "\n",
      "Check all are  12 in the dictionary.\n",
      "True\n",
      "\n",
      "Check all are  10 in the dictionary.\n",
      "False\n"
     ]
    }
   ],
   "source": [
    "def value_check(students, n):\n",
    "    result = all(x == n for x in students.values()) \n",
    "    return result\n",
    "  \n",
    "students = {'Cierra Vega': 12, 'Alden Cantrell': 12, 'Kierra Gentry': 12, 'Pierre Cox': 12}\n",
    "print(\"Original Dictionary:\")\n",
    "print(students)\n",
    "n = 12\n",
    "print(\"\\nCheck all are \",n,\"in the dictionary.\")\n",
    "print(value_check(students, n))\n",
    "n = 10\n",
    "print(\"\\nCheck all are \",n,\"in the dictionary.\")\n",
    "print(value_check(students, n))\n"
   ]
  },
  {
   "cell_type": "code",
   "execution_count": 63,
   "id": "517fcc0d",
   "metadata": {},
   "outputs": [
    {
     "name": "stdout",
     "output_type": "stream",
     "text": [
      "Original Dictionary:\n",
      "{'Cierra Vega': (6.2, 70), 'Alden Cantrell': (5.9, 65), 'Kierra Gentry': (6.0, 68), 'Pierre Cox': (5.8, 66)}\n",
      "\n",
      "Height > 6ft and Weight> 70kg:\n",
      "{'Cierra Vega': (6.2, 70)}\n"
     ]
    }
   ],
   "source": [
    "def filter_data(students):\n",
    "    result = {k: s for k, s in students.items() if s[0] >=6.0 and s[1] >=70}\n",
    "    return result    \n",
    " \n",
    "students = {'Cierra Vega': (6.2, 70), 'Alden Cantrell': (5.9, 65), 'Kierra Gentry': (6.0, 68), 'Pierre Cox': (5.8, 66)}\n",
    "print(\"Original Dictionary:\")\n",
    "print(students)\n",
    "print(\"\\nHeight > 6ft and Weight> 70kg:\")\n",
    "print(filter_data(students))\n"
   ]
  },
  {
   "cell_type": "code",
   "execution_count": 64,
   "id": "f3d5a135",
   "metadata": {},
   "outputs": [
    {
     "name": "stdout",
     "output_type": "stream",
     "text": [
      "Original strings:\n",
      "['S001', 'S002', 'S003', 'S004']\n",
      "['Adina Park', 'Leyton Marsh', 'Duncan Boyle', 'Saim Richards']\n",
      "[85, 98, 89, 92]\n",
      "\n",
      "Nested dictionary:\n",
      "[{'S001': {'Adina Park': 85}}, {'S002': {'Leyton Marsh': 98}}, {'S003': {'Duncan Boyle': 89}}, {'S004': {'Saim Richards': 92}}]\n"
     ]
    }
   ],
   "source": [
    "def nested_dictionary(l1, l2, l3):\n",
    "     result = [{x: {y: z}} for (x, y, z) in zip(l1, l2, l3)]\n",
    "     return result\n",
    "\n",
    "student_id = [\"S001\", \"S002\", \"S003\", \"S004\"] \n",
    "student_name = [\"Adina Park\", \"Leyton Marsh\", \"Duncan Boyle\", \"Saim Richards\"] \n",
    "student_grade = [85, 98, 89, 92]\n",
    "print(\"Original strings:\")\n",
    "print(student_id)\n",
    "print(student_name)\n",
    "print(student_grade)\n",
    "print(\"\\nNested dictionary:\")\n",
    "ch='a'\n",
    "print(nested_dictionary(student_id, student_name, student_grade))\n"
   ]
  },
  {
   "cell_type": "code",
   "execution_count": 65,
   "id": "f1fa55b6",
   "metadata": {},
   "outputs": [
    {
     "name": "stdout",
     "output_type": "stream",
     "text": [
      "Original Dictionary:\n",
      "{'Cierra Vega': 175, 'Alden Cantrell': 180, 'Kierra Gentry': 165, 'Pierre Cox': 190}\n",
      "Marks greater than 170:\n",
      "{'Cierra Vega': 175, 'Alden Cantrell': 180, 'Pierre Cox': 190}\n"
     ]
    }
   ],
   "source": [
    "marks = {'Cierra Vega': 175, 'Alden Cantrell': 180, 'Kierra Gentry': 165, 'Pierre Cox': 190}\n",
    "print(\"Original Dictionary:\")\n",
    "print(marks)\n",
    "print(\"Marks greater than 170:\")\n",
    "result = {key:value for (key, value) in marks.items() if value >= 170}\n",
    "print(result)\n"
   ]
  },
  {
   "cell_type": "code",
   "execution_count": 66,
   "id": "6c6f90fc",
   "metadata": {},
   "outputs": [
    {
     "name": "stdout",
     "output_type": "stream",
     "text": [
      "Original Dictionary:\n",
      "{'c1': 'Red', 'c2': 'Green', 'c3': None}\n",
      "New Dictionary after dropping empty items:\n",
      "{'c1': 'Red', 'c2': 'Green'}\n"
     ]
    }
   ],
   "source": [
    "dict1 = {'c1': 'Red', 'c2': 'Green', 'c3':None}\n",
    "print(\"Original Dictionary:\")\n",
    "print(dict1)\n",
    "print(\"New Dictionary after dropping empty items:\")\n",
    "dict1 = {key:value for (key, value) in dict1.items() if value is not None}\n",
    "print(dict1)\n"
   ]
  },
  {
   "cell_type": "code",
   "execution_count": 67,
   "id": "08028f48",
   "metadata": {},
   "outputs": [
    {
     "name": "stdout",
     "output_type": "stream",
     "text": [
      "{'x': [11, 12, 13, 14, 15, 16, 17, 18, 19],\n",
      " 'y': [21, 22, 23, 24, 25, 26, 27, 28, 29],\n",
      " 'z': [31, 32, 33, 34, 35, 36, 37, 38, 39]}\n",
      "15\n",
      "25\n",
      "35\n",
      "x has value [11, 12, 13, 14, 15, 16, 17, 18, 19]\n",
      "y has value [21, 22, 23, 24, 25, 26, 27, 28, 29]\n",
      "z has value [31, 32, 33, 34, 35, 36, 37, 38, 39]\n"
     ]
    }
   ],
   "source": [
    "from pprint import pprint\n",
    "dict_nums = dict(x=list(range(11, 20)), y=list(range(21, 30)), z=list(range(31, 40)))\n",
    "pprint(dict_nums)\n",
    "print(dict_nums[\"x\"][4])\n",
    "print(dict_nums[\"y\"][4])\n",
    "print(dict_nums[\"z\"][4])\n",
    "for k,v in dict_nums.items():\n",
    "   print(k, \"has value\", v)\n"
   ]
  },
  {
   "cell_type": "code",
   "execution_count": 68,
   "id": "8b47219b",
   "metadata": {},
   "outputs": [
    {
     "name": "stdout",
     "output_type": "stream",
     "text": [
      "Original dictionary:\n",
      "{'students': [{'firstName': 'Nikki', 'lastName': 'Roysden'}, {'firstName': 'Mervin', 'lastName': 'Friedland'}, {'firstName': 'Aron ', 'lastName': 'Wilkins'}], 'teachers': [{'firstName': 'Amberly', 'lastName': 'Calico'}, {'firstName': 'Regine', 'lastName': 'Agtarap'}]}\n",
      "<class 'dict'>\n",
      "\n",
      "Json file to dictionary:\n",
      "{'students': [{'firstName': 'Nikki', 'lastName': 'Roysden'}, {'firstName': 'Mervin', 'lastName': 'Friedland'}, {'firstName': 'Aron ', 'lastName': 'Wilkins'}], 'teachers': [{'firstName': 'Amberly', 'lastName': 'Calico'}, {'firstName': 'Regine', 'lastName': 'Agtarap'}]}\n"
     ]
    }
   ],
   "source": [
    "d = {\"students\":[{\"firstName\": \"Nikki\", \"lastName\": \"Roysden\"},\n",
    "               {\"firstName\": \"Mervin\", \"lastName\": \"Friedland\"},\n",
    "               {\"firstName\": \"Aron \", \"lastName\": \"Wilkins\"}],\n",
    "\"teachers\":[{\"firstName\": \"Amberly\", \"lastName\": \"Calico\"},\n",
    "         {\"firstName\": \"Regine\", \"lastName\": \"Agtarap\"}]}\n",
    "print(\"Original dictionary:\")\n",
    "print(d)\n",
    "print(type(d))\n",
    "import json\n",
    " \n",
    "with open(\"dictionary\", \"w\") as f:\n",
    "   json.dump(d, f, indent = 4, sort_keys = True)\n",
    " \n",
    "print(\"\\nJson file to dictionary:\")\n",
    "with open('dictionary') as f:\n",
    " data = json.load(f)\n",
    "print(data)\n"
   ]
  },
  {
   "cell_type": "code",
   "execution_count": 69,
   "id": "7aa02510",
   "metadata": {},
   "outputs": [
    {
     "name": "stdout",
     "output_type": "stream",
     "text": [
      "key1: 1 is present in both x and y\n"
     ]
    }
   ],
   "source": [
    "x = {'key1': 1, 'key2': 3, 'key3': 2}\n",
    "y = {'key1': 1, 'key2': 2}\n",
    "for (key, value) in set(x.items()) & set(y.items()):\n",
    "    print('%s: %s is present in both x and y' % (key, value))\n",
    "\t"
   ]
  },
  {
   "cell_type": "code",
   "execution_count": 70,
   "id": "3ba65f0f",
   "metadata": {},
   "outputs": [
    {
     "name": "stdout",
     "output_type": "stream",
     "text": [
      "[{'id': 1, 'subject': 'math', 'V+VI': 76.0}, {'id': 2, 'subject': 'math', 'V+VI': 73.5}, {'id': 3, 'subject': 'math', 'V+VI': 80.5}]\n"
     ]
    }
   ],
   "source": [
    "def sum_math_v_vi_average(list_of_dicts):\n",
    "    for d in list_of_dicts:\n",
    "        n1 = d.pop('V')\n",
    "        n2 = d.pop('VI')\n",
    "        d['V+VI'] = (n1 + n2)/2\n",
    "    return list_of_dicts \n",
    "student_details= [\n",
    "  {'id' : 1, 'subject' : 'math', 'V' : 70, 'VI' : 82},\n",
    "  {'id' : 2, 'subject' : 'math', 'V' : 73, 'VI' : 74},\n",
    "  {'id' : 3, 'subject' : 'math', 'V' : 75, 'VI' : 86}\n",
    "]\n",
    "print(sum_math_v_vi_average(student_details))\n"
   ]
  },
  {
   "cell_type": "code",
   "execution_count": 71,
   "id": "fbabc289",
   "metadata": {},
   "outputs": [
    {
     "name": "stdout",
     "output_type": "stream",
     "text": [
      "defaultdict(<class 'set'>, {'Class-V': {1}, 'Class-VI': {2}, 'Class-VII': {2}, 'Class-VIII': {3}})\n"
     ]
    }
   ],
   "source": [
    "from collections import defaultdict\n",
    "class_list = ['Class-V', 'Class-VI', 'Class-VII', 'Class-VIII']\n",
    "id_list = [1, 2, 2, 3]\n",
    "temp = defaultdict(set)\n",
    "for c, i in zip(class_list, id_list):\n",
    "    temp[c].add(i)\n",
    "print(temp)\n"
   ]
  },
  {
   "cell_type": "code",
   "execution_count": 72,
   "id": "5d0c55f9",
   "metadata": {},
   "outputs": [
    {
     "name": "stdout",
     "output_type": "stream",
     "text": [
      "[('Chemistry', 87), ('Physics', 83), ('Math', 81)]\n"
     ]
    }
   ],
   "source": [
    "from collections import Counter\n",
    "x = Counter({'Math':81, 'Physics':83, 'Chemistry':87})\n",
    "print(x.most_common())\n"
   ]
  },
  {
   "cell_type": "code",
   "execution_count": 73,
   "id": "d59cf960",
   "metadata": {},
   "outputs": [
    {
     "name": "stdout",
     "output_type": "stream",
     "text": [
      "5\n"
     ]
    }
   ],
   "source": [
    "dict =  {'Alex': ['subj1', 'subj2', 'subj3'], 'David': ['subj1', 'subj2']}\n",
    "ctr = sum(map(len, dict.values()))\n",
    "print(ctr)\n"
   ]
  },
  {
   "cell_type": "code",
   "execution_count": 74,
   "id": "8157c670",
   "metadata": {},
   "outputs": [
    {
     "name": "stdout",
     "output_type": "stream",
     "text": [
      "True\n",
      "False\n",
      "True\n"
     ]
    }
   ],
   "source": [
    "student = {\n",
    "  'name': 'Alex',\n",
    "  'class': 'V',\n",
    "  'roll_id': '2'\n",
    "}\n",
    "print(student.keys() >= {'class', 'name'})\n",
    "print(student.keys() >= {'name', 'Alex'})\n",
    "print(student.keys() >= {'roll_id', 'name'})\n"
   ]
  },
  {
   "cell_type": "code",
   "execution_count": 75,
   "id": "a186ddc3",
   "metadata": {},
   "outputs": [
    {
     "name": "stdout",
     "output_type": "stream",
     "text": [
      "Aex\n",
      "class : V\n",
      "rolld_id : 2\n",
      "Puja\n",
      "class : V\n",
      "roll_id : 3\n"
     ]
    }
   ],
   "source": [
    "students = {'Aex':{'class':'V',\n",
    "        'rolld_id':2},\n",
    "        'Puja':{'class':'V',\n",
    "        'roll_id':3}}\n",
    "for a in students:\n",
    "    print(a)\n",
    "    for b in students[a]:\n",
    "        print (b,':',students[a][b])\n",
    "\t\t"
   ]
  },
  {
   "cell_type": "code",
   "execution_count": 76,
   "id": "aeac6ab2",
   "metadata": {},
   "outputs": [
    {
     "name": "stdout",
     "output_type": "stream",
     "text": [
      "key  value  count\n",
      "1     10      1\n",
      "2     20      2\n",
      "3     30      3\n",
      "4     40      4\n",
      "5     50      5\n",
      "6     60      6\n"
     ]
    }
   ],
   "source": [
    "dict_num = {1: 10, 2: 20, 3: 30, 4: 40, 5: 50, 6: 60}\n",
    "print(\"key  value  count\")\n",
    "for count, (key, value) in enumerate(dict_num.items(), 1):\n",
    "    print(key,'   ',value,'    ', count)\n"
   ]
  },
  {
   "cell_type": "code",
   "execution_count": 77,
   "id": "2c797a84",
   "metadata": {},
   "outputs": [
    {
     "name": "stdout",
     "output_type": "stream",
     "text": [
      "item4 55\n",
      "item1 45.5\n",
      "item3 41.3\n"
     ]
    }
   ],
   "source": [
    "from heapq import nlargest\n",
    "from operator import itemgetter\n",
    "items = {'item1': 45.50, 'item2':35, 'item3': 41.30, 'item4':55, 'item5': 24}\n",
    "for name, value in nlargest(3, items.items(), key=itemgetter(1)):\n",
    "    print(name, value)\n",
    "\t"
   ]
  },
  {
   "cell_type": "code",
   "execution_count": 78,
   "id": "a92c5a94",
   "metadata": {},
   "outputs": [
    {
     "name": "stdout",
     "output_type": "stream",
     "text": [
      "Original dictionary:  {'S  001': ['Math', 'Science'], 'S    002': ['Math', 'English']}\n",
      "New dictionary:  {'S001': ['Math', 'Science'], 'S002': ['Math', 'English']}\n"
     ]
    }
   ],
   "source": [
    "student_list = {'S  001': ['Math', 'Science'], 'S    002': ['Math', 'English']}\n",
    "print(\"Original dictionary: \",student_list)\n",
    "student_dict = {x.translate({32: None}): y for x, y in student_list.items()}\n",
    "print(\"New dictionary: \",student_dict)\n"
   ]
  },
  {
   "cell_type": "code",
   "execution_count": 79,
   "id": "88d2b27d",
   "metadata": {},
   "outputs": [
    {
     "name": "stdout",
     "output_type": "stream",
     "text": [
      "{'n1': [1, 2, 3], 'n2': [1, 2, 5], 'n3': [2, 3, 4]}\n"
     ]
    }
   ],
   "source": [
    "num = {'n1': [2, 3, 1], 'n2': [5, 1, 2], 'n3': [3, 2, 4]}\n",
    "sorted_dict = {x: sorted(y) for x, y in num.items()}\n",
    "print(sorted_dict)\n"
   ]
  },
  {
   "cell_type": "code",
   "execution_count": 80,
   "id": "28885d07",
   "metadata": {},
   "outputs": [
    {
     "name": "stdout",
     "output_type": "stream",
     "text": [
      "{1: {2: {3: {4: {}}}}}\n"
     ]
    }
   ],
   "source": [
    "num_list = [1, 2, 3, 4]\n",
    "new_dict = current = {}\n",
    "for name in num_list:\n",
    "    current[name] = {}\n",
    "    current = current[name]\n",
    "print(new_dict)\n"
   ]
  },
  {
   "cell_type": "code",
   "execution_count": 81,
   "id": "88f3a2d0",
   "metadata": {},
   "outputs": [
    {
     "name": "stdout",
     "output_type": "stream",
     "text": [
      "6\n",
      "2\n"
     ]
    }
   ],
   "source": [
    "student = [{'id': 1, 'success': True, 'name': 'Lary'},\n",
    " {'id': 2, 'success': False, 'name': 'Rabi'},\n",
    " {'id': 3, 'success': True, 'name': 'Alex'}]\n",
    "print(sum(d['id'] for d in student))\n",
    "print(sum(d['success'] for d in student))\n"
   ]
  },
  {
   "cell_type": "code",
   "execution_count": null,
   "id": "37c67b0b",
   "metadata": {},
   "outputs": [],
   "source": []
  }
 ],
 "metadata": {
  "kernelspec": {
   "display_name": "Python 3 (ipykernel)",
   "language": "python",
   "name": "python3"
  },
  "language_info": {
   "codemirror_mode": {
    "name": "ipython",
    "version": 3
   },
   "file_extension": ".py",
   "mimetype": "text/x-python",
   "name": "python",
   "nbconvert_exporter": "python",
   "pygments_lexer": "ipython3",
   "version": "3.9.7"
  }
 },
 "nbformat": 4,
 "nbformat_minor": 5
}
