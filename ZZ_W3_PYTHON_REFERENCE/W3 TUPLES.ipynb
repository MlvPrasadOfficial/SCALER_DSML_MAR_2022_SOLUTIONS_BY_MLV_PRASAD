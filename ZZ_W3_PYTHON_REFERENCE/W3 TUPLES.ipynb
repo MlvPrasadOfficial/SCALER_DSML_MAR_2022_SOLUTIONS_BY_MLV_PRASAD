{
 "cells": [
  {
   "cell_type": "code",
   "execution_count": 1,
   "id": "95c1c100",
   "metadata": {},
   "outputs": [
    {
     "name": "stdout",
     "output_type": "stream",
     "text": [
      "()\n",
      "()\n"
     ]
    }
   ],
   "source": [
    "#Create an empty tuple \n",
    "x = ()\n",
    "print(x)\n",
    "#Create an empty tuple with tuple() function built-in Python\n",
    "tuplex = tuple()\n",
    "print(tuplex)\n"
   ]
  },
  {
   "cell_type": "code",
   "execution_count": 2,
   "id": "f2bc02c3",
   "metadata": {},
   "outputs": [
    {
     "name": "stdout",
     "output_type": "stream",
     "text": [
      "('tuple', False, 3.2, 1)\n"
     ]
    }
   ],
   "source": [
    "#Create a tuple with different data types\n",
    "tuplex = (\"tuple\", False, 3.2, 1)\n",
    "print(tuplex)\n"
   ]
  },
  {
   "cell_type": "code",
   "execution_count": 3,
   "id": "988ca8bd",
   "metadata": {},
   "outputs": [
    {
     "name": "stdout",
     "output_type": "stream",
     "text": [
      "(2, 4, 5, 6, 2, 3, 4, 4, 7)\n",
      "3\n"
     ]
    }
   ],
   "source": [
    "#create a tuple\n",
    "tuplex = 2, 4, 5, 6, 2, 3, 4, 4, 7 \n",
    "print(tuplex)\n",
    "#return the number of times it appears in the tuple.\n",
    "count = tuplex.count(4)\n",
    "print(count)\n"
   ]
  },
  {
   "cell_type": "code",
   "execution_count": 4,
   "id": "95eeef5e",
   "metadata": {},
   "outputs": [
    {
     "name": "stdout",
     "output_type": "stream",
     "text": [
      "('i', 'n', 'd', 'e', 'x', ' ', 't', 'u', 'p', 'l', 'e')\n",
      "8\n",
      "8\n",
      "3\n"
     ]
    },
    {
     "ename": "ValueError",
     "evalue": "tuple.index(x): x not in tuple",
     "output_type": "error",
     "traceback": [
      "\u001b[1;31m---------------------------------------------------------------------------\u001b[0m",
      "\u001b[1;31mValueError\u001b[0m                                Traceback (most recent call last)",
      "\u001b[1;32m~\\AppData\\Local\\Temp/ipykernel_31396/3796591728.py\u001b[0m in \u001b[0;36m<module>\u001b[1;34m\u001b[0m\n\u001b[0;32m     12\u001b[0m \u001b[0mprint\u001b[0m\u001b[1;33m(\u001b[0m\u001b[0mindex\u001b[0m\u001b[1;33m)\u001b[0m\u001b[1;33m\u001b[0m\u001b[1;33m\u001b[0m\u001b[0m\n\u001b[0;32m     13\u001b[0m \u001b[1;31m#if item not exists in the tuple return ValueError Exception\u001b[0m\u001b[1;33m\u001b[0m\u001b[1;33m\u001b[0m\u001b[0m\n\u001b[1;32m---> 14\u001b[1;33m \u001b[0mindex\u001b[0m \u001b[1;33m=\u001b[0m \u001b[0mtuplex\u001b[0m\u001b[1;33m.\u001b[0m\u001b[0mindex\u001b[0m\u001b[1;33m(\u001b[0m\u001b[1;34m\"y\"\u001b[0m\u001b[1;33m)\u001b[0m\u001b[1;33m\u001b[0m\u001b[1;33m\u001b[0m\u001b[0m\n\u001b[0m",
      "\u001b[1;31mValueError\u001b[0m: tuple.index(x): x not in tuple"
     ]
    }
   ],
   "source": [
    "#create a tuple\n",
    "tuplex = tuple(\"index tuple\")\n",
    "print(tuplex)\n",
    "#get index of the first item whose value is passed as parameter\n",
    "index = tuplex.index(\"p\")\n",
    "print(index)\n",
    "#define the index from which you want to search\n",
    "index = tuplex.index(\"p\", 5)\n",
    "print(index)\n",
    "#define the segment of the tuple to be searched\n",
    "index = tuplex.index(\"e\", 3, 6)\n",
    "print(index)\n",
    "#if item not exists in the tuple return ValueError Exception\n",
    "index = tuplex.index(\"y\")\n"
   ]
  },
  {
   "cell_type": "code",
   "execution_count": 5,
   "id": "536ef336",
   "metadata": {},
   "outputs": [
    {
     "name": "stdout",
     "output_type": "stream",
     "text": [
      "('w', '3', 'r', 'e', 's', 'o', 'u', 'r', 'c', 'e')\n",
      "10\n"
     ]
    }
   ],
   "source": [
    "#create a tuple\n",
    "tuplex = tuple(\"w3resource\")\n",
    "print(tuplex)\n",
    "#use the len() function to known the length of tuple\n",
    "print(len(tuplex))\n"
   ]
  },
  {
   "cell_type": "code",
   "execution_count": 6,
   "id": "e8569c79",
   "metadata": {},
   "outputs": [
    {
     "name": "stdout",
     "output_type": "stream",
     "text": [
      "{'w': 2, 'r': 3}\n"
     ]
    }
   ],
   "source": [
    "#create a tuple\n",
    "tuplex = ((2, \"w\"),(3, \"r\"))\n",
    "print(dict((y, x) for x, y in tuplex))\n"
   ]
  },
  {
   "cell_type": "code",
   "execution_count": 7,
   "id": "5a7bd9b4",
   "metadata": {},
   "outputs": [
    {
     "name": "stdout",
     "output_type": "stream",
     "text": [
      "[(1, 3, 8), (2, 4, 9)]\n"
     ]
    }
   ],
   "source": [
    "#create a tuple\n",
    "l = [(1,2), (3,4), (8,9)]\n",
    "print(list(zip(*l)))\n"
   ]
  },
  {
   "cell_type": "code",
   "execution_count": 9,
   "id": "143d9cc9",
   "metadata": {},
   "outputs": [
    {
     "name": "stdout",
     "output_type": "stream",
     "text": [
      "((1, 3, 8), (2, 4, 9))\n"
     ]
    }
   ],
   "source": [
    "#create a tuple\n",
    "l = [(1,2), (3,4), (8,9)]\n",
    "print(tuple(zip(*l)))\n"
   ]
  },
  {
   "cell_type": "code",
   "execution_count": 13,
   "id": "59ffa98d",
   "metadata": {},
   "outputs": [
    {
     "name": "stdout",
     "output_type": "stream",
     "text": [
      "{'x': [1, 2, 3], 'y': [1, 2], 'z': [1]}\n"
     ]
    }
   ],
   "source": [
    "#create a list\n",
    "l = [(\"x\", 1), (\"x\", 2), (\"x\", 3), (\"y\", 1), (\"y\", 2), (\"z\", 1)]\n",
    "d = {}\n",
    "for a, b in l:\n",
    "    d.setdefault(a, []).append(b)\n",
    "print (d)\n"
   ]
  },
  {
   "cell_type": "code",
   "execution_count": 14,
   "id": "f93e2349",
   "metadata": {},
   "outputs": [
    {
     "name": "stdout",
     "output_type": "stream",
     "text": [
      "This is a tuple (100, 200, 300)\n"
     ]
    }
   ],
   "source": [
    "t = (100, 200, 300)\n",
    "print('This is a tuple {0}'.format(t))\n"
   ]
  },
  {
   "cell_type": "code",
   "execution_count": 15,
   "id": "b4582ff1",
   "metadata": {},
   "outputs": [
    {
     "name": "stdout",
     "output_type": "stream",
     "text": [
      "[(10, 20, 100), (40, 50, 100), (70, 80, 100)]\n"
     ]
    }
   ],
   "source": [
    "l = [(10, 20, 40), (40, 50, 60), (70, 80, 90)]\n",
    "print([t[:-1] + (100,) for t in l])\n"
   ]
  },
  {
   "cell_type": "code",
   "execution_count": 16,
   "id": "a0f1d640",
   "metadata": {},
   "outputs": [
    {
     "name": "stdout",
     "output_type": "stream",
     "text": [
      "[('item3', '24.5'), ('item2', '15.10'), ('item1', '12.20')]\n"
     ]
    }
   ],
   "source": [
    "price = [('item1', '12.20'), ('item2', '15.10'), ('item3', '24.5')]\n",
    "print( sorted(price, key=lambda x: float(x[1]), reverse=True))\n"
   ]
  },
  {
   "cell_type": "code",
   "execution_count": 17,
   "id": "fa663aee",
   "metadata": {},
   "outputs": [
    {
     "name": "stdout",
     "output_type": "stream",
     "text": [
      "Original string:\n",
      "python 3.0\n",
      "<class 'str'>\n",
      "Convert the said string to a tuple:\n",
      "('p', 'y', 't', 'h', 'o', 'n', '3', '.', '0')\n",
      "<class 'tuple'>\n"
     ]
    }
   ],
   "source": [
    "def string_list_to_tuple(str1):\n",
    "    result = tuple(x for x in str1 if not x.isspace()) \n",
    "    return result\n",
    "str1 = \"python 3.0\"\n",
    "print(\"Original string:\")\n",
    "print(str1)\n",
    "print(type(str1))\n",
    "print(\"Convert the said string to a tuple:\") \n",
    "print(string_list_to_tuple(str1))\n",
    "print(type(string_list_to_tuple(str1)))\n"
   ]
  },
  {
   "cell_type": "code",
   "execution_count": 18,
   "id": "134fd648",
   "metadata": {},
   "outputs": [
    {
     "name": "stdout",
     "output_type": "stream",
     "text": [
      "Original Tuple: \n",
      "((10, 10, 10, 12), (30, 45, 56, 45), (81, 80, 39, 32), (1, 2, 3, 4))\n",
      "\n",
      "Average value of the numbers of the said tuple of tuples:\n",
      " [30.5, 34.25, 27.0, 23.25]\n",
      "\n",
      "Original Tuple: \n",
      "((1, 1, -5), (30, -15, 56), (81, -60, -39), (-10, 2, 3))\n",
      "\n",
      "Average value of the numbers of the said tuple of tuples:\n",
      " [25.5, -18.0, 3.75]\n"
     ]
    }
   ],
   "source": [
    "def average_tuple(nums):\n",
    "    result = [sum(x) / len(x) for x in zip(*nums)]\n",
    "    return result\n",
    "\n",
    "nums = ((10, 10, 10, 12), (30, 45, 56, 45), (81, 80, 39, 32), (1, 2, 3, 4))\n",
    "print (\"Original Tuple: \")\n",
    "print(nums)\n",
    "print(\"\\nAverage value of the numbers of the said tuple of tuples:\\n\",average_tuple(nums))\n",
    "\n",
    "nums = ((1, 1, -5), (30, -15, 56), (81, -60, -39), (-10, 2, 3))\n",
    "print (\"\\nOriginal Tuple: \")\n",
    "print(nums)\n",
    "print(\"\\nAverage value of the numbers of the said tuple of tuples:\\n\",average_tuple(nums))\n"
   ]
  },
  {
   "cell_type": "code",
   "execution_count": 19,
   "id": "3aec03d6",
   "metadata": {},
   "outputs": [
    {
     "name": "stdout",
     "output_type": "stream",
     "text": [
      "Original list of tuples:\n",
      "[(1, 2), (2, 3), (3, 4)]\n",
      "Convert the said list of tuples to a list of lists:\n",
      "[[1, 2], [2, 3], [3, 4]]\n",
      "\n",
      "Original list of tuples:\n",
      "[(1, 2), (2, 3, 5), (3, 4), (2, 3, 4, 2)]\n",
      "Convert the said list of tuples to a list of lists:\n",
      "[[1, 2], [2, 3, 5], [3, 4], [2, 3, 4, 2]]\n"
     ]
    }
   ],
   "source": [
    "def test(lst_tuples):\n",
    "    result = [list(el) for el in lst_tuples]\n",
    "    return result\n",
    "lst_tuples = [(1,2), (2,3), (3,4)]\n",
    "print(\"Original list of tuples:\")\n",
    "print(lst_tuples)\n",
    "print(\"Convert the said list of tuples to a list of lists:\")\n",
    "print(test(lst_tuples))\n",
    "lst_tuples = [(1,2), (2,3,5), (3,4), (2,3,4,2)]\n",
    "print(\"\\nOriginal list of tuples:\")\n",
    "print(lst_tuples)\n",
    "print(\"Convert the said list of tuples to a list of lists:\")\n",
    "print(test(lst_tuples))\n"
   ]
  },
  {
   "cell_type": "code",
   "execution_count": 20,
   "id": "8bcaa5b8",
   "metadata": {},
   "outputs": [
    {
     "name": "stdout",
     "output_type": "stream",
     "text": [
      "Original list of tuples:\n",
      "[(1, 2), (2, 3), (3, 4)]\n",
      "\n",
      "Sum of all the elements of each tuple stored inside the said list of tuples:\n",
      "[3, 5, 7]\n",
      "\n",
      "Original list of tuples:\n",
      "[(1, 2, 6), (2, 3, -6), (3, 4), (2, 2, 2, 2)]\n",
      "\n",
      "Sum of all the elements of each tuple stored inside the said list of tuples:\n",
      "[9, -1, 7, 8]\n"
     ]
    }
   ],
   "source": [
    "def test(lst):\n",
    "    result =  map(sum, lst)\n",
    "    return list(result)\n",
    "\n",
    "nums = [(1,2), (2,3), (3,4)]\n",
    "print(\"Original list of tuples:\")\n",
    "print(nums)\n",
    "print(\"\\nSum of all the elements of each tuple stored inside the said list of tuples:\")\n",
    "print(test(nums))\n",
    "\n",
    "nums = [(1,2,6), (2,3,-6), (3,4), (2,2,2,2)]\n",
    "print(\"\\nOriginal list of tuples:\")\n",
    "print(nums)\n",
    "print(\"\\nSum of all the elements of each tuple stored inside the said list of tuples:\")\n",
    "print(test(nums))\n"
   ]
  },
  {
   "cell_type": "code",
   "execution_count": 21,
   "id": "bae806a0",
   "metadata": {},
   "outputs": [
    {
     "name": "stdout",
     "output_type": "stream",
     "text": [
      "Original lists:\n",
      "(1, 2, 3, 4)\n",
      "(3, 5, 2, 1)\n",
      "(2, 2, 3, 1)\n",
      "\n",
      "Element-wise sum of the said tuples:\n",
      "(6, 9, 8, 6)\n"
     ]
    }
   ],
   "source": [
    "x = (1,2,3,4)\n",
    "y = (3,5,2,1)\n",
    "z = (2,2,3,1)\n",
    "print(\"Original lists:\")\n",
    "print(x)\n",
    "print(y)\n",
    "print(z)\n",
    "print(\"\\nElement-wise sum of the said tuples:\")\n",
    "result = tuple(map(sum, zip(x, y, z)))\n",
    "print(result)\n"
   ]
  },
  {
   "cell_type": "code",
   "execution_count": 22,
   "id": "ca5bec8f",
   "metadata": {},
   "outputs": [
    {
     "name": "stdout",
     "output_type": "stream",
     "text": [
      "Original list:\n",
      "(('Red', 'White', 'Blue'), ('Green', 'Pink', 'Purple'), ('Orange', 'Yellow', 'Lime'))\n",
      "\n",
      "Check if White presenet in said tuple of tuples!\n",
      "True\n",
      "\n",
      "Check if White presenet in said tuple of tuples!\n",
      "True\n",
      "\n",
      "Check if Olive presenet in said tuple of tuples!\n",
      "False\n"
     ]
    }
   ],
   "source": [
    "def check_in_tuples(colors, c):\n",
    "    result = any(c in tu for tu in colors)\n",
    "    return result\n",
    "\n",
    "colors = (\n",
    "    ('Red', 'White', 'Blue'),\n",
    "    ('Green', 'Pink', 'Purple'),\n",
    "    ('Orange', 'Yellow', 'Lime'),\n",
    ")\n",
    "print(\"Original list:\")\n",
    "print(colors)\n",
    "c1 = 'White'\n",
    "print(\"\\nCheck if\",c1,\"presenet in said tuple of tuples!\")\n",
    "print(check_in_tuples(colors, c1))\n",
    "c1 = 'White'\n",
    "print(\"\\nCheck if\",c1,\"presenet in said tuple of tuples!\")\n",
    "print(check_in_tuples(colors, c1))\n",
    "c1 = 'Olive'\n",
    "print(\"\\nCheck if\",c1,\"presenet in said tuple of tuples!\")\n",
    "print(check_in_tuples(colors, c1))\n"
   ]
  },
  {
   "cell_type": "code",
   "execution_count": 23,
   "id": "a3efafb0",
   "metadata": {},
   "outputs": [
    {
     "name": "stdout",
     "output_type": "stream",
     "text": [
      "Original tuple: \n",
      "(1, 2, 3)\n",
      "Convert the said tuple of positive integers into an integer:\n",
      "123\n",
      "\n",
      "Original tuple: \n",
      "(10, 20, 40, 5, 70)\n",
      "Convert the said tuple of positive integers into an integer:\n",
      "102040570\n"
     ]
    }
   ],
   "source": [
    "def tuple_to_int(nums):\n",
    "    result = int(''.join(map(str,nums)))\n",
    "    return result\n",
    "\n",
    "nums = (1,2,3)\n",
    "print(\"Original tuple: \") \n",
    "print(nums)\n",
    "print(\"Convert the said tuple of positive integers into an integer:\")\n",
    "print(tuple_to_int(nums))\n",
    "\n",
    "nums = (10,20,40,5,70)\n",
    "print(\"\\nOriginal tuple: \") \n",
    "print(nums)\n",
    "print(\"Convert the said tuple of positive integers into an integer:\")\n",
    "print(tuple_to_int(nums))\n"
   ]
  },
  {
   "cell_type": "code",
   "execution_count": 24,
   "id": "1ce4f36c",
   "metadata": {},
   "outputs": [
    {
     "name": "stdout",
     "output_type": "stream",
     "text": [
      "Original tuple values:\n",
      "(('333', '33'), ('1416', '55'))\n",
      "\n",
      "New tuple values:\n",
      "((333, 33), (1416, 55))\n"
     ]
    }
   ],
   "source": [
    "def tuple_int_str(tuple_str):\n",
    "    result = tuple((int(x[0]), int(x[1])) for x in tuple_str)\n",
    "    return result\n",
    "     \n",
    "tuple_str =  (('333', '33'), ('1416', '55'))\n",
    "print(\"Original tuple values:\")\n",
    "print(tuple_str)\n",
    "print(\"\\nNew tuple values:\")\n",
    "print(tuple_int_str(tuple_str))\n"
   ]
  },
  {
   "cell_type": "code",
   "execution_count": null,
   "id": "0248230d",
   "metadata": {},
   "outputs": [],
   "source": []
  }
 ],
 "metadata": {
  "kernelspec": {
   "display_name": "Python 3 (ipykernel)",
   "language": "python",
   "name": "python3"
  },
  "language_info": {
   "codemirror_mode": {
    "name": "ipython",
    "version": 3
   },
   "file_extension": ".py",
   "mimetype": "text/x-python",
   "name": "python",
   "nbconvert_exporter": "python",
   "pygments_lexer": "ipython3",
   "version": "3.9.7"
  }
 },
 "nbformat": 4,
 "nbformat_minor": 5
}
