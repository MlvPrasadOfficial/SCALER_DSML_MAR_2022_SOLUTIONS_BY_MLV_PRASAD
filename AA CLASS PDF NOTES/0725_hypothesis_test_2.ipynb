{
 "cells": [
  {
   "cell_type": "code",
   "execution_count": 14,
   "id": "9748378d",
   "metadata": {},
   "outputs": [],
   "source": [
    "import numpy as np\n",
    "import pandas as pd\n",
    "import seaborn as sns\n",
    "import scipy.stats as stats\n",
    "import matplotlib.pyplot as plt\n",
    "\n",
    "from statsmodels.stats.weightstats import ztest as ztest"
   ]
  },
  {
   "cell_type": "markdown",
   "id": "03ba1120",
   "metadata": {},
   "source": [
    "# IQ"
   ]
  },
  {
   "cell_type": "markdown",
   "id": "d5deea5a",
   "metadata": {},
   "source": [
    "## Will drug improve IQ"
   ]
  },
  {
   "cell_type": "code",
   "execution_count": 2,
   "id": "154c5ac6",
   "metadata": {},
   "outputs": [],
   "source": [
    "mu_population = 100\n",
    "sigma_population = 15"
   ]
  },
  {
   "cell_type": "code",
   "execution_count": 3,
   "id": "6373a0db",
   "metadata": {},
   "outputs": [],
   "source": [
    "df_iq_drug = pd.read_csv(\"iq_data_drug.csv\")"
   ]
  },
  {
   "cell_type": "code",
   "execution_count": 5,
   "id": "68ed8733",
   "metadata": {},
   "outputs": [
    {
     "data": {
      "text/plain": [
       "(20, 1)"
      ]
     },
     "execution_count": 5,
     "metadata": {},
     "output_type": "execute_result"
    }
   ],
   "source": [
    "df_iq_drug.shape"
   ]
  },
  {
   "cell_type": "code",
   "execution_count": 4,
   "id": "8037768f",
   "metadata": {
    "collapsed": true
   },
   "outputs": [
    {
     "data": {
      "text/html": [
       "<div>\n",
       "<style scoped>\n",
       "    .dataframe tbody tr th:only-of-type {\n",
       "        vertical-align: middle;\n",
       "    }\n",
       "\n",
       "    .dataframe tbody tr th {\n",
       "        vertical-align: top;\n",
       "    }\n",
       "\n",
       "    .dataframe thead th {\n",
       "        text-align: right;\n",
       "    }\n",
       "</style>\n",
       "<table border=\"1\" class=\"dataframe\">\n",
       "  <thead>\n",
       "    <tr style=\"text-align: right;\">\n",
       "      <th></th>\n",
       "      <th>iq</th>\n",
       "    </tr>\n",
       "  </thead>\n",
       "  <tbody>\n",
       "    <tr>\n",
       "      <th>0</th>\n",
       "      <td>110</td>\n",
       "    </tr>\n",
       "    <tr>\n",
       "      <th>1</th>\n",
       "      <td>91</td>\n",
       "    </tr>\n",
       "    <tr>\n",
       "      <th>2</th>\n",
       "      <td>95</td>\n",
       "    </tr>\n",
       "    <tr>\n",
       "      <th>3</th>\n",
       "      <td>94</td>\n",
       "    </tr>\n",
       "    <tr>\n",
       "      <th>4</th>\n",
       "      <td>97</td>\n",
       "    </tr>\n",
       "  </tbody>\n",
       "</table>\n",
       "</div>"
      ],
      "text/plain": [
       "    iq\n",
       "0  110\n",
       "1   91\n",
       "2   95\n",
       "3   94\n",
       "4   97"
      ]
     },
     "execution_count": 4,
     "metadata": {},
     "output_type": "execute_result"
    }
   ],
   "source": [
    "df_iq_drug.head()"
   ]
  },
  {
   "cell_type": "code",
   "execution_count": 8,
   "id": "b788214d",
   "metadata": {},
   "outputs": [
    {
     "data": {
      "text/plain": [
       "102.65"
      ]
     },
     "execution_count": 8,
     "metadata": {},
     "output_type": "execute_result"
    }
   ],
   "source": [
    "df_iq_drug[\"iq\"].mean() # \"m\" from our equation"
   ]
  },
  {
   "cell_type": "code",
   "execution_count": 12,
   "id": "e63eae23",
   "metadata": {},
   "outputs": [
    {
     "data": {
      "text/plain": [
       "1.5922685034947848"
      ]
     },
     "execution_count": 12,
     "metadata": {},
     "output_type": "execute_result"
    }
   ],
   "source": [
    "# (sample mean - population mean) / (sample mean's std dev)\n",
    "# (sample mean - population mean) / (sigma/root(n))\n",
    "\n",
    "# Observed test statistic\n",
    "ts = (df_iq_drug[\"iq\"].mean() - mu_population) / (df_iq_drug[\"iq\"].std() / np.sqrt(len(df_iq_drug)))\n",
    "ts"
   ]
  },
  {
   "cell_type": "markdown",
   "id": "51024d47",
   "metadata": {},
   "source": [
    "## Right tailed"
   ]
  },
  {
   "cell_type": "code",
   "execution_count": 13,
   "id": "5ddfded4",
   "metadata": {},
   "outputs": [
    {
     "data": {
      "text/plain": [
       "0.055662193388278935"
      ]
     },
     "execution_count": 13,
     "metadata": {},
     "output_type": "execute_result"
    }
   ],
   "source": [
    "p_value = 1 - stats.norm.cdf(ts)\n",
    "p_value"
   ]
  },
  {
   "cell_type": "code",
   "execution_count": 16,
   "id": "ec77cb4c",
   "metadata": {},
   "outputs": [
    {
     "data": {
      "text/plain": [
       "(1.5922685034947845, 0.05566219338827894)"
      ]
     },
     "execution_count": 16,
     "metadata": {},
     "output_type": "execute_result"
    }
   ],
   "source": [
    "ztest(df_iq_drug[\"iq\"], value=100, alternative=\"larger\")"
   ]
  },
  {
   "cell_type": "code",
   "execution_count": 25,
   "id": "c0f8bbcb",
   "metadata": {},
   "outputs": [],
   "source": [
    "# p_values > alpha (0.05)\n",
    "# We accept null hypothesis"
   ]
  },
  {
   "cell_type": "markdown",
   "id": "b5260281",
   "metadata": {},
   "source": [
    "## Two-tailed"
   ]
  },
  {
   "cell_type": "code",
   "execution_count": 17,
   "id": "dab5f009",
   "metadata": {},
   "outputs": [
    {
     "data": {
      "text/plain": [
       "(1.5922685034947845, 0.11132438677655788)"
      ]
     },
     "execution_count": 17,
     "metadata": {},
     "output_type": "execute_result"
    }
   ],
   "source": [
    "ztest(df_iq_drug[\"iq\"], value=100)"
   ]
  },
  {
   "cell_type": "code",
   "execution_count": 18,
   "id": "e68e0fe3",
   "metadata": {},
   "outputs": [
    {
     "data": {
      "text/plain": [
       "0.11132438677655787"
      ]
     },
     "execution_count": 18,
     "metadata": {},
     "output_type": "execute_result"
    }
   ],
   "source": [
    "p_value = 2*(1 - stats.norm.cdf(ts))\n",
    "p_value"
   ]
  },
  {
   "cell_type": "code",
   "execution_count": 26,
   "id": "1c31b2ed",
   "metadata": {},
   "outputs": [],
   "source": [
    "# p_value > alpha\n",
    "# Accept H0"
   ]
  },
  {
   "cell_type": "markdown",
   "id": "bf44afc7",
   "metadata": {},
   "source": [
    "## Let us play with our data"
   ]
  },
  {
   "cell_type": "code",
   "execution_count": 56,
   "id": "bbf78bc6",
   "metadata": {},
   "outputs": [
    {
     "data": {
      "text/plain": [
       "(20.662746018030013, 7.497689965971804e-95)"
      ]
     },
     "execution_count": 56,
     "metadata": {},
     "output_type": "execute_result"
    }
   ],
   "source": [
    "our_data = np.random.randint(100, 110, size=200)\n",
    "ztest(our_data, value=100)"
   ]
  },
  {
   "cell_type": "markdown",
   "id": "8290530e",
   "metadata": {},
   "source": [
    "# Two drugs"
   ]
  },
  {
   "cell_type": "code",
   "execution_count": 62,
   "id": "ba4f35bb",
   "metadata": {},
   "outputs": [],
   "source": [
    "drug1 = np.random.randint(10, 15, size=200)\n",
    "drug2 = np.random.randint(20, 30, size=150)"
   ]
  },
  {
   "cell_type": "code",
   "execution_count": 65,
   "id": "ad18d55a",
   "metadata": {},
   "outputs": [
    {
     "data": {
      "text/plain": [
       "12.215"
      ]
     },
     "execution_count": 65,
     "metadata": {},
     "output_type": "execute_result"
    }
   ],
   "source": [
    "drug1.mean()"
   ]
  },
  {
   "cell_type": "code",
   "execution_count": 66,
   "id": "82431c59",
   "metadata": {},
   "outputs": [
    {
     "data": {
      "text/plain": [
       "24.446666666666665"
      ]
     },
     "execution_count": 66,
     "metadata": {},
     "output_type": "execute_result"
    }
   ],
   "source": [
    "drug2.mean()"
   ]
  },
  {
   "cell_type": "code",
   "execution_count": 63,
   "id": "3a7c7d82",
   "metadata": {
    "collapsed": true
   },
   "outputs": [
    {
     "data": {
      "text/plain": [
       "array([14, 13, 13, 12, 11, 12, 13, 13, 10, 12, 10, 12, 10, 13, 14, 14, 14,\n",
       "       13, 14, 13, 13, 14, 14, 14, 12, 14, 12, 13, 12, 11, 14, 11, 12, 12,\n",
       "       12, 10, 13, 14, 14, 13, 13, 11, 13, 12, 13, 13, 14, 14, 13, 12, 14,\n",
       "       14, 12, 14, 14, 11, 10, 14, 14, 10, 10, 11, 12, 11, 13, 12, 10, 13,\n",
       "       14, 13, 13, 13, 13, 11, 13, 13, 10, 14, 12, 11, 14, 10, 10, 11, 14,\n",
       "       13, 14, 11, 13, 14, 10, 11, 13, 14, 14, 12, 12, 14, 10, 11, 14, 14,\n",
       "       11, 14, 10, 14, 12, 13, 14, 12, 11, 14, 10, 11, 13, 12, 10, 13, 13,\n",
       "       11, 10, 11, 12, 14, 10, 10, 11, 11, 10, 13, 12, 11, 10, 10, 11, 11,\n",
       "       13, 13, 13, 12, 11, 10, 12, 14, 14, 13, 13, 11, 10, 14, 11, 13, 11,\n",
       "       12, 11, 10, 13, 10, 14, 10, 14, 14, 13, 11, 12, 14, 14, 10, 14, 11,\n",
       "       11, 12, 11, 12, 13, 11, 11, 11, 13, 10, 11, 14, 14, 14, 13, 10, 11,\n",
       "       14, 14, 12, 10, 12, 13, 13, 12, 13, 10, 12, 10, 12])"
      ]
     },
     "execution_count": 63,
     "metadata": {},
     "output_type": "execute_result"
    }
   ],
   "source": [
    "drug1"
   ]
  },
  {
   "cell_type": "code",
   "execution_count": 64,
   "id": "4f47ca5a",
   "metadata": {
    "collapsed": true
   },
   "outputs": [
    {
     "data": {
      "text/plain": [
       "array([29, 20, 26, 29, 25, 20, 29, 26, 29, 23, 23, 26, 22, 20, 29, 20, 20,\n",
       "       25, 24, 22, 24, 29, 20, 23, 27, 23, 27, 29, 24, 21, 20, 25, 23, 21,\n",
       "       27, 28, 28, 24, 24, 21, 22, 29, 26, 28, 24, 27, 27, 29, 20, 23, 25,\n",
       "       20, 20, 28, 25, 28, 24, 22, 26, 20, 22, 20, 22, 21, 26, 20, 29, 27,\n",
       "       21, 23, 24, 25, 25, 22, 21, 22, 24, 23, 24, 28, 21, 21, 24, 27, 26,\n",
       "       29, 21, 24, 26, 27, 20, 20, 26, 28, 29, 27, 23, 22, 27, 27, 22, 28,\n",
       "       21, 28, 25, 20, 27, 25, 22, 25, 21, 26, 20, 23, 29, 26, 26, 29, 27,\n",
       "       28, 25, 24, 24, 27, 24, 24, 23, 26, 24, 22, 24, 26, 26, 20, 24, 25,\n",
       "       28, 25, 24, 26, 22, 28, 25, 25, 25, 26, 29, 25, 20, 21])"
      ]
     },
     "execution_count": 64,
     "metadata": {},
     "output_type": "execute_result"
    }
   ],
   "source": [
    "drug2"
   ]
  },
  {
   "cell_type": "code",
   "execution_count": 58,
   "id": "2f94c19e",
   "metadata": {},
   "outputs": [
    {
     "data": {
      "text/plain": [
       "(-55.15253273410719, 0.0)"
      ]
     },
     "execution_count": 58,
     "metadata": {},
     "output_type": "execute_result"
    }
   ],
   "source": [
    "# H0: mu1 = mu2\n",
    "# H1: mu1 != mu2\n",
    "# Two tailed\n",
    "ztest(drug1, drug2)"
   ]
  },
  {
   "cell_type": "code",
   "execution_count": 59,
   "id": "5e876178",
   "metadata": {},
   "outputs": [
    {
     "data": {
      "text/plain": [
       "(-55.15253273410719, 1.0)"
      ]
     },
     "execution_count": 59,
     "metadata": {},
     "output_type": "execute_result"
    }
   ],
   "source": [
    "# H0: mu1 = mu2\n",
    "# H1: mu1 > mu2\n",
    "# Right tailed\n",
    "ztest(drug1, drug2, alternative=\"larger\")"
   ]
  },
  {
   "cell_type": "code",
   "execution_count": 60,
   "id": "3359efd3",
   "metadata": {},
   "outputs": [
    {
     "data": {
      "text/plain": [
       "(-55.15253273410719, 0.0)"
      ]
     },
     "execution_count": 60,
     "metadata": {},
     "output_type": "execute_result"
    }
   ],
   "source": [
    "# H0: mu1 = mu2\n",
    "# H1: mu1 < mu2\n",
    "# Left tailed\n",
    "ztest(drug1, drug2, alternative=\"smaller\")"
   ]
  },
  {
   "cell_type": "code",
   "execution_count": 61,
   "id": "cc2f7ac2",
   "metadata": {},
   "outputs": [
    {
     "data": {
      "text/plain": [
       "Ttest_indResult(statistic=-55.15253273410719, pvalue=4.351871004116815e-174)"
      ]
     },
     "execution_count": 61,
     "metadata": {},
     "output_type": "execute_result"
    }
   ],
   "source": [
    "stats.ttest_ind(drug1, drug2)"
   ]
  }
 ],
 "metadata": {
  "kernelspec": {
   "display_name": "Python 3 (ipykernel)",
   "language": "python",
   "name": "python3"
  },
  "language_info": {
   "codemirror_mode": {
    "name": "ipython",
    "version": 3
   },
   "file_extension": ".py",
   "mimetype": "text/x-python",
   "name": "python",
   "nbconvert_exporter": "python",
   "pygments_lexer": "ipython3",
   "version": "3.8.12"
  }
 },
 "nbformat": 4,
 "nbformat_minor": 5
}
