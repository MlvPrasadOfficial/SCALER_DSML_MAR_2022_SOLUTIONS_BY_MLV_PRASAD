{
 "cells": [
  {
   "cell_type": "code",
   "execution_count": 4,
   "id": "61e95c94",
   "metadata": {},
   "outputs": [
    {
     "data": {
      "text/plain": [
       "9.257142857142856"
      ]
     },
     "execution_count": 4,
     "metadata": {},
     "output_type": "execute_result"
    }
   ],
   "source": [
    "observed = [54,38,8]\n",
    "expectation = [45,35,20]\n",
    "x = sum([(o-e)**2./e for o,e in zip(observed,expectation)])\n",
    "x"
   ]
  },
  {
   "cell_type": "code",
   "execution_count": 2,
   "id": "31b206f2",
   "metadata": {},
   "outputs": [],
   "source": [
    "from scipy.stats import chi2\n",
    "alpha = 0.05\n",
    "df = 2\n",
    "cr=chi2.ppf(q=1-alpha,df=df)"
   ]
  },
  {
   "cell_type": "code",
   "execution_count": 3,
   "id": "8d17ee70",
   "metadata": {},
   "outputs": [
    {
     "data": {
      "text/plain": [
       "5.991464547107979"
      ]
     },
     "execution_count": 3,
     "metadata": {},
     "output_type": "execute_result"
    }
   ],
   "source": [
    "cr"
   ]
  },
  {
   "cell_type": "markdown",
   "id": "ab26474c",
   "metadata": {},
   "source": [
    "# Anova"
   ]
  },
  {
   "cell_type": "code",
   "execution_count": 6,
   "id": "d108d07f",
   "metadata": {},
   "outputs": [
    {
     "data": {
      "text/html": [
       "<div>\n",
       "<style scoped>\n",
       "    .dataframe tbody tr th:only-of-type {\n",
       "        vertical-align: middle;\n",
       "    }\n",
       "\n",
       "    .dataframe tbody tr th {\n",
       "        vertical-align: top;\n",
       "    }\n",
       "\n",
       "    .dataframe thead th {\n",
       "        text-align: right;\n",
       "    }\n",
       "</style>\n",
       "<table border=\"1\" class=\"dataframe\">\n",
       "  <thead>\n",
       "    <tr style=\"text-align: right;\">\n",
       "      <th></th>\n",
       "      <th>A</th>\n",
       "      <th>B</th>\n",
       "      <th>C</th>\n",
       "    </tr>\n",
       "  </thead>\n",
       "  <tbody>\n",
       "    <tr>\n",
       "      <th>0</th>\n",
       "      <td>25</td>\n",
       "      <td>30</td>\n",
       "      <td>18</td>\n",
       "    </tr>\n",
       "    <tr>\n",
       "      <th>1</th>\n",
       "      <td>25</td>\n",
       "      <td>30</td>\n",
       "      <td>30</td>\n",
       "    </tr>\n",
       "    <tr>\n",
       "      <th>2</th>\n",
       "      <td>27</td>\n",
       "      <td>21</td>\n",
       "      <td>29</td>\n",
       "    </tr>\n",
       "    <tr>\n",
       "      <th>3</th>\n",
       "      <td>30</td>\n",
       "      <td>24</td>\n",
       "      <td>29</td>\n",
       "    </tr>\n",
       "    <tr>\n",
       "      <th>4</th>\n",
       "      <td>23</td>\n",
       "      <td>26</td>\n",
       "      <td>24</td>\n",
       "    </tr>\n",
       "    <tr>\n",
       "      <th>5</th>\n",
       "      <td>20</td>\n",
       "      <td>28</td>\n",
       "      <td>26</td>\n",
       "    </tr>\n",
       "  </tbody>\n",
       "</table>\n",
       "</div>"
      ],
      "text/plain": [
       "    A   B   C\n",
       "0  25  30  18\n",
       "1  25  30  30\n",
       "2  27  21  29\n",
       "3  30  24  29\n",
       "4  23  26  24\n",
       "5  20  28  26"
      ]
     },
     "execution_count": 6,
     "metadata": {},
     "output_type": "execute_result"
    }
   ],
   "source": [
    "import pandas as pd\n",
    "a=[25,25,27,30,23,20]\n",
    "b=[30,30,21,24,26,28]\n",
    "c=[18,30,29,29,24,26]\n",
    "list_of_tuples = list(zip(a, b,c))\n",
    "df = pd.DataFrame(list_of_tuples, columns = ['A', 'B', 'C'])\n",
    "df"
   ]
  },
  {
   "cell_type": "code",
   "execution_count": 7,
   "id": "c2d44008",
   "metadata": {},
   "outputs": [
    {
     "name": "stdout",
     "output_type": "stream",
     "text": [
      "Average mark for college A: 25.0\n",
      "Average mark for college B: 26.5\n",
      "Average mark for college C: 26.0\n"
     ]
    }
   ],
   "source": [
    "import numpy as np\n",
    "m1=np.mean(a)\n",
    "m2=np.mean(b)\n",
    "m3=np.mean(c)\n",
    "\n",
    "print('Average mark for college A: {}'.format(m1))\n",
    "print('Average mark for college B: {}'.format(m2))\n",
    "print('Average mark for college C: {}'.format(m3))"
   ]
  },
  {
   "cell_type": "code",
   "execution_count": 8,
   "id": "d86373e2",
   "metadata": {},
   "outputs": [
    {
     "name": "stdout",
     "output_type": "stream",
     "text": [
      "Overall mean: 25.833333333333332\n"
     ]
    }
   ],
   "source": [
    "m=(m1+m2+m3)/3 \n",
    "print('Overall mean: {}'.format(m)) \n"
   ]
  },
  {
   "cell_type": "code",
   "execution_count": 9,
   "id": "62d8a45e",
   "metadata": {},
   "outputs": [
    {
     "name": "stdout",
     "output_type": "stream",
     "text": [
      "Between-groups Sum of Squared Differences: 6.999999999999999\n"
     ]
    }
   ],
   "source": [
    "SSb=6*((m1-m)**2+(m2-m)**2+(m3-m)**2)\n",
    "print('Between-groups Sum of Squared Differences: {}'.format(SSb))\n"
   ]
  },
  {
   "cell_type": "code",
   "execution_count": 10,
   "id": "e6120573",
   "metadata": {},
   "outputs": [
    {
     "name": "stdout",
     "output_type": "stream",
     "text": [
      "Between-groups Mean Square value: 3.4999999999999996\n"
     ]
    }
   ],
   "source": [
    "MSb=SSb/2\n",
    "print('Between-groups Mean Square value: {}'.format(MSb))"
   ]
  },
  {
   "cell_type": "code",
   "execution_count": 11,
   "id": "34634834",
   "metadata": {},
   "outputs": [],
   "source": [
    "err_a=list(a-m1)\n",
    "err_b=list(b-m2)\n",
    "err_c=list(c-m3)\n",
    "err=err_a+err_b+err_c\n",
    "ssw=[]\n",
    "for i in err:\n",
    "    ssw.append(i**2)\n",
    "    \n",
    "SSw=np.sum(ssw)"
   ]
  },
  {
   "cell_type": "code",
   "execution_count": 14,
   "id": "5ea19c3c",
   "metadata": {},
   "outputs": [
    {
     "name": "stdout",
     "output_type": "stream",
     "text": [
      "Within-group Mean Square value: 14.9\n"
     ]
    }
   ],
   "source": [
    "MSw=SSw/15\n",
    "print('Within-group Mean Square value: {}'.format(MSw))\n"
   ]
  },
  {
   "cell_type": "code",
   "execution_count": 15,
   "id": "3b441832",
   "metadata": {},
   "outputs": [
    {
     "name": "stdout",
     "output_type": "stream",
     "text": [
      "F-score: 0.23489932885906037\n"
     ]
    }
   ],
   "source": [
    "F=MSb/MSw \n",
    "print('F-score: {}'.format(F)) "
   ]
  },
  {
   "cell_type": "code",
   "execution_count": 16,
   "id": "f3580dad",
   "metadata": {},
   "outputs": [
    {
     "data": {
      "text/plain": [
       "F_onewayResult(statistic=0.2348993288590604, pvalue=0.793504662732833)"
      ]
     },
     "execution_count": 16,
     "metadata": {},
     "output_type": "execute_result"
    }
   ],
   "source": [
    "import scipy.stats as stats \n",
    "stats.f_oneway(a,b,c) "
   ]
  },
  {
   "cell_type": "code",
   "execution_count": null,
   "id": "95e3fc14",
   "metadata": {},
   "outputs": [],
   "source": []
  }
 ],
 "metadata": {
  "kernelspec": {
   "display_name": "Python 3 (ipykernel)",
   "language": "python",
   "name": "python3"
  },
  "language_info": {
   "codemirror_mode": {
    "name": "ipython",
    "version": 3
   },
   "file_extension": ".py",
   "mimetype": "text/x-python",
   "name": "python",
   "nbconvert_exporter": "python",
   "pygments_lexer": "ipython3",
   "version": "3.9.12"
  }
 },
 "nbformat": 4,
 "nbformat_minor": 5
}
