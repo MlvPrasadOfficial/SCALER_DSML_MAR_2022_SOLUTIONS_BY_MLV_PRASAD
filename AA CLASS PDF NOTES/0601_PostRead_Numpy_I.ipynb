{
  "cells": [
    {
      "cell_type": "markdown",
      "metadata": {
        "id": "W6UKaGbwuoHL"
      },
      "source": [
        "# Supplementary Post Read for Numpy-1\n",
        "\n",
        "In this reading, we'll cover some more useful functionality provided by Numpy"
      ],
      "id": "W6UKaGbwuoHL"
    },
    {
      "cell_type": "markdown",
      "metadata": {
        "id": "JGM-XjZ7uoHR"
      },
      "source": [
        "## Content\n",
        "\n",
        "- **Datatypes**\n",
        "\n",
        "- **Absolute values**\n",
        "    - `np.absolute()`\n",
        "    - `np.abs()`\n",
        " \n",
        " \n",
        "- **Partitioning**\n",
        "    - `np.partition()`\n",
        "    - `np.argpartition()`\n",
        "    \n",
        "- **Resize**\n",
        "    - `np.resize()`\n",
        "\n",
        "\n",
        "- **Some more useful ufuncs**\n",
        "\n",
        "- **Aggregate Functions**\n",
        "    - `np.median()`\n",
        "\n",
        "\n",
        "- **Trigonometric Functions**\n",
        "    - `np.sin()`, `np.cos()`\n",
        "    \n",
        "    \n",
        "- **Exponential and Logarithmic Functions**\n",
        "    - `np.exp()`, `np.log()`, `np.log2()`, `np.log10()`\n",
        "    \n",
        "- **Condtional functions**\n",
        "    - `np.where()`\n",
        "    \n",
        "- **Sorting**\n",
        "    - `np.ndarray.sort()`\n",
        "    "
      ],
      "id": "JGM-XjZ7uoHR"
    },
    {
      "cell_type": "code",
      "execution_count": null,
      "metadata": {
        "id": "5lTCop2euoHS"
      },
      "outputs": [],
      "source": [
        "import numpy as np\n",
        "\n",
        "from matplotlib import pyplot as plt\n"
      ],
      "id": "5lTCop2euoHS"
    },
    {
      "cell_type": "markdown",
      "metadata": {
        "id": "oRrxcuRVuoHU"
      },
      "source": [
        "## Datatypes in numpy array"
      ],
      "id": "oRrxcuRVuoHU"
    },
    {
      "cell_type": "markdown",
      "metadata": {
        "id": "PFQjn_33uoHV"
      },
      "source": [
        "You can create numpy arrays of following data types:\n",
        "\n",
        "\n",
        "![image.png](attachment:image.png)"
      ],
      "id": "PFQjn_33uoHV"
    },
    {
      "cell_type": "code",
      "execution_count": null,
      "metadata": {
        "id": "gVpd3CA1uoHV"
      },
      "outputs": [],
      "source": [
        "arr = np.array([4 + 2j, 6 + 7j])"
      ],
      "id": "gVpd3CA1uoHV"
    },
    {
      "cell_type": "code",
      "execution_count": null,
      "metadata": {
        "id": "-Dp_YxH1uoHW",
        "outputId": "4596d3bb-4c0d-4d4f-860f-c779c35682f3"
      },
      "outputs": [
        {
          "data": {
            "text/plain": [
              "array([4.+2.j, 6.+7.j])"
            ]
          },
          "execution_count": 35,
          "metadata": {},
          "output_type": "execute_result"
        }
      ],
      "source": [
        "arr"
      ],
      "id": "-Dp_YxH1uoHW"
    },
    {
      "cell_type": "code",
      "execution_count": null,
      "metadata": {
        "id": "yTLPsnSNuoHX",
        "outputId": "45f3c5f9-792a-4cd2-af31-fb4d05d0516a"
      },
      "outputs": [
        {
          "data": {
            "text/plain": [
              "dtype('complex128')"
            ]
          },
          "execution_count": 34,
          "metadata": {},
          "output_type": "execute_result"
        }
      ],
      "source": [
        "arr.dtype"
      ],
      "id": "yTLPsnSNuoHX"
    },
    {
      "cell_type": "markdown",
      "metadata": {
        "id": "X0bM3hVCuoHY"
      },
      "source": [
        "You can read more about it here: **https://docs.scipy.org/doc/numpy-1.10.1/user/basics.types.html**"
      ],
      "id": "X0bM3hVCuoHY"
    },
    {
      "cell_type": "markdown",
      "metadata": {
        "id": "3rGG0LLTuoHZ"
      },
      "source": [
        "## Arrays Filled with Sequences\n"
      ],
      "id": "3rGG0LLTuoHZ"
    },
    {
      "cell_type": "markdown",
      "metadata": {
        "id": "u1R3FLBSuoHZ"
      },
      "source": [
        "### `np.logspace()`\n",
        "\n",
        "The function `np.logspace()` is similar to `np.linspace()`, but the **increments between the elements in the array are logarithmically distributed**, and the first two arguments, for the **start** and **end** values, are the**powers of the optional base keyword argument (which defaults to 10)**. \n",
        "\n",
        "\n",
        "#### For example, to generate an array with logarithmically distributed values between 1 and 100, we can use:"
      ],
      "id": "u1R3FLBSuoHZ"
    },
    {
      "cell_type": "code",
      "execution_count": null,
      "metadata": {
        "id": "7Pgbw02tuoHa",
        "outputId": "1c3adcc5-b622-457a-e434-28f3eb8a376d"
      },
      "outputs": [
        {
          "data": {
            "text/plain": [
              "array([  1.        ,   3.16227766,  10.        ,  31.6227766 ,\n",
              "       100.        ])"
            ]
          },
          "execution_count": 23,
          "metadata": {},
          "output_type": "execute_result"
        }
      ],
      "source": [
        "np.logspace(0, 2, 5) # 5 data points between 10**0=1 to 10**2=100"
      ],
      "id": "7Pgbw02tuoHa"
    },
    {
      "cell_type": "markdown",
      "metadata": {
        "id": "SiVQ9OvFuoHb"
      },
      "source": [
        "***"
      ],
      "id": "SiVQ9OvFuoHb"
    },
    {
      "cell_type": "markdown",
      "metadata": {
        "id": "YNYnKU9IuoHb"
      },
      "source": [
        "## Absolute values\n",
        "\n",
        "At times, we might need to find absolute values of elements in array. Numpy provides a very easy-to-use function for this purpose\n",
        "\n",
        "### `np.absolute()`\n",
        "\n",
        "It calculate the absolute value element-wise. It returns an ndarray containing the absolute value of each element."
      ],
      "id": "YNYnKU9IuoHb"
    },
    {
      "cell_type": "code",
      "execution_count": null,
      "metadata": {
        "id": "Qxl7NmjLuoHb",
        "outputId": "9c4efa5b-e774-4ae8-dd8f-c9a87f3ac3aa"
      },
      "outputs": [
        {
          "data": {
            "text/plain": [
              "array([1.2, 1.2])"
            ]
          },
          "execution_count": 3,
          "metadata": {},
          "output_type": "execute_result"
        }
      ],
      "source": [
        "x = np.array([-1.2, 1.2])\n",
        "np.absolute(x)"
      ],
      "id": "Qxl7NmjLuoHb"
    },
    {
      "cell_type": "markdown",
      "metadata": {
        "id": "Q3B8lzpZuoHc"
      },
      "source": [
        "If the input is a complex value, like `x = a + ib`, the absolute value is $\\sqrt(a^2 + b^2)$. This is a scalar if x is a scalar."
      ],
      "id": "Q3B8lzpZuoHc"
    },
    {
      "cell_type": "code",
      "execution_count": null,
      "metadata": {
        "id": "lxHH3XuvuoHc",
        "outputId": "0075a484-c66e-4168-f8ee-792165a1c749"
      },
      "outputs": [
        {
          "data": {
            "text/plain": [
              "1.5620499351813308"
            ]
          },
          "execution_count": 4,
          "metadata": {},
          "output_type": "execute_result"
        }
      ],
      "source": [
        "np.absolute(1.2 + 1j)"
      ],
      "id": "lxHH3XuvuoHc"
    },
    {
      "cell_type": "markdown",
      "metadata": {
        "id": "jzDOFr7EuoHd"
      },
      "source": [
        "### `np.abs()`\n",
        "The `abs` function can be used as a shorthand for `np.absolute` on ndarrays."
      ],
      "id": "jzDOFr7EuoHd"
    },
    {
      "cell_type": "code",
      "execution_count": null,
      "metadata": {
        "id": "6va40BIBuoHd",
        "outputId": "aab7b852-f8e8-4008-c613-d1519f43b609"
      },
      "outputs": [
        {
          "data": {
            "text/plain": [
              "array([1.2, 1.2])"
            ]
          },
          "execution_count": 5,
          "metadata": {},
          "output_type": "execute_result"
        }
      ],
      "source": [
        "x = np.array([-1.2, 1.2])\n",
        "np.abs(x)"
      ],
      "id": "6va40BIBuoHd"
    },
    {
      "cell_type": "markdown",
      "metadata": {
        "id": "-VKl066XuoHe"
      },
      "source": [
        "***"
      ],
      "id": "-VKl066XuoHe"
    },
    {
      "cell_type": "markdown",
      "metadata": {
        "id": "i3939nvHuoHf"
      },
      "source": [
        "## Partitioning\n",
        "\n",
        "We can partially sort Numpy arrays using the functions provided in the library. Let's see how:\n",
        "\n",
        "### `np.partition()`\n",
        "\n",
        "This method returns a partitioned copy of an array.\n",
        "\n",
        "\n",
        "It creates a copy of the array with its elements rearranged in such a way that the value of the element in k-th position is in the position it would be in a sorted array. All elements smaller than the k-th element are moved before this element and all equal or greater are moved behind it. The ordering of the elements in the two partitions is undefined.\n",
        "\n",
        "\n",
        "#### Let's see it in action:"
      ],
      "id": "i3939nvHuoHf"
    },
    {
      "cell_type": "code",
      "execution_count": null,
      "metadata": {
        "id": "rwmI1OkkuoHf",
        "outputId": "0bbbfafd-86d3-412c-c429-217a8308b4c0"
      },
      "outputs": [
        {
          "data": {
            "text/plain": [
              "array([3, 4, 2, 1])"
            ]
          },
          "execution_count": 11,
          "metadata": {},
          "output_type": "execute_result"
        }
      ],
      "source": [
        "a = np.array([3, 4, 2, 1])\n",
        "a"
      ],
      "id": "rwmI1OkkuoHf"
    },
    {
      "cell_type": "code",
      "execution_count": null,
      "metadata": {
        "id": "0UaGECJ0uoHf",
        "outputId": "761da7de-90d1-43ec-d02d-63c342e67ae6"
      },
      "outputs": [
        {
          "data": {
            "text/plain": [
              "array([2, 1, 3, 4])"
            ]
          },
          "execution_count": 12,
          "metadata": {},
          "output_type": "execute_result"
        }
      ],
      "source": [
        "np.partition(a, 3)"
      ],
      "id": "0UaGECJ0uoHf"
    },
    {
      "cell_type": "markdown",
      "metadata": {
        "id": "_8y7bkSLuoHg"
      },
      "source": [
        "3rd element in the sorted array would have been 3. So 3 is placed at the 3rd position (index 2). Rest all the elements are placed in such a manner that all elements less than partitioning element are placed before it and all elements greater than or equal to partitioning element are placed after it. The ordering of elements in the two partitions is not fixed. So, it's not sorting.\n",
        "\n",
        "\n",
        "Now, if we provide with a sequence of k-th instead of a single integer value like above, it will partition all elements indexed by k-th of them into their sorted position at once. Let's see it:"
      ],
      "id": "_8y7bkSLuoHg"
    },
    {
      "cell_type": "code",
      "execution_count": null,
      "metadata": {
        "id": "XyxfHqN_uoHg"
      },
      "outputs": [],
      "source": [
        "a = np.array([32, 50, 27, 10, 43])"
      ],
      "id": "XyxfHqN_uoHg"
    },
    {
      "cell_type": "code",
      "execution_count": null,
      "metadata": {
        "id": "Q6HaLECtuoHg",
        "outputId": "e275c5d3-6b01-45f8-ca2c-60bbe81b7b24"
      },
      "outputs": [
        {
          "data": {
            "text/plain": [
              "array([10, 27, 32, 43, 50])"
            ]
          },
          "execution_count": 17,
          "metadata": {},
          "output_type": "execute_result"
        }
      ],
      "source": [
        "np.partition(a, (1, 3))"
      ],
      "id": "Q6HaLECtuoHg"
    },
    {
      "cell_type": "markdown",
      "metadata": {
        "id": "LhgFsppsuoHh"
      },
      "source": [
        "1st element (index 0) in the sorted array would have been 10 and 3rd element (index 2) in the sorted array would have been 32. So, 10 and 32 are placed in the positions where they would have been in a sorted array. Rest all elements are placed such that all elements less than 10 are before it, all elements greater than 10 are after it, all elements less than 32 are before it and all elements greater than 32 are after it."
      ],
      "id": "LhgFsppsuoHh"
    },
    {
      "cell_type": "markdown",
      "metadata": {
        "id": "tw-tnJ6CuoHh"
      },
      "source": [
        "### `np.argpartition()`\n",
        "\n",
        "It works just like `agrsort()` we saw in the lecture. It perform an indirect partition along the given axis using the algorithm specified by the kind keyword. It returns an array of indices of the same shape as the array that index data along the given axis in partitioned order.\n",
        "\n",
        "#### Let's see its working:"
      ],
      "id": "tw-tnJ6CuoHh"
    },
    {
      "cell_type": "code",
      "execution_count": null,
      "metadata": {
        "id": "sdRN9i4puoHi",
        "outputId": "f07b9c3a-8c3a-4911-8d71-2a3a11cc71a2"
      },
      "outputs": [
        {
          "data": {
            "text/plain": [
              "array([2, 3, 0, 1])"
            ]
          },
          "execution_count": 19,
          "metadata": {},
          "output_type": "execute_result"
        }
      ],
      "source": [
        "x = np.array([30, 40, 20, 10])\n",
        "np.argpartition(x, 3)"
      ],
      "id": "sdRN9i4puoHi"
    },
    {
      "cell_type": "markdown",
      "metadata": {
        "id": "3WctefN-uoHi"
      },
      "source": [
        "This is an indirect partitioning using indices. Instead of array of elements, it gives a paritoned array of orginial indices of those elements. \n",
        "\n",
        "\n",
        "The element 30 at index 0 in original array would have been at 3rd position in sorted array. So, 0 is placed at 3rd position. Rest all original indices are arranged such that indices whose corresponding elements are less than the partitioning element are before that index 0 and indices whose corresponding elements are greater than the partitioning element are after that index 0."
      ],
      "id": "3WctefN-uoHi"
    },
    {
      "cell_type": "markdown",
      "metadata": {
        "id": "Bf8tZ7VOuoHi"
      },
      "source": [
        "***"
      ],
      "id": "Bf8tZ7VOuoHi"
    },
    {
      "cell_type": "markdown",
      "metadata": {
        "id": "aIiewEH8uoHi"
      },
      "source": [
        "## Resize\n",
        "\n",
        "**It is similar to `reshape()`**"
      ],
      "id": "aIiewEH8uoHi"
    },
    {
      "cell_type": "code",
      "execution_count": null,
      "metadata": {
        "id": "iMdwb4pFuoHj",
        "outputId": "0f4f5c35-de07-42a1-9fa4-87d3f2de40e2"
      },
      "outputs": [
        {
          "data": {
            "text/plain": [
              "array([[0, 1, 2, 3],\n",
              "       [0, 0, 0, 0]])"
            ]
          },
          "execution_count": 3,
          "metadata": {},
          "output_type": "execute_result"
        }
      ],
      "source": [
        "a = np.arange(4)\n",
        "a.resize((2,4))\n",
        "a"
      ],
      "id": "iMdwb4pFuoHj"
    },
    {
      "cell_type": "markdown",
      "metadata": {
        "id": "u2LUJJHFuoHj"
      },
      "source": [
        "### what is the difference then between resize and reshape?\n",
        "\n",
        "The difference is that it'll add extra zeros to it if shape exceeds number of elements. However, there is a catch: it'll throw an error if array is referenced somewhere and you try resizing it"
      ],
      "id": "u2LUJJHFuoHj"
    },
    {
      "cell_type": "code",
      "execution_count": null,
      "metadata": {
        "id": "RyzwBrpHuoHj",
        "outputId": "9559d251-96f5-403a-c74c-46d2485c27d6"
      },
      "outputs": [
        {
          "ename": "ValueError",
          "evalue": "cannot resize an array that references or is referenced\nby another array in this way.\nUse the np.resize function or refcheck=False",
          "output_type": "error",
          "traceback": [
            "\u001b[1;31m---------------------------------------------------------------------------\u001b[0m",
            "\u001b[1;31mValueError\u001b[0m                                Traceback (most recent call last)",
            "\u001b[1;32m<ipython-input-4-6e04a2659d2b>\u001b[0m in \u001b[0;36m<module>\u001b[1;34m()\u001b[0m\n\u001b[0;32m      1\u001b[0m \u001b[0mb\u001b[0m \u001b[1;33m=\u001b[0m \u001b[0ma\u001b[0m\u001b[1;33m\u001b[0m\u001b[0m\n\u001b[1;32m----> 2\u001b[1;33m \u001b[0ma\u001b[0m\u001b[1;33m.\u001b[0m\u001b[0mresize\u001b[0m\u001b[1;33m(\u001b[0m\u001b[1;33m(\u001b[0m\u001b[1;36m10\u001b[0m\u001b[1;33m,\u001b[0m\u001b[1;33m)\u001b[0m\u001b[1;33m)\u001b[0m\u001b[1;33m\u001b[0m\u001b[0m\n\u001b[0m",
            "\u001b[1;31mValueError\u001b[0m: cannot resize an array that references or is referenced\nby another array in this way.\nUse the np.resize function or refcheck=False"
          ]
        }
      ],
      "source": [
        "b = a\n",
        "a.resize((10,))"
      ],
      "id": "RyzwBrpHuoHj"
    },
    {
      "cell_type": "markdown",
      "metadata": {
        "id": "e2ONQJSruoHk"
      },
      "source": [
        "## Some more useful ufuncs for you\n",
        "\n"
      ],
      "id": "e2ONQJSruoHk"
    },
    {
      "cell_type": "markdown",
      "metadata": {
        "id": "W4dtjGBquoHk"
      },
      "source": [
        "## Aggregate Functions\n",
        "\n",
        "\n",
        "### `np.median()`\n",
        "\n",
        "- `np.median()` gives **median of all values in np array**"
      ],
      "id": "W4dtjGBquoHk"
    },
    {
      "cell_type": "code",
      "execution_count": null,
      "metadata": {
        "id": "tDxiavl5uoHk",
        "outputId": "0c439401-70a4-4a80-ba56-bf8037fcefe7"
      },
      "outputs": [
        {
          "data": {
            "text/plain": [
              "array([[ 0,  1,  2,  3],\n",
              "       [ 4,  5,  6,  7],\n",
              "       [ 8,  9, 10, 11]])"
            ]
          },
          "execution_count": 9,
          "metadata": {},
          "output_type": "execute_result"
        }
      ],
      "source": [
        "\n",
        "a = np.arange(12).reshape(3, 4)\n",
        "a"
      ],
      "id": "tDxiavl5uoHk"
    },
    {
      "cell_type": "code",
      "execution_count": null,
      "metadata": {
        "id": "5V2UOKfRuoHk",
        "outputId": "01e0f51f-ed50-4a67-d496-8e71b344ea2a"
      },
      "outputs": [
        {
          "data": {
            "text/plain": [
              "5.5"
            ]
          },
          "execution_count": 10,
          "metadata": {},
          "output_type": "execute_result"
        }
      ],
      "source": [
        "np.median(a)"
      ],
      "id": "5V2UOKfRuoHk"
    },
    {
      "cell_type": "markdown",
      "metadata": {
        "id": "1Yu1bj8JuoHl"
      },
      "source": [
        "### we can to find the median of elements for each row or column\n",
        "\n",
        "- **with `axis` parameter** like we did for `np.mean()` function"
      ],
      "id": "1Yu1bj8JuoHl"
    },
    {
      "cell_type": "markdown",
      "metadata": {
        "id": "SkoWcTIRuoHl"
      },
      "source": [
        "- **`axis = 0` ---> Changes will happen along the vertical axis**\n",
        "- Median of values will be calculated **in the vertical direction**\n",
        "- Rows collapse/merge when we do `axis=0`"
      ],
      "id": "SkoWcTIRuoHl"
    },
    {
      "cell_type": "code",
      "execution_count": null,
      "metadata": {
        "id": "wpkKFYX8uoHl",
        "outputId": "cf480e8c-b672-462a-e718-23ea767216bd"
      },
      "outputs": [
        {
          "data": {
            "text/plain": [
              "array([4., 5., 6., 7.])"
            ]
          },
          "execution_count": 11,
          "metadata": {},
          "output_type": "execute_result"
        }
      ],
      "source": [
        "np.median(a, axis = 0)"
      ],
      "id": "wpkKFYX8uoHl"
    },
    {
      "cell_type": "markdown",
      "metadata": {
        "id": "OVSJUILxuoHl"
      },
      "source": [
        "Similarly, you can find the median along the horizontal axis as well using **`axis = 1`**"
      ],
      "id": "OVSJUILxuoHl"
    },
    {
      "cell_type": "code",
      "execution_count": null,
      "metadata": {
        "id": "P7yZHU3LuoHl",
        "outputId": "b98c30a4-40b5-4b62-b805-5c64b93bfe23"
      },
      "outputs": [
        {
          "data": {
            "text/plain": [
              "array([1.5, 5.5, 9.5])"
            ]
          },
          "execution_count": 12,
          "metadata": {},
          "output_type": "execute_result"
        }
      ],
      "source": [
        "np.median(a, axis = 1 )"
      ],
      "id": "P7yZHU3LuoHl"
    },
    {
      "cell_type": "markdown",
      "metadata": {
        "id": "ArEEXU6ouoHm"
      },
      "source": [
        "***"
      ],
      "id": "ArEEXU6ouoHm"
    },
    {
      "cell_type": "markdown",
      "metadata": {
        "id": "rOGK-6u_uoHm"
      },
      "source": [
        "## Trigonometric Functions\n",
        "\n",
        "In addition to arithmetic expressions using operators, Numpy provides functions for element-wise evaluation of many elementary trigonometric functions and operations.\n",
        "\n",
        "\n",
        "Each of these functions takes a single array (of arbitrary dimension) as input and returns a new array of the same shape, where for each element the function has been applied to the corresponding element in the input array.\n",
        "\n",
        "### `np.sin()`, `np.cos()`\n",
        "\n",
        "This function takes only one argument and is used to compute the sine function for all values in the array:"
      ],
      "id": "rOGK-6u_uoHm"
    },
    {
      "cell_type": "code",
      "execution_count": null,
      "metadata": {
        "id": "sX6BFT0nuoHm",
        "outputId": "ba04796c-17e7-4e44-862e-7b2c1b924b26"
      },
      "outputs": [
        {
          "data": {
            "text/plain": [
              "array([-1. , -0.8, -0.6, -0.4, -0.2,  0. ,  0.2,  0.4,  0.6,  0.8,  1. ])"
            ]
          },
          "execution_count": 24,
          "metadata": {},
          "output_type": "execute_result"
        }
      ],
      "source": [
        "x = np.linspace(-1, 1, 11)\n",
        "x"
      ],
      "id": "sX6BFT0nuoHm"
    },
    {
      "cell_type": "code",
      "execution_count": null,
      "metadata": {
        "id": "y_gHmGaUuoHm"
      },
      "outputs": [],
      "source": [
        "y = np.sin(np.pi * x)"
      ],
      "id": "y_gHmGaUuoHm"
    },
    {
      "cell_type": "code",
      "execution_count": null,
      "metadata": {
        "id": "1ruNntxruoHm",
        "outputId": "2c54afa0-34fa-4911-b874-19c8f620d90f"
      },
      "outputs": [
        {
          "data": {
            "text/plain": [
              "array([-0.    , -0.5878, -0.9511, -0.9511, -0.5878,  0.    ,  0.5878,\n",
              "        0.9511,  0.9511,  0.5878,  0.    ])"
            ]
          },
          "execution_count": 26,
          "metadata": {},
          "output_type": "execute_result"
        }
      ],
      "source": [
        "np.round(y, decimals=4)"
      ],
      "id": "1ruNntxruoHm"
    },
    {
      "cell_type": "markdown",
      "metadata": {
        "id": "olFrnJ5duoHn"
      },
      "source": [
        "Here we also used the constant `np.pi` and the function `np.round()` to round the values of `y` to four decimals. \n",
        "\n",
        "\n",
        "Like the `np.sin` function, many of the elementary trigonometric math functions take one input array and produce one output array. We can also make these functions operate on two input arrays and return one array:\n",
        "\n",
        "#### For example: $\\sin^2x + \\cos^2x = 1$"
      ],
      "id": "olFrnJ5duoHn"
    },
    {
      "cell_type": "code",
      "execution_count": null,
      "metadata": {
        "id": "vrx74K7guoHn",
        "outputId": "4d1efc63-d676-404a-9113-bc33c9f5dd93"
      },
      "outputs": [
        {
          "data": {
            "text/plain": [
              "array([1., 1., 1., 1., 1., 1., 1., 1., 1., 1., 1.])"
            ]
          },
          "execution_count": 27,
          "metadata": {},
          "output_type": "execute_result"
        }
      ],
      "source": [
        "np.add(np.sin(x) ** 2, np.cos(x) ** 2)"
      ],
      "id": "vrx74K7guoHn"
    },
    {
      "cell_type": "code",
      "execution_count": null,
      "metadata": {
        "id": "JxT3ZkanuoHn",
        "outputId": "81e0be6c-b656-446a-adc2-c7841d49cab9"
      },
      "outputs": [
        {
          "data": {
            "text/plain": [
              "array([1., 1., 1., 1., 1., 1., 1., 1., 1., 1., 1.])"
            ]
          },
          "execution_count": 28,
          "metadata": {},
          "output_type": "execute_result"
        }
      ],
      "source": [
        "np.sin(x) ** 2 + np.cos(x) ** 2"
      ],
      "id": "JxT3ZkanuoHn"
    },
    {
      "cell_type": "markdown",
      "metadata": {
        "id": "-38kSdtsuoHn"
      },
      "source": [
        "***"
      ],
      "id": "-38kSdtsuoHn"
    },
    {
      "cell_type": "markdown",
      "metadata": {
        "id": "JQeAp8nluoHo"
      },
      "source": [
        "## Exponential and Logarithmic Functions\n",
        "\n",
        "### `np.exp()`\n",
        "\n",
        "This function returns element-wise exponent raised to power of element's value"
      ],
      "id": "JQeAp8nluoHo"
    },
    {
      "cell_type": "code",
      "execution_count": null,
      "metadata": {
        "id": "_vTlA4ZCuoHo",
        "outputId": "aed8dd17-a2bb-4324-b872-f64386da27db"
      },
      "outputs": [
        {
          "data": {
            "text/plain": [
              "array([0, 1, 2])"
            ]
          },
          "execution_count": 33,
          "metadata": {},
          "output_type": "execute_result"
        }
      ],
      "source": [
        "x = np.arange(0,3) \n",
        "x"
      ],
      "id": "_vTlA4ZCuoHo"
    },
    {
      "cell_type": "code",
      "execution_count": null,
      "metadata": {
        "id": "I8CZ9IhIuoHo",
        "outputId": "dd1f8ef8-8a7c-46f7-9ab5-47262708253b"
      },
      "outputs": [
        {
          "data": {
            "text/plain": [
              "array([1.        , 2.71828183, 7.3890561 ])"
            ]
          },
          "execution_count": 34,
          "metadata": {},
          "output_type": "execute_result"
        }
      ],
      "source": [
        "np.exp(x) # returns e**0, e**1, e**2"
      ],
      "id": "I8CZ9IhIuoHo"
    },
    {
      "cell_type": "markdown",
      "metadata": {
        "id": "vxAB7ALquoHo"
      },
      "source": [
        "### `np.log()`, `np.log2()`, `np.log10()`\n",
        "\n",
        "These functions return Logarithms of base e, 2, and 10, respectively."
      ],
      "id": "vxAB7ALquoHo"
    },
    {
      "cell_type": "code",
      "execution_count": null,
      "metadata": {
        "id": "ivTADA8UuoHp",
        "outputId": "51e121a0-d310-46b8-ba74-846e6ed6acc3"
      },
      "outputs": [
        {
          "data": {
            "text/plain": [
              "array([ 1,  2,  3,  4,  5,  6,  7,  8,  9, 10])"
            ]
          },
          "execution_count": 43,
          "metadata": {},
          "output_type": "execute_result"
        }
      ],
      "source": [
        "x = np.arange(1,11) \n",
        "x"
      ],
      "id": "ivTADA8UuoHp"
    },
    {
      "cell_type": "code",
      "execution_count": null,
      "metadata": {
        "id": "-GSNdNYHuoHp",
        "outputId": "05a9fc2e-3be8-4c73-8516-948ae074dcf0"
      },
      "outputs": [
        {
          "data": {
            "text/plain": [
              "array([0.        , 0.69314718, 1.09861229, 1.38629436, 1.60943791,\n",
              "       1.79175947, 1.94591015, 2.07944154, 2.19722458, 2.30258509])"
            ]
          },
          "execution_count": 44,
          "metadata": {},
          "output_type": "execute_result"
        }
      ],
      "source": [
        "np.log(x)"
      ],
      "id": "-GSNdNYHuoHp"
    },
    {
      "cell_type": "code",
      "execution_count": null,
      "metadata": {
        "id": "8byF8Nb7uoHp",
        "outputId": "35848efe-1c50-47f0-a0c4-c6c695661a56"
      },
      "outputs": [
        {
          "data": {
            "text/plain": [
              "array([0.        , 0.30103   , 0.47712125, 0.60205999, 0.69897   ,\n",
              "       0.77815125, 0.84509804, 0.90308999, 0.95424251, 1.        ])"
            ]
          },
          "execution_count": 45,
          "metadata": {},
          "output_type": "execute_result"
        }
      ],
      "source": [
        "np.log10(x)"
      ],
      "id": "8byF8Nb7uoHp"
    },
    {
      "cell_type": "markdown",
      "metadata": {
        "id": "1ynVSmgzuoHp"
      },
      "source": [
        "***"
      ],
      "id": "1ynVSmgzuoHp"
    },
    {
      "cell_type": "markdown",
      "metadata": {
        "id": "ejnndoKBuoHp"
      },
      "source": [
        "## Conditional functions "
      ],
      "id": "ejnndoKBuoHp"
    },
    {
      "cell_type": "markdown",
      "metadata": {
        "id": "Oj_eBmdnuoHp"
      },
      "source": [
        "### `np.where()`\n",
        "\n",
        "This functions returns an ndarray whose elements are chosen from x or y depending on condition.\n",
        "\n",
        "Function signature: \n",
        "`np.where(condition, [x, y])`"
      ],
      "id": "Oj_eBmdnuoHp"
    },
    {
      "cell_type": "code",
      "execution_count": null,
      "metadata": {
        "id": "OAOqzvcYuoHq",
        "outputId": "3146bd0e-714c-4e1d-c844-06b5867fc407"
      },
      "outputs": [
        {
          "data": {
            "text/plain": [
              "array([0, 1, 2, 3, 4, 5, 6, 7, 8, 9])"
            ]
          },
          "execution_count": 11,
          "metadata": {},
          "output_type": "execute_result"
        }
      ],
      "source": [
        "arr = np.arange(10)\n",
        "arr"
      ],
      "id": "OAOqzvcYuoHq"
    },
    {
      "cell_type": "code",
      "execution_count": null,
      "metadata": {
        "id": "gf2h3RsMuoHq",
        "outputId": "cce60d59-ef78-4905-b95a-e250f00931cb"
      },
      "outputs": [
        {
          "data": {
            "text/plain": [
              "array([ 0,  1,  2,  3,  4,  5, -1, -1, -1, -1])"
            ]
          },
          "execution_count": 14,
          "metadata": {},
          "output_type": "execute_result"
        }
      ],
      "source": [
        "np.where(arr > 5, -1, arr)"
      ],
      "id": "gf2h3RsMuoHq"
    },
    {
      "cell_type": "markdown",
      "metadata": {
        "id": "OZz7X1KwuoHq"
      },
      "source": [
        "When only condition is provided, it gives the index of non zero values"
      ],
      "id": "OZz7X1KwuoHq"
    },
    {
      "cell_type": "code",
      "execution_count": null,
      "metadata": {
        "id": "BH_Amu27uoHq",
        "outputId": "3ec87210-2c01-45f1-a6dc-56f6714542f1"
      },
      "outputs": [
        {
          "data": {
            "text/plain": [
              "(array([1, 2, 3, 4, 5, 6, 7, 8, 9], dtype=int64),)"
            ]
          },
          "execution_count": 16,
          "metadata": {},
          "output_type": "execute_result"
        }
      ],
      "source": [
        "np.where(arr)"
      ],
      "id": "BH_Amu27uoHq"
    },
    {
      "cell_type": "markdown",
      "metadata": {
        "id": "RjGOTKLVuoHq"
      },
      "source": [
        "***"
      ],
      "id": "RjGOTKLVuoHq"
    },
    {
      "cell_type": "markdown",
      "metadata": {
        "id": "ZpxmQS-XuoHr"
      },
      "source": [
        "## Sorting\n",
        "\n",
        "### `np.ndarry.sort()`\n",
        "\n",
        "- The `np.ndarray.sort()` method **performs the sorting in place, modifying the input array**.\n",
        "\n",
        "- It **changes the orginal array**"
      ],
      "id": "ZpxmQS-XuoHr"
    },
    {
      "cell_type": "code",
      "execution_count": null,
      "metadata": {
        "id": "RijSh7rPuoHr",
        "outputId": "6f01ed4e-4d5f-4ac7-e2c3-b46511988e30"
      },
      "outputs": [
        {
          "data": {
            "text/plain": [
              "array([ 2, 30, 41,  7, 17, 52])"
            ]
          },
          "execution_count": 13,
          "metadata": {},
          "output_type": "execute_result"
        }
      ],
      "source": [
        "a = np.array([2,30,41,7,17,52])\n",
        "a"
      ],
      "id": "RijSh7rPuoHr"
    },
    {
      "cell_type": "code",
      "execution_count": null,
      "metadata": {
        "id": "Q2NP3XZ7uoHr"
      },
      "outputs": [],
      "source": [
        "np.ndarray.sort(a)"
      ],
      "id": "Q2NP3XZ7uoHr"
    },
    {
      "cell_type": "code",
      "execution_count": null,
      "metadata": {
        "id": "Zj7aTS4guoHr",
        "outputId": "febcb1b9-c95c-4a59-9538-73a654f78836"
      },
      "outputs": [
        {
          "data": {
            "text/plain": [
              "array([ 2,  7, 17, 30, 41, 52])"
            ]
          },
          "execution_count": 15,
          "metadata": {},
          "output_type": "execute_result"
        }
      ],
      "source": [
        "a"
      ],
      "id": "Zj7aTS4guoHr"
    },
    {
      "cell_type": "markdown",
      "metadata": {
        "id": "isyvtJY5uoHr"
      },
      "source": [
        "***"
      ],
      "id": "isyvtJY5uoHr"
    }
  ],
  "metadata": {
    "kernelspec": {
      "display_name": "Python 3",
      "language": "python",
      "name": "python3"
    },
    "language_info": {
      "codemirror_mode": {
        "name": "ipython",
        "version": 3
      },
      "file_extension": ".py",
      "mimetype": "text/x-python",
      "name": "python",
      "nbconvert_exporter": "python",
      "pygments_lexer": "ipython3",
      "version": "3.6.5"
    },
    "colab": {
      "name": "PostRead-Numpy-I.ipynb",
      "provenance": []
    }
  },
  "nbformat": 4,
  "nbformat_minor": 5
}